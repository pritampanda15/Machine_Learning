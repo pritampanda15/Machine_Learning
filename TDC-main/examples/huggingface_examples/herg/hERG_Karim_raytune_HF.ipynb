{
 "cells": [
  {
   "cell_type": "code",
   "execution_count": 1,
   "id": "009b924f",
   "metadata": {},
   "outputs": [
    {
     "name": "stderr",
     "output_type": "stream",
     "text": [
      "WARNING:root:No normalization for BCUT2D_MWHI\n",
      "WARNING:root:No normalization for BCUT2D_MWLOW\n",
      "WARNING:root:No normalization for BCUT2D_CHGHI\n",
      "WARNING:root:No normalization for BCUT2D_CHGLO\n",
      "WARNING:root:No normalization for BCUT2D_LOGPHI\n",
      "WARNING:root:No normalization for BCUT2D_LOGPLOW\n",
      "WARNING:root:No normalization for BCUT2D_MRHI\n",
      "WARNING:root:No normalization for BCUT2D_MRLOW\n",
      "/tmp/user/21201/ipykernel_2646108/2353896950.py:22: DeprecationWarning: The module `ray.air.callbacks.mlflow` has been moved to `ray.air.integrations.mlflow` and the old location will be deprecated soon. Please adjust your imports to point to the new location. Example: Do a global search and replace `ray.air.callbacks.mlflow` with `ray.air.integrations.mlflow`.\n",
      "  from ray.air.callbacks.mlflow import MLflowLoggerCallback\n",
      "Found local copy...\n",
      "Loading...\n",
      "Done!\n",
      "2022-12-27 21:38:39,917\tINFO worker.py:1529 -- Started a local Ray instance. View the dashboard at \u001b[1m\u001b[32mhttp://127.0.0.1:8265 \u001b[39m\u001b[22m\n",
      "[INFO 12-27 21:38:57] ax.service.ax_client: Starting optimization with verbose logging. To disable logging, set the `verbose_logging` argument to `False`. Note that float values in the logs are rounded to 6 decimal points.\n",
      "[INFO 12-27 21:38:57] ax.service.utils.instantiation: Inferred value type of ParameterType.INT for parameter batch_size. If that is not the expected value type, you can explicity specify 'value_type' ('int', 'float', 'bool' or 'str') in parameter dict.\n",
      "[INFO 12-27 21:38:57] ax.service.utils.instantiation: Inferred value type of ParameterType.INT for parameter train_epochs. If that is not the expected value type, you can explicity specify 'value_type' ('int', 'float', 'bool' or 'str') in parameter dict.\n",
      "[INFO 12-27 21:38:57] ax.service.utils.instantiation: Inferred value type of ParameterType.INT for parameter mlp_hidden_dims_drug. If that is not the expected value type, you can explicity specify 'value_type' ('int', 'float', 'bool' or 'str') in parameter dict.\n",
      "[INFO 12-27 21:38:57] ax.service.utils.instantiation: Inferred value type of ParameterType.INT for parameter mlp_num_layers_drug. If that is not the expected value type, you can explicity specify 'value_type' ('int', 'float', 'bool' or 'str') in parameter dict.\n",
      "[INFO 12-27 21:38:57] ax.service.utils.instantiation: Created search space: SearchSpace(parameters=[FixedParameter(name='drug_encoding', parameter_type=STRING, value='Morgan'), RangeParameter(name='lr', parameter_type=FLOAT, range=[0.0001, 0.01], log_scale=True), ChoiceParameter(name='batch_size', parameter_type=INT, values=[32, 64, 128, 256, 512], is_ordered=True, sort_values=True), ChoiceParameter(name='train_epochs', parameter_type=INT, values=[3, 5, 10, 15, 20], is_ordered=True, sort_values=True), ChoiceParameter(name='mlp_hidden_dims_drug', parameter_type=INT, values=[32, 64, 128, 256, 512], is_ordered=True, sort_values=True), ChoiceParameter(name='mlp_num_layers_drug', parameter_type=INT, values=[1, 2, 3, 4, 5, 6], is_ordered=True, sort_values=True)], parameter_constraints=[]).\n",
      "[INFO 12-27 21:38:58] ax.modelbridge.dispatch_utils: Using Bayesian optimization since there are more ordered parameters than there are categories for the unordered categorical parameters.\n",
      "[INFO 12-27 21:38:58] ax.modelbridge.dispatch_utils: Using Bayesian Optimization generation strategy: GenerationStrategy(name='Sobol+GPEI', steps=[Sobol for 10 trials, GPEI for subsequent trials]). Iterations after 10 will take longer to generate due to  model-fitting.\n",
      "2022-12-27 21:38:58,002\tWARNING ax_search.py:255 -- Detected sequential enforcement. Be sure to use a ConcurrencyLimiter.\n"
     ]
    },
    {
     "data": {
      "text/html": [
       "<div class=\"tuneStatus\">\n",
       "  <div style=\"display: flex;flex-direction: row\">\n",
       "    <div style=\"display: flex;flex-direction: column;\">\n",
       "      <h3>Tune Status</h3>\n",
       "      <table>\n",
       "<tbody>\n",
       "<tr><td>Current time:</td><td>2022-12-29 04:16:15</td></tr>\n",
       "<tr><td>Running for: </td><td>1 days, 06:37:17.65</td></tr>\n",
       "<tr><td>Memory:      </td><td>331.3/2004.0 GiB   </td></tr>\n",
       "</tbody>\n",
       "</table>\n",
       "    </div>\n",
       "    <div class=\"vDivider\"></div>\n",
       "    <div class=\"systemInfo\">\n",
       "      <h3>System Info</h3>\n",
       "      Using FIFO scheduling algorithm.<br>Resources requested: 0/128 CPUs, 0/8 GPUs, 0.0/1043.89 GiB heap, 0.0/186.26 GiB objects (0.0/1.0 accelerator_type:A100)\n",
       "    </div>\n",
       "    \n",
       "  </div>\n",
       "  <div class=\"hDivider\"></div>\n",
       "  <div class=\"trialStatus\">\n",
       "    <h3>Trial Status</h3>\n",
       "    <table>\n",
       "<thead>\n",
       "<tr><th>Trial name       </th><th>status    </th><th>loc                 </th><th style=\"text-align: right;\">  batch_size</th><th>drug_encoding  </th><th style=\"text-align: right;\">         lr</th><th style=\"text-align: right;\">  mlp_hidden_dims_drug</th><th style=\"text-align: right;\">  mlp_num_layers_drug</th><th style=\"text-align: right;\">  train_epochs</th><th style=\"text-align: right;\">  iter</th><th style=\"text-align: right;\">  total time (s)</th><th style=\"text-align: right;\">  pr_auc</th></tr>\n",
       "</thead>\n",
       "<tbody>\n",
       "<tr><td>train_fn_0af17128</td><td>TERMINATED</td><td>172.24.75.79:2659134</td><td style=\"text-align: right;\">         512</td><td>Morgan         </td><td style=\"text-align: right;\">0.00359065 </td><td style=\"text-align: right;\">                   256</td><td style=\"text-align: right;\">                    6</td><td style=\"text-align: right;\">             3</td><td style=\"text-align: right;\">     1</td><td style=\"text-align: right;\">         152.358</td><td style=\"text-align: right;\">0.77418 </td></tr>\n",
       "<tr><td>train_fn_c5611cc7</td><td>TERMINATED</td><td>172.24.75.79:2660059</td><td style=\"text-align: right;\">          64</td><td>Morgan         </td><td style=\"text-align: right;\">0.0013311  </td><td style=\"text-align: right;\">                   256</td><td style=\"text-align: right;\">                    6</td><td style=\"text-align: right;\">             3</td><td style=\"text-align: right;\">     1</td><td style=\"text-align: right;\">         159.482</td><td style=\"text-align: right;\">0.885447</td></tr>\n",
       "<tr><td>train_fn_ddbe9a21</td><td>TERMINATED</td><td>172.24.75.79:2661066</td><td style=\"text-align: right;\">         256</td><td>Morgan         </td><td style=\"text-align: right;\">0.00078494 </td><td style=\"text-align: right;\">                   256</td><td style=\"text-align: right;\">                    3</td><td style=\"text-align: right;\">            20</td><td style=\"text-align: right;\">     1</td><td style=\"text-align: right;\">         311.915</td><td style=\"text-align: right;\">0.903953</td></tr>\n",
       "<tr><td>train_fn_2e9e560a</td><td>TERMINATED</td><td>172.24.75.79:2661826</td><td style=\"text-align: right;\">          64</td><td>Morgan         </td><td style=\"text-align: right;\">0.00938374 </td><td style=\"text-align: right;\">                    32</td><td style=\"text-align: right;\">                    5</td><td style=\"text-align: right;\">             5</td><td style=\"text-align: right;\">     1</td><td style=\"text-align: right;\">         180.986</td><td style=\"text-align: right;\">0.878732</td></tr>\n",
       "<tr><td>train_fn_5f268803</td><td>TERMINATED</td><td>172.24.75.79:2662681</td><td style=\"text-align: right;\">          32</td><td>Morgan         </td><td style=\"text-align: right;\">0.000107889</td><td style=\"text-align: right;\">                   128</td><td style=\"text-align: right;\">                    4</td><td style=\"text-align: right;\">             5</td><td style=\"text-align: right;\">     1</td><td style=\"text-align: right;\">         218.991</td><td style=\"text-align: right;\">0.897036</td></tr>\n",
       "<tr><td>train_fn_5f099853</td><td>TERMINATED</td><td>172.24.75.79:2659134</td><td style=\"text-align: right;\">         128</td><td>Morgan         </td><td style=\"text-align: right;\">0.00389918 </td><td style=\"text-align: right;\">                    32</td><td style=\"text-align: right;\">                    5</td><td style=\"text-align: right;\">             5</td><td style=\"text-align: right;\">     1</td><td style=\"text-align: right;\">         124.586</td><td style=\"text-align: right;\">0.873054</td></tr>\n",
       "<tr><td>train_fn_486b1822</td><td>TERMINATED</td><td>172.24.75.79:2662682</td><td style=\"text-align: right;\">          32</td><td>Morgan         </td><td style=\"text-align: right;\">0.000527563</td><td style=\"text-align: right;\">                    64</td><td style=\"text-align: right;\">                    5</td><td style=\"text-align: right;\">             5</td><td style=\"text-align: right;\">     1</td><td style=\"text-align: right;\">         217.433</td><td style=\"text-align: right;\">0.889701</td></tr>\n",
       "<tr><td>train_fn_532de60c</td><td>TERMINATED</td><td>172.24.75.79:2662683</td><td style=\"text-align: right;\">         512</td><td>Morgan         </td><td style=\"text-align: right;\">0.000247598</td><td style=\"text-align: right;\">                   512</td><td style=\"text-align: right;\">                    4</td><td style=\"text-align: right;\">            20</td><td style=\"text-align: right;\">     1</td><td style=\"text-align: right;\">         342.012</td><td style=\"text-align: right;\">0.90338 </td></tr>\n",
       "<tr><td>train_fn_42269147</td><td>TERMINATED</td><td>172.24.75.79:2662684</td><td style=\"text-align: right;\">         128</td><td>Morgan         </td><td style=\"text-align: right;\">0.00949583 </td><td style=\"text-align: right;\">                   256</td><td style=\"text-align: right;\">                    1</td><td style=\"text-align: right;\">             5</td><td style=\"text-align: right;\">     1</td><td style=\"text-align: right;\">         211.335</td><td style=\"text-align: right;\">0.887254</td></tr>\n",
       "<tr><td>train_fn_23155d04</td><td>TERMINATED</td><td>172.24.75.79:2660059</td><td style=\"text-align: right;\">          32</td><td>Morgan         </td><td style=\"text-align: right;\">0.00324568 </td><td style=\"text-align: right;\">                   128</td><td style=\"text-align: right;\">                    3</td><td style=\"text-align: right;\">             5</td><td style=\"text-align: right;\">     1</td><td style=\"text-align: right;\">         143.07 </td><td style=\"text-align: right;\">0.890128</td></tr>\n",
       "<tr><td>train_fn_9bcc805a</td><td>TERMINATED</td><td>172.24.75.79:2671895</td><td style=\"text-align: right;\">          32</td><td>Morgan         </td><td style=\"text-align: right;\">0.004104   </td><td style=\"text-align: right;\">                   256</td><td style=\"text-align: right;\">                    5</td><td style=\"text-align: right;\">             3</td><td style=\"text-align: right;\">     1</td><td style=\"text-align: right;\">         164.657</td><td style=\"text-align: right;\">0.876312</td></tr>\n",
       "<tr><td>train_fn_8f9b3f5a</td><td>TERMINATED</td><td>172.24.75.79:2679732</td><td style=\"text-align: right;\">          32</td><td>Morgan         </td><td style=\"text-align: right;\">0.00724392 </td><td style=\"text-align: right;\">                    64</td><td style=\"text-align: right;\">                    2</td><td style=\"text-align: right;\">            10</td><td style=\"text-align: right;\">     1</td><td style=\"text-align: right;\">         230.918</td><td style=\"text-align: right;\">0.87679 </td></tr>\n",
       "<tr><td>train_fn_4d7a9c2d</td><td>TERMINATED</td><td>172.24.75.79:2707597</td><td style=\"text-align: right;\">          32</td><td>Morgan         </td><td style=\"text-align: right;\">0.00167347 </td><td style=\"text-align: right;\">                   256</td><td style=\"text-align: right;\">                    3</td><td style=\"text-align: right;\">             3</td><td style=\"text-align: right;\">     1</td><td style=\"text-align: right;\">         158.758</td><td style=\"text-align: right;\">0.873442</td></tr>\n",
       "<tr><td>train_fn_6124a79b</td><td>TERMINATED</td><td>172.24.75.79:2662681</td><td style=\"text-align: right;\">          32</td><td>Morgan         </td><td style=\"text-align: right;\">0.00184015 </td><td style=\"text-align: right;\">                   256</td><td style=\"text-align: right;\">                    3</td><td style=\"text-align: right;\">            10</td><td style=\"text-align: right;\">     1</td><td style=\"text-align: right;\">         183.77 </td><td style=\"text-align: right;\">0.888547</td></tr>\n",
       "<tr><td>train_fn_785dd0c8</td><td>TERMINATED</td><td>172.24.75.79:2662682</td><td style=\"text-align: right;\">         128</td><td>Morgan         </td><td style=\"text-align: right;\">0.000426072</td><td style=\"text-align: right;\">                   256</td><td style=\"text-align: right;\">                    3</td><td style=\"text-align: right;\">            15</td><td style=\"text-align: right;\">     1</td><td style=\"text-align: right;\">         195.742</td><td style=\"text-align: right;\">0.907383</td></tr>\n",
       "<tr><td>train_fn_31176626</td><td>TERMINATED</td><td>172.24.75.79:2751845</td><td style=\"text-align: right;\">         256</td><td>Morgan         </td><td style=\"text-align: right;\">0.00148669 </td><td style=\"text-align: right;\">                   256</td><td style=\"text-align: right;\">                    2</td><td style=\"text-align: right;\">            20</td><td style=\"text-align: right;\">     1</td><td style=\"text-align: right;\">         260.114</td><td style=\"text-align: right;\">0.902422</td></tr>\n",
       "<tr><td>train_fn_0ba460eb</td><td>TERMINATED</td><td>172.24.75.79:2662681</td><td style=\"text-align: right;\">         256</td><td>Morgan         </td><td style=\"text-align: right;\">0.000204961</td><td style=\"text-align: right;\">                   256</td><td style=\"text-align: right;\">                    4</td><td style=\"text-align: right;\">            20</td><td style=\"text-align: right;\">     1</td><td style=\"text-align: right;\">         227.035</td><td style=\"text-align: right;\">0.913023</td></tr>\n",
       "<tr><td>train_fn_7fcbb148</td><td>TERMINATED</td><td>172.24.75.79:2766889</td><td style=\"text-align: right;\">         256</td><td>Morgan         </td><td style=\"text-align: right;\">0.000328683</td><td style=\"text-align: right;\">                   512</td><td style=\"text-align: right;\">                    3</td><td style=\"text-align: right;\">            15</td><td style=\"text-align: right;\">     1</td><td style=\"text-align: right;\">         275.34 </td><td style=\"text-align: right;\">0.911628</td></tr>\n",
       "<tr><td>train_fn_fa2f2520</td><td>TERMINATED</td><td>172.24.75.79:2662681</td><td style=\"text-align: right;\">         128</td><td>Morgan         </td><td style=\"text-align: right;\">0.000218193</td><td style=\"text-align: right;\">                   256</td><td style=\"text-align: right;\">                    2</td><td style=\"text-align: right;\">            20</td><td style=\"text-align: right;\">     1</td><td style=\"text-align: right;\">         279.455</td><td style=\"text-align: right;\">0.910857</td></tr>\n",
       "<tr><td>train_fn_cb90fa19</td><td>TERMINATED</td><td>172.24.75.79:2808730</td><td style=\"text-align: right;\">         128</td><td>Morgan         </td><td style=\"text-align: right;\">0.0001     </td><td style=\"text-align: right;\">                   256</td><td style=\"text-align: right;\">                    5</td><td style=\"text-align: right;\">            15</td><td style=\"text-align: right;\">     1</td><td style=\"text-align: right;\">         275.716</td><td style=\"text-align: right;\">0.900607</td></tr>\n",
       "<tr><td>train_fn_3acff796</td><td>TERMINATED</td><td>172.24.75.79:2820866</td><td style=\"text-align: right;\">         256</td><td>Morgan         </td><td style=\"text-align: right;\">0.000103116</td><td style=\"text-align: right;\">                   256</td><td style=\"text-align: right;\">                    3</td><td style=\"text-align: right;\">            15</td><td style=\"text-align: right;\">     1</td><td style=\"text-align: right;\">         249.345</td><td style=\"text-align: right;\">0.901822</td></tr>\n",
       "<tr><td>train_fn_d5d7e33b</td><td>TERMINATED</td><td>172.24.75.79:2838229</td><td style=\"text-align: right;\">         256</td><td>Morgan         </td><td style=\"text-align: right;\">0.000171118</td><td style=\"text-align: right;\">                   512</td><td style=\"text-align: right;\">                    3</td><td style=\"text-align: right;\">            20</td><td style=\"text-align: right;\">     1</td><td style=\"text-align: right;\">         315.76 </td><td style=\"text-align: right;\">0.909943</td></tr>\n",
       "<tr><td>train_fn_71a943ed</td><td>TERMINATED</td><td>172.24.75.79:2851300</td><td style=\"text-align: right;\">         128</td><td>Morgan         </td><td style=\"text-align: right;\">0.000187992</td><td style=\"text-align: right;\">                   512</td><td style=\"text-align: right;\">                    3</td><td style=\"text-align: right;\">            20</td><td style=\"text-align: right;\">     1</td><td style=\"text-align: right;\">         353.749</td><td style=\"text-align: right;\">0.907901</td></tr>\n",
       "<tr><td>train_fn_8e64cdc9</td><td>TERMINATED</td><td>172.24.75.79:2838229</td><td style=\"text-align: right;\">         128</td><td>Morgan         </td><td style=\"text-align: right;\">0.000391027</td><td style=\"text-align: right;\">                   512</td><td style=\"text-align: right;\">                    1</td><td style=\"text-align: right;\">            15</td><td style=\"text-align: right;\">     1</td><td style=\"text-align: right;\">         223.347</td><td style=\"text-align: right;\">0.904718</td></tr>\n",
       "<tr><td>train_fn_279f96d6</td><td>TERMINATED</td><td>172.24.75.79:2932249</td><td style=\"text-align: right;\">         256</td><td>Morgan         </td><td style=\"text-align: right;\">0.000282104</td><td style=\"text-align: right;\">                   512</td><td style=\"text-align: right;\">                    4</td><td style=\"text-align: right;\">            20</td><td style=\"text-align: right;\">     1</td><td style=\"text-align: right;\">         399.596</td><td style=\"text-align: right;\">0.906622</td></tr>\n",
       "<tr><td>train_fn_46453e55</td><td>TERMINATED</td><td>172.24.75.79:2851300</td><td style=\"text-align: right;\">         256</td><td>Morgan         </td><td style=\"text-align: right;\">0.000256456</td><td style=\"text-align: right;\">                   256</td><td style=\"text-align: right;\">                    3</td><td style=\"text-align: right;\">            20</td><td style=\"text-align: right;\">     1</td><td style=\"text-align: right;\">         236.819</td><td style=\"text-align: right;\">0.901647</td></tr>\n",
       "<tr><td>train_fn_9de28a29</td><td>TERMINATED</td><td>172.24.75.79:3027494</td><td style=\"text-align: right;\">         256</td><td>Morgan         </td><td style=\"text-align: right;\">0.0001     </td><td style=\"text-align: right;\">                   128</td><td style=\"text-align: right;\">                    4</td><td style=\"text-align: right;\">            20</td><td style=\"text-align: right;\">     1</td><td style=\"text-align: right;\">         250.67 </td><td style=\"text-align: right;\">0.894287</td></tr>\n",
       "<tr><td>train_fn_5928759c</td><td>TERMINATED</td><td>172.24.75.79:3074949</td><td style=\"text-align: right;\">         256</td><td>Morgan         </td><td style=\"text-align: right;\">0.000207822</td><td style=\"text-align: right;\">                   256</td><td style=\"text-align: right;\">                    3</td><td style=\"text-align: right;\">            20</td><td style=\"text-align: right;\">     1</td><td style=\"text-align: right;\">         273.858</td><td style=\"text-align: right;\">0.90356 </td></tr>\n",
       "<tr><td>train_fn_3dc960c3</td><td>TERMINATED</td><td>172.24.75.79:2851300</td><td style=\"text-align: right;\">         256</td><td>Morgan         </td><td style=\"text-align: right;\">0.000243741</td><td style=\"text-align: right;\">                   256</td><td style=\"text-align: right;\">                    3</td><td style=\"text-align: right;\">            20</td><td style=\"text-align: right;\">     1</td><td style=\"text-align: right;\">         229.247</td><td style=\"text-align: right;\">0.911795</td></tr>\n",
       "<tr><td>train_fn_457dc918</td><td>TERMINATED</td><td>172.24.75.79:3158043</td><td style=\"text-align: right;\">         128</td><td>Morgan         </td><td style=\"text-align: right;\">0.000320863</td><td style=\"text-align: right;\">                   512</td><td style=\"text-align: right;\">                    3</td><td style=\"text-align: right;\">            20</td><td style=\"text-align: right;\">     1</td><td style=\"text-align: right;\">         256.588</td><td style=\"text-align: right;\">0.910323</td></tr>\n",
       "<tr><td>train_fn_ab49c23c</td><td>TERMINATED</td><td>172.24.75.79:3214254</td><td style=\"text-align: right;\">         128</td><td>Morgan         </td><td style=\"text-align: right;\">0.000256267</td><td style=\"text-align: right;\">                   512</td><td style=\"text-align: right;\">                    3</td><td style=\"text-align: right;\">            15</td><td style=\"text-align: right;\">     1</td><td style=\"text-align: right;\">         187.465</td><td style=\"text-align: right;\">0.903664</td></tr>\n",
       "<tr><td>train_fn_6b4fd031</td><td>TERMINATED</td><td>172.24.75.79:3261276</td><td style=\"text-align: right;\">         256</td><td>Morgan         </td><td style=\"text-align: right;\">0.000338823</td><td style=\"text-align: right;\">                   512</td><td style=\"text-align: right;\">                    2</td><td style=\"text-align: right;\">            20</td><td style=\"text-align: right;\">     1</td><td style=\"text-align: right;\">         219.834</td><td style=\"text-align: right;\">0.911125</td></tr>\n",
       "<tr><td>train_fn_f9f893aa</td><td>TERMINATED</td><td>172.24.75.79:3158043</td><td style=\"text-align: right;\">         128</td><td>Morgan         </td><td style=\"text-align: right;\">0.000387226</td><td style=\"text-align: right;\">                   256</td><td style=\"text-align: right;\">                    4</td><td style=\"text-align: right;\">            20</td><td style=\"text-align: right;\">     1</td><td style=\"text-align: right;\">         231.149</td><td style=\"text-align: right;\">0.902882</td></tr>\n",
       "<tr><td>train_fn_83cb72f0</td><td>TERMINATED</td><td>172.24.75.79:3542047</td><td style=\"text-align: right;\">         256</td><td>Morgan         </td><td style=\"text-align: right;\">0.000328555</td><td style=\"text-align: right;\">                   512</td><td style=\"text-align: right;\">                    3</td><td style=\"text-align: right;\">            20</td><td style=\"text-align: right;\">     1</td><td style=\"text-align: right;\">         227.92 </td><td style=\"text-align: right;\">0.910231</td></tr>\n",
       "<tr><td>train_fn_316a7531</td><td>TERMINATED</td><td>172.24.75.79:3660273</td><td style=\"text-align: right;\">         128</td><td>Morgan         </td><td style=\"text-align: right;\">0.000406181</td><td style=\"text-align: right;\">                   512</td><td style=\"text-align: right;\">                    1</td><td style=\"text-align: right;\">            20</td><td style=\"text-align: right;\">     1</td><td style=\"text-align: right;\">         243.958</td><td style=\"text-align: right;\">0.903774</td></tr>\n",
       "<tr><td>train_fn_b754d1c0</td><td>TERMINATED</td><td>172.24.75.79:3158043</td><td style=\"text-align: right;\">         256</td><td>Morgan         </td><td style=\"text-align: right;\">0.000323999</td><td style=\"text-align: right;\">                   512</td><td style=\"text-align: right;\">                    2</td><td style=\"text-align: right;\">            20</td><td style=\"text-align: right;\">     1</td><td style=\"text-align: right;\">         216.849</td><td style=\"text-align: right;\">0.9145  </td></tr>\n",
       "<tr><td>train_fn_ad15c17d</td><td>TERMINATED</td><td>172.24.75.79:4033671</td><td style=\"text-align: right;\">         256</td><td>Morgan         </td><td style=\"text-align: right;\">0.000323078</td><td style=\"text-align: right;\">                   512</td><td style=\"text-align: right;\">                    2</td><td style=\"text-align: right;\">            20</td><td style=\"text-align: right;\">     1</td><td style=\"text-align: right;\">         249.835</td><td style=\"text-align: right;\">0.906877</td></tr>\n",
       "<tr><td>train_fn_65d72764</td><td>TERMINATED</td><td>172.24.75.79:4105403</td><td style=\"text-align: right;\">         256</td><td>Morgan         </td><td style=\"text-align: right;\">0.000308246</td><td style=\"text-align: right;\">                   512</td><td style=\"text-align: right;\">                    2</td><td style=\"text-align: right;\">            20</td><td style=\"text-align: right;\">     1</td><td style=\"text-align: right;\">         223.486</td><td style=\"text-align: right;\">0.90677 </td></tr>\n",
       "<tr><td>train_fn_45223124</td><td>TERMINATED</td><td>172.24.75.79:3158043</td><td style=\"text-align: right;\">         256</td><td>Morgan         </td><td style=\"text-align: right;\">0.00030677 </td><td style=\"text-align: right;\">                   512</td><td style=\"text-align: right;\">                    3</td><td style=\"text-align: right;\">            20</td><td style=\"text-align: right;\">     1</td><td style=\"text-align: right;\">         194.284</td><td style=\"text-align: right;\">0.912287</td></tr>\n",
       "<tr><td>train_fn_06082b3c</td><td>TERMINATED</td><td>172.24.75.79:57210  </td><td style=\"text-align: right;\">         256</td><td>Morgan         </td><td style=\"text-align: right;\">0.000301058</td><td style=\"text-align: right;\">                   512</td><td style=\"text-align: right;\">                    2</td><td style=\"text-align: right;\">            20</td><td style=\"text-align: right;\">     1</td><td style=\"text-align: right;\">         226.419</td><td style=\"text-align: right;\">0.910315</td></tr>\n",
       "<tr><td>train_fn_26363a7c</td><td>TERMINATED</td><td>172.24.75.79:113728 </td><td style=\"text-align: right;\">         256</td><td>Morgan         </td><td style=\"text-align: right;\">0.000318345</td><td style=\"text-align: right;\">                   512</td><td style=\"text-align: right;\">                    3</td><td style=\"text-align: right;\">            20</td><td style=\"text-align: right;\">     1</td><td style=\"text-align: right;\">         221.489</td><td style=\"text-align: right;\">0.906443</td></tr>\n",
       "<tr><td>train_fn_b2164d13</td><td>TERMINATED</td><td>172.24.75.79:222767 </td><td style=\"text-align: right;\">         256</td><td>Morgan         </td><td style=\"text-align: right;\">0.000327135</td><td style=\"text-align: right;\">                   512</td><td style=\"text-align: right;\">                    3</td><td style=\"text-align: right;\">            20</td><td style=\"text-align: right;\">     1</td><td style=\"text-align: right;\">         205.313</td><td style=\"text-align: right;\">0.906708</td></tr>\n",
       "<tr><td>train_fn_4456daa8</td><td>TERMINATED</td><td>172.24.75.79:304155 </td><td style=\"text-align: right;\">         256</td><td>Morgan         </td><td style=\"text-align: right;\">0.000348173</td><td style=\"text-align: right;\">                   512</td><td style=\"text-align: right;\">                    3</td><td style=\"text-align: right;\">            20</td><td style=\"text-align: right;\">     1</td><td style=\"text-align: right;\">         225.086</td><td style=\"text-align: right;\">0.907486</td></tr>\n",
       "<tr><td>train_fn_f29e8c42</td><td>TERMINATED</td><td>172.24.75.79:414030 </td><td style=\"text-align: right;\">         256</td><td>Morgan         </td><td style=\"text-align: right;\">0.000310241</td><td style=\"text-align: right;\">                   512</td><td style=\"text-align: right;\">                    3</td><td style=\"text-align: right;\">            20</td><td style=\"text-align: right;\">     1</td><td style=\"text-align: right;\">         220.559</td><td style=\"text-align: right;\">0.90831 </td></tr>\n",
       "<tr><td>train_fn_887b0a81</td><td>TERMINATED</td><td>172.24.75.79:558456 </td><td style=\"text-align: right;\">         256</td><td>Morgan         </td><td style=\"text-align: right;\">0.00028242 </td><td style=\"text-align: right;\">                   512</td><td style=\"text-align: right;\">                    2</td><td style=\"text-align: right;\">            20</td><td style=\"text-align: right;\">     1</td><td style=\"text-align: right;\">         227.667</td><td style=\"text-align: right;\">0.909497</td></tr>\n",
       "<tr><td>train_fn_f4a2f2ea</td><td>TERMINATED</td><td>172.24.75.79:637643 </td><td style=\"text-align: right;\">         256</td><td>Morgan         </td><td style=\"text-align: right;\">0.000279975</td><td style=\"text-align: right;\">                   512</td><td style=\"text-align: right;\">                    2</td><td style=\"text-align: right;\">            20</td><td style=\"text-align: right;\">     1</td><td style=\"text-align: right;\">         227.866</td><td style=\"text-align: right;\">0.905823</td></tr>\n",
       "<tr><td>train_fn_4b8127ac</td><td>TERMINATED</td><td>172.24.75.79:763446 </td><td style=\"text-align: right;\">         256</td><td>Morgan         </td><td style=\"text-align: right;\">0.000292266</td><td style=\"text-align: right;\">                   512</td><td style=\"text-align: right;\">                    2</td><td style=\"text-align: right;\">            20</td><td style=\"text-align: right;\">     1</td><td style=\"text-align: right;\">         225.109</td><td style=\"text-align: right;\">0.90689 </td></tr>\n",
       "<tr><td>train_fn_bf25937f</td><td>TERMINATED</td><td>172.24.75.79:637643 </td><td style=\"text-align: right;\">         256</td><td>Morgan         </td><td style=\"text-align: right;\">0.000271618</td><td style=\"text-align: right;\">                   512</td><td style=\"text-align: right;\">                    2</td><td style=\"text-align: right;\">            20</td><td style=\"text-align: right;\">     1</td><td style=\"text-align: right;\">         208.201</td><td style=\"text-align: right;\">0.906598</td></tr>\n",
       "<tr><td>train_fn_a79dc786</td><td>TERMINATED</td><td>172.24.75.79:912639 </td><td style=\"text-align: right;\">         256</td><td>Morgan         </td><td style=\"text-align: right;\">0.00028721 </td><td style=\"text-align: right;\">                   512</td><td style=\"text-align: right;\">                    2</td><td style=\"text-align: right;\">            20</td><td style=\"text-align: right;\">     1</td><td style=\"text-align: right;\">         211.192</td><td style=\"text-align: right;\">0.907113</td></tr>\n",
       "<tr><td>train_fn_70a48f78</td><td>TERMINATED</td><td>172.24.75.79:978380 </td><td style=\"text-align: right;\">         256</td><td>Morgan         </td><td style=\"text-align: right;\">0.000291535</td><td style=\"text-align: right;\">                   512</td><td style=\"text-align: right;\">                    3</td><td style=\"text-align: right;\">            20</td><td style=\"text-align: right;\">     1</td><td style=\"text-align: right;\">         223.341</td><td style=\"text-align: right;\">0.914775</td></tr>\n",
       "<tr><td>train_fn_79f4a2eb</td><td>TERMINATED</td><td>172.24.75.79:1046944</td><td style=\"text-align: right;\">         256</td><td>Morgan         </td><td style=\"text-align: right;\">0.000294747</td><td style=\"text-align: right;\">                   512</td><td style=\"text-align: right;\">                    3</td><td style=\"text-align: right;\">            20</td><td style=\"text-align: right;\">     1</td><td style=\"text-align: right;\">         230.953</td><td style=\"text-align: right;\">0.910559</td></tr>\n",
       "<tr><td>train_fn_f1be88c1</td><td>TERMINATED</td><td>172.24.75.79:1085653</td><td style=\"text-align: right;\">         256</td><td>Morgan         </td><td style=\"text-align: right;\">0.000293666</td><td style=\"text-align: right;\">                   512</td><td style=\"text-align: right;\">                    3</td><td style=\"text-align: right;\">            20</td><td style=\"text-align: right;\">     1</td><td style=\"text-align: right;\">         222.451</td><td style=\"text-align: right;\">0.910081</td></tr>\n",
       "<tr><td>train_fn_b920cbc3</td><td>TERMINATED</td><td>172.24.75.79:1125171</td><td style=\"text-align: right;\">         256</td><td>Morgan         </td><td style=\"text-align: right;\">0.000294577</td><td style=\"text-align: right;\">                   512</td><td style=\"text-align: right;\">                    3</td><td style=\"text-align: right;\">            20</td><td style=\"text-align: right;\">     1</td><td style=\"text-align: right;\">         218.862</td><td style=\"text-align: right;\">0.912045</td></tr>\n",
       "<tr><td>train_fn_fed043cf</td><td>TERMINATED</td><td>172.24.75.79:1189623</td><td style=\"text-align: right;\">         256</td><td>Morgan         </td><td style=\"text-align: right;\">0.000285334</td><td style=\"text-align: right;\">                   512</td><td style=\"text-align: right;\">                    3</td><td style=\"text-align: right;\">            20</td><td style=\"text-align: right;\">     1</td><td style=\"text-align: right;\">         230.862</td><td style=\"text-align: right;\">0.910925</td></tr>\n",
       "<tr><td>train_fn_c153528d</td><td>TERMINATED</td><td>172.24.75.79:1256092</td><td style=\"text-align: right;\">         256</td><td>Morgan         </td><td style=\"text-align: right;\">0.000284544</td><td style=\"text-align: right;\">                   512</td><td style=\"text-align: right;\">                    3</td><td style=\"text-align: right;\">            20</td><td style=\"text-align: right;\">     1</td><td style=\"text-align: right;\">         212.398</td><td style=\"text-align: right;\">0.911845</td></tr>\n",
       "<tr><td>train_fn_04d48488</td><td>TERMINATED</td><td>172.24.75.79:1315840</td><td style=\"text-align: right;\">         256</td><td>Morgan         </td><td style=\"text-align: right;\">0.00029666 </td><td style=\"text-align: right;\">                   512</td><td style=\"text-align: right;\">                    3</td><td style=\"text-align: right;\">            20</td><td style=\"text-align: right;\">     1</td><td style=\"text-align: right;\">         195.971</td><td style=\"text-align: right;\">0.910097</td></tr>\n",
       "<tr><td>train_fn_35cb681d</td><td>TERMINATED</td><td>172.24.75.79:1256092</td><td style=\"text-align: right;\">         256</td><td>Morgan         </td><td style=\"text-align: right;\">0.000295243</td><td style=\"text-align: right;\">                   512</td><td style=\"text-align: right;\">                    3</td><td style=\"text-align: right;\">            20</td><td style=\"text-align: right;\">     1</td><td style=\"text-align: right;\">         189.657</td><td style=\"text-align: right;\">0.911717</td></tr>\n",
       "<tr><td>train_fn_cf1115a3</td><td>TERMINATED</td><td>172.24.75.79:1444303</td><td style=\"text-align: right;\">         256</td><td>Morgan         </td><td style=\"text-align: right;\">0.000282466</td><td style=\"text-align: right;\">                   512</td><td style=\"text-align: right;\">                    3</td><td style=\"text-align: right;\">            20</td><td style=\"text-align: right;\">     1</td><td style=\"text-align: right;\">         192.64 </td><td style=\"text-align: right;\">0.907551</td></tr>\n",
       "<tr><td>train_fn_7c730f8f</td><td>TERMINATED</td><td>172.24.75.79:1256092</td><td style=\"text-align: right;\">         256</td><td>Morgan         </td><td style=\"text-align: right;\">0.000284407</td><td style=\"text-align: right;\">                   512</td><td style=\"text-align: right;\">                    3</td><td style=\"text-align: right;\">            20</td><td style=\"text-align: right;\">     1</td><td style=\"text-align: right;\">         178.619</td><td style=\"text-align: right;\">0.910778</td></tr>\n",
       "<tr><td>train_fn_b38a8761</td><td>TERMINATED</td><td>172.24.75.79:1524649</td><td style=\"text-align: right;\">         256</td><td>Morgan         </td><td style=\"text-align: right;\">0.000282016</td><td style=\"text-align: right;\">                   512</td><td style=\"text-align: right;\">                    3</td><td style=\"text-align: right;\">            20</td><td style=\"text-align: right;\">     1</td><td style=\"text-align: right;\">         181.764</td><td style=\"text-align: right;\">0.912837</td></tr>\n",
       "<tr><td>train_fn_458f2d06</td><td>TERMINATED</td><td>172.24.75.79:1669061</td><td style=\"text-align: right;\">         256</td><td>Morgan         </td><td style=\"text-align: right;\">0.000279584</td><td style=\"text-align: right;\">                   512</td><td style=\"text-align: right;\">                    3</td><td style=\"text-align: right;\">            20</td><td style=\"text-align: right;\">     1</td><td style=\"text-align: right;\">         309.47 </td><td style=\"text-align: right;\">0.91006 </td></tr>\n",
       "<tr><td>train_fn_f45da05e</td><td>TERMINATED</td><td>172.24.75.79:1700662</td><td style=\"text-align: right;\">         256</td><td>Morgan         </td><td style=\"text-align: right;\">0.000278016</td><td style=\"text-align: right;\">                   512</td><td style=\"text-align: right;\">                    3</td><td style=\"text-align: right;\">            20</td><td style=\"text-align: right;\">     1</td><td style=\"text-align: right;\">         306.674</td><td style=\"text-align: right;\">0.910526</td></tr>\n",
       "<tr><td>train_fn_ee2768f7</td><td>TERMINATED</td><td>172.24.75.79:1669061</td><td style=\"text-align: right;\">         256</td><td>Morgan         </td><td style=\"text-align: right;\">0.000281651</td><td style=\"text-align: right;\">                   512</td><td style=\"text-align: right;\">                    3</td><td style=\"text-align: right;\">            20</td><td style=\"text-align: right;\">     1</td><td style=\"text-align: right;\">         236.133</td><td style=\"text-align: right;\">0.907508</td></tr>\n",
       "<tr><td>train_fn_58bc8673</td><td>TERMINATED</td><td>172.24.75.79:1840755</td><td style=\"text-align: right;\">         256</td><td>Morgan         </td><td style=\"text-align: right;\">0.000282837</td><td style=\"text-align: right;\">                   512</td><td style=\"text-align: right;\">                    3</td><td style=\"text-align: right;\">            20</td><td style=\"text-align: right;\">     1</td><td style=\"text-align: right;\">         306.393</td><td style=\"text-align: right;\">0.910318</td></tr>\n",
       "<tr><td>train_fn_47a1cdf9</td><td>TERMINATED</td><td>172.24.75.79:1990134</td><td style=\"text-align: right;\">         256</td><td>Morgan         </td><td style=\"text-align: right;\">0.000280086</td><td style=\"text-align: right;\">                   512</td><td style=\"text-align: right;\">                    3</td><td style=\"text-align: right;\">            20</td><td style=\"text-align: right;\">     1</td><td style=\"text-align: right;\">         196.702</td><td style=\"text-align: right;\">0.909772</td></tr>\n",
       "<tr><td>train_fn_ada05b15</td><td>TERMINATED</td><td>172.24.75.79:2095298</td><td style=\"text-align: right;\">         256</td><td>Morgan         </td><td style=\"text-align: right;\">0.000282853</td><td style=\"text-align: right;\">                   512</td><td style=\"text-align: right;\">                    3</td><td style=\"text-align: right;\">            20</td><td style=\"text-align: right;\">     1</td><td style=\"text-align: right;\">         216.637</td><td style=\"text-align: right;\">0.909461</td></tr>\n",
       "<tr><td>train_fn_19e5d04d</td><td>TERMINATED</td><td>172.24.75.79:1990134</td><td style=\"text-align: right;\">         256</td><td>Morgan         </td><td style=\"text-align: right;\">0.000280611</td><td style=\"text-align: right;\">                   512</td><td style=\"text-align: right;\">                    3</td><td style=\"text-align: right;\">            20</td><td style=\"text-align: right;\">     1</td><td style=\"text-align: right;\">         202.007</td><td style=\"text-align: right;\">0.913511</td></tr>\n",
       "<tr><td>train_fn_091c9be4</td><td>TERMINATED</td><td>172.24.75.79:2376250</td><td style=\"text-align: right;\">         256</td><td>Morgan         </td><td style=\"text-align: right;\">0.000283579</td><td style=\"text-align: right;\">                   512</td><td style=\"text-align: right;\">                    3</td><td style=\"text-align: right;\">            20</td><td style=\"text-align: right;\">     1</td><td style=\"text-align: right;\">         196.531</td><td style=\"text-align: right;\">0.902113</td></tr>\n",
       "<tr><td>train_fn_3a556f97</td><td>TERMINATED</td><td>172.24.75.79:1990134</td><td style=\"text-align: right;\">         256</td><td>Morgan         </td><td style=\"text-align: right;\">0.000285722</td><td style=\"text-align: right;\">                   512</td><td style=\"text-align: right;\">                    3</td><td style=\"text-align: right;\">            20</td><td style=\"text-align: right;\">     1</td><td style=\"text-align: right;\">         214.616</td><td style=\"text-align: right;\">0.90777 </td></tr>\n",
       "<tr><td>train_fn_7a4d6b92</td><td>TERMINATED</td><td>172.24.75.79:2641336</td><td style=\"text-align: right;\">         256</td><td>Morgan         </td><td style=\"text-align: right;\">0.000278005</td><td style=\"text-align: right;\">                   512</td><td style=\"text-align: right;\">                    3</td><td style=\"text-align: right;\">            20</td><td style=\"text-align: right;\">     1</td><td style=\"text-align: right;\">         232.783</td><td style=\"text-align: right;\">0.912652</td></tr>\n",
       "<tr><td>train_fn_c3314acd</td><td>TERMINATED</td><td>172.24.75.79:2737978</td><td style=\"text-align: right;\">         256</td><td>Morgan         </td><td style=\"text-align: right;\">0.000279106</td><td style=\"text-align: right;\">                   512</td><td style=\"text-align: right;\">                    3</td><td style=\"text-align: right;\">            20</td><td style=\"text-align: right;\">     1</td><td style=\"text-align: right;\">         247.404</td><td style=\"text-align: right;\">0.908168</td></tr>\n",
       "<tr><td>train_fn_58adc5e2</td><td>TERMINATED</td><td>172.24.75.79:2641336</td><td style=\"text-align: right;\">         256</td><td>Morgan         </td><td style=\"text-align: right;\">0.000288087</td><td style=\"text-align: right;\">                   512</td><td style=\"text-align: right;\">                    3</td><td style=\"text-align: right;\">            20</td><td style=\"text-align: right;\">     1</td><td style=\"text-align: right;\">         218.413</td><td style=\"text-align: right;\">0.907611</td></tr>\n",
       "<tr><td>train_fn_d5a37500</td><td>TERMINATED</td><td>172.24.75.79:2881323</td><td style=\"text-align: right;\">         256</td><td>Morgan         </td><td style=\"text-align: right;\">0.000274349</td><td style=\"text-align: right;\">                   512</td><td style=\"text-align: right;\">                    3</td><td style=\"text-align: right;\">            20</td><td style=\"text-align: right;\">     1</td><td style=\"text-align: right;\">         242.302</td><td style=\"text-align: right;\">0.906245</td></tr>\n",
       "<tr><td>train_fn_2ccb65b7</td><td>TERMINATED</td><td>172.24.75.79:2906746</td><td style=\"text-align: right;\">         256</td><td>Morgan         </td><td style=\"text-align: right;\">0.000284579</td><td style=\"text-align: right;\">                   512</td><td style=\"text-align: right;\">                    3</td><td style=\"text-align: right;\">            20</td><td style=\"text-align: right;\">     1</td><td style=\"text-align: right;\">         213.035</td><td style=\"text-align: right;\">0.909084</td></tr>\n",
       "<tr><td>train_fn_b23451bf</td><td>TERMINATED</td><td>172.24.75.79:2991987</td><td style=\"text-align: right;\">         256</td><td>Morgan         </td><td style=\"text-align: right;\">0.000285234</td><td style=\"text-align: right;\">                   512</td><td style=\"text-align: right;\">                    3</td><td style=\"text-align: right;\">            20</td><td style=\"text-align: right;\">     1</td><td style=\"text-align: right;\">         205.31 </td><td style=\"text-align: right;\">0.905822</td></tr>\n",
       "<tr><td>train_fn_fa18224e</td><td>TERMINATED</td><td>172.24.75.79:3143662</td><td style=\"text-align: right;\">         256</td><td>Morgan         </td><td style=\"text-align: right;\">0.000283157</td><td style=\"text-align: right;\">                   512</td><td style=\"text-align: right;\">                    3</td><td style=\"text-align: right;\">            20</td><td style=\"text-align: right;\">     1</td><td style=\"text-align: right;\">         193.171</td><td style=\"text-align: right;\">0.915242</td></tr>\n",
       "<tr><td>train_fn_cee06d9e</td><td>TERMINATED</td><td>172.24.75.79:2906746</td><td style=\"text-align: right;\">         256</td><td>Morgan         </td><td style=\"text-align: right;\">0.00028718 </td><td style=\"text-align: right;\">                   512</td><td style=\"text-align: right;\">                    3</td><td style=\"text-align: right;\">            20</td><td style=\"text-align: right;\">     1</td><td style=\"text-align: right;\">         180.744</td><td style=\"text-align: right;\">0.908817</td></tr>\n",
       "<tr><td>train_fn_30142b2b</td><td>TERMINATED</td><td>172.24.75.79:3300804</td><td style=\"text-align: right;\">         256</td><td>Morgan         </td><td style=\"text-align: right;\">0.000293587</td><td style=\"text-align: right;\">                   512</td><td style=\"text-align: right;\">                    3</td><td style=\"text-align: right;\">            20</td><td style=\"text-align: right;\">     1</td><td style=\"text-align: right;\">         213.159</td><td style=\"text-align: right;\">0.913906</td></tr>\n",
       "<tr><td>train_fn_e309ba1b</td><td>TERMINATED</td><td>172.24.75.79:3379027</td><td style=\"text-align: right;\">         256</td><td>Morgan         </td><td style=\"text-align: right;\">0.000284812</td><td style=\"text-align: right;\">                   512</td><td style=\"text-align: right;\">                    3</td><td style=\"text-align: right;\">            20</td><td style=\"text-align: right;\">     1</td><td style=\"text-align: right;\">         192.086</td><td style=\"text-align: right;\">0.9136  </td></tr>\n",
       "<tr><td>train_fn_d9d22f54</td><td>TERMINATED</td><td>172.24.75.79:3509586</td><td style=\"text-align: right;\">         256</td><td>Morgan         </td><td style=\"text-align: right;\">0.000291559</td><td style=\"text-align: right;\">                   512</td><td style=\"text-align: right;\">                    3</td><td style=\"text-align: right;\">            20</td><td style=\"text-align: right;\">     1</td><td style=\"text-align: right;\">         185.155</td><td style=\"text-align: right;\">0.907099</td></tr>\n",
       "<tr><td>train_fn_69b5866a</td><td>TERMINATED</td><td>172.24.75.79:3597933</td><td style=\"text-align: right;\">         256</td><td>Morgan         </td><td style=\"text-align: right;\">0.00028408 </td><td style=\"text-align: right;\">                   512</td><td style=\"text-align: right;\">                    3</td><td style=\"text-align: right;\">            20</td><td style=\"text-align: right;\">     1</td><td style=\"text-align: right;\">         180.564</td><td style=\"text-align: right;\">0.90856 </td></tr>\n",
       "<tr><td>train_fn_341f2789</td><td>TERMINATED</td><td>172.24.75.79:3686054</td><td style=\"text-align: right;\">         256</td><td>Morgan         </td><td style=\"text-align: right;\">0.000282751</td><td style=\"text-align: right;\">                   512</td><td style=\"text-align: right;\">                    3</td><td style=\"text-align: right;\">            20</td><td style=\"text-align: right;\">     1</td><td style=\"text-align: right;\">         150.177</td><td style=\"text-align: right;\">0.906253</td></tr>\n",
       "<tr><td>train_fn_44971cf3</td><td>TERMINATED</td><td>172.24.75.79:3597933</td><td style=\"text-align: right;\">         256</td><td>Morgan         </td><td style=\"text-align: right;\">0.000288957</td><td style=\"text-align: right;\">                   512</td><td style=\"text-align: right;\">                    3</td><td style=\"text-align: right;\">            20</td><td style=\"text-align: right;\">     1</td><td style=\"text-align: right;\">         165.056</td><td style=\"text-align: right;\">0.909927</td></tr>\n",
       "<tr><td>train_fn_65effd29</td><td>TERMINATED</td><td>172.24.75.79:3884391</td><td style=\"text-align: right;\">         256</td><td>Morgan         </td><td style=\"text-align: right;\">0.00028572 </td><td style=\"text-align: right;\">                   512</td><td style=\"text-align: right;\">                    3</td><td style=\"text-align: right;\">            20</td><td style=\"text-align: right;\">     1</td><td style=\"text-align: right;\">         207.086</td><td style=\"text-align: right;\">0.905389</td></tr>\n",
       "<tr><td>train_fn_505b9506</td><td>TERMINATED</td><td>172.24.75.79:3597933</td><td style=\"text-align: right;\">         256</td><td>Morgan         </td><td style=\"text-align: right;\">0.000284546</td><td style=\"text-align: right;\">                   512</td><td style=\"text-align: right;\">                    3</td><td style=\"text-align: right;\">            20</td><td style=\"text-align: right;\">     1</td><td style=\"text-align: right;\">         185.088</td><td style=\"text-align: right;\">0.907081</td></tr>\n",
       "<tr><td>train_fn_b31811e4</td><td>TERMINATED</td><td>172.24.75.79:4168324</td><td style=\"text-align: right;\">         256</td><td>Morgan         </td><td style=\"text-align: right;\">0.0002811  </td><td style=\"text-align: right;\">                   512</td><td style=\"text-align: right;\">                    3</td><td style=\"text-align: right;\">            20</td><td style=\"text-align: right;\">     1</td><td style=\"text-align: right;\">         195.778</td><td style=\"text-align: right;\">0.906993</td></tr>\n",
       "<tr><td>train_fn_e596e23a</td><td>TERMINATED</td><td>172.24.75.79:85178  </td><td style=\"text-align: right;\">         256</td><td>Morgan         </td><td style=\"text-align: right;\">0.00027883 </td><td style=\"text-align: right;\">                   512</td><td style=\"text-align: right;\">                    3</td><td style=\"text-align: right;\">            20</td><td style=\"text-align: right;\">     1</td><td style=\"text-align: right;\">         210.41 </td><td style=\"text-align: right;\">0.908846</td></tr>\n",
       "<tr><td>train_fn_85d38bd1</td><td>TERMINATED</td><td>172.24.75.79:4168324</td><td style=\"text-align: right;\">         256</td><td>Morgan         </td><td style=\"text-align: right;\">0.000287568</td><td style=\"text-align: right;\">                   512</td><td style=\"text-align: right;\">                    3</td><td style=\"text-align: right;\">            20</td><td style=\"text-align: right;\">     1</td><td style=\"text-align: right;\">         173.133</td><td style=\"text-align: right;\">0.912487</td></tr>\n",
       "<tr><td>train_fn_16d81bba</td><td>TERMINATED</td><td>172.24.75.79:287844 </td><td style=\"text-align: right;\">         256</td><td>Morgan         </td><td style=\"text-align: right;\">0.000299022</td><td style=\"text-align: right;\">                   512</td><td style=\"text-align: right;\">                    3</td><td style=\"text-align: right;\">            20</td><td style=\"text-align: right;\">     1</td><td style=\"text-align: right;\">         189.06 </td><td style=\"text-align: right;\">0.914627</td></tr>\n",
       "<tr><td>train_fn_2173b9d3</td><td>TERMINATED</td><td>172.24.75.79:409088 </td><td style=\"text-align: right;\">         256</td><td>Morgan         </td><td style=\"text-align: right;\">0.000295982</td><td style=\"text-align: right;\">                   512</td><td style=\"text-align: right;\">                    3</td><td style=\"text-align: right;\">            20</td><td style=\"text-align: right;\">     1</td><td style=\"text-align: right;\">         155.482</td><td style=\"text-align: right;\">0.906441</td></tr>\n",
       "<tr><td>train_fn_e9ceab53</td><td>TERMINATED</td><td>172.24.75.79:4168324</td><td style=\"text-align: right;\">         256</td><td>Morgan         </td><td style=\"text-align: right;\">0.000299379</td><td style=\"text-align: right;\">                   512</td><td style=\"text-align: right;\">                    3</td><td style=\"text-align: right;\">            20</td><td style=\"text-align: right;\">     1</td><td style=\"text-align: right;\">         167.164</td><td style=\"text-align: right;\">0.902923</td></tr>\n",
       "<tr><td>train_fn_65d5ffd5</td><td>TERMINATED</td><td>172.24.75.79:556406 </td><td style=\"text-align: right;\">         256</td><td>Morgan         </td><td style=\"text-align: right;\">0.0002935  </td><td style=\"text-align: right;\">                   512</td><td style=\"text-align: right;\">                    3</td><td style=\"text-align: right;\">            20</td><td style=\"text-align: right;\">     1</td><td style=\"text-align: right;\">         170.084</td><td style=\"text-align: right;\">0.914084</td></tr>\n",
       "<tr><td>train_fn_9bf33c65</td><td>TERMINATED</td><td>172.24.75.79:4168324</td><td style=\"text-align: right;\">         256</td><td>Morgan         </td><td style=\"text-align: right;\">0.000284082</td><td style=\"text-align: right;\">                   512</td><td style=\"text-align: right;\">                    3</td><td style=\"text-align: right;\">            20</td><td style=\"text-align: right;\">     1</td><td style=\"text-align: right;\">         163.085</td><td style=\"text-align: right;\">0.915032</td></tr>\n",
       "<tr><td>train_fn_6abdcd55</td><td>TERMINATED</td><td>172.24.75.79:712122 </td><td style=\"text-align: right;\">         256</td><td>Morgan         </td><td style=\"text-align: right;\">0.000287375</td><td style=\"text-align: right;\">                   512</td><td style=\"text-align: right;\">                    3</td><td style=\"text-align: right;\">            20</td><td style=\"text-align: right;\">     1</td><td style=\"text-align: right;\">         185.26 </td><td style=\"text-align: right;\">0.904809</td></tr>\n",
       "<tr><td>train_fn_48f39475</td><td>TERMINATED</td><td>172.24.75.79:809934 </td><td style=\"text-align: right;\">         256</td><td>Morgan         </td><td style=\"text-align: right;\">0.000280323</td><td style=\"text-align: right;\">                   512</td><td style=\"text-align: right;\">                    3</td><td style=\"text-align: right;\">            20</td><td style=\"text-align: right;\">     1</td><td style=\"text-align: right;\">         191.341</td><td style=\"text-align: right;\">0.913216</td></tr>\n",
       "<tr><td>train_fn_e96bba87</td><td>TERMINATED</td><td>172.24.75.79:872203 </td><td style=\"text-align: right;\">         256</td><td>Morgan         </td><td style=\"text-align: right;\">0.000283397</td><td style=\"text-align: right;\">                   512</td><td style=\"text-align: right;\">                    3</td><td style=\"text-align: right;\">            20</td><td style=\"text-align: right;\">     1</td><td style=\"text-align: right;\">         179.354</td><td style=\"text-align: right;\">0.912117</td></tr>\n",
       "<tr><td>train_fn_0bc1059d</td><td>TERMINATED</td><td>172.24.75.79:925030 </td><td style=\"text-align: right;\">         256</td><td>Morgan         </td><td style=\"text-align: right;\">0.000273336</td><td style=\"text-align: right;\">                   512</td><td style=\"text-align: right;\">                    3</td><td style=\"text-align: right;\">            20</td><td style=\"text-align: right;\">     1</td><td style=\"text-align: right;\">         193.386</td><td style=\"text-align: right;\">0.904071</td></tr>\n",
       "<tr><td>train_fn_8071165d</td><td>TERMINATED</td><td>172.24.75.79:959587 </td><td style=\"text-align: right;\">         256</td><td>Morgan         </td><td style=\"text-align: right;\">0.000270679</td><td style=\"text-align: right;\">                   512</td><td style=\"text-align: right;\">                    3</td><td style=\"text-align: right;\">            20</td><td style=\"text-align: right;\">     1</td><td style=\"text-align: right;\">         193.948</td><td style=\"text-align: right;\">0.903492</td></tr>\n",
       "<tr><td>train_fn_c9c7d065</td><td>TERMINATED</td><td>172.24.75.79:712122 </td><td style=\"text-align: right;\">         256</td><td>Morgan         </td><td style=\"text-align: right;\">0.000284246</td><td style=\"text-align: right;\">                   512</td><td style=\"text-align: right;\">                    3</td><td style=\"text-align: right;\">            20</td><td style=\"text-align: right;\">     1</td><td style=\"text-align: right;\">         164.813</td><td style=\"text-align: right;\">0.91361 </td></tr>\n",
       "<tr><td>train_fn_795429ef</td><td>TERMINATED</td><td>172.24.75.79:1010139</td><td style=\"text-align: right;\">         256</td><td>Morgan         </td><td style=\"text-align: right;\">0.000294143</td><td style=\"text-align: right;\">                   512</td><td style=\"text-align: right;\">                    3</td><td style=\"text-align: right;\">            20</td><td style=\"text-align: right;\">     1</td><td style=\"text-align: right;\">         164.596</td><td style=\"text-align: right;\">0.905846</td></tr>\n",
       "</tbody>\n",
       "</table>\n",
       "  </div>\n",
       "</div>\n",
       "<style>\n",
       ".tuneStatus {\n",
       "  color: var(--jp-ui-font-color1);\n",
       "}\n",
       ".tuneStatus .systemInfo {\n",
       "  display: flex;\n",
       "  flex-direction: column;\n",
       "}\n",
       ".tuneStatus td {\n",
       "  white-space: nowrap;\n",
       "}\n",
       ".tuneStatus .trialStatus {\n",
       "  display: flex;\n",
       "  flex-direction: column;\n",
       "}\n",
       ".tuneStatus h3 {\n",
       "  font-weight: bold;\n",
       "}\n",
       ".tuneStatus .hDivider {\n",
       "  border-bottom-width: var(--jp-border-width);\n",
       "  border-bottom-color: var(--jp-border-color0);\n",
       "  border-bottom-style: solid;\n",
       "}\n",
       ".tuneStatus .vDivider {\n",
       "  border-left-width: var(--jp-border-width);\n",
       "  border-left-color: var(--jp-border-color0);\n",
       "  border-left-style: solid;\n",
       "  margin: 0.5em 1em 0.5em 1em;\n",
       "}\n",
       "</style>\n"
      ],
      "text/plain": [
       "<IPython.core.display.HTML object>"
      ]
     },
     "metadata": {},
     "output_type": "display_data"
    },
    {
     "name": "stderr",
     "output_type": "stream",
     "text": [
      "[INFO 12-27 21:38:58] ax.service.ax_client: Generated new trial 0 with parameters {'lr': 0.003591, 'batch_size': 512, 'train_epochs': 3, 'mlp_hidden_dims_drug': 256, 'mlp_num_layers_drug': 6, 'drug_encoding': 'Morgan'}.\n",
      "\u001b[2m\u001b[36m(pid=2659134)\u001b[0m WARNING:root:No normalization for BCUT2D_MWHI\n",
      "\u001b[2m\u001b[36m(pid=2659134)\u001b[0m WARNING:root:No normalization for BCUT2D_MWLOW\n",
      "\u001b[2m\u001b[36m(pid=2659134)\u001b[0m WARNING:root:No normalization for BCUT2D_CHGHI\n",
      "\u001b[2m\u001b[36m(pid=2659134)\u001b[0m WARNING:root:No normalization for BCUT2D_CHGLO\n",
      "\u001b[2m\u001b[36m(pid=2659134)\u001b[0m WARNING:root:No normalization for BCUT2D_LOGPHI\n",
      "\u001b[2m\u001b[36m(pid=2659134)\u001b[0m WARNING:root:No normalization for BCUT2D_LOGPLOW\n",
      "\u001b[2m\u001b[36m(pid=2659134)\u001b[0m WARNING:root:No normalization for BCUT2D_MRHI\n",
      "\u001b[2m\u001b[36m(pid=2659134)\u001b[0m WARNING:root:No normalization for BCUT2D_MRLOW\n",
      "[INFO 12-27 21:40:13] ax.service.ax_client: Generated new trial 1 with parameters {'lr': 0.001331, 'batch_size': 64, 'train_epochs': 3, 'mlp_hidden_dims_drug': 256, 'mlp_num_layers_drug': 6, 'drug_encoding': 'Morgan'}.\n"
     ]
    },
    {
     "name": "stdout",
     "output_type": "stream",
     "text": [
      "\u001b[2m\u001b[36m(train_fn pid=2659134)\u001b[0m Drug Property Prediction Mode...\n",
      "\u001b[2m\u001b[36m(train_fn pid=2659134)\u001b[0m in total: 13445 drugs\n",
      "\u001b[2m\u001b[36m(train_fn pid=2659134)\u001b[0m encoding drug...\n",
      "\u001b[2m\u001b[36m(train_fn pid=2659134)\u001b[0m unique drugs: 13445\n"
     ]
    },
    {
     "name": "stderr",
     "output_type": "stream",
     "text": [
      "\u001b[2m\u001b[36m(pid=2660059)\u001b[0m WARNING:root:No normalization for BCUT2D_MWHI\n",
      "\u001b[2m\u001b[36m(pid=2660059)\u001b[0m WARNING:root:No normalization for BCUT2D_MWLOW\n",
      "\u001b[2m\u001b[36m(pid=2660059)\u001b[0m WARNING:root:No normalization for BCUT2D_CHGHI\n",
      "\u001b[2m\u001b[36m(pid=2660059)\u001b[0m WARNING:root:No normalization for BCUT2D_CHGLO\n",
      "\u001b[2m\u001b[36m(pid=2660059)\u001b[0m WARNING:root:No normalization for BCUT2D_LOGPHI\n",
      "\u001b[2m\u001b[36m(pid=2660059)\u001b[0m WARNING:root:No normalization for BCUT2D_LOGPLOW\n",
      "\u001b[2m\u001b[36m(pid=2660059)\u001b[0m WARNING:root:No normalization for BCUT2D_MRHI\n",
      "\u001b[2m\u001b[36m(pid=2660059)\u001b[0m WARNING:root:No normalization for BCUT2D_MRLOW\n"
     ]
    },
    {
     "name": "stdout",
     "output_type": "stream",
     "text": [
      "\u001b[2m\u001b[36m(train_fn pid=2659134)\u001b[0m Done.\n"
     ]
    },
    {
     "name": "stderr",
     "output_type": "stream",
     "text": [
      "[INFO 12-27 21:41:28] ax.service.ax_client: Generated new trial 2 with parameters {'lr': 0.000785, 'batch_size': 256, 'train_epochs': 20, 'mlp_hidden_dims_drug': 256, 'mlp_num_layers_drug': 3, 'drug_encoding': 'Morgan'}.\n"
     ]
    },
    {
     "name": "stdout",
     "output_type": "stream",
     "text": [
      "\u001b[2m\u001b[36m(train_fn pid=2660059)\u001b[0m Drug Property Prediction Mode...\n",
      "\u001b[2m\u001b[36m(train_fn pid=2660059)\u001b[0m in total: 13445 drugs\n",
      "\u001b[2m\u001b[36m(train_fn pid=2660059)\u001b[0m encoding drug...\n",
      "\u001b[2m\u001b[36m(train_fn pid=2660059)\u001b[0m unique drugs: 13445\n",
      "\u001b[2m\u001b[36m(train_fn pid=2660059)\u001b[0m Done.\n"
     ]
    },
    {
     "name": "stderr",
     "output_type": "stream",
     "text": [
      "\u001b[2m\u001b[36m(pid=2661066)\u001b[0m WARNING:root:No normalization for BCUT2D_MWHI\n",
      "\u001b[2m\u001b[36m(pid=2661066)\u001b[0m WARNING:root:No normalization for BCUT2D_MWLOW\n",
      "\u001b[2m\u001b[36m(pid=2661066)\u001b[0m WARNING:root:No normalization for BCUT2D_CHGHI\n",
      "\u001b[2m\u001b[36m(pid=2661066)\u001b[0m WARNING:root:No normalization for BCUT2D_CHGLO\n",
      "\u001b[2m\u001b[36m(pid=2661066)\u001b[0m WARNING:root:No normalization for BCUT2D_LOGPHI\n",
      "\u001b[2m\u001b[36m(pid=2661066)\u001b[0m WARNING:root:No normalization for BCUT2D_LOGPLOW\n",
      "\u001b[2m\u001b[36m(pid=2661066)\u001b[0m WARNING:root:No normalization for BCUT2D_MRHI\n",
      "\u001b[2m\u001b[36m(pid=2661066)\u001b[0m WARNING:root:No normalization for BCUT2D_MRLOW\n",
      "[INFO 12-27 21:42:40] ax.service.ax_client: Generated new trial 3 with parameters {'lr': 0.009384, 'batch_size': 64, 'train_epochs': 5, 'mlp_hidden_dims_drug': 32, 'mlp_num_layers_drug': 5, 'drug_encoding': 'Morgan'}.\n"
     ]
    },
    {
     "name": "stdout",
     "output_type": "stream",
     "text": [
      "\u001b[2m\u001b[36m(train_fn pid=2661066)\u001b[0m Drug Property Prediction Mode...\n",
      "\u001b[2m\u001b[36m(train_fn pid=2661066)\u001b[0m in total: 13445 drugs\n",
      "\u001b[2m\u001b[36m(train_fn pid=2661066)\u001b[0m encoding drug...\n",
      "\u001b[2m\u001b[36m(train_fn pid=2661066)\u001b[0m unique drugs: 13445\n",
      "\u001b[2m\u001b[36m(train_fn pid=2661066)\u001b[0m Done.\n"
     ]
    },
    {
     "name": "stderr",
     "output_type": "stream",
     "text": [
      "\u001b[2m\u001b[36m(pid=2661826)\u001b[0m WARNING:root:No normalization for BCUT2D_MWHI\n",
      "\u001b[2m\u001b[36m(pid=2661826)\u001b[0m WARNING:root:No normalization for BCUT2D_MWLOW\n",
      "\u001b[2m\u001b[36m(pid=2661826)\u001b[0m WARNING:root:No normalization for BCUT2D_CHGHI\n",
      "\u001b[2m\u001b[36m(pid=2661826)\u001b[0m WARNING:root:No normalization for BCUT2D_CHGLO\n",
      "\u001b[2m\u001b[36m(pid=2661826)\u001b[0m WARNING:root:No normalization for BCUT2D_LOGPHI\n",
      "\u001b[2m\u001b[36m(pid=2661826)\u001b[0m WARNING:root:No normalization for BCUT2D_LOGPLOW\n",
      "\u001b[2m\u001b[36m(pid=2661826)\u001b[0m WARNING:root:No normalization for BCUT2D_MRHI\n",
      "\u001b[2m\u001b[36m(pid=2661826)\u001b[0m WARNING:root:No normalization for BCUT2D_MRLOW\n",
      "[INFO 12-27 21:43:46] ax.service.ax_client: Generated new trial 4 with parameters {'lr': 0.000108, 'batch_size': 32, 'train_epochs': 5, 'mlp_hidden_dims_drug': 128, 'mlp_num_layers_drug': 4, 'drug_encoding': 'Morgan'}.\n"
     ]
    },
    {
     "name": "stdout",
     "output_type": "stream",
     "text": [
      "\u001b[2m\u001b[36m(train_fn pid=2661826)\u001b[0m Drug Property Prediction Mode...\n",
      "\u001b[2m\u001b[36m(train_fn pid=2661826)\u001b[0m in total: 13445 drugs\n",
      "\u001b[2m\u001b[36m(train_fn pid=2661826)\u001b[0m encoding drug...\n",
      "\u001b[2m\u001b[36m(train_fn pid=2661826)\u001b[0m unique drugs: 13445\n"
     ]
    },
    {
     "data": {
      "text/html": [
       "<div class=\"trialProgress\">\n",
       "  <h3>Trial Progress</h3>\n",
       "  <table>\n",
       "<thead>\n",
       "<tr><th>Trial name       </th><th>date               </th><th>done  </th><th>episodes_total  </th><th>experiment_id                   </th><th>experiment_tag                                                                                                  </th><th>hostname  </th><th style=\"text-align: right;\">  iterations_since_restore</th><th>node_ip     </th><th style=\"text-align: right;\">    pid</th><th style=\"text-align: right;\">  pr_auc</th><th style=\"text-align: right;\">  time_since_restore</th><th style=\"text-align: right;\">  time_this_iter_s</th><th style=\"text-align: right;\">  time_total_s</th><th style=\"text-align: right;\">  timestamp</th><th style=\"text-align: right;\">  timesteps_since_restore</th><th>timesteps_total  </th><th style=\"text-align: right;\">  training_iteration</th><th>trial_id  </th><th style=\"text-align: right;\">  warmup_time</th></tr>\n",
       "</thead>\n",
       "<tbody>\n",
       "<tr><td>train_fn_04d48488</td><td>2022-12-28_09-08-34</td><td>True  </td><td>                </td><td>8c7f1e9b0bb944aebd539a034ce3dbc2</td><td>56_batch_size=256,drug_encoding=Morgan,lr=0.0003,mlp_hidden_dims_drug=512,mlp_num_layers_drug=3,train_epochs=20 </td><td>ampere3   </td><td style=\"text-align: right;\">                         1</td><td>172.24.75.79</td><td style=\"text-align: right;\">1315840</td><td style=\"text-align: right;\">0.910097</td><td style=\"text-align: right;\">             195.971</td><td style=\"text-align: right;\">           195.971</td><td style=\"text-align: right;\">       195.971</td><td style=\"text-align: right;\"> 1672247314</td><td style=\"text-align: right;\">                        0</td><td>                 </td><td style=\"text-align: right;\">                   1</td><td>04d48488  </td><td style=\"text-align: right;\">   0.00524235</td></tr>\n",
       "<tr><td>train_fn_06082b3c</td><td>2022-12-28_05-13-44</td><td>True  </td><td>                </td><td>4c09cc6f22b0495ba48d1aab6da9fa71</td><td>40_batch_size=256,drug_encoding=Morgan,lr=0.0003,mlp_hidden_dims_drug=512,mlp_num_layers_drug=2,train_epochs=20 </td><td>ampere3   </td><td style=\"text-align: right;\">                         1</td><td>172.24.75.79</td><td style=\"text-align: right;\">  57210</td><td style=\"text-align: right;\">0.910315</td><td style=\"text-align: right;\">             226.419</td><td style=\"text-align: right;\">           226.419</td><td style=\"text-align: right;\">       226.419</td><td style=\"text-align: right;\"> 1672233224</td><td style=\"text-align: right;\">                        0</td><td>                 </td><td style=\"text-align: right;\">                   1</td><td>06082b3c  </td><td style=\"text-align: right;\">   0.0107756 </td></tr>\n",
       "<tr><td>train_fn_091c9be4</td><td>2022-12-28_12-26-18</td><td>True  </td><td>                </td><td>5c8c73c282984356b9c32b6a98558932</td><td>68_batch_size=256,drug_encoding=Morgan,lr=0.0003,mlp_hidden_dims_drug=512,mlp_num_layers_drug=3,train_epochs=20 </td><td>ampere3   </td><td style=\"text-align: right;\">                         1</td><td>172.24.75.79</td><td style=\"text-align: right;\">2376250</td><td style=\"text-align: right;\">0.902113</td><td style=\"text-align: right;\">             196.531</td><td style=\"text-align: right;\">           196.531</td><td style=\"text-align: right;\">       196.531</td><td style=\"text-align: right;\"> 1672259178</td><td style=\"text-align: right;\">                        0</td><td>                 </td><td style=\"text-align: right;\">                   1</td><td>091c9be4  </td><td style=\"text-align: right;\">   0.00999284</td></tr>\n",
       "<tr><td>train_fn_0af17128</td><td>2022-12-27_21-42-45</td><td>True  </td><td>                </td><td>0e954833ca2c4aa9a3fa633fab55d368</td><td>1_batch_size=512,drug_encoding=Morgan,lr=0.0036,mlp_hidden_dims_drug=256,mlp_num_layers_drug=6,train_epochs=3   </td><td>ampere3   </td><td style=\"text-align: right;\">                         1</td><td>172.24.75.79</td><td style=\"text-align: right;\">2659134</td><td style=\"text-align: right;\">0.77418 </td><td style=\"text-align: right;\">             152.358</td><td style=\"text-align: right;\">           152.358</td><td style=\"text-align: right;\">       152.358</td><td style=\"text-align: right;\"> 1672206165</td><td style=\"text-align: right;\">                        0</td><td>                 </td><td style=\"text-align: right;\">                   1</td><td>0af17128  </td><td style=\"text-align: right;\">   0.00609541</td></tr>\n",
       "<tr><td>train_fn_0ba460eb</td><td>2022-12-27_22-45-14</td><td>True  </td><td>                </td><td>1a7376687be2482e8e110e2bacae6bba</td><td>17_batch_size=256,drug_encoding=Morgan,lr=0.0002,mlp_hidden_dims_drug=256,mlp_num_layers_drug=4,train_epochs=20 </td><td>ampere3   </td><td style=\"text-align: right;\">                         1</td><td>172.24.75.79</td><td style=\"text-align: right;\">2662681</td><td style=\"text-align: right;\">0.913023</td><td style=\"text-align: right;\">             227.035</td><td style=\"text-align: right;\">           227.035</td><td style=\"text-align: right;\">       227.035</td><td style=\"text-align: right;\"> 1672209914</td><td style=\"text-align: right;\">                        0</td><td>                 </td><td style=\"text-align: right;\">                   1</td><td>0ba460eb  </td><td style=\"text-align: right;\">   0.0215807 </td></tr>\n",
       "<tr><td>train_fn_0bc1059d</td><td>2022-12-29_03-48-59</td><td>True  </td><td>                </td><td>0436ddc8fe9445fcafde266f42faef20</td><td>97_batch_size=256,drug_encoding=Morgan,lr=0.0003,mlp_hidden_dims_drug=512,mlp_num_layers_drug=3,train_epochs=20 </td><td>ampere3   </td><td style=\"text-align: right;\">                         1</td><td>172.24.75.79</td><td style=\"text-align: right;\"> 925030</td><td style=\"text-align: right;\">0.904071</td><td style=\"text-align: right;\">             193.386</td><td style=\"text-align: right;\">           193.386</td><td style=\"text-align: right;\">       193.386</td><td style=\"text-align: right;\"> 1672314539</td><td style=\"text-align: right;\">                        0</td><td>                 </td><td style=\"text-align: right;\">                   1</td><td>0bc1059d  </td><td style=\"text-align: right;\">   0.00389552</td></tr>\n",
       "<tr><td>train_fn_16d81bba</td><td>2022-12-29_00-27-46</td><td>True  </td><td>                </td><td>3b419ff28ad34627a43e323ed33f776e</td><td>89_batch_size=256,drug_encoding=Morgan,lr=0.0003,mlp_hidden_dims_drug=512,mlp_num_layers_drug=3,train_epochs=20 </td><td>ampere3   </td><td style=\"text-align: right;\">                         1</td><td>172.24.75.79</td><td style=\"text-align: right;\"> 287844</td><td style=\"text-align: right;\">0.914627</td><td style=\"text-align: right;\">             189.06 </td><td style=\"text-align: right;\">           189.06 </td><td style=\"text-align: right;\">       189.06 </td><td style=\"text-align: right;\"> 1672302466</td><td style=\"text-align: right;\">                        0</td><td>                 </td><td style=\"text-align: right;\">                   1</td><td>16d81bba  </td><td style=\"text-align: right;\">   0.00399351</td></tr>\n",
       "<tr><td>train_fn_19e5d04d</td><td>2022-12-28_12-06-14</td><td>True  </td><td>                </td><td>7c90dfea83c54164b7cebdce79c5d386</td><td>67_batch_size=256,drug_encoding=Morgan,lr=0.0003,mlp_hidden_dims_drug=512,mlp_num_layers_drug=3,train_epochs=20 </td><td>ampere3   </td><td style=\"text-align: right;\">                         1</td><td>172.24.75.79</td><td style=\"text-align: right;\">1990134</td><td style=\"text-align: right;\">0.913511</td><td style=\"text-align: right;\">             202.007</td><td style=\"text-align: right;\">           202.007</td><td style=\"text-align: right;\">       202.007</td><td style=\"text-align: right;\"> 1672257974</td><td style=\"text-align: right;\">                        0</td><td>                 </td><td style=\"text-align: right;\">                   1</td><td>19e5d04d  </td><td style=\"text-align: right;\">   0.0041697 </td></tr>\n",
       "<tr><td>train_fn_2173b9d3</td><td>2022-12-29_00-59-29</td><td>True  </td><td>                </td><td>0857620947c04e6a9259da60bf2b4bd3</td><td>90_batch_size=256,drug_encoding=Morgan,lr=0.0003,mlp_hidden_dims_drug=512,mlp_num_layers_drug=3,train_epochs=20 </td><td>ampere3   </td><td style=\"text-align: right;\">                         1</td><td>172.24.75.79</td><td style=\"text-align: right;\"> 409088</td><td style=\"text-align: right;\">0.906441</td><td style=\"text-align: right;\">             155.482</td><td style=\"text-align: right;\">           155.482</td><td style=\"text-align: right;\">       155.482</td><td style=\"text-align: right;\"> 1672304369</td><td style=\"text-align: right;\">                        0</td><td>                 </td><td style=\"text-align: right;\">                   1</td><td>2173b9d3  </td><td style=\"text-align: right;\">   0.00648046</td></tr>\n",
       "<tr><td>train_fn_23155d04</td><td>2022-12-27_21-47-23</td><td>True  </td><td>                </td><td>39b06fc321e749efbbd71c36e83b88c9</td><td>10_batch_size=32,drug_encoding=Morgan,lr=0.0032,mlp_hidden_dims_drug=128,mlp_num_layers_drug=3,train_epochs=5   </td><td>ampere3   </td><td style=\"text-align: right;\">                         1</td><td>172.24.75.79</td><td style=\"text-align: right;\">2660059</td><td style=\"text-align: right;\">0.890128</td><td style=\"text-align: right;\">             143.07 </td><td style=\"text-align: right;\">           143.07 </td><td style=\"text-align: right;\">       143.07 </td><td style=\"text-align: right;\"> 1672206443</td><td style=\"text-align: right;\">                        0</td><td>                 </td><td style=\"text-align: right;\">                   1</td><td>23155d04  </td><td style=\"text-align: right;\">   0.0187762 </td></tr>\n",
       "<tr><td>train_fn_26363a7c</td><td>2022-12-28_05-24-33</td><td>True  </td><td>                </td><td>5dd6ee90a97c4cf49f0842316be52daa</td><td>41_batch_size=256,drug_encoding=Morgan,lr=0.0003,mlp_hidden_dims_drug=512,mlp_num_layers_drug=3,train_epochs=20 </td><td>ampere3   </td><td style=\"text-align: right;\">                         1</td><td>172.24.75.79</td><td style=\"text-align: right;\"> 113728</td><td style=\"text-align: right;\">0.906443</td><td style=\"text-align: right;\">             221.489</td><td style=\"text-align: right;\">           221.489</td><td style=\"text-align: right;\">       221.489</td><td style=\"text-align: right;\"> 1672233873</td><td style=\"text-align: right;\">                        0</td><td>                 </td><td style=\"text-align: right;\">                   1</td><td>26363a7c  </td><td style=\"text-align: right;\">   0.240572  </td></tr>\n",
       "<tr><td>train_fn_279f96d6</td><td>2022-12-28_00-17-46</td><td>True  </td><td>                </td><td>904dfa305934481b968aeb481f26dde7</td><td>25_batch_size=256,drug_encoding=Morgan,lr=0.0003,mlp_hidden_dims_drug=512,mlp_num_layers_drug=4,train_epochs=20 </td><td>ampere3   </td><td style=\"text-align: right;\">                         1</td><td>172.24.75.79</td><td style=\"text-align: right;\">2932249</td><td style=\"text-align: right;\">0.906622</td><td style=\"text-align: right;\">             399.596</td><td style=\"text-align: right;\">           399.596</td><td style=\"text-align: right;\">       399.596</td><td style=\"text-align: right;\"> 1672215466</td><td style=\"text-align: right;\">                        0</td><td>                 </td><td style=\"text-align: right;\">                   1</td><td>279f96d6  </td><td style=\"text-align: right;\">   0.00530648</td></tr>\n",
       "<tr><td>train_fn_2ccb65b7</td><td>2022-12-28_14-40-40</td><td>True  </td><td>                </td><td>790d5710fe1a4d09bfb4f63fa7249995</td><td>74_batch_size=256,drug_encoding=Morgan,lr=0.0003,mlp_hidden_dims_drug=512,mlp_num_layers_drug=3,train_epochs=20 </td><td>ampere3   </td><td style=\"text-align: right;\">                         1</td><td>172.24.75.79</td><td style=\"text-align: right;\">2906746</td><td style=\"text-align: right;\">0.909084</td><td style=\"text-align: right;\">             213.035</td><td style=\"text-align: right;\">           213.035</td><td style=\"text-align: right;\">       213.035</td><td style=\"text-align: right;\"> 1672267240</td><td style=\"text-align: right;\">                        0</td><td>                 </td><td style=\"text-align: right;\">                   1</td><td>2ccb65b7  </td><td style=\"text-align: right;\">   0.085139  </td></tr>\n",
       "<tr><td>train_fn_2e9e560a</td><td>2022-12-27_21-46-47</td><td>True  </td><td>                </td><td>3a5ecf034f9f4cb0884d318024ea170d</td><td>4_batch_size=64,drug_encoding=Morgan,lr=0.0094,mlp_hidden_dims_drug=32,mlp_num_layers_drug=5,train_epochs=5     </td><td>ampere3   </td><td style=\"text-align: right;\">                         1</td><td>172.24.75.79</td><td style=\"text-align: right;\">2661826</td><td style=\"text-align: right;\">0.878732</td><td style=\"text-align: right;\">             180.986</td><td style=\"text-align: right;\">           180.986</td><td style=\"text-align: right;\">       180.986</td><td style=\"text-align: right;\"> 1672206407</td><td style=\"text-align: right;\">                        0</td><td>                 </td><td style=\"text-align: right;\">                   1</td><td>2e9e560a  </td><td style=\"text-align: right;\">   0.00974631</td></tr>\n",
       "<tr><td>train_fn_30142b2b</td><td>2022-12-28_17-16-25</td><td>True  </td><td>                </td><td>b2cfa53675f64ed38a0b2c64a95eeec6</td><td>78_batch_size=256,drug_encoding=Morgan,lr=0.0003,mlp_hidden_dims_drug=512,mlp_num_layers_drug=3,train_epochs=20 </td><td>ampere3   </td><td style=\"text-align: right;\">                         1</td><td>172.24.75.79</td><td style=\"text-align: right;\">3300804</td><td style=\"text-align: right;\">0.913906</td><td style=\"text-align: right;\">             213.159</td><td style=\"text-align: right;\">           213.159</td><td style=\"text-align: right;\">       213.159</td><td style=\"text-align: right;\"> 1672276585</td><td style=\"text-align: right;\">                        0</td><td>                 </td><td style=\"text-align: right;\">                   1</td><td>30142b2b  </td><td style=\"text-align: right;\">   0.00413656</td></tr>\n",
       "<tr><td>train_fn_31176626</td><td>2022-12-27_22-40-46</td><td>True  </td><td>                </td><td>27069ba4e58d465085e86d359a519c51</td><td>16_batch_size=256,drug_encoding=Morgan,lr=0.0015,mlp_hidden_dims_drug=256,mlp_num_layers_drug=2,train_epochs=20 </td><td>ampere3   </td><td style=\"text-align: right;\">                         1</td><td>172.24.75.79</td><td style=\"text-align: right;\">2751845</td><td style=\"text-align: right;\">0.902422</td><td style=\"text-align: right;\">             260.114</td><td style=\"text-align: right;\">           260.114</td><td style=\"text-align: right;\">       260.114</td><td style=\"text-align: right;\"> 1672209646</td><td style=\"text-align: right;\">                        0</td><td>                 </td><td style=\"text-align: right;\">                   1</td><td>31176626  </td><td style=\"text-align: right;\">   0.0537758 </td></tr>\n",
       "<tr><td>train_fn_316a7531</td><td>2022-12-28_03-26-24</td><td>True  </td><td>                </td><td>70bd45c32a864f9a853bdce16ba7ca2b</td><td>35_batch_size=128,drug_encoding=Morgan,lr=0.0004,mlp_hidden_dims_drug=512,mlp_num_layers_drug=1,train_epochs=20 </td><td>ampere3   </td><td style=\"text-align: right;\">                         1</td><td>172.24.75.79</td><td style=\"text-align: right;\">3660273</td><td style=\"text-align: right;\">0.903774</td><td style=\"text-align: right;\">             243.958</td><td style=\"text-align: right;\">           243.958</td><td style=\"text-align: right;\">       243.958</td><td style=\"text-align: right;\"> 1672226784</td><td style=\"text-align: right;\">                        0</td><td>                 </td><td style=\"text-align: right;\">                   1</td><td>316a7531  </td><td style=\"text-align: right;\">   0.0156147 </td></tr>\n",
       "<tr><td>train_fn_341f2789</td><td>2022-12-28_19-37-29</td><td>True  </td><td>                </td><td>8f0d9be5c56547cd9ab4f531037e4789</td><td>82_batch_size=256,drug_encoding=Morgan,lr=0.0003,mlp_hidden_dims_drug=512,mlp_num_layers_drug=3,train_epochs=20 </td><td>ampere3   </td><td style=\"text-align: right;\">                         1</td><td>172.24.75.79</td><td style=\"text-align: right;\">3686054</td><td style=\"text-align: right;\">0.906253</td><td style=\"text-align: right;\">             150.177</td><td style=\"text-align: right;\">           150.177</td><td style=\"text-align: right;\">       150.177</td><td style=\"text-align: right;\"> 1672285049</td><td style=\"text-align: right;\">                        0</td><td>                 </td><td style=\"text-align: right;\">                   1</td><td>341f2789  </td><td style=\"text-align: right;\">   0.0090034 </td></tr>\n",
       "<tr><td>train_fn_35cb681d</td><td>2022-12-28_09-12-33</td><td>True  </td><td>                </td><td>97af8708203d484098833c283b871ea1</td><td>57_batch_size=256,drug_encoding=Morgan,lr=0.0003,mlp_hidden_dims_drug=512,mlp_num_layers_drug=3,train_epochs=20 </td><td>ampere3   </td><td style=\"text-align: right;\">                         1</td><td>172.24.75.79</td><td style=\"text-align: right;\">1256092</td><td style=\"text-align: right;\">0.911717</td><td style=\"text-align: right;\">             189.657</td><td style=\"text-align: right;\">           189.657</td><td style=\"text-align: right;\">       189.657</td><td style=\"text-align: right;\"> 1672247553</td><td style=\"text-align: right;\">                        0</td><td>                 </td><td style=\"text-align: right;\">                   1</td><td>35cb681d  </td><td style=\"text-align: right;\">   0.0128267 </td></tr>\n",
       "<tr><td>train_fn_3a556f97</td><td>2022-12-28_12-50-27</td><td>True  </td><td>                </td><td>7c90dfea83c54164b7cebdce79c5d386</td><td>69_batch_size=256,drug_encoding=Morgan,lr=0.0003,mlp_hidden_dims_drug=512,mlp_num_layers_drug=3,train_epochs=20 </td><td>ampere3   </td><td style=\"text-align: right;\">                         1</td><td>172.24.75.79</td><td style=\"text-align: right;\">1990134</td><td style=\"text-align: right;\">0.90777 </td><td style=\"text-align: right;\">             214.616</td><td style=\"text-align: right;\">           214.616</td><td style=\"text-align: right;\">       214.616</td><td style=\"text-align: right;\"> 1672260627</td><td style=\"text-align: right;\">                        0</td><td>                 </td><td style=\"text-align: right;\">                   1</td><td>3a556f97  </td><td style=\"text-align: right;\">   0.0041697 </td></tr>\n",
       "<tr><td>train_fn_3acff796</td><td>2022-12-27_23-23-50</td><td>True  </td><td>                </td><td>2ca56da2bcf54aa88257a1aea757355f</td><td>21_batch_size=256,drug_encoding=Morgan,lr=0.0001,mlp_hidden_dims_drug=256,mlp_num_layers_drug=3,train_epochs=15 </td><td>ampere3   </td><td style=\"text-align: right;\">                         1</td><td>172.24.75.79</td><td style=\"text-align: right;\">2820866</td><td style=\"text-align: right;\">0.901822</td><td style=\"text-align: right;\">             249.345</td><td style=\"text-align: right;\">           249.345</td><td style=\"text-align: right;\">       249.345</td><td style=\"text-align: right;\"> 1672212230</td><td style=\"text-align: right;\">                        0</td><td>                 </td><td style=\"text-align: right;\">                   1</td><td>3acff796  </td><td style=\"text-align: right;\">   0.132309  </td></tr>\n",
       "<tr><td>train_fn_3dc960c3</td><td>2022-12-28_01-16-14</td><td>True  </td><td>                </td><td>b5176211d30348259e0072b94590d689</td><td>29_batch_size=256,drug_encoding=Morgan,lr=0.0002,mlp_hidden_dims_drug=256,mlp_num_layers_drug=3,train_epochs=20 </td><td>ampere3   </td><td style=\"text-align: right;\">                         1</td><td>172.24.75.79</td><td style=\"text-align: right;\">2851300</td><td style=\"text-align: right;\">0.911795</td><td style=\"text-align: right;\">             229.247</td><td style=\"text-align: right;\">           229.247</td><td style=\"text-align: right;\">       229.247</td><td style=\"text-align: right;\"> 1672218974</td><td style=\"text-align: right;\">                        0</td><td>                 </td><td style=\"text-align: right;\">                   1</td><td>3dc960c3  </td><td style=\"text-align: right;\">   0.0610065 </td></tr>\n",
       "<tr><td>train_fn_42269147</td><td>2022-12-27_21-48-25</td><td>True  </td><td>                </td><td>2dc2851e1a4a48aeaeed0c44ba3b1070</td><td>9_batch_size=128,drug_encoding=Morgan,lr=0.0095,mlp_hidden_dims_drug=256,mlp_num_layers_drug=1,train_epochs=5   </td><td>ampere3   </td><td style=\"text-align: right;\">                         1</td><td>172.24.75.79</td><td style=\"text-align: right;\">2662684</td><td style=\"text-align: right;\">0.887254</td><td style=\"text-align: right;\">             211.335</td><td style=\"text-align: right;\">           211.335</td><td style=\"text-align: right;\">       211.335</td><td style=\"text-align: right;\"> 1672206505</td><td style=\"text-align: right;\">                        0</td><td>                 </td><td style=\"text-align: right;\">                   1</td><td>42269147  </td><td style=\"text-align: right;\">   0.00852323</td></tr>\n",
       "<tr><td>train_fn_4456daa8</td><td>2022-12-28_06-00-11</td><td>True  </td><td>                </td><td>31b5836b0c624ba7872f6389eac725f5</td><td>43_batch_size=256,drug_encoding=Morgan,lr=0.0003,mlp_hidden_dims_drug=512,mlp_num_layers_drug=3,train_epochs=20 </td><td>ampere3   </td><td style=\"text-align: right;\">                         1</td><td>172.24.75.79</td><td style=\"text-align: right;\"> 304155</td><td style=\"text-align: right;\">0.907486</td><td style=\"text-align: right;\">             225.086</td><td style=\"text-align: right;\">           225.086</td><td style=\"text-align: right;\">       225.086</td><td style=\"text-align: right;\"> 1672236011</td><td style=\"text-align: right;\">                        0</td><td>                 </td><td style=\"text-align: right;\">                   1</td><td>4456daa8  </td><td style=\"text-align: right;\">   0.0229087 </td></tr>\n",
       "<tr><td>train_fn_44971cf3</td><td>2022-12-28_20-13-00</td><td>True  </td><td>                </td><td>853471517273487e82511b7ae7f84002</td><td>83_batch_size=256,drug_encoding=Morgan,lr=0.0003,mlp_hidden_dims_drug=512,mlp_num_layers_drug=3,train_epochs=20 </td><td>ampere3   </td><td style=\"text-align: right;\">                         1</td><td>172.24.75.79</td><td style=\"text-align: right;\">3597933</td><td style=\"text-align: right;\">0.909927</td><td style=\"text-align: right;\">             165.056</td><td style=\"text-align: right;\">           165.056</td><td style=\"text-align: right;\">       165.056</td><td style=\"text-align: right;\"> 1672287180</td><td style=\"text-align: right;\">                        0</td><td>                 </td><td style=\"text-align: right;\">                   1</td><td>44971cf3  </td><td style=\"text-align: right;\">   0.00392318</td></tr>\n",
       "<tr><td>train_fn_45223124</td><td>2022-12-28_04-55-25</td><td>True  </td><td>                </td><td>12693cc1785c4013aec920a2fa13bb8e</td><td>39_batch_size=256,drug_encoding=Morgan,lr=0.0003,mlp_hidden_dims_drug=512,mlp_num_layers_drug=3,train_epochs=20 </td><td>ampere3   </td><td style=\"text-align: right;\">                         1</td><td>172.24.75.79</td><td style=\"text-align: right;\">3158043</td><td style=\"text-align: right;\">0.912287</td><td style=\"text-align: right;\">             194.284</td><td style=\"text-align: right;\">           194.284</td><td style=\"text-align: right;\">       194.284</td><td style=\"text-align: right;\"> 1672232125</td><td style=\"text-align: right;\">                        0</td><td>                 </td><td style=\"text-align: right;\">                   1</td><td>45223124  </td><td style=\"text-align: right;\">   0.0125444 </td></tr>\n",
       "<tr><td>train_fn_457dc918</td><td>2022-12-28_01-31-19</td><td>True  </td><td>                </td><td>12693cc1785c4013aec920a2fa13bb8e</td><td>30_batch_size=128,drug_encoding=Morgan,lr=0.0003,mlp_hidden_dims_drug=512,mlp_num_layers_drug=3,train_epochs=20 </td><td>ampere3   </td><td style=\"text-align: right;\">                         1</td><td>172.24.75.79</td><td style=\"text-align: right;\">3158043</td><td style=\"text-align: right;\">0.910323</td><td style=\"text-align: right;\">             256.588</td><td style=\"text-align: right;\">           256.588</td><td style=\"text-align: right;\">       256.588</td><td style=\"text-align: right;\"> 1672219879</td><td style=\"text-align: right;\">                        0</td><td>                 </td><td style=\"text-align: right;\">                   1</td><td>457dc918  </td><td style=\"text-align: right;\">   0.0125444 </td></tr>\n",
       "<tr><td>train_fn_458f2d06</td><td>2022-12-28_10-10-31</td><td>True  </td><td>                </td><td>7b714bf43a604e83bb31286fcb9fdad3</td><td>61_batch_size=256,drug_encoding=Morgan,lr=0.0003,mlp_hidden_dims_drug=512,mlp_num_layers_drug=3,train_epochs=20 </td><td>ampere3   </td><td style=\"text-align: right;\">                         1</td><td>172.24.75.79</td><td style=\"text-align: right;\">1669061</td><td style=\"text-align: right;\">0.91006 </td><td style=\"text-align: right;\">             309.47 </td><td style=\"text-align: right;\">           309.47 </td><td style=\"text-align: right;\">       309.47 </td><td style=\"text-align: right;\"> 1672251031</td><td style=\"text-align: right;\">                        0</td><td>                 </td><td style=\"text-align: right;\">                   1</td><td>458f2d06  </td><td style=\"text-align: right;\">   0.0789025 </td></tr>\n",
       "<tr><td>train_fn_46453e55</td><td>2022-12-28_00-30-08</td><td>True  </td><td>                </td><td>b5176211d30348259e0072b94590d689</td><td>26_batch_size=256,drug_encoding=Morgan,lr=0.0003,mlp_hidden_dims_drug=256,mlp_num_layers_drug=3,train_epochs=20 </td><td>ampere3   </td><td style=\"text-align: right;\">                         1</td><td>172.24.75.79</td><td style=\"text-align: right;\">2851300</td><td style=\"text-align: right;\">0.901647</td><td style=\"text-align: right;\">             236.819</td><td style=\"text-align: right;\">           236.819</td><td style=\"text-align: right;\">       236.819</td><td style=\"text-align: right;\"> 1672216208</td><td style=\"text-align: right;\">                        0</td><td>                 </td><td style=\"text-align: right;\">                   1</td><td>46453e55  </td><td style=\"text-align: right;\">   0.0610065 </td></tr>\n",
       "<tr><td>train_fn_47a1cdf9</td><td>2022-12-28_11-16-00</td><td>True  </td><td>                </td><td>7c90dfea83c54164b7cebdce79c5d386</td><td>65_batch_size=256,drug_encoding=Morgan,lr=0.0003,mlp_hidden_dims_drug=512,mlp_num_layers_drug=3,train_epochs=20 </td><td>ampere3   </td><td style=\"text-align: right;\">                         1</td><td>172.24.75.79</td><td style=\"text-align: right;\">1990134</td><td style=\"text-align: right;\">0.909772</td><td style=\"text-align: right;\">             196.702</td><td style=\"text-align: right;\">           196.702</td><td style=\"text-align: right;\">       196.702</td><td style=\"text-align: right;\"> 1672254960</td><td style=\"text-align: right;\">                        0</td><td>                 </td><td style=\"text-align: right;\">                   1</td><td>47a1cdf9  </td><td style=\"text-align: right;\">   0.0041697 </td></tr>\n",
       "<tr><td>train_fn_486b1822</td><td>2022-12-27_21-48-36</td><td>True  </td><td>                </td><td>2c55be20759745a49a6bbe146d8d38f2</td><td>7_batch_size=32,drug_encoding=Morgan,lr=0.0005,mlp_hidden_dims_drug=64,mlp_num_layers_drug=5,train_epochs=5     </td><td>ampere3   </td><td style=\"text-align: right;\">                         1</td><td>172.24.75.79</td><td style=\"text-align: right;\">2662682</td><td style=\"text-align: right;\">0.889701</td><td style=\"text-align: right;\">             217.433</td><td style=\"text-align: right;\">           217.433</td><td style=\"text-align: right;\">       217.433</td><td style=\"text-align: right;\"> 1672206516</td><td style=\"text-align: right;\">                        0</td><td>                 </td><td style=\"text-align: right;\">                   1</td><td>486b1822  </td><td style=\"text-align: right;\">   0.0416527 </td></tr>\n",
       "<tr><td>train_fn_48f39475</td><td>2022-12-29_03-10-41</td><td>True  </td><td>                </td><td>5bba97ae97f44d54adbf6c948b7180df</td><td>95_batch_size=256,drug_encoding=Morgan,lr=0.0003,mlp_hidden_dims_drug=512,mlp_num_layers_drug=3,train_epochs=20 </td><td>ampere3   </td><td style=\"text-align: right;\">                         1</td><td>172.24.75.79</td><td style=\"text-align: right;\"> 809934</td><td style=\"text-align: right;\">0.913216</td><td style=\"text-align: right;\">             191.341</td><td style=\"text-align: right;\">           191.341</td><td style=\"text-align: right;\">       191.341</td><td style=\"text-align: right;\"> 1672312241</td><td style=\"text-align: right;\">                        0</td><td>                 </td><td style=\"text-align: right;\">                   1</td><td>48f39475  </td><td style=\"text-align: right;\">   0.00901294</td></tr>\n",
       "<tr><td>train_fn_4b8127ac</td><td>2022-12-28_07-26-11</td><td>True  </td><td>                </td><td>fd6c5261a58e4e78b8813b1fb215d5fa</td><td>47_batch_size=256,drug_encoding=Morgan,lr=0.0003,mlp_hidden_dims_drug=512,mlp_num_layers_drug=2,train_epochs=20 </td><td>ampere3   </td><td style=\"text-align: right;\">                         1</td><td>172.24.75.79</td><td style=\"text-align: right;\"> 763446</td><td style=\"text-align: right;\">0.90689 </td><td style=\"text-align: right;\">             225.109</td><td style=\"text-align: right;\">           225.109</td><td style=\"text-align: right;\">       225.109</td><td style=\"text-align: right;\"> 1672241171</td><td style=\"text-align: right;\">                        0</td><td>                 </td><td style=\"text-align: right;\">                   1</td><td>4b8127ac  </td><td style=\"text-align: right;\">   0.0174036 </td></tr>\n",
       "<tr><td>train_fn_4d7a9c2d</td><td>2022-12-27_22-16-31</td><td>True  </td><td>                </td><td>fab4eddaa5cb4e6e8f3af7ceec0c432c</td><td>13_batch_size=32,drug_encoding=Morgan,lr=0.0017,mlp_hidden_dims_drug=256,mlp_num_layers_drug=3,train_epochs=3   </td><td>ampere3   </td><td style=\"text-align: right;\">                         1</td><td>172.24.75.79</td><td style=\"text-align: right;\">2707597</td><td style=\"text-align: right;\">0.873442</td><td style=\"text-align: right;\">             158.758</td><td style=\"text-align: right;\">           158.758</td><td style=\"text-align: right;\">       158.758</td><td style=\"text-align: right;\"> 1672208191</td><td style=\"text-align: right;\">                        0</td><td>                 </td><td style=\"text-align: right;\">                   1</td><td>4d7a9c2d  </td><td style=\"text-align: right;\">   0.287632  </td></tr>\n",
       "<tr><td>train_fn_505b9506</td><td>2022-12-28_21-31-47</td><td>True  </td><td>                </td><td>853471517273487e82511b7ae7f84002</td><td>85_batch_size=256,drug_encoding=Morgan,lr=0.0003,mlp_hidden_dims_drug=512,mlp_num_layers_drug=3,train_epochs=20 </td><td>ampere3   </td><td style=\"text-align: right;\">                         1</td><td>172.24.75.79</td><td style=\"text-align: right;\">3597933</td><td style=\"text-align: right;\">0.907081</td><td style=\"text-align: right;\">             185.088</td><td style=\"text-align: right;\">           185.088</td><td style=\"text-align: right;\">       185.088</td><td style=\"text-align: right;\"> 1672291907</td><td style=\"text-align: right;\">                        0</td><td>                 </td><td style=\"text-align: right;\">                   1</td><td>505b9506  </td><td style=\"text-align: right;\">   0.00392318</td></tr>\n",
       "<tr><td>train_fn_532de60c</td><td>2022-12-27_21-50-32</td><td>True  </td><td>                </td><td>a5b63ffa03f544d39eff915afe40a382</td><td>8_batch_size=512,drug_encoding=Morgan,lr=0.0002,mlp_hidden_dims_drug=512,mlp_num_layers_drug=4,train_epochs=20  </td><td>ampere3   </td><td style=\"text-align: right;\">                         1</td><td>172.24.75.79</td><td style=\"text-align: right;\">2662683</td><td style=\"text-align: right;\">0.90338 </td><td style=\"text-align: right;\">             342.012</td><td style=\"text-align: right;\">           342.012</td><td style=\"text-align: right;\">       342.012</td><td style=\"text-align: right;\"> 1672206632</td><td style=\"text-align: right;\">                        0</td><td>                 </td><td style=\"text-align: right;\">                   1</td><td>532de60c  </td><td style=\"text-align: right;\">   0.0450885 </td></tr>\n",
       "<tr><td>train_fn_58adc5e2</td><td>2022-12-28_13-53-41</td><td>True  </td><td>                </td><td>18e139d8294844669677f2e812225a4f</td><td>72_batch_size=256,drug_encoding=Morgan,lr=0.0003,mlp_hidden_dims_drug=512,mlp_num_layers_drug=3,train_epochs=20 </td><td>ampere3   </td><td style=\"text-align: right;\">                         1</td><td>172.24.75.79</td><td style=\"text-align: right;\">2641336</td><td style=\"text-align: right;\">0.907611</td><td style=\"text-align: right;\">             218.413</td><td style=\"text-align: right;\">           218.413</td><td style=\"text-align: right;\">       218.413</td><td style=\"text-align: right;\"> 1672264421</td><td style=\"text-align: right;\">                        0</td><td>                 </td><td style=\"text-align: right;\">                   1</td><td>58adc5e2  </td><td style=\"text-align: right;\">   0.0057497 </td></tr>\n",
       "<tr><td>train_fn_58bc8673</td><td>2022-12-28_10-48-51</td><td>True  </td><td>                </td><td>27f127c0d3654862a27cd335261ba1f2</td><td>64_batch_size=256,drug_encoding=Morgan,lr=0.0003,mlp_hidden_dims_drug=512,mlp_num_layers_drug=3,train_epochs=20 </td><td>ampere3   </td><td style=\"text-align: right;\">                         1</td><td>172.24.75.79</td><td style=\"text-align: right;\">1840755</td><td style=\"text-align: right;\">0.910318</td><td style=\"text-align: right;\">             306.393</td><td style=\"text-align: right;\">           306.393</td><td style=\"text-align: right;\">       306.393</td><td style=\"text-align: right;\"> 1672253331</td><td style=\"text-align: right;\">                        0</td><td>                 </td><td style=\"text-align: right;\">                   1</td><td>58bc8673  </td><td style=\"text-align: right;\">   0.00555491</td></tr>\n",
       "<tr><td>train_fn_5928759c</td><td>2022-12-28_01-01-59</td><td>True  </td><td>                </td><td>fe708b59b1164db1ac07dbb968935f67</td><td>28_batch_size=256,drug_encoding=Morgan,lr=0.0002,mlp_hidden_dims_drug=256,mlp_num_layers_drug=3,train_epochs=20 </td><td>ampere3   </td><td style=\"text-align: right;\">                         1</td><td>172.24.75.79</td><td style=\"text-align: right;\">3074949</td><td style=\"text-align: right;\">0.90356 </td><td style=\"text-align: right;\">             273.858</td><td style=\"text-align: right;\">           273.858</td><td style=\"text-align: right;\">       273.858</td><td style=\"text-align: right;\"> 1672218119</td><td style=\"text-align: right;\">                        0</td><td>                 </td><td style=\"text-align: right;\">                   1</td><td>5928759c  </td><td style=\"text-align: right;\">   0.0173805 </td></tr>\n",
       "<tr><td>train_fn_5f099853</td><td>2022-12-27_21-45-52</td><td>True  </td><td>                </td><td>0e954833ca2c4aa9a3fa633fab55d368</td><td>6_batch_size=128,drug_encoding=Morgan,lr=0.0039,mlp_hidden_dims_drug=32,mlp_num_layers_drug=5,train_epochs=5    </td><td>ampere3   </td><td style=\"text-align: right;\">                         1</td><td>172.24.75.79</td><td style=\"text-align: right;\">2659134</td><td style=\"text-align: right;\">0.873054</td><td style=\"text-align: right;\">             124.586</td><td style=\"text-align: right;\">           124.586</td><td style=\"text-align: right;\">       124.586</td><td style=\"text-align: right;\"> 1672206352</td><td style=\"text-align: right;\">                        0</td><td>                 </td><td style=\"text-align: right;\">                   1</td><td>5f099853  </td><td style=\"text-align: right;\">   0.00609541</td></tr>\n",
       "<tr><td>train_fn_5f268803</td><td>2022-12-27_21-48-29</td><td>True  </td><td>                </td><td>1a7376687be2482e8e110e2bacae6bba</td><td>5_batch_size=32,drug_encoding=Morgan,lr=0.0001,mlp_hidden_dims_drug=128,mlp_num_layers_drug=4,train_epochs=5    </td><td>ampere3   </td><td style=\"text-align: right;\">                         1</td><td>172.24.75.79</td><td style=\"text-align: right;\">2662681</td><td style=\"text-align: right;\">0.897036</td><td style=\"text-align: right;\">             218.991</td><td style=\"text-align: right;\">           218.991</td><td style=\"text-align: right;\">       218.991</td><td style=\"text-align: right;\"> 1672206509</td><td style=\"text-align: right;\">                        0</td><td>                 </td><td style=\"text-align: right;\">                   1</td><td>5f268803  </td><td style=\"text-align: right;\">   0.0215807 </td></tr>\n",
       "<tr><td>train_fn_6124a79b</td><td>2022-12-27_22-27-44</td><td>True  </td><td>                </td><td>1a7376687be2482e8e110e2bacae6bba</td><td>14_batch_size=32,drug_encoding=Morgan,lr=0.0018,mlp_hidden_dims_drug=256,mlp_num_layers_drug=3,train_epochs=10  </td><td>ampere3   </td><td style=\"text-align: right;\">                         1</td><td>172.24.75.79</td><td style=\"text-align: right;\">2662681</td><td style=\"text-align: right;\">0.888547</td><td style=\"text-align: right;\">             183.77 </td><td style=\"text-align: right;\">           183.77 </td><td style=\"text-align: right;\">       183.77 </td><td style=\"text-align: right;\"> 1672208864</td><td style=\"text-align: right;\">                        0</td><td>                 </td><td style=\"text-align: right;\">                   1</td><td>6124a79b  </td><td style=\"text-align: right;\">   0.0215807 </td></tr>\n",
       "<tr><td>train_fn_65d5ffd5</td><td>2022-12-29_01-46-13</td><td>True  </td><td>                </td><td>584a9595a11d4d31bdc67a756e090b2c</td><td>92_batch_size=256,drug_encoding=Morgan,lr=0.0003,mlp_hidden_dims_drug=512,mlp_num_layers_drug=3,train_epochs=20 </td><td>ampere3   </td><td style=\"text-align: right;\">                         1</td><td>172.24.75.79</td><td style=\"text-align: right;\"> 556406</td><td style=\"text-align: right;\">0.914084</td><td style=\"text-align: right;\">             170.084</td><td style=\"text-align: right;\">           170.084</td><td style=\"text-align: right;\">       170.084</td><td style=\"text-align: right;\"> 1672307173</td><td style=\"text-align: right;\">                        0</td><td>                 </td><td style=\"text-align: right;\">                   1</td><td>65d5ffd5  </td><td style=\"text-align: right;\">   0.0158217 </td></tr>\n",
       "<tr><td>train_fn_65d72764</td><td>2022-12-28_04-46-55</td><td>True  </td><td>                </td><td>c52ca96467034be5bdef0dc4334d5e7e</td><td>38_batch_size=256,drug_encoding=Morgan,lr=0.0003,mlp_hidden_dims_drug=512,mlp_num_layers_drug=2,train_epochs=20 </td><td>ampere3   </td><td style=\"text-align: right;\">                         1</td><td>172.24.75.79</td><td style=\"text-align: right;\">4105403</td><td style=\"text-align: right;\">0.90677 </td><td style=\"text-align: right;\">             223.486</td><td style=\"text-align: right;\">           223.486</td><td style=\"text-align: right;\">       223.486</td><td style=\"text-align: right;\"> 1672231615</td><td style=\"text-align: right;\">                        0</td><td>                 </td><td style=\"text-align: right;\">                   1</td><td>65d72764  </td><td style=\"text-align: right;\">   0.0176647 </td></tr>\n",
       "<tr><td>train_fn_65effd29</td><td>2022-12-28_20-52-15</td><td>True  </td><td>                </td><td>7cd0c65768d443c39801c46630263d98</td><td>84_batch_size=256,drug_encoding=Morgan,lr=0.0003,mlp_hidden_dims_drug=512,mlp_num_layers_drug=3,train_epochs=20 </td><td>ampere3   </td><td style=\"text-align: right;\">                         1</td><td>172.24.75.79</td><td style=\"text-align: right;\">3884391</td><td style=\"text-align: right;\">0.905389</td><td style=\"text-align: right;\">             207.086</td><td style=\"text-align: right;\">           207.086</td><td style=\"text-align: right;\">       207.086</td><td style=\"text-align: right;\"> 1672289535</td><td style=\"text-align: right;\">                        0</td><td>                 </td><td style=\"text-align: right;\">                   1</td><td>65effd29  </td><td style=\"text-align: right;\">   0.0608857 </td></tr>\n",
       "<tr><td>train_fn_69b5866a</td><td>2022-12-28_19-08-36</td><td>True  </td><td>                </td><td>853471517273487e82511b7ae7f84002</td><td>81_batch_size=256,drug_encoding=Morgan,lr=0.0003,mlp_hidden_dims_drug=512,mlp_num_layers_drug=3,train_epochs=20 </td><td>ampere3   </td><td style=\"text-align: right;\">                         1</td><td>172.24.75.79</td><td style=\"text-align: right;\">3597933</td><td style=\"text-align: right;\">0.90856 </td><td style=\"text-align: right;\">             180.564</td><td style=\"text-align: right;\">           180.564</td><td style=\"text-align: right;\">       180.564</td><td style=\"text-align: right;\"> 1672283316</td><td style=\"text-align: right;\">                        0</td><td>                 </td><td style=\"text-align: right;\">                   1</td><td>69b5866a  </td><td style=\"text-align: right;\">   0.00392318</td></tr>\n",
       "<tr><td>train_fn_6abdcd55</td><td>2022-12-29_02-37-45</td><td>True  </td><td>                </td><td>09ca9bc4e0104c91b9fe9bc08b2d42f4</td><td>94_batch_size=256,drug_encoding=Morgan,lr=0.0003,mlp_hidden_dims_drug=512,mlp_num_layers_drug=3,train_epochs=20 </td><td>ampere3   </td><td style=\"text-align: right;\">                         1</td><td>172.24.75.79</td><td style=\"text-align: right;\"> 712122</td><td style=\"text-align: right;\">0.904809</td><td style=\"text-align: right;\">             185.26 </td><td style=\"text-align: right;\">           185.26 </td><td style=\"text-align: right;\">       185.26 </td><td style=\"text-align: right;\"> 1672310265</td><td style=\"text-align: right;\">                        0</td><td>                 </td><td style=\"text-align: right;\">                   1</td><td>6abdcd55  </td><td style=\"text-align: right;\">   0.00420141</td></tr>\n",
       "<tr><td>train_fn_6b4fd031</td><td>2022-12-28_02-14-03</td><td>True  </td><td>                </td><td>a214bfe9dfad4a1abb2905e8e5b1be02</td><td>32_batch_size=256,drug_encoding=Morgan,lr=0.0003,mlp_hidden_dims_drug=512,mlp_num_layers_drug=2,train_epochs=20 </td><td>ampere3   </td><td style=\"text-align: right;\">                         1</td><td>172.24.75.79</td><td style=\"text-align: right;\">3261276</td><td style=\"text-align: right;\">0.911125</td><td style=\"text-align: right;\">             219.834</td><td style=\"text-align: right;\">           219.834</td><td style=\"text-align: right;\">       219.834</td><td style=\"text-align: right;\"> 1672222443</td><td style=\"text-align: right;\">                        0</td><td>                 </td><td style=\"text-align: right;\">                   1</td><td>6b4fd031  </td><td style=\"text-align: right;\">   0.0533593 </td></tr>\n",
       "<tr><td>train_fn_70a48f78</td><td>2022-12-28_08-05-25</td><td>True  </td><td>                </td><td>4d16da228944413fa9afb4599b8ce902</td><td>50_batch_size=256,drug_encoding=Morgan,lr=0.0003,mlp_hidden_dims_drug=512,mlp_num_layers_drug=3,train_epochs=20 </td><td>ampere3   </td><td style=\"text-align: right;\">                         1</td><td>172.24.75.79</td><td style=\"text-align: right;\"> 978380</td><td style=\"text-align: right;\">0.914775</td><td style=\"text-align: right;\">             223.341</td><td style=\"text-align: right;\">           223.341</td><td style=\"text-align: right;\">       223.341</td><td style=\"text-align: right;\"> 1672243525</td><td style=\"text-align: right;\">                        0</td><td>                 </td><td style=\"text-align: right;\">                   1</td><td>70a48f78  </td><td style=\"text-align: right;\">   0.130607  </td></tr>\n",
       "<tr><td>train_fn_71a943ed</td><td>2022-12-27_23-50-14</td><td>True  </td><td>                </td><td>b5176211d30348259e0072b94590d689</td><td>23_batch_size=128,drug_encoding=Morgan,lr=0.0002,mlp_hidden_dims_drug=512,mlp_num_layers_drug=3,train_epochs=20 </td><td>ampere3   </td><td style=\"text-align: right;\">                         1</td><td>172.24.75.79</td><td style=\"text-align: right;\">2851300</td><td style=\"text-align: right;\">0.907901</td><td style=\"text-align: right;\">             353.749</td><td style=\"text-align: right;\">           353.749</td><td style=\"text-align: right;\">       353.749</td><td style=\"text-align: right;\"> 1672213814</td><td style=\"text-align: right;\">                        0</td><td>                 </td><td style=\"text-align: right;\">                   1</td><td>71a943ed  </td><td style=\"text-align: right;\">   0.0610065 </td></tr>\n",
       "<tr><td>train_fn_785dd0c8</td><td>2022-12-27_22-33-30</td><td>True  </td><td>                </td><td>2c55be20759745a49a6bbe146d8d38f2</td><td>15_batch_size=128,drug_encoding=Morgan,lr=0.0004,mlp_hidden_dims_drug=256,mlp_num_layers_drug=3,train_epochs=15 </td><td>ampere3   </td><td style=\"text-align: right;\">                         1</td><td>172.24.75.79</td><td style=\"text-align: right;\">2662682</td><td style=\"text-align: right;\">0.907383</td><td style=\"text-align: right;\">             195.742</td><td style=\"text-align: right;\">           195.742</td><td style=\"text-align: right;\">       195.742</td><td style=\"text-align: right;\"> 1672209210</td><td style=\"text-align: right;\">                        0</td><td>                 </td><td style=\"text-align: right;\">                   1</td><td>785dd0c8  </td><td style=\"text-align: right;\">   0.0416527 </td></tr>\n",
       "<tr><td>train_fn_795429ef</td><td>2022-12-29_04-16-14</td><td>True  </td><td>                </td><td>0ab24e5fec8e4d75aafcebeb13cf05da</td><td>100_batch_size=256,drug_encoding=Morgan,lr=0.0003,mlp_hidden_dims_drug=512,mlp_num_layers_drug=3,train_epochs=20</td><td>ampere3   </td><td style=\"text-align: right;\">                         1</td><td>172.24.75.79</td><td style=\"text-align: right;\">1010139</td><td style=\"text-align: right;\">0.905846</td><td style=\"text-align: right;\">             164.596</td><td style=\"text-align: right;\">           164.596</td><td style=\"text-align: right;\">       164.596</td><td style=\"text-align: right;\"> 1672316174</td><td style=\"text-align: right;\">                        0</td><td>                 </td><td style=\"text-align: right;\">                   1</td><td>795429ef  </td><td style=\"text-align: right;\">   0.00358844</td></tr>\n",
       "<tr><td>train_fn_79f4a2eb</td><td>2022-12-28_08-17-51</td><td>True  </td><td>                </td><td>6904afc1b8f144e1a40f494c3353e4b1</td><td>51_batch_size=256,drug_encoding=Morgan,lr=0.0003,mlp_hidden_dims_drug=512,mlp_num_layers_drug=3,train_epochs=20 </td><td>ampere3   </td><td style=\"text-align: right;\">                         1</td><td>172.24.75.79</td><td style=\"text-align: right;\">1046944</td><td style=\"text-align: right;\">0.910559</td><td style=\"text-align: right;\">             230.953</td><td style=\"text-align: right;\">           230.953</td><td style=\"text-align: right;\">       230.953</td><td style=\"text-align: right;\"> 1672244271</td><td style=\"text-align: right;\">                        0</td><td>                 </td><td style=\"text-align: right;\">                   1</td><td>79f4a2eb  </td><td style=\"text-align: right;\">   0.0198061 </td></tr>\n",
       "<tr><td>train_fn_7a4d6b92</td><td>2022-12-28_13-17-31</td><td>True  </td><td>                </td><td>18e139d8294844669677f2e812225a4f</td><td>70_batch_size=256,drug_encoding=Morgan,lr=0.0003,mlp_hidden_dims_drug=512,mlp_num_layers_drug=3,train_epochs=20 </td><td>ampere3   </td><td style=\"text-align: right;\">                         1</td><td>172.24.75.79</td><td style=\"text-align: right;\">2641336</td><td style=\"text-align: right;\">0.912652</td><td style=\"text-align: right;\">             232.783</td><td style=\"text-align: right;\">           232.783</td><td style=\"text-align: right;\">       232.783</td><td style=\"text-align: right;\"> 1672262251</td><td style=\"text-align: right;\">                        0</td><td>                 </td><td style=\"text-align: right;\">                   1</td><td>7a4d6b92  </td><td style=\"text-align: right;\">   0.0057497 </td></tr>\n",
       "<tr><td>train_fn_7c730f8f</td><td>2022-12-28_09-37-41</td><td>True  </td><td>                </td><td>97af8708203d484098833c283b871ea1</td><td>59_batch_size=256,drug_encoding=Morgan,lr=0.0003,mlp_hidden_dims_drug=512,mlp_num_layers_drug=3,train_epochs=20 </td><td>ampere3   </td><td style=\"text-align: right;\">                         1</td><td>172.24.75.79</td><td style=\"text-align: right;\">1256092</td><td style=\"text-align: right;\">0.910778</td><td style=\"text-align: right;\">             178.619</td><td style=\"text-align: right;\">           178.619</td><td style=\"text-align: right;\">       178.619</td><td style=\"text-align: right;\"> 1672249061</td><td style=\"text-align: right;\">                        0</td><td>                 </td><td style=\"text-align: right;\">                   1</td><td>7c730f8f  </td><td style=\"text-align: right;\">   0.0128267 </td></tr>\n",
       "<tr><td>train_fn_7fcbb148</td><td>2022-12-27_22-55-13</td><td>True  </td><td>                </td><td>89afc1a37b154b55a71ec0208b07da71</td><td>18_batch_size=256,drug_encoding=Morgan,lr=0.0003,mlp_hidden_dims_drug=512,mlp_num_layers_drug=3,train_epochs=15 </td><td>ampere3   </td><td style=\"text-align: right;\">                         1</td><td>172.24.75.79</td><td style=\"text-align: right;\">2766889</td><td style=\"text-align: right;\">0.911628</td><td style=\"text-align: right;\">             275.34 </td><td style=\"text-align: right;\">           275.34 </td><td style=\"text-align: right;\">       275.34 </td><td style=\"text-align: right;\"> 1672210513</td><td style=\"text-align: right;\">                        0</td><td>                 </td><td style=\"text-align: right;\">                   1</td><td>7fcbb148  </td><td style=\"text-align: right;\">   0.0103121 </td></tr>\n",
       "<tr><td>train_fn_8071165d</td><td>2022-12-29_04-00-32</td><td>True  </td><td>                </td><td>34893211aae04a68847f7ea3247ac489</td><td>98_batch_size=256,drug_encoding=Morgan,lr=0.0003,mlp_hidden_dims_drug=512,mlp_num_layers_drug=3,train_epochs=20 </td><td>ampere3   </td><td style=\"text-align: right;\">                         1</td><td>172.24.75.79</td><td style=\"text-align: right;\"> 959587</td><td style=\"text-align: right;\">0.903492</td><td style=\"text-align: right;\">             193.948</td><td style=\"text-align: right;\">           193.948</td><td style=\"text-align: right;\">       193.948</td><td style=\"text-align: right;\"> 1672315232</td><td style=\"text-align: right;\">                        0</td><td>                 </td><td style=\"text-align: right;\">                   1</td><td>8071165d  </td><td style=\"text-align: right;\">   0.0108528 </td></tr>\n",
       "<tr><td>train_fn_83cb72f0</td><td>2022-12-28_03-04-58</td><td>True  </td><td>                </td><td>eaa3020b0bfa429ba922d5b68672097f</td><td>34_batch_size=256,drug_encoding=Morgan,lr=0.0003,mlp_hidden_dims_drug=512,mlp_num_layers_drug=3,train_epochs=20 </td><td>ampere3   </td><td style=\"text-align: right;\">                         1</td><td>172.24.75.79</td><td style=\"text-align: right;\">3542047</td><td style=\"text-align: right;\">0.910231</td><td style=\"text-align: right;\">             227.92 </td><td style=\"text-align: right;\">           227.92 </td><td style=\"text-align: right;\">       227.92 </td><td style=\"text-align: right;\"> 1672225498</td><td style=\"text-align: right;\">                        0</td><td>                 </td><td style=\"text-align: right;\">                   1</td><td>83cb72f0  </td><td style=\"text-align: right;\">   0.084404  </td></tr>\n",
       "<tr><td>train_fn_85d38bd1</td><td>2022-12-28_23-49-05</td><td>True  </td><td>                </td><td>48f46c0e2d674c8cb1ea6a286c4bd292</td><td>88_batch_size=256,drug_encoding=Morgan,lr=0.0003,mlp_hidden_dims_drug=512,mlp_num_layers_drug=3,train_epochs=20 </td><td>ampere3   </td><td style=\"text-align: right;\">                         1</td><td>172.24.75.79</td><td style=\"text-align: right;\">4168324</td><td style=\"text-align: right;\">0.912487</td><td style=\"text-align: right;\">             173.133</td><td style=\"text-align: right;\">           173.133</td><td style=\"text-align: right;\">       173.133</td><td style=\"text-align: right;\"> 1672300145</td><td style=\"text-align: right;\">                        0</td><td>                 </td><td style=\"text-align: right;\">                   1</td><td>85d38bd1  </td><td style=\"text-align: right;\">   0.00422406</td></tr>\n",
       "<tr><td>train_fn_887b0a81</td><td>2022-12-28_06-48-57</td><td>True  </td><td>                </td><td>5c70e37402f4451d80d383d0c246b435</td><td>45_batch_size=256,drug_encoding=Morgan,lr=0.0003,mlp_hidden_dims_drug=512,mlp_num_layers_drug=2,train_epochs=20 </td><td>ampere3   </td><td style=\"text-align: right;\">                         1</td><td>172.24.75.79</td><td style=\"text-align: right;\"> 558456</td><td style=\"text-align: right;\">0.909497</td><td style=\"text-align: right;\">             227.667</td><td style=\"text-align: right;\">           227.667</td><td style=\"text-align: right;\">       227.667</td><td style=\"text-align: right;\"> 1672238937</td><td style=\"text-align: right;\">                        0</td><td>                 </td><td style=\"text-align: right;\">                   1</td><td>887b0a81  </td><td style=\"text-align: right;\">   0.00485229</td></tr>\n",
       "<tr><td>train_fn_8e64cdc9</td><td>2022-12-28_00-03-47</td><td>True  </td><td>                </td><td>68c40f24a4ad429498b287e0eb6a9a64</td><td>24_batch_size=128,drug_encoding=Morgan,lr=0.0004,mlp_hidden_dims_drug=512,mlp_num_layers_drug=1,train_epochs=15 </td><td>ampere3   </td><td style=\"text-align: right;\">                         1</td><td>172.24.75.79</td><td style=\"text-align: right;\">2838229</td><td style=\"text-align: right;\">0.904718</td><td style=\"text-align: right;\">             223.347</td><td style=\"text-align: right;\">           223.347</td><td style=\"text-align: right;\">       223.347</td><td style=\"text-align: right;\"> 1672214627</td><td style=\"text-align: right;\">                        0</td><td>                 </td><td style=\"text-align: right;\">                   1</td><td>8e64cdc9  </td><td style=\"text-align: right;\">   0.0211771 </td></tr>\n",
       "<tr><td>train_fn_8f9b3f5a</td><td>2022-12-27_22-08-29</td><td>True  </td><td>                </td><td>0f71d6e45ebd427c8fc38cf214aee4f4</td><td>12_batch_size=32,drug_encoding=Morgan,lr=0.0072,mlp_hidden_dims_drug=64,mlp_num_layers_drug=2,train_epochs=10   </td><td>ampere3   </td><td style=\"text-align: right;\">                         1</td><td>172.24.75.79</td><td style=\"text-align: right;\">2679732</td><td style=\"text-align: right;\">0.87679 </td><td style=\"text-align: right;\">             230.918</td><td style=\"text-align: right;\">           230.918</td><td style=\"text-align: right;\">       230.918</td><td style=\"text-align: right;\"> 1672207709</td><td style=\"text-align: right;\">                        0</td><td>                 </td><td style=\"text-align: right;\">                   1</td><td>8f9b3f5a  </td><td style=\"text-align: right;\">   0.0670769 </td></tr>\n",
       "<tr><td>train_fn_9bcc805a</td><td>2022-12-27_21-57-44</td><td>True  </td><td>                </td><td>e3fd331eea434623935ab55147911fd7</td><td>11_batch_size=32,drug_encoding=Morgan,lr=0.0041,mlp_hidden_dims_drug=256,mlp_num_layers_drug=5,train_epochs=3   </td><td>ampere3   </td><td style=\"text-align: right;\">                         1</td><td>172.24.75.79</td><td style=\"text-align: right;\">2671895</td><td style=\"text-align: right;\">0.876312</td><td style=\"text-align: right;\">             164.657</td><td style=\"text-align: right;\">           164.657</td><td style=\"text-align: right;\">       164.657</td><td style=\"text-align: right;\"> 1672207064</td><td style=\"text-align: right;\">                        0</td><td>                 </td><td style=\"text-align: right;\">                   1</td><td>9bcc805a  </td><td style=\"text-align: right;\">   0.0131264 </td></tr>\n",
       "<tr><td>train_fn_9bf33c65</td><td>2022-12-29_02-14-13</td><td>True  </td><td>                </td><td>48f46c0e2d674c8cb1ea6a286c4bd292</td><td>93_batch_size=256,drug_encoding=Morgan,lr=0.0003,mlp_hidden_dims_drug=512,mlp_num_layers_drug=3,train_epochs=20 </td><td>ampere3   </td><td style=\"text-align: right;\">                         1</td><td>172.24.75.79</td><td style=\"text-align: right;\">4168324</td><td style=\"text-align: right;\">0.915032</td><td style=\"text-align: right;\">             163.085</td><td style=\"text-align: right;\">           163.085</td><td style=\"text-align: right;\">       163.085</td><td style=\"text-align: right;\"> 1672308853</td><td style=\"text-align: right;\">                        0</td><td>                 </td><td style=\"text-align: right;\">                   1</td><td>9bf33c65  </td><td style=\"text-align: right;\">   0.00422406</td></tr>\n",
       "<tr><td>train_fn_9de28a29</td><td>2022-12-28_00-46-00</td><td>True  </td><td>                </td><td>d0e017e37679437e934cc27622b28a67</td><td>27_batch_size=256,drug_encoding=Morgan,lr=0.0001,mlp_hidden_dims_drug=128,mlp_num_layers_drug=4,train_epochs=20 </td><td>ampere3   </td><td style=\"text-align: right;\">                         1</td><td>172.24.75.79</td><td style=\"text-align: right;\">3027494</td><td style=\"text-align: right;\">0.894287</td><td style=\"text-align: right;\">             250.67 </td><td style=\"text-align: right;\">           250.67 </td><td style=\"text-align: right;\">       250.67 </td><td style=\"text-align: right;\"> 1672217160</td><td style=\"text-align: right;\">                        0</td><td>                 </td><td style=\"text-align: right;\">                   1</td><td>9de28a29  </td><td style=\"text-align: right;\">   0.0112033 </td></tr>\n",
       "<tr><td>train_fn_a79dc786</td><td>2022-12-28_07-52-46</td><td>True  </td><td>                </td><td>49ba2697fbf143c8912fc0e81e90c1c3</td><td>49_batch_size=256,drug_encoding=Morgan,lr=0.0003,mlp_hidden_dims_drug=512,mlp_num_layers_drug=2,train_epochs=20 </td><td>ampere3   </td><td style=\"text-align: right;\">                         1</td><td>172.24.75.79</td><td style=\"text-align: right;\"> 912639</td><td style=\"text-align: right;\">0.907113</td><td style=\"text-align: right;\">             211.192</td><td style=\"text-align: right;\">           211.192</td><td style=\"text-align: right;\">       211.192</td><td style=\"text-align: right;\"> 1672242766</td><td style=\"text-align: right;\">                        0</td><td>                 </td><td style=\"text-align: right;\">                   1</td><td>a79dc786  </td><td style=\"text-align: right;\">   0.0295911 </td></tr>\n",
       "<tr><td>train_fn_ab49c23c</td><td>2022-12-28_01-53-22</td><td>True  </td><td>                </td><td>46403640eef44001b959f0a4bf5e4753</td><td>31_batch_size=128,drug_encoding=Morgan,lr=0.0003,mlp_hidden_dims_drug=512,mlp_num_layers_drug=3,train_epochs=15 </td><td>ampere3   </td><td style=\"text-align: right;\">                         1</td><td>172.24.75.79</td><td style=\"text-align: right;\">3214254</td><td style=\"text-align: right;\">0.903664</td><td style=\"text-align: right;\">             187.465</td><td style=\"text-align: right;\">           187.465</td><td style=\"text-align: right;\">       187.465</td><td style=\"text-align: right;\"> 1672221202</td><td style=\"text-align: right;\">                        0</td><td>                 </td><td style=\"text-align: right;\">                   1</td><td>ab49c23c  </td><td style=\"text-align: right;\">   0.0437548 </td></tr>\n",
       "<tr><td>train_fn_ad15c17d</td><td>2022-12-28_04-34-13</td><td>True  </td><td>                </td><td>165145de3b3449179e7c7bdaba8bfe6f</td><td>37_batch_size=256,drug_encoding=Morgan,lr=0.0003,mlp_hidden_dims_drug=512,mlp_num_layers_drug=2,train_epochs=20 </td><td>ampere3   </td><td style=\"text-align: right;\">                         1</td><td>172.24.75.79</td><td style=\"text-align: right;\">4033671</td><td style=\"text-align: right;\">0.906877</td><td style=\"text-align: right;\">             249.835</td><td style=\"text-align: right;\">           249.835</td><td style=\"text-align: right;\">       249.835</td><td style=\"text-align: right;\"> 1672230853</td><td style=\"text-align: right;\">                        0</td><td>                 </td><td style=\"text-align: right;\">                   1</td><td>ad15c17d  </td><td style=\"text-align: right;\">   0.028518  </td></tr>\n",
       "<tr><td>train_fn_ada05b15</td><td>2022-12-28_11-33-48</td><td>True  </td><td>                </td><td>1954bbd9d5f8400e94fe970df37573bd</td><td>66_batch_size=256,drug_encoding=Morgan,lr=0.0003,mlp_hidden_dims_drug=512,mlp_num_layers_drug=3,train_epochs=20 </td><td>ampere3   </td><td style=\"text-align: right;\">                         1</td><td>172.24.75.79</td><td style=\"text-align: right;\">2095298</td><td style=\"text-align: right;\">0.909461</td><td style=\"text-align: right;\">             216.637</td><td style=\"text-align: right;\">           216.637</td><td style=\"text-align: right;\">       216.637</td><td style=\"text-align: right;\"> 1672256028</td><td style=\"text-align: right;\">                        0</td><td>                 </td><td style=\"text-align: right;\">                   1</td><td>ada05b15  </td><td style=\"text-align: right;\">   0.0162673 </td></tr>\n",
       "<tr><td>train_fn_b2164d13</td><td>2022-12-28_05-44-08</td><td>True  </td><td>                </td><td>6f4cddf6a6d24653a5deb536c8d48c48</td><td>42_batch_size=256,drug_encoding=Morgan,lr=0.0003,mlp_hidden_dims_drug=512,mlp_num_layers_drug=3,train_epochs=20 </td><td>ampere3   </td><td style=\"text-align: right;\">                         1</td><td>172.24.75.79</td><td style=\"text-align: right;\"> 222767</td><td style=\"text-align: right;\">0.906708</td><td style=\"text-align: right;\">             205.313</td><td style=\"text-align: right;\">           205.313</td><td style=\"text-align: right;\">       205.313</td><td style=\"text-align: right;\"> 1672235048</td><td style=\"text-align: right;\">                        0</td><td>                 </td><td style=\"text-align: right;\">                   1</td><td>b2164d13  </td><td style=\"text-align: right;\">   0.00393867</td></tr>\n",
       "<tr><td>train_fn_b23451bf</td><td>2022-12-28_15-14-41</td><td>True  </td><td>                </td><td>35d1716f84ac42edb79afd5db8562d0d</td><td>75_batch_size=256,drug_encoding=Morgan,lr=0.0003,mlp_hidden_dims_drug=512,mlp_num_layers_drug=3,train_epochs=20 </td><td>ampere3   </td><td style=\"text-align: right;\">                         1</td><td>172.24.75.79</td><td style=\"text-align: right;\">2991987</td><td style=\"text-align: right;\">0.905822</td><td style=\"text-align: right;\">             205.31 </td><td style=\"text-align: right;\">           205.31 </td><td style=\"text-align: right;\">       205.31 </td><td style=\"text-align: right;\"> 1672269281</td><td style=\"text-align: right;\">                        0</td><td>                 </td><td style=\"text-align: right;\">                   1</td><td>b23451bf  </td><td style=\"text-align: right;\">   0.0295956 </td></tr>\n",
       "<tr><td>train_fn_b31811e4</td><td>2022-12-28_22-44-21</td><td>True  </td><td>                </td><td>48f46c0e2d674c8cb1ea6a286c4bd292</td><td>86_batch_size=256,drug_encoding=Morgan,lr=0.0003,mlp_hidden_dims_drug=512,mlp_num_layers_drug=3,train_epochs=20 </td><td>ampere3   </td><td style=\"text-align: right;\">                         1</td><td>172.24.75.79</td><td style=\"text-align: right;\">4168324</td><td style=\"text-align: right;\">0.906993</td><td style=\"text-align: right;\">             195.778</td><td style=\"text-align: right;\">           195.778</td><td style=\"text-align: right;\">       195.778</td><td style=\"text-align: right;\"> 1672296261</td><td style=\"text-align: right;\">                        0</td><td>                 </td><td style=\"text-align: right;\">                   1</td><td>b31811e4  </td><td style=\"text-align: right;\">   0.00422406</td></tr>\n",
       "<tr><td>train_fn_b38a8761</td><td>2022-12-28_09-44-58</td><td>True  </td><td>                </td><td>222be737c03645139b6067d0532a89a0</td><td>60_batch_size=256,drug_encoding=Morgan,lr=0.0003,mlp_hidden_dims_drug=512,mlp_num_layers_drug=3,train_epochs=20 </td><td>ampere3   </td><td style=\"text-align: right;\">                         1</td><td>172.24.75.79</td><td style=\"text-align: right;\">1524649</td><td style=\"text-align: right;\">0.912837</td><td style=\"text-align: right;\">             181.764</td><td style=\"text-align: right;\">           181.764</td><td style=\"text-align: right;\">       181.764</td><td style=\"text-align: right;\"> 1672249498</td><td style=\"text-align: right;\">                        0</td><td>                 </td><td style=\"text-align: right;\">                   1</td><td>b38a8761  </td><td style=\"text-align: right;\">   0.00430226</td></tr>\n",
       "<tr><td>train_fn_b754d1c0</td><td>2022-12-28_03-58-26</td><td>True  </td><td>                </td><td>12693cc1785c4013aec920a2fa13bb8e</td><td>36_batch_size=256,drug_encoding=Morgan,lr=0.0003,mlp_hidden_dims_drug=512,mlp_num_layers_drug=2,train_epochs=20 </td><td>ampere3   </td><td style=\"text-align: right;\">                         1</td><td>172.24.75.79</td><td style=\"text-align: right;\">3158043</td><td style=\"text-align: right;\">0.9145  </td><td style=\"text-align: right;\">             216.849</td><td style=\"text-align: right;\">           216.849</td><td style=\"text-align: right;\">       216.849</td><td style=\"text-align: right;\"> 1672228706</td><td style=\"text-align: right;\">                        0</td><td>                 </td><td style=\"text-align: right;\">                   1</td><td>b754d1c0  </td><td style=\"text-align: right;\">   0.0125444 </td></tr>\n",
       "<tr><td>train_fn_b920cbc3</td><td>2022-12-28_08-32-58</td><td>True  </td><td>                </td><td>1fddb2bdb6c549b6b62385c25b8a9ff2</td><td>53_batch_size=256,drug_encoding=Morgan,lr=0.0003,mlp_hidden_dims_drug=512,mlp_num_layers_drug=3,train_epochs=20 </td><td>ampere3   </td><td style=\"text-align: right;\">                         1</td><td>172.24.75.79</td><td style=\"text-align: right;\">1125171</td><td style=\"text-align: right;\">0.912045</td><td style=\"text-align: right;\">             218.862</td><td style=\"text-align: right;\">           218.862</td><td style=\"text-align: right;\">       218.862</td><td style=\"text-align: right;\"> 1672245178</td><td style=\"text-align: right;\">                        0</td><td>                 </td><td style=\"text-align: right;\">                   1</td><td>b920cbc3  </td><td style=\"text-align: right;\">   0.00466228</td></tr>\n",
       "<tr><td>train_fn_bf25937f</td><td>2022-12-28_07-35-58</td><td>True  </td><td>                </td><td>f8dd795b7d1d4d7c9f2024b437bed53d</td><td>48_batch_size=256,drug_encoding=Morgan,lr=0.0003,mlp_hidden_dims_drug=512,mlp_num_layers_drug=2,train_epochs=20 </td><td>ampere3   </td><td style=\"text-align: right;\">                         1</td><td>172.24.75.79</td><td style=\"text-align: right;\"> 637643</td><td style=\"text-align: right;\">0.906598</td><td style=\"text-align: right;\">             208.201</td><td style=\"text-align: right;\">           208.201</td><td style=\"text-align: right;\">       208.201</td><td style=\"text-align: right;\"> 1672241758</td><td style=\"text-align: right;\">                        0</td><td>                 </td><td style=\"text-align: right;\">                   1</td><td>bf25937f  </td><td style=\"text-align: right;\">   0.0322757 </td></tr>\n",
       "<tr><td>train_fn_c153528d</td><td>2022-12-28_08-57-46</td><td>True  </td><td>                </td><td>97af8708203d484098833c283b871ea1</td><td>55_batch_size=256,drug_encoding=Morgan,lr=0.0003,mlp_hidden_dims_drug=512,mlp_num_layers_drug=3,train_epochs=20 </td><td>ampere3   </td><td style=\"text-align: right;\">                         1</td><td>172.24.75.79</td><td style=\"text-align: right;\">1256092</td><td style=\"text-align: right;\">0.911845</td><td style=\"text-align: right;\">             212.398</td><td style=\"text-align: right;\">           212.398</td><td style=\"text-align: right;\">       212.398</td><td style=\"text-align: right;\"> 1672246666</td><td style=\"text-align: right;\">                        0</td><td>                 </td><td style=\"text-align: right;\">                   1</td><td>c153528d  </td><td style=\"text-align: right;\">   0.0128267 </td></tr>\n",
       "<tr><td>train_fn_c3314acd</td><td>2022-12-28_13-33-53</td><td>True  </td><td>                </td><td>748394b5ca414166a4e832ef12851f90</td><td>71_batch_size=256,drug_encoding=Morgan,lr=0.0003,mlp_hidden_dims_drug=512,mlp_num_layers_drug=3,train_epochs=20 </td><td>ampere3   </td><td style=\"text-align: right;\">                         1</td><td>172.24.75.79</td><td style=\"text-align: right;\">2737978</td><td style=\"text-align: right;\">0.908168</td><td style=\"text-align: right;\">             247.404</td><td style=\"text-align: right;\">           247.404</td><td style=\"text-align: right;\">       247.404</td><td style=\"text-align: right;\"> 1672263233</td><td style=\"text-align: right;\">                        0</td><td>                 </td><td style=\"text-align: right;\">                   1</td><td>c3314acd  </td><td style=\"text-align: right;\">   0.145203  </td></tr>\n",
       "<tr><td>train_fn_c5611cc7</td><td>2022-12-27_21-44-08</td><td>True  </td><td>                </td><td>39b06fc321e749efbbd71c36e83b88c9</td><td>2_batch_size=64,drug_encoding=Morgan,lr=0.0013,mlp_hidden_dims_drug=256,mlp_num_layers_drug=6,train_epochs=3    </td><td>ampere3   </td><td style=\"text-align: right;\">                         1</td><td>172.24.75.79</td><td style=\"text-align: right;\">2660059</td><td style=\"text-align: right;\">0.885447</td><td style=\"text-align: right;\">             159.482</td><td style=\"text-align: right;\">           159.482</td><td style=\"text-align: right;\">       159.482</td><td style=\"text-align: right;\"> 1672206248</td><td style=\"text-align: right;\">                        0</td><td>                 </td><td style=\"text-align: right;\">                   1</td><td>c5611cc7  </td><td style=\"text-align: right;\">   0.0187762 </td></tr>\n",
       "<tr><td>train_fn_c9c7d065</td><td>2022-12-29_04-08-52</td><td>True  </td><td>                </td><td>09ca9bc4e0104c91b9fe9bc08b2d42f4</td><td>99_batch_size=256,drug_encoding=Morgan,lr=0.0003,mlp_hidden_dims_drug=512,mlp_num_layers_drug=3,train_epochs=20 </td><td>ampere3   </td><td style=\"text-align: right;\">                         1</td><td>172.24.75.79</td><td style=\"text-align: right;\"> 712122</td><td style=\"text-align: right;\">0.91361 </td><td style=\"text-align: right;\">             164.813</td><td style=\"text-align: right;\">           164.813</td><td style=\"text-align: right;\">       164.813</td><td style=\"text-align: right;\"> 1672315732</td><td style=\"text-align: right;\">                        0</td><td>                 </td><td style=\"text-align: right;\">                   1</td><td>c9c7d065  </td><td style=\"text-align: right;\">   0.00420141</td></tr>\n",
       "<tr><td>train_fn_cb90fa19</td><td>2022-12-27_23-13-51</td><td>True  </td><td>                </td><td>f909c2c541c8484e9bb3134bc7687f92</td><td>20_batch_size=128,drug_encoding=Morgan,lr=0.0001,mlp_hidden_dims_drug=256,mlp_num_layers_drug=5,train_epochs=15 </td><td>ampere3   </td><td style=\"text-align: right;\">                         1</td><td>172.24.75.79</td><td style=\"text-align: right;\">2808730</td><td style=\"text-align: right;\">0.900607</td><td style=\"text-align: right;\">             275.716</td><td style=\"text-align: right;\">           275.716</td><td style=\"text-align: right;\">       275.716</td><td style=\"text-align: right;\"> 1672211631</td><td style=\"text-align: right;\">                        0</td><td>                 </td><td style=\"text-align: right;\">                   1</td><td>cb90fa19  </td><td style=\"text-align: right;\">   0.00394154</td></tr>\n",
       "<tr><td>train_fn_cee06d9e</td><td>2022-12-28_16-42-40</td><td>True  </td><td>                </td><td>790d5710fe1a4d09bfb4f63fa7249995</td><td>77_batch_size=256,drug_encoding=Morgan,lr=0.0003,mlp_hidden_dims_drug=512,mlp_num_layers_drug=3,train_epochs=20 </td><td>ampere3   </td><td style=\"text-align: right;\">                         1</td><td>172.24.75.79</td><td style=\"text-align: right;\">2906746</td><td style=\"text-align: right;\">0.908817</td><td style=\"text-align: right;\">             180.744</td><td style=\"text-align: right;\">           180.744</td><td style=\"text-align: right;\">       180.744</td><td style=\"text-align: right;\"> 1672274560</td><td style=\"text-align: right;\">                        0</td><td>                 </td><td style=\"text-align: right;\">                   1</td><td>cee06d9e  </td><td style=\"text-align: right;\">   0.085139  </td></tr>\n",
       "<tr><td>train_fn_cf1115a3</td><td>2022-12-28_09-32-04</td><td>True  </td><td>                </td><td>9e7db65d51104d2a81700ad4be047aaa</td><td>58_batch_size=256,drug_encoding=Morgan,lr=0.0003,mlp_hidden_dims_drug=512,mlp_num_layers_drug=3,train_epochs=20 </td><td>ampere3   </td><td style=\"text-align: right;\">                         1</td><td>172.24.75.79</td><td style=\"text-align: right;\">1444303</td><td style=\"text-align: right;\">0.907551</td><td style=\"text-align: right;\">             192.64 </td><td style=\"text-align: right;\">           192.64 </td><td style=\"text-align: right;\">       192.64 </td><td style=\"text-align: right;\"> 1672248724</td><td style=\"text-align: right;\">                        0</td><td>                 </td><td style=\"text-align: right;\">                   1</td><td>cf1115a3  </td><td style=\"text-align: right;\">   0.00439024</td></tr>\n",
       "<tr><td>train_fn_d5a37500</td><td>2022-12-28_14-30-56</td><td>True  </td><td>                </td><td>1e108f785bde4cfe889ee0811b07ca2e</td><td>73_batch_size=256,drug_encoding=Morgan,lr=0.0003,mlp_hidden_dims_drug=512,mlp_num_layers_drug=3,train_epochs=20 </td><td>ampere3   </td><td style=\"text-align: right;\">                         1</td><td>172.24.75.79</td><td style=\"text-align: right;\">2881323</td><td style=\"text-align: right;\">0.906245</td><td style=\"text-align: right;\">             242.302</td><td style=\"text-align: right;\">           242.302</td><td style=\"text-align: right;\">       242.302</td><td style=\"text-align: right;\"> 1672266656</td><td style=\"text-align: right;\">                        0</td><td>                 </td><td style=\"text-align: right;\">                   1</td><td>d5a37500  </td><td style=\"text-align: right;\">   0.0153766 </td></tr>\n",
       "<tr><td>train_fn_d5d7e33b</td><td>2022-12-27_23-39-39</td><td>True  </td><td>                </td><td>68c40f24a4ad429498b287e0eb6a9a64</td><td>22_batch_size=256,drug_encoding=Morgan,lr=0.0002,mlp_hidden_dims_drug=512,mlp_num_layers_drug=3,train_epochs=20 </td><td>ampere3   </td><td style=\"text-align: right;\">                         1</td><td>172.24.75.79</td><td style=\"text-align: right;\">2838229</td><td style=\"text-align: right;\">0.909943</td><td style=\"text-align: right;\">             315.76 </td><td style=\"text-align: right;\">           315.76 </td><td style=\"text-align: right;\">       315.76 </td><td style=\"text-align: right;\"> 1672213179</td><td style=\"text-align: right;\">                        0</td><td>                 </td><td style=\"text-align: right;\">                   1</td><td>d5d7e33b  </td><td style=\"text-align: right;\">   0.0211771 </td></tr>\n",
       "<tr><td>train_fn_d9d22f54</td><td>2022-12-28_18-37-16</td><td>True  </td><td>                </td><td>55cd159a671b4abb96ed72426fb48ded</td><td>80_batch_size=256,drug_encoding=Morgan,lr=0.0003,mlp_hidden_dims_drug=512,mlp_num_layers_drug=3,train_epochs=20 </td><td>ampere3   </td><td style=\"text-align: right;\">                         1</td><td>172.24.75.79</td><td style=\"text-align: right;\">3509586</td><td style=\"text-align: right;\">0.907099</td><td style=\"text-align: right;\">             185.155</td><td style=\"text-align: right;\">           185.155</td><td style=\"text-align: right;\">       185.155</td><td style=\"text-align: right;\"> 1672281436</td><td style=\"text-align: right;\">                        0</td><td>                 </td><td style=\"text-align: right;\">                   1</td><td>d9d22f54  </td><td style=\"text-align: right;\">   0.00526977</td></tr>\n",
       "<tr><td>train_fn_ddbe9a21</td><td>2022-12-27_21-47-52</td><td>True  </td><td>                </td><td>97d4433dcc024f9ab6fe491ba859f618</td><td>3_batch_size=256,drug_encoding=Morgan,lr=0.0008,mlp_hidden_dims_drug=256,mlp_num_layers_drug=3,train_epochs=20  </td><td>ampere3   </td><td style=\"text-align: right;\">                         1</td><td>172.24.75.79</td><td style=\"text-align: right;\">2661066</td><td style=\"text-align: right;\">0.903953</td><td style=\"text-align: right;\">             311.915</td><td style=\"text-align: right;\">           311.915</td><td style=\"text-align: right;\">       311.915</td><td style=\"text-align: right;\"> 1672206472</td><td style=\"text-align: right;\">                        0</td><td>                 </td><td style=\"text-align: right;\">                   1</td><td>ddbe9a21  </td><td style=\"text-align: right;\">   0.00414395</td></tr>\n",
       "<tr><td>train_fn_e309ba1b</td><td>2022-12-28_17-46-20</td><td>True  </td><td>                </td><td>2be8af4451b747b0a7df22c6d0787c1c</td><td>79_batch_size=256,drug_encoding=Morgan,lr=0.0003,mlp_hidden_dims_drug=512,mlp_num_layers_drug=3,train_epochs=20 </td><td>ampere3   </td><td style=\"text-align: right;\">                         1</td><td>172.24.75.79</td><td style=\"text-align: right;\">3379027</td><td style=\"text-align: right;\">0.9136  </td><td style=\"text-align: right;\">             192.086</td><td style=\"text-align: right;\">           192.086</td><td style=\"text-align: right;\">       192.086</td><td style=\"text-align: right;\"> 1672278380</td><td style=\"text-align: right;\">                        0</td><td>                 </td><td style=\"text-align: right;\">                   1</td><td>e309ba1b  </td><td style=\"text-align: right;\">   0.00518894</td></tr>\n",
       "<tr><td>train_fn_e596e23a</td><td>2022-12-28_23-25-16</td><td>True  </td><td>                </td><td>5c11818961a347e0ad821d19acb0999c</td><td>87_batch_size=256,drug_encoding=Morgan,lr=0.0003,mlp_hidden_dims_drug=512,mlp_num_layers_drug=3,train_epochs=20 </td><td>ampere3   </td><td style=\"text-align: right;\">                         1</td><td>172.24.75.79</td><td style=\"text-align: right;\">  85178</td><td style=\"text-align: right;\">0.908846</td><td style=\"text-align: right;\">             210.41 </td><td style=\"text-align: right;\">           210.41 </td><td style=\"text-align: right;\">       210.41 </td><td style=\"text-align: right;\"> 1672298716</td><td style=\"text-align: right;\">                        0</td><td>                 </td><td style=\"text-align: right;\">                   1</td><td>e596e23a  </td><td style=\"text-align: right;\">   0.0108657 </td></tr>\n",
       "<tr><td>train_fn_e96bba87</td><td>2022-12-29_03-31-37</td><td>True  </td><td>                </td><td>0210c503c86a425ebdaf874070ee9d79</td><td>96_batch_size=256,drug_encoding=Morgan,lr=0.0003,mlp_hidden_dims_drug=512,mlp_num_layers_drug=3,train_epochs=20 </td><td>ampere3   </td><td style=\"text-align: right;\">                         1</td><td>172.24.75.79</td><td style=\"text-align: right;\"> 872203</td><td style=\"text-align: right;\">0.912117</td><td style=\"text-align: right;\">             179.354</td><td style=\"text-align: right;\">           179.354</td><td style=\"text-align: right;\">       179.354</td><td style=\"text-align: right;\"> 1672313497</td><td style=\"text-align: right;\">                        0</td><td>                 </td><td style=\"text-align: right;\">                   1</td><td>e96bba87  </td><td style=\"text-align: right;\">   0.00541449</td></tr>\n",
       "<tr><td>train_fn_e9ceab53</td><td>2022-12-29_01-21-57</td><td>True  </td><td>                </td><td>48f46c0e2d674c8cb1ea6a286c4bd292</td><td>91_batch_size=256,drug_encoding=Morgan,lr=0.0003,mlp_hidden_dims_drug=512,mlp_num_layers_drug=3,train_epochs=20 </td><td>ampere3   </td><td style=\"text-align: right;\">                         1</td><td>172.24.75.79</td><td style=\"text-align: right;\">4168324</td><td style=\"text-align: right;\">0.902923</td><td style=\"text-align: right;\">             167.164</td><td style=\"text-align: right;\">           167.164</td><td style=\"text-align: right;\">       167.164</td><td style=\"text-align: right;\"> 1672305717</td><td style=\"text-align: right;\">                        0</td><td>                 </td><td style=\"text-align: right;\">                   1</td><td>e9ceab53  </td><td style=\"text-align: right;\">   0.00422406</td></tr>\n",
       "<tr><td>train_fn_ee2768f7</td><td>2022-12-28_10-33-00</td><td>True  </td><td>                </td><td>7b714bf43a604e83bb31286fcb9fdad3</td><td>63_batch_size=256,drug_encoding=Morgan,lr=0.0003,mlp_hidden_dims_drug=512,mlp_num_layers_drug=3,train_epochs=20 </td><td>ampere3   </td><td style=\"text-align: right;\">                         1</td><td>172.24.75.79</td><td style=\"text-align: right;\">1669061</td><td style=\"text-align: right;\">0.907508</td><td style=\"text-align: right;\">             236.133</td><td style=\"text-align: right;\">           236.133</td><td style=\"text-align: right;\">       236.133</td><td style=\"text-align: right;\"> 1672252380</td><td style=\"text-align: right;\">                        0</td><td>                 </td><td style=\"text-align: right;\">                   1</td><td>ee2768f7  </td><td style=\"text-align: right;\">   0.0789025 </td></tr>\n",
       "<tr><td>train_fn_f1be88c1</td><td>2022-12-28_08-25-43</td><td>True  </td><td>                </td><td>c6e37b5517c042c884dbe33f60c7e5dd</td><td>52_batch_size=256,drug_encoding=Morgan,lr=0.0003,mlp_hidden_dims_drug=512,mlp_num_layers_drug=3,train_epochs=20 </td><td>ampere3   </td><td style=\"text-align: right;\">                         1</td><td>172.24.75.79</td><td style=\"text-align: right;\">1085653</td><td style=\"text-align: right;\">0.910081</td><td style=\"text-align: right;\">             222.451</td><td style=\"text-align: right;\">           222.451</td><td style=\"text-align: right;\">       222.451</td><td style=\"text-align: right;\"> 1672244743</td><td style=\"text-align: right;\">                        0</td><td>                 </td><td style=\"text-align: right;\">                   1</td><td>f1be88c1  </td><td style=\"text-align: right;\">   0.0228653 </td></tr>\n",
       "<tr><td>train_fn_f29e8c42</td><td>2022-12-28_06-21-08</td><td>True  </td><td>                </td><td>4ee2c584624745eda5e748b98d262a11</td><td>44_batch_size=256,drug_encoding=Morgan,lr=0.0003,mlp_hidden_dims_drug=512,mlp_num_layers_drug=3,train_epochs=20 </td><td>ampere3   </td><td style=\"text-align: right;\">                         1</td><td>172.24.75.79</td><td style=\"text-align: right;\"> 414030</td><td style=\"text-align: right;\">0.90831 </td><td style=\"text-align: right;\">             220.559</td><td style=\"text-align: right;\">           220.559</td><td style=\"text-align: right;\">       220.559</td><td style=\"text-align: right;\"> 1672237268</td><td style=\"text-align: right;\">                        0</td><td>                 </td><td style=\"text-align: right;\">                   1</td><td>f29e8c42  </td><td style=\"text-align: right;\">   0.162974  </td></tr>\n",
       "<tr><td>train_fn_f45da05e</td><td>2022-12-28_10-18-26</td><td>True  </td><td>                </td><td>41a7178497d04f05a9d8611b523039ea</td><td>62_batch_size=256,drug_encoding=Morgan,lr=0.0003,mlp_hidden_dims_drug=512,mlp_num_layers_drug=3,train_epochs=20 </td><td>ampere3   </td><td style=\"text-align: right;\">                         1</td><td>172.24.75.79</td><td style=\"text-align: right;\">1700662</td><td style=\"text-align: right;\">0.910526</td><td style=\"text-align: right;\">             306.674</td><td style=\"text-align: right;\">           306.674</td><td style=\"text-align: right;\">       306.674</td><td style=\"text-align: right;\"> 1672251506</td><td style=\"text-align: right;\">                        0</td><td>                 </td><td style=\"text-align: right;\">                   1</td><td>f45da05e  </td><td style=\"text-align: right;\">   0.00460982</td></tr>\n",
       "<tr><td>train_fn_f4a2f2ea</td><td>2022-12-28_07-03-42</td><td>True  </td><td>                </td><td>f8dd795b7d1d4d7c9f2024b437bed53d</td><td>46_batch_size=256,drug_encoding=Morgan,lr=0.0003,mlp_hidden_dims_drug=512,mlp_num_layers_drug=2,train_epochs=20 </td><td>ampere3   </td><td style=\"text-align: right;\">                         1</td><td>172.24.75.79</td><td style=\"text-align: right;\"> 637643</td><td style=\"text-align: right;\">0.905823</td><td style=\"text-align: right;\">             227.866</td><td style=\"text-align: right;\">           227.866</td><td style=\"text-align: right;\">       227.866</td><td style=\"text-align: right;\"> 1672239822</td><td style=\"text-align: right;\">                        0</td><td>                 </td><td style=\"text-align: right;\">                   1</td><td>f4a2f2ea  </td><td style=\"text-align: right;\">   0.0322757 </td></tr>\n",
       "<tr><td>train_fn_f9f893aa</td><td>2022-12-28_02-41-37</td><td>True  </td><td>                </td><td>12693cc1785c4013aec920a2fa13bb8e</td><td>33_batch_size=128,drug_encoding=Morgan,lr=0.0004,mlp_hidden_dims_drug=256,mlp_num_layers_drug=4,train_epochs=20 </td><td>ampere3   </td><td style=\"text-align: right;\">                         1</td><td>172.24.75.79</td><td style=\"text-align: right;\">3158043</td><td style=\"text-align: right;\">0.902882</td><td style=\"text-align: right;\">             231.149</td><td style=\"text-align: right;\">           231.149</td><td style=\"text-align: right;\">       231.149</td><td style=\"text-align: right;\"> 1672224097</td><td style=\"text-align: right;\">                        0</td><td>                 </td><td style=\"text-align: right;\">                   1</td><td>f9f893aa  </td><td style=\"text-align: right;\">   0.0125444 </td></tr>\n",
       "<tr><td>train_fn_fa18224e</td><td>2022-12-28_16-14-43</td><td>True  </td><td>                </td><td>4c635ec2ccde432f8487a397e5f810c2</td><td>76_batch_size=256,drug_encoding=Morgan,lr=0.0003,mlp_hidden_dims_drug=512,mlp_num_layers_drug=3,train_epochs=20 </td><td>ampere3   </td><td style=\"text-align: right;\">                         1</td><td>172.24.75.79</td><td style=\"text-align: right;\">3143662</td><td style=\"text-align: right;\">0.915242</td><td style=\"text-align: right;\">             193.171</td><td style=\"text-align: right;\">           193.171</td><td style=\"text-align: right;\">       193.171</td><td style=\"text-align: right;\"> 1672272883</td><td style=\"text-align: right;\">                        0</td><td>                 </td><td style=\"text-align: right;\">                   1</td><td>fa18224e  </td><td style=\"text-align: right;\">   0.00577402</td></tr>\n",
       "<tr><td>train_fn_fa2f2520</td><td>2022-12-27_23-00-55</td><td>True  </td><td>                </td><td>1a7376687be2482e8e110e2bacae6bba</td><td>19_batch_size=128,drug_encoding=Morgan,lr=0.0002,mlp_hidden_dims_drug=256,mlp_num_layers_drug=2,train_epochs=20 </td><td>ampere3   </td><td style=\"text-align: right;\">                         1</td><td>172.24.75.79</td><td style=\"text-align: right;\">2662681</td><td style=\"text-align: right;\">0.910857</td><td style=\"text-align: right;\">             279.455</td><td style=\"text-align: right;\">           279.455</td><td style=\"text-align: right;\">       279.455</td><td style=\"text-align: right;\"> 1672210855</td><td style=\"text-align: right;\">                        0</td><td>                 </td><td style=\"text-align: right;\">                   1</td><td>fa2f2520  </td><td style=\"text-align: right;\">   0.0215807 </td></tr>\n",
       "<tr><td>train_fn_fed043cf</td><td>2022-12-28_08-45-11</td><td>True  </td><td>                </td><td>d99fbc4aa1a74bf395cfebe4bd945e72</td><td>54_batch_size=256,drug_encoding=Morgan,lr=0.0003,mlp_hidden_dims_drug=512,mlp_num_layers_drug=3,train_epochs=20 </td><td>ampere3   </td><td style=\"text-align: right;\">                         1</td><td>172.24.75.79</td><td style=\"text-align: right;\">1189623</td><td style=\"text-align: right;\">0.910925</td><td style=\"text-align: right;\">             230.862</td><td style=\"text-align: right;\">           230.862</td><td style=\"text-align: right;\">       230.862</td><td style=\"text-align: right;\"> 1672245911</td><td style=\"text-align: right;\">                        0</td><td>                 </td><td style=\"text-align: right;\">                   1</td><td>fed043cf  </td><td style=\"text-align: right;\">   0.0644391 </td></tr>\n",
       "</tbody>\n",
       "</table>\n",
       "</div>\n",
       "<style>\n",
       ".trialProgress {\n",
       "  display: flex;\n",
       "  flex-direction: column;\n",
       "  color: var(--jp-ui-font-color1);\n",
       "}\n",
       ".trialProgress h3 {\n",
       "  font-weight: bold;\n",
       "}\n",
       ".trialProgress td {\n",
       "  white-space: nowrap;\n",
       "}\n",
       "</style>\n"
      ],
      "text/plain": [
       "<IPython.core.display.HTML object>"
      ]
     },
     "metadata": {},
     "output_type": "display_data"
    },
    {
     "name": "stderr",
     "output_type": "stream",
     "text": [
      "[INFO 12-27 21:43:47] ax.service.ax_client: Generated new trial 5 with parameters {'lr': 0.003899, 'batch_size': 128, 'train_epochs': 5, 'mlp_hidden_dims_drug': 32, 'mlp_num_layers_drug': 5, 'drug_encoding': 'Morgan'}.\n",
      "[INFO 12-27 21:43:47] ax.service.ax_client: Completed trial 0 with data: {'pr_auc': (0.77418, None)}.\n"
     ]
    },
    {
     "name": "stdout",
     "output_type": "stream",
     "text": [
      "\u001b[2m\u001b[36m(train_fn pid=2659134)\u001b[0m Drug Property Prediction Mode...\n",
      "\u001b[2m\u001b[36m(train_fn pid=2659134)\u001b[0m in total: 13445 drugs\n",
      "\u001b[2m\u001b[36m(train_fn pid=2659134)\u001b[0m encoding drug...\n",
      "\u001b[2m\u001b[36m(train_fn pid=2659134)\u001b[0m unique drugs: 13445\n"
     ]
    },
    {
     "name": "stderr",
     "output_type": "stream",
     "text": [
      "[INFO 12-27 21:43:48] ax.service.ax_client: Generated new trial 6 with parameters {'lr': 0.000528, 'batch_size': 32, 'train_epochs': 5, 'mlp_hidden_dims_drug': 64, 'mlp_num_layers_drug': 5, 'drug_encoding': 'Morgan'}.\n",
      "[INFO 12-27 21:43:49] ax.service.ax_client: Generated new trial 7 with parameters {'lr': 0.000248, 'batch_size': 512, 'train_epochs': 20, 'mlp_hidden_dims_drug': 512, 'mlp_num_layers_drug': 4, 'drug_encoding': 'Morgan'}.\n",
      "[INFO 12-27 21:43:49] ax.service.ax_client: Generated new trial 8 with parameters {'lr': 0.009496, 'batch_size': 128, 'train_epochs': 5, 'mlp_hidden_dims_drug': 256, 'mlp_num_layers_drug': 1, 'drug_encoding': 'Morgan'}.\n",
      "[INFO 12-27 21:43:50] ax.service.ax_client: Generated new trial 9 with parameters {'lr': 0.003246, 'batch_size': 32, 'train_epochs': 5, 'mlp_hidden_dims_drug': 128, 'mlp_num_layers_drug': 3, 'drug_encoding': 'Morgan'}.\n",
      "\u001b[2m\u001b[36m(pid=2662684)\u001b[0m WARNING:root:No normalization for BCUT2D_MWHI\n",
      "\u001b[2m\u001b[36m(pid=2662684)\u001b[0m WARNING:root:No normalization for BCUT2D_MWLOW\n",
      "\u001b[2m\u001b[36m(pid=2662684)\u001b[0m WARNING:root:No normalization for BCUT2D_CHGHI\n",
      "\u001b[2m\u001b[36m(pid=2662684)\u001b[0m WARNING:root:No normalization for BCUT2D_CHGLO\n",
      "\u001b[2m\u001b[36m(pid=2662684)\u001b[0m WARNING:root:No normalization for BCUT2D_LOGPHI\n",
      "\u001b[2m\u001b[36m(pid=2662684)\u001b[0m WARNING:root:No normalization for BCUT2D_LOGPLOW\n",
      "\u001b[2m\u001b[36m(pid=2662684)\u001b[0m WARNING:root:No normalization for BCUT2D_MRHI\n",
      "\u001b[2m\u001b[36m(pid=2662684)\u001b[0m WARNING:root:No normalization for BCUT2D_MRLOW\n",
      "\u001b[2m\u001b[36m(pid=2662683)\u001b[0m WARNING:root:No normalization for BCUT2D_MWHI\n",
      "\u001b[2m\u001b[36m(pid=2662683)\u001b[0m WARNING:root:No normalization for BCUT2D_MWLOW\n",
      "\u001b[2m\u001b[36m(pid=2662683)\u001b[0m WARNING:root:No normalization for BCUT2D_CHGHI\n",
      "\u001b[2m\u001b[36m(pid=2662683)\u001b[0m WARNING:root:No normalization for BCUT2D_CHGLO\n",
      "\u001b[2m\u001b[36m(pid=2662683)\u001b[0m WARNING:root:No normalization for BCUT2D_LOGPHI\n",
      "\u001b[2m\u001b[36m(pid=2662683)\u001b[0m WARNING:root:No normalization for BCUT2D_LOGPLOW\n",
      "\u001b[2m\u001b[36m(pid=2662683)\u001b[0m WARNING:root:No normalization for BCUT2D_MRHI\n",
      "\u001b[2m\u001b[36m(pid=2662683)\u001b[0m WARNING:root:No normalization for BCUT2D_MRLOW\n",
      "\u001b[2m\u001b[36m(pid=2662681)\u001b[0m WARNING:root:No normalization for BCUT2D_MWHI\n",
      "\u001b[2m\u001b[36m(pid=2662681)\u001b[0m WARNING:root:No normalization for BCUT2D_MWLOW\n",
      "\u001b[2m\u001b[36m(pid=2662681)\u001b[0m WARNING:root:No normalization for BCUT2D_CHGHI\n",
      "\u001b[2m\u001b[36m(pid=2662681)\u001b[0m WARNING:root:No normalization for BCUT2D_CHGLO\n",
      "\u001b[2m\u001b[36m(pid=2662681)\u001b[0m WARNING:root:No normalization for BCUT2D_LOGPHI\n",
      "\u001b[2m\u001b[36m(pid=2662681)\u001b[0m WARNING:root:No normalization for BCUT2D_LOGPLOW\n",
      "\u001b[2m\u001b[36m(pid=2662681)\u001b[0m WARNING:root:No normalization for BCUT2D_MRHI\n",
      "\u001b[2m\u001b[36m(pid=2662681)\u001b[0m WARNING:root:No normalization for BCUT2D_MRLOW\n",
      "\u001b[2m\u001b[36m(pid=2662682)\u001b[0m WARNING:root:No normalization for BCUT2D_MWHI\n",
      "\u001b[2m\u001b[36m(pid=2662682)\u001b[0m WARNING:root:No normalization for BCUT2D_MWLOW\n",
      "\u001b[2m\u001b[36m(pid=2662682)\u001b[0m WARNING:root:No normalization for BCUT2D_CHGHI\n",
      "\u001b[2m\u001b[36m(pid=2662682)\u001b[0m WARNING:root:No normalization for BCUT2D_CHGLO\n",
      "\u001b[2m\u001b[36m(pid=2662682)\u001b[0m WARNING:root:No normalization for BCUT2D_LOGPHI\n",
      "\u001b[2m\u001b[36m(pid=2662682)\u001b[0m WARNING:root:No normalization for BCUT2D_LOGPLOW\n",
      "\u001b[2m\u001b[36m(pid=2662682)\u001b[0m WARNING:root:No normalization for BCUT2D_MRHI\n",
      "\u001b[2m\u001b[36m(pid=2662682)\u001b[0m WARNING:root:No normalization for BCUT2D_MRLOW\n"
     ]
    },
    {
     "name": "stdout",
     "output_type": "stream",
     "text": [
      "\u001b[2m\u001b[36m(train_fn pid=2661826)\u001b[0m Done.\n",
      "\u001b[2m\u001b[36m(train_fn pid=2659134)\u001b[0m Done.\n",
      "\u001b[2m\u001b[36m(train_fn pid=2662683)\u001b[0m Drug Property Prediction Mode...\n",
      "\u001b[2m\u001b[36m(train_fn pid=2662683)\u001b[0m in total: 13445 drugs\n",
      "\u001b[2m\u001b[36m(train_fn pid=2662683)\u001b[0m encoding drug...\n",
      "\u001b[2m\u001b[36m(train_fn pid=2662683)\u001b[0m unique drugs: 13445\n",
      "\u001b[2m\u001b[36m(train_fn pid=2662681)\u001b[0m Drug Property Prediction Mode...\n",
      "\u001b[2m\u001b[36m(train_fn pid=2662681)\u001b[0m in total: 13445 drugs\n",
      "\u001b[2m\u001b[36m(train_fn pid=2662681)\u001b[0m encoding drug...\n",
      "\u001b[2m\u001b[36m(train_fn pid=2662681)\u001b[0m unique drugs: 13445\n",
      "\u001b[2m\u001b[36m(train_fn pid=2662684)\u001b[0m Drug Property Prediction Mode...\n",
      "\u001b[2m\u001b[36m(train_fn pid=2662684)\u001b[0m in total: 13445 drugs\n",
      "\u001b[2m\u001b[36m(train_fn pid=2662684)\u001b[0m encoding drug...\n",
      "\u001b[2m\u001b[36m(train_fn pid=2662684)\u001b[0m unique drugs: 13445\n",
      "\u001b[2m\u001b[36m(train_fn pid=2662682)\u001b[0m Drug Property Prediction Mode...\n",
      "\u001b[2m\u001b[36m(train_fn pid=2662682)\u001b[0m in total: 13445 drugs\n",
      "\u001b[2m\u001b[36m(train_fn pid=2662682)\u001b[0m encoding drug...\n",
      "\u001b[2m\u001b[36m(train_fn pid=2662682)\u001b[0m unique drugs: 13445\n"
     ]
    },
    {
     "name": "stderr",
     "output_type": "stream",
     "text": [
      "[INFO 12-27 21:44:59] ax.service.ax_client: Completed trial 1 with data: {'pr_auc': (0.885447, None)}.\n"
     ]
    },
    {
     "name": "stdout",
     "output_type": "stream",
     "text": [
      "\u001b[2m\u001b[36m(train_fn pid=2660059)\u001b[0m Drug Property Prediction Mode...\n",
      "\u001b[2m\u001b[36m(train_fn pid=2660059)\u001b[0m in total: 13445 drugs\n",
      "\u001b[2m\u001b[36m(train_fn pid=2660059)\u001b[0m encoding drug...\n",
      "\u001b[2m\u001b[36m(train_fn pid=2660059)\u001b[0m unique drugs: 13445\n",
      "\u001b[2m\u001b[36m(train_fn pid=2662681)\u001b[0m Done.\n",
      "\u001b[2m\u001b[36m(train_fn pid=2662683)\u001b[0m Done.\n",
      "\u001b[2m\u001b[36m(train_fn pid=2662684)\u001b[0m Done.\n",
      "\u001b[2m\u001b[36m(train_fn pid=2662682)\u001b[0m Done.\n"
     ]
    },
    {
     "name": "stderr",
     "output_type": "stream",
     "text": [
      "[INFO 12-27 21:45:53] ax.service.ax_client: Completed trial 5 with data: {'pr_auc': (0.873054, None)}.\n"
     ]
    },
    {
     "name": "stdout",
     "output_type": "stream",
     "text": [
      "\u001b[2m\u001b[36m(train_fn pid=2660059)\u001b[0m Done.\n"
     ]
    },
    {
     "name": "stderr",
     "output_type": "stream",
     "text": [
      "[INFO 12-27 21:46:47] ax.service.ax_client: Completed trial 3 with data: {'pr_auc': (0.878732, None)}.\n",
      "[INFO 12-27 21:47:23] ax.service.ax_client: Completed trial 9 with data: {'pr_auc': (0.890128, None)}.\n",
      "[INFO 12-27 21:53:46] ax.service.ax_client: Generated new trial 10 with parameters {'lr': 0.004104, 'batch_size': 32, 'train_epochs': 3, 'mlp_hidden_dims_drug': 256, 'mlp_num_layers_drug': 5, 'drug_encoding': 'Morgan'}.\n",
      "2022-12-27 21:53:47,398\tWARNING trial_runner.py:988 -- Trial Runner checkpointing failed: Can't pickle <function TriangularLinearOperator.to_dense at 0x7f44d279b9d0>: it's not the same object as linear_operator.operators.triangular_linear_operator.TriangularLinearOperator.to_dense\n",
      "\u001b[2m\u001b[36m(pid=2671895)\u001b[0m WARNING:root:No normalization for BCUT2D_MWHI\n",
      "\u001b[2m\u001b[36m(pid=2671895)\u001b[0m WARNING:root:No normalization for BCUT2D_MWLOW\n",
      "\u001b[2m\u001b[36m(pid=2671895)\u001b[0m WARNING:root:No normalization for BCUT2D_CHGHI\n",
      "\u001b[2m\u001b[36m(pid=2671895)\u001b[0m WARNING:root:No normalization for BCUT2D_CHGLO\n",
      "\u001b[2m\u001b[36m(pid=2671895)\u001b[0m WARNING:root:No normalization for BCUT2D_LOGPHI\n",
      "\u001b[2m\u001b[36m(pid=2671895)\u001b[0m WARNING:root:No normalization for BCUT2D_LOGPLOW\n",
      "\u001b[2m\u001b[36m(pid=2671895)\u001b[0m WARNING:root:No normalization for BCUT2D_MRHI\n",
      "\u001b[2m\u001b[36m(pid=2671895)\u001b[0m WARNING:root:No normalization for BCUT2D_MRLOW\n"
     ]
    },
    {
     "name": "stdout",
     "output_type": "stream",
     "text": [
      "\u001b[2m\u001b[36m(train_fn pid=2671895)\u001b[0m Drug Property Prediction Mode...\n",
      "\u001b[2m\u001b[36m(train_fn pid=2671895)\u001b[0m in total: 13445 drugs\n",
      "\u001b[2m\u001b[36m(train_fn pid=2671895)\u001b[0m encoding drug...\n",
      "\u001b[2m\u001b[36m(train_fn pid=2671895)\u001b[0m unique drugs: 13445\n",
      "\u001b[2m\u001b[36m(train_fn pid=2671895)\u001b[0m Done.\n"
     ]
    },
    {
     "name": "stderr",
     "output_type": "stream",
     "text": [
      "[INFO 12-27 22:02:51] ax.service.ax_client: Generated new trial 11 with parameters {'lr': 0.007244, 'batch_size': 32, 'train_epochs': 10, 'mlp_hidden_dims_drug': 64, 'mlp_num_layers_drug': 2, 'drug_encoding': 'Morgan'}.\n",
      "2022-12-27 22:02:53,553\tWARNING trial_runner.py:988 -- Trial Runner checkpointing failed: Can't pickle <function TriangularLinearOperator.to_dense at 0x7f44d279b9d0>: it's not the same object as linear_operator.operators.triangular_linear_operator.TriangularLinearOperator.to_dense\n",
      "2022-12-27 22:02:54,711\tWARNING trial_runner.py:988 -- Trial Runner checkpointing failed: Can't pickle <function TriangularLinearOperator.to_dense at 0x7f44d279b9d0>: it's not the same object as linear_operator.operators.triangular_linear_operator.TriangularLinearOperator.to_dense\n",
      "\u001b[2m\u001b[36m(pid=2679732)\u001b[0m WARNING:root:No normalization for BCUT2D_MWHI\n",
      "\u001b[2m\u001b[36m(pid=2679732)\u001b[0m WARNING:root:No normalization for BCUT2D_MWLOW\n",
      "\u001b[2m\u001b[36m(pid=2679732)\u001b[0m WARNING:root:No normalization for BCUT2D_CHGHI\n",
      "\u001b[2m\u001b[36m(pid=2679732)\u001b[0m WARNING:root:No normalization for BCUT2D_CHGLO\n",
      "\u001b[2m\u001b[36m(pid=2679732)\u001b[0m WARNING:root:No normalization for BCUT2D_LOGPHI\n",
      "\u001b[2m\u001b[36m(pid=2679732)\u001b[0m WARNING:root:No normalization for BCUT2D_LOGPLOW\n",
      "\u001b[2m\u001b[36m(pid=2679732)\u001b[0m WARNING:root:No normalization for BCUT2D_MRHI\n",
      "\u001b[2m\u001b[36m(pid=2679732)\u001b[0m WARNING:root:No normalization for BCUT2D_MRLOW\n"
     ]
    },
    {
     "name": "stdout",
     "output_type": "stream",
     "text": [
      "\u001b[2m\u001b[36m(train_fn pid=2679732)\u001b[0m Drug Property Prediction Mode...\n",
      "\u001b[2m\u001b[36m(train_fn pid=2679732)\u001b[0m in total: 13445 drugs\n",
      "\u001b[2m\u001b[36m(train_fn pid=2679732)\u001b[0m encoding drug...\n",
      "\u001b[2m\u001b[36m(train_fn pid=2679732)\u001b[0m unique drugs: 13445\n",
      "\u001b[2m\u001b[36m(train_fn pid=2679732)\u001b[0m Done.\n"
     ]
    },
    {
     "name": "stderr",
     "output_type": "stream",
     "text": [
      "[INFO 12-27 22:12:35] ax.service.ax_client: Generated new trial 12 with parameters {'lr': 0.001673, 'batch_size': 32, 'train_epochs': 3, 'mlp_hidden_dims_drug': 256, 'mlp_num_layers_drug': 3, 'drug_encoding': 'Morgan'}.\n",
      "2022-12-27 22:12:36,254\tWARNING trial_runner.py:988 -- Trial Runner checkpointing failed: Can't pickle <function TriangularLinearOperator.to_dense at 0x7f44d279b9d0>: it's not the same object as linear_operator.operators.triangular_linear_operator.TriangularLinearOperator.to_dense\n",
      "2022-12-27 22:12:36,930\tWARNING trial_runner.py:988 -- Trial Runner checkpointing failed: Can't pickle <function TriangularLinearOperator.to_dense at 0x7f44d279b9d0>: it's not the same object as linear_operator.operators.triangular_linear_operator.TriangularLinearOperator.to_dense\n",
      "[INFO 12-27 22:12:45] ax.service.ax_client: Completed trial 10 with data: {'pr_auc': (0.876312, None)}.\n",
      "\u001b[2m\u001b[36m(pid=2707597)\u001b[0m WARNING:root:No normalization for BCUT2D_MWHI\n",
      "\u001b[2m\u001b[36m(pid=2707597)\u001b[0m WARNING:root:No normalization for BCUT2D_MWLOW\n",
      "\u001b[2m\u001b[36m(pid=2707597)\u001b[0m WARNING:root:No normalization for BCUT2D_CHGHI\n",
      "\u001b[2m\u001b[36m(pid=2707597)\u001b[0m WARNING:root:No normalization for BCUT2D_CHGLO\n",
      "\u001b[2m\u001b[36m(pid=2707597)\u001b[0m WARNING:root:No normalization for BCUT2D_LOGPHI\n",
      "\u001b[2m\u001b[36m(pid=2707597)\u001b[0m WARNING:root:No normalization for BCUT2D_LOGPLOW\n",
      "\u001b[2m\u001b[36m(pid=2707597)\u001b[0m WARNING:root:No normalization for BCUT2D_MRHI\n",
      "\u001b[2m\u001b[36m(pid=2707597)\u001b[0m WARNING:root:No normalization for BCUT2D_MRLOW\n"
     ]
    },
    {
     "name": "stdout",
     "output_type": "stream",
     "text": [
      "\u001b[2m\u001b[36m(train_fn pid=2707597)\u001b[0m Drug Property Prediction Mode...\n",
      "\u001b[2m\u001b[36m(train_fn pid=2707597)\u001b[0m in total: 13445 drugs\n",
      "\u001b[2m\u001b[36m(train_fn pid=2707597)\u001b[0m encoding drug...\n",
      "\u001b[2m\u001b[36m(train_fn pid=2707597)\u001b[0m unique drugs: 13445\n",
      "\u001b[2m\u001b[36m(train_fn pid=2707597)\u001b[0m Done.\n"
     ]
    },
    {
     "name": "stderr",
     "output_type": "stream",
     "text": [
      "[INFO 12-27 22:24:40] ax.service.ax_client: Generated new trial 13 with parameters {'lr': 0.00184, 'batch_size': 32, 'train_epochs': 10, 'mlp_hidden_dims_drug': 256, 'mlp_num_layers_drug': 3, 'drug_encoding': 'Morgan'}.\n",
      "2022-12-27 22:24:40,398\tWARNING trial_runner.py:988 -- Trial Runner checkpointing failed: Can't pickle <function TriangularLinearOperator.to_dense at 0x7f44d279b9d0>: it's not the same object as linear_operator.operators.triangular_linear_operator.TriangularLinearOperator.to_dense\n",
      "[INFO 12-27 22:24:40] ax.service.ax_client: Completed trial 4 with data: {'pr_auc': (0.897036, None)}.\n",
      "2022-12-27 22:24:40,893\tWARNING trial_runner.py:988 -- Trial Runner checkpointing failed: Can't pickle <function TriangularLinearOperator.to_dense at 0x7f44d279b9d0>: it's not the same object as linear_operator.operators.triangular_linear_operator.TriangularLinearOperator.to_dense\n"
     ]
    },
    {
     "name": "stdout",
     "output_type": "stream",
     "text": [
      "\u001b[2m\u001b[36m(train_fn pid=2662681)\u001b[0m Drug Property Prediction Mode...\n",
      "\u001b[2m\u001b[36m(train_fn pid=2662681)\u001b[0m in total: 13445 drugs\n",
      "\u001b[2m\u001b[36m(train_fn pid=2662681)\u001b[0m encoding drug...\n",
      "\u001b[2m\u001b[36m(train_fn pid=2662681)\u001b[0m unique drugs: 13445\n"
     ]
    },
    {
     "name": "stderr",
     "output_type": "stream",
     "text": [
      "2022-12-27 22:24:41,510\tWARNING trial_runner.py:988 -- Trial Runner checkpointing failed: Can't pickle <function TriangularLinearOperator.to_dense at 0x7f44d279b9d0>: it's not the same object as linear_operator.operators.triangular_linear_operator.TriangularLinearOperator.to_dense\n",
      "[INFO 12-27 22:25:19] ax.service.ax_client: Completed trial 8 with data: {'pr_auc': (0.887254, None)}.\n"
     ]
    },
    {
     "name": "stdout",
     "output_type": "stream",
     "text": [
      "\u001b[2m\u001b[36m(train_fn pid=2662681)\u001b[0m Done.\n"
     ]
    },
    {
     "name": "stderr",
     "output_type": "stream",
     "text": [
      "[INFO 12-27 22:25:37] ax.service.ax_client: Completed trial 2 with data: {'pr_auc': (0.903953, None)}.\n",
      "[INFO 12-27 22:25:45] ax.service.ax_client: Completed trial 11 with data: {'pr_auc': (0.87679, None)}.\n",
      "[INFO 12-27 22:30:13] ax.service.ax_client: Generated new trial 14 with parameters {'lr': 0.000426, 'batch_size': 128, 'train_epochs': 15, 'mlp_hidden_dims_drug': 256, 'mlp_num_layers_drug': 3, 'drug_encoding': 'Morgan'}.\n",
      "[INFO 12-27 22:30:13] ax.service.ax_client: Completed trial 6 with data: {'pr_auc': (0.889701, None)}.\n",
      "2022-12-27 22:30:14,388\tWARNING trial_runner.py:988 -- Trial Runner checkpointing failed: Can't pickle <function TriangularLinearOperator.to_dense at 0x7f44d279b9d0>: it's not the same object as linear_operator.operators.triangular_linear_operator.TriangularLinearOperator.to_dense\n"
     ]
    },
    {
     "name": "stdout",
     "output_type": "stream",
     "text": [
      "\u001b[2m\u001b[36m(train_fn pid=2662682)\u001b[0m Drug Property Prediction Mode...\n",
      "\u001b[2m\u001b[36m(train_fn pid=2662682)\u001b[0m in total: 13445 drugs\n",
      "\u001b[2m\u001b[36m(train_fn pid=2662682)\u001b[0m encoding drug...\n",
      "\u001b[2m\u001b[36m(train_fn pid=2662682)\u001b[0m unique drugs: 13445\n"
     ]
    },
    {
     "name": "stderr",
     "output_type": "stream",
     "text": [
      "2022-12-27 22:30:14,993\tWARNING trial_runner.py:988 -- Trial Runner checkpointing failed: Can't pickle <function TriangularLinearOperator.to_dense at 0x7f44d279b9d0>: it's not the same object as linear_operator.operators.triangular_linear_operator.TriangularLinearOperator.to_dense\n",
      "[INFO 12-27 22:30:39] ax.service.ax_client: Completed trial 12 with data: {'pr_auc': (0.873442, None)}.\n"
     ]
    },
    {
     "name": "stdout",
     "output_type": "stream",
     "text": [
      "\u001b[2m\u001b[36m(train_fn pid=2662682)\u001b[0m Done.\n"
     ]
    },
    {
     "name": "stderr",
     "output_type": "stream",
     "text": [
      "[INFO 12-27 22:35:23] ax.service.ax_client: Generated new trial 15 with parameters {'lr': 0.001487, 'batch_size': 256, 'train_epochs': 20, 'mlp_hidden_dims_drug': 256, 'mlp_num_layers_drug': 2, 'drug_encoding': 'Morgan'}.\n",
      "2022-12-27 22:35:24,375\tWARNING trial_runner.py:988 -- Trial Runner checkpointing failed: Can't pickle <function TriangularLinearOperator.to_dense at 0x7f44d279b9d0>: it's not the same object as linear_operator.operators.triangular_linear_operator.TriangularLinearOperator.to_dense\n",
      "2022-12-27 22:35:24,998\tWARNING trial_runner.py:988 -- Trial Runner checkpointing failed: Can't pickle <function TriangularLinearOperator.to_dense at 0x7f44d279b9d0>: it's not the same object as linear_operator.operators.triangular_linear_operator.TriangularLinearOperator.to_dense\n",
      "[INFO 12-27 22:35:32] ax.service.ax_client: Completed trial 7 with data: {'pr_auc': (0.90338, None)}.\n",
      "\u001b[2m\u001b[36m(pid=2751845)\u001b[0m WARNING:root:No normalization for BCUT2D_MWHI\n",
      "\u001b[2m\u001b[36m(pid=2751845)\u001b[0m WARNING:root:No normalization for BCUT2D_MWLOW\n",
      "\u001b[2m\u001b[36m(pid=2751845)\u001b[0m WARNING:root:No normalization for BCUT2D_CHGHI\n",
      "\u001b[2m\u001b[36m(pid=2751845)\u001b[0m WARNING:root:No normalization for BCUT2D_CHGLO\n",
      "\u001b[2m\u001b[36m(pid=2751845)\u001b[0m WARNING:root:No normalization for BCUT2D_LOGPHI\n",
      "\u001b[2m\u001b[36m(pid=2751845)\u001b[0m WARNING:root:No normalization for BCUT2D_LOGPLOW\n",
      "\u001b[2m\u001b[36m(pid=2751845)\u001b[0m WARNING:root:No normalization for BCUT2D_MRHI\n",
      "\u001b[2m\u001b[36m(pid=2751845)\u001b[0m WARNING:root:No normalization for BCUT2D_MRLOW\n"
     ]
    },
    {
     "name": "stdout",
     "output_type": "stream",
     "text": [
      "\u001b[2m\u001b[36m(train_fn pid=2751845)\u001b[0m Drug Property Prediction Mode...\n",
      "\u001b[2m\u001b[36m(train_fn pid=2751845)\u001b[0m in total: 13445 drugs\n",
      "\u001b[2m\u001b[36m(train_fn pid=2751845)\u001b[0m encoding drug...\n",
      "\u001b[2m\u001b[36m(train_fn pid=2751845)\u001b[0m unique drugs: 13445\n"
     ]
    },
    {
     "name": "stderr",
     "output_type": "stream",
     "text": [
      "[INFO 12-27 22:36:35] ax.service.ax_client: Completed trial 14 with data: {'pr_auc': (0.907383, None)}.\n"
     ]
    },
    {
     "name": "stdout",
     "output_type": "stream",
     "text": [
      "\u001b[2m\u001b[36m(train_fn pid=2751845)\u001b[0m Done.\n"
     ]
    },
    {
     "name": "stderr",
     "output_type": "stream",
     "text": [
      "[INFO 12-27 22:41:27] ax.service.ax_client: Generated new trial 16 with parameters {'lr': 0.000205, 'batch_size': 256, 'train_epochs': 20, 'mlp_hidden_dims_drug': 256, 'mlp_num_layers_drug': 4, 'drug_encoding': 'Morgan'}.\n",
      "[INFO 12-27 22:41:27] ax.service.ax_client: Completed trial 13 with data: {'pr_auc': (0.888547, None)}.\n",
      "2022-12-27 22:41:27,871\tWARNING trial_runner.py:988 -- Trial Runner checkpointing failed: Can't pickle <function TriangularLinearOperator.to_dense at 0x7f44d279b9d0>: it's not the same object as linear_operator.operators.triangular_linear_operator.TriangularLinearOperator.to_dense\n"
     ]
    },
    {
     "name": "stdout",
     "output_type": "stream",
     "text": [
      "\u001b[2m\u001b[36m(train_fn pid=2662681)\u001b[0m Drug Property Prediction Mode...\n",
      "\u001b[2m\u001b[36m(train_fn pid=2662681)\u001b[0m in total: 13445 drugs\n",
      "\u001b[2m\u001b[36m(train_fn pid=2662681)\u001b[0m encoding drug...\n",
      "\u001b[2m\u001b[36m(train_fn pid=2662681)\u001b[0m unique drugs: 13445\n"
     ]
    },
    {
     "name": "stderr",
     "output_type": "stream",
     "text": [
      "2022-12-27 22:41:28,359\tWARNING trial_runner.py:988 -- Trial Runner checkpointing failed: Can't pickle <function TriangularLinearOperator.to_dense at 0x7f44d279b9d0>: it's not the same object as linear_operator.operators.triangular_linear_operator.TriangularLinearOperator.to_dense\n"
     ]
    },
    {
     "name": "stdout",
     "output_type": "stream",
     "text": [
      "\u001b[2m\u001b[36m(train_fn pid=2662681)\u001b[0m Done.\n"
     ]
    },
    {
     "name": "stderr",
     "output_type": "stream",
     "text": [
      "[INFO 12-27 22:49:32] ax.service.ax_client: Generated new trial 17 with parameters {'lr': 0.000329, 'batch_size': 256, 'train_epochs': 15, 'mlp_hidden_dims_drug': 512, 'mlp_num_layers_drug': 3, 'drug_encoding': 'Morgan'}.\n",
      "2022-12-27 22:49:32,547\tWARNING trial_runner.py:988 -- Trial Runner checkpointing failed: Can't pickle <function TriangularLinearOperator.to_dense at 0x7f44d279b9d0>: it's not the same object as linear_operator.operators.triangular_linear_operator.TriangularLinearOperator.to_dense\n",
      "2022-12-27 22:49:33,109\tWARNING trial_runner.py:988 -- Trial Runner checkpointing failed: Can't pickle <function TriangularLinearOperator.to_dense at 0x7f44d279b9d0>: it's not the same object as linear_operator.operators.triangular_linear_operator.TriangularLinearOperator.to_dense\n",
      "\u001b[2m\u001b[36m(pid=2766889)\u001b[0m WARNING:root:No normalization for BCUT2D_MWHI\n",
      "\u001b[2m\u001b[36m(pid=2766889)\u001b[0m WARNING:root:No normalization for BCUT2D_MWLOW\n",
      "\u001b[2m\u001b[36m(pid=2766889)\u001b[0m WARNING:root:No normalization for BCUT2D_CHGHI\n",
      "\u001b[2m\u001b[36m(pid=2766889)\u001b[0m WARNING:root:No normalization for BCUT2D_CHGLO\n",
      "\u001b[2m\u001b[36m(pid=2766889)\u001b[0m WARNING:root:No normalization for BCUT2D_LOGPHI\n",
      "\u001b[2m\u001b[36m(pid=2766889)\u001b[0m WARNING:root:No normalization for BCUT2D_LOGPLOW\n",
      "\u001b[2m\u001b[36m(pid=2766889)\u001b[0m WARNING:root:No normalization for BCUT2D_MRHI\n",
      "\u001b[2m\u001b[36m(pid=2766889)\u001b[0m WARNING:root:No normalization for BCUT2D_MRLOW\n"
     ]
    },
    {
     "name": "stdout",
     "output_type": "stream",
     "text": [
      "\u001b[2m\u001b[36m(train_fn pid=2766889)\u001b[0m Drug Property Prediction Mode...\n",
      "\u001b[2m\u001b[36m(train_fn pid=2766889)\u001b[0m in total: 13445 drugs\n",
      "\u001b[2m\u001b[36m(train_fn pid=2766889)\u001b[0m encoding drug...\n",
      "\u001b[2m\u001b[36m(train_fn pid=2766889)\u001b[0m unique drugs: 13445\n"
     ]
    },
    {
     "name": "stderr",
     "output_type": "stream",
     "text": [
      "[INFO 12-27 22:50:50] ax.service.ax_client: Completed trial 15 with data: {'pr_auc': (0.902422, None)}.\n"
     ]
    },
    {
     "name": "stdout",
     "output_type": "stream",
     "text": [
      "\u001b[2m\u001b[36m(train_fn pid=2766889)\u001b[0m Done.\n"
     ]
    },
    {
     "name": "stderr",
     "output_type": "stream",
     "text": [
      "[INFO 12-27 22:56:14] ax.service.ax_client: Generated new trial 18 with parameters {'lr': 0.000218, 'batch_size': 128, 'train_epochs': 20, 'mlp_hidden_dims_drug': 256, 'mlp_num_layers_drug': 2, 'drug_encoding': 'Morgan'}.\n",
      "[INFO 12-27 22:56:14] ax.service.ax_client: Completed trial 16 with data: {'pr_auc': (0.913023, None)}.\n",
      "2022-12-27 22:56:15,611\tWARNING trial_runner.py:988 -- Trial Runner checkpointing failed: Can't pickle <function TriangularLinearOperator.to_dense at 0x7f44d279b9d0>: it's not the same object as linear_operator.operators.triangular_linear_operator.TriangularLinearOperator.to_dense\n",
      "2022-12-27 22:56:16,152\tWARNING trial_runner.py:988 -- Trial Runner checkpointing failed: Can't pickle <function TriangularLinearOperator.to_dense at 0x7f44d279b9d0>: it's not the same object as linear_operator.operators.triangular_linear_operator.TriangularLinearOperator.to_dense\n"
     ]
    },
    {
     "name": "stdout",
     "output_type": "stream",
     "text": [
      "\u001b[2m\u001b[36m(train_fn pid=2662681)\u001b[0m Drug Property Prediction Mode...\n",
      "\u001b[2m\u001b[36m(train_fn pid=2662681)\u001b[0m in total: 13445 drugs\n",
      "\u001b[2m\u001b[36m(train_fn pid=2662681)\u001b[0m encoding drug...\n",
      "\u001b[2m\u001b[36m(train_fn pid=2662681)\u001b[0m unique drugs: 13445\n",
      "\u001b[2m\u001b[36m(train_fn pid=2662681)\u001b[0m Done.\n"
     ]
    },
    {
     "name": "stderr",
     "output_type": "stream",
     "text": [
      "[INFO 12-27 23:08:26] ax.service.ax_client: Generated new trial 19 with parameters {'lr': 0.0001, 'batch_size': 128, 'train_epochs': 15, 'mlp_hidden_dims_drug': 256, 'mlp_num_layers_drug': 5, 'drug_encoding': 'Morgan'}.\n",
      "2022-12-27 23:08:27,196\tWARNING trial_runner.py:988 -- Trial Runner checkpointing failed: Can't pickle <function TriangularLinearOperator.to_dense at 0x7f44d279b9d0>: it's not the same object as linear_operator.operators.triangular_linear_operator.TriangularLinearOperator.to_dense\n",
      "2022-12-27 23:08:27,749\tWARNING trial_runner.py:988 -- Trial Runner checkpointing failed: Can't pickle <function TriangularLinearOperator.to_dense at 0x7f44d279b9d0>: it's not the same object as linear_operator.operators.triangular_linear_operator.TriangularLinearOperator.to_dense\n",
      "[INFO 12-27 23:08:42] ax.service.ax_client: Completed trial 17 with data: {'pr_auc': (0.911628, None)}.\n",
      "\u001b[2m\u001b[36m(pid=2808730)\u001b[0m WARNING:root:No normalization for BCUT2D_MWHI\n",
      "\u001b[2m\u001b[36m(pid=2808730)\u001b[0m WARNING:root:No normalization for BCUT2D_MWLOW\n",
      "\u001b[2m\u001b[36m(pid=2808730)\u001b[0m WARNING:root:No normalization for BCUT2D_CHGHI\n",
      "\u001b[2m\u001b[36m(pid=2808730)\u001b[0m WARNING:root:No normalization for BCUT2D_CHGLO\n",
      "\u001b[2m\u001b[36m(pid=2808730)\u001b[0m WARNING:root:No normalization for BCUT2D_LOGPHI\n",
      "\u001b[2m\u001b[36m(pid=2808730)\u001b[0m WARNING:root:No normalization for BCUT2D_LOGPLOW\n",
      "\u001b[2m\u001b[36m(pid=2808730)\u001b[0m WARNING:root:No normalization for BCUT2D_MRHI\n",
      "\u001b[2m\u001b[36m(pid=2808730)\u001b[0m WARNING:root:No normalization for BCUT2D_MRLOW\n"
     ]
    },
    {
     "name": "stdout",
     "output_type": "stream",
     "text": [
      "\u001b[2m\u001b[36m(train_fn pid=2808730)\u001b[0m Drug Property Prediction Mode...\n",
      "\u001b[2m\u001b[36m(train_fn pid=2808730)\u001b[0m in total: 13445 drugs\n",
      "\u001b[2m\u001b[36m(train_fn pid=2808730)\u001b[0m encoding drug...\n",
      "\u001b[2m\u001b[36m(train_fn pid=2808730)\u001b[0m unique drugs: 13445\n",
      "\u001b[2m\u001b[36m(train_fn pid=2808730)\u001b[0m Done.\n"
     ]
    },
    {
     "name": "stderr",
     "output_type": "stream",
     "text": [
      "[INFO 12-27 23:18:46] ax.service.ax_client: Generated new trial 20 with parameters {'lr': 0.000103, 'batch_size': 256, 'train_epochs': 15, 'mlp_hidden_dims_drug': 256, 'mlp_num_layers_drug': 3, 'drug_encoding': 'Morgan'}.\n",
      "2022-12-27 23:18:46,648\tWARNING trial_runner.py:988 -- Trial Runner checkpointing failed: Can't pickle <function TriangularLinearOperator.to_dense at 0x7f44d279b9d0>: it's not the same object as linear_operator.operators.triangular_linear_operator.TriangularLinearOperator.to_dense\n",
      "2022-12-27 23:18:47,135\tWARNING trial_runner.py:988 -- Trial Runner checkpointing failed: Can't pickle <function TriangularLinearOperator.to_dense at 0x7f44d279b9d0>: it's not the same object as linear_operator.operators.triangular_linear_operator.TriangularLinearOperator.to_dense\n",
      "\u001b[2m\u001b[36m(pid=2820866)\u001b[0m WARNING:root:No normalization for BCUT2D_MWHI\n",
      "\u001b[2m\u001b[36m(pid=2820866)\u001b[0m WARNING:root:No normalization for BCUT2D_MWLOW\n",
      "\u001b[2m\u001b[36m(pid=2820866)\u001b[0m WARNING:root:No normalization for BCUT2D_CHGHI\n",
      "\u001b[2m\u001b[36m(pid=2820866)\u001b[0m WARNING:root:No normalization for BCUT2D_CHGLO\n",
      "\u001b[2m\u001b[36m(pid=2820866)\u001b[0m WARNING:root:No normalization for BCUT2D_LOGPHI\n",
      "\u001b[2m\u001b[36m(pid=2820866)\u001b[0m WARNING:root:No normalization for BCUT2D_LOGPLOW\n",
      "\u001b[2m\u001b[36m(pid=2820866)\u001b[0m WARNING:root:No normalization for BCUT2D_MRHI\n",
      "\u001b[2m\u001b[36m(pid=2820866)\u001b[0m WARNING:root:No normalization for BCUT2D_MRLOW\n"
     ]
    },
    {
     "name": "stdout",
     "output_type": "stream",
     "text": [
      "\u001b[2m\u001b[36m(train_fn pid=2820866)\u001b[0m Drug Property Prediction Mode...\n",
      "\u001b[2m\u001b[36m(train_fn pid=2820866)\u001b[0m in total: 13445 drugs\n",
      "\u001b[2m\u001b[36m(train_fn pid=2820866)\u001b[0m encoding drug...\n",
      "\u001b[2m\u001b[36m(train_fn pid=2820866)\u001b[0m unique drugs: 13445\n"
     ]
    },
    {
     "name": "stderr",
     "output_type": "stream",
     "text": [
      "[INFO 12-27 23:20:01] ax.service.ax_client: Completed trial 19 with data: {'pr_auc': (0.900607, None)}.\n"
     ]
    },
    {
     "name": "stdout",
     "output_type": "stream",
     "text": [
      "\u001b[2m\u001b[36m(train_fn pid=2820866)\u001b[0m Done.\n"
     ]
    },
    {
     "name": "stderr",
     "output_type": "stream",
     "text": [
      "[INFO 12-27 23:33:32] ax.service.ax_client: Generated new trial 21 with parameters {'lr': 0.000171, 'batch_size': 256, 'train_epochs': 20, 'mlp_hidden_dims_drug': 512, 'mlp_num_layers_drug': 3, 'drug_encoding': 'Morgan'}.\n",
      "2022-12-27 23:33:32,602\tWARNING trial_runner.py:988 -- Trial Runner checkpointing failed: Can't pickle <function TriangularLinearOperator.to_dense at 0x7f44d279b9d0>: it's not the same object as linear_operator.operators.triangular_linear_operator.TriangularLinearOperator.to_dense\n",
      "2022-12-27 23:33:33,051\tWARNING trial_runner.py:988 -- Trial Runner checkpointing failed: Can't pickle <function TriangularLinearOperator.to_dense at 0x7f44d279b9d0>: it's not the same object as linear_operator.operators.triangular_linear_operator.TriangularLinearOperator.to_dense\n",
      "[INFO 12-27 23:33:51] ax.service.ax_client: Completed trial 18 with data: {'pr_auc': (0.910857, None)}.\n",
      "\u001b[2m\u001b[36m(pid=2838229)\u001b[0m WARNING:root:No normalization for BCUT2D_MWHI\n",
      "\u001b[2m\u001b[36m(pid=2838229)\u001b[0m WARNING:root:No normalization for BCUT2D_MWLOW\n",
      "\u001b[2m\u001b[36m(pid=2838229)\u001b[0m WARNING:root:No normalization for BCUT2D_CHGHI\n",
      "\u001b[2m\u001b[36m(pid=2838229)\u001b[0m WARNING:root:No normalization for BCUT2D_CHGLO\n",
      "\u001b[2m\u001b[36m(pid=2838229)\u001b[0m WARNING:root:No normalization for BCUT2D_LOGPHI\n",
      "\u001b[2m\u001b[36m(pid=2838229)\u001b[0m WARNING:root:No normalization for BCUT2D_LOGPLOW\n",
      "\u001b[2m\u001b[36m(pid=2838229)\u001b[0m WARNING:root:No normalization for BCUT2D_MRHI\n",
      "\u001b[2m\u001b[36m(pid=2838229)\u001b[0m WARNING:root:No normalization for BCUT2D_MRLOW\n"
     ]
    },
    {
     "name": "stdout",
     "output_type": "stream",
     "text": [
      "\u001b[2m\u001b[36m(train_fn pid=2838229)\u001b[0m Drug Property Prediction Mode...\n",
      "\u001b[2m\u001b[36m(train_fn pid=2838229)\u001b[0m in total: 13445 drugs\n",
      "\u001b[2m\u001b[36m(train_fn pid=2838229)\u001b[0m encoding drug...\n",
      "\u001b[2m\u001b[36m(train_fn pid=2838229)\u001b[0m unique drugs: 13445\n",
      "\u001b[2m\u001b[36m(train_fn pid=2838229)\u001b[0m Done.\n"
     ]
    },
    {
     "name": "stderr",
     "output_type": "stream",
     "text": [
      "[INFO 12-27 23:43:11] ax.service.ax_client: Generated new trial 22 with parameters {'lr': 0.000188, 'batch_size': 128, 'train_epochs': 20, 'mlp_hidden_dims_drug': 512, 'mlp_num_layers_drug': 3, 'drug_encoding': 'Morgan'}.\n",
      "2022-12-27 23:43:11,671\tWARNING trial_runner.py:988 -- Trial Runner checkpointing failed: Can't pickle <function TriangularLinearOperator.to_dense at 0x7f44d279b9d0>: it's not the same object as linear_operator.operators.triangular_linear_operator.TriangularLinearOperator.to_dense\n",
      "2022-12-27 23:43:12,352\tWARNING trial_runner.py:988 -- Trial Runner checkpointing failed: Can't pickle <function TriangularLinearOperator.to_dense at 0x7f44d279b9d0>: it's not the same object as linear_operator.operators.triangular_linear_operator.TriangularLinearOperator.to_dense\n",
      "[INFO 12-27 23:43:40] ax.service.ax_client: Completed trial 20 with data: {'pr_auc': (0.901822, None)}.\n",
      "\u001b[2m\u001b[36m(pid=2851300)\u001b[0m WARNING:root:No normalization for BCUT2D_MWHI\n",
      "\u001b[2m\u001b[36m(pid=2851300)\u001b[0m WARNING:root:No normalization for BCUT2D_MWLOW\n",
      "\u001b[2m\u001b[36m(pid=2851300)\u001b[0m WARNING:root:No normalization for BCUT2D_CHGHI\n",
      "\u001b[2m\u001b[36m(pid=2851300)\u001b[0m WARNING:root:No normalization for BCUT2D_CHGLO\n",
      "\u001b[2m\u001b[36m(pid=2851300)\u001b[0m WARNING:root:No normalization for BCUT2D_LOGPHI\n",
      "\u001b[2m\u001b[36m(pid=2851300)\u001b[0m WARNING:root:No normalization for BCUT2D_LOGPLOW\n",
      "\u001b[2m\u001b[36m(pid=2851300)\u001b[0m WARNING:root:No normalization for BCUT2D_MRHI\n",
      "\u001b[2m\u001b[36m(pid=2851300)\u001b[0m WARNING:root:No normalization for BCUT2D_MRLOW\n"
     ]
    },
    {
     "name": "stdout",
     "output_type": "stream",
     "text": [
      "\u001b[2m\u001b[36m(train_fn pid=2851300)\u001b[0m Drug Property Prediction Mode...\n",
      "\u001b[2m\u001b[36m(train_fn pid=2851300)\u001b[0m in total: 13445 drugs\n",
      "\u001b[2m\u001b[36m(train_fn pid=2851300)\u001b[0m encoding drug...\n",
      "\u001b[2m\u001b[36m(train_fn pid=2851300)\u001b[0m unique drugs: 13445\n",
      "\u001b[2m\u001b[36m(train_fn pid=2851300)\u001b[0m Done.\n"
     ]
    },
    {
     "name": "stderr",
     "output_type": "stream",
     "text": [
      "[INFO 12-28 00:00:03] ax.service.ax_client: Generated new trial 23 with parameters {'lr': 0.000391, 'batch_size': 128, 'train_epochs': 15, 'mlp_hidden_dims_drug': 512, 'mlp_num_layers_drug': 1, 'drug_encoding': 'Morgan'}.\n",
      "[INFO 12-28 00:00:03] ax.service.ax_client: Completed trial 21 with data: {'pr_auc': (0.909943, None)}.\n",
      "2022-12-28 00:00:03,620\tWARNING trial_runner.py:988 -- Trial Runner checkpointing failed: Can't pickle <function TriangularLinearOperator.to_dense at 0x7f44d279b9d0>: it's not the same object as linear_operator.operators.triangular_linear_operator.TriangularLinearOperator.to_dense\n"
     ]
    },
    {
     "name": "stdout",
     "output_type": "stream",
     "text": [
      "\u001b[2m\u001b[36m(train_fn pid=2838229)\u001b[0m Drug Property Prediction Mode...\n",
      "\u001b[2m\u001b[36m(train_fn pid=2838229)\u001b[0m in total: 13445 drugs\n",
      "\u001b[2m\u001b[36m(train_fn pid=2838229)\u001b[0m encoding drug...\n",
      "\u001b[2m\u001b[36m(train_fn pid=2838229)\u001b[0m unique drugs: 13445\n"
     ]
    },
    {
     "name": "stderr",
     "output_type": "stream",
     "text": [
      "2022-12-28 00:00:04,318\tWARNING trial_runner.py:988 -- Trial Runner checkpointing failed: Can't pickle <function TriangularLinearOperator.to_dense at 0x7f44d279b9d0>: it's not the same object as linear_operator.operators.triangular_linear_operator.TriangularLinearOperator.to_dense\n"
     ]
    },
    {
     "name": "stdout",
     "output_type": "stream",
     "text": [
      "\u001b[2m\u001b[36m(train_fn pid=2838229)\u001b[0m Done.\n"
     ]
    },
    {
     "name": "stderr",
     "output_type": "stream",
     "text": [
      "[INFO 12-28 00:09:53] ax.service.ax_client: Generated new trial 24 with parameters {'lr': 0.000282, 'batch_size': 256, 'train_epochs': 20, 'mlp_hidden_dims_drug': 512, 'mlp_num_layers_drug': 4, 'drug_encoding': 'Morgan'}.\n",
      "2022-12-28 00:09:54,374\tWARNING trial_runner.py:988 -- Trial Runner checkpointing failed: Can't pickle <function TriangularLinearOperator.to_dense at 0x7f44d279b9d0>: it's not the same object as linear_operator.operators.triangular_linear_operator.TriangularLinearOperator.to_dense\n",
      "2022-12-28 00:09:54,919\tWARNING trial_runner.py:988 -- Trial Runner checkpointing failed: Can't pickle <function TriangularLinearOperator.to_dense at 0x7f44d279b9d0>: it's not the same object as linear_operator.operators.triangular_linear_operator.TriangularLinearOperator.to_dense\n",
      "\u001b[2m\u001b[36m(pid=2932249)\u001b[0m WARNING:root:No normalization for BCUT2D_MWHI\n",
      "\u001b[2m\u001b[36m(pid=2932249)\u001b[0m WARNING:root:No normalization for BCUT2D_MWLOW\n",
      "\u001b[2m\u001b[36m(pid=2932249)\u001b[0m WARNING:root:No normalization for BCUT2D_CHGHI\n",
      "\u001b[2m\u001b[36m(pid=2932249)\u001b[0m WARNING:root:No normalization for BCUT2D_CHGLO\n",
      "\u001b[2m\u001b[36m(pid=2932249)\u001b[0m WARNING:root:No normalization for BCUT2D_LOGPHI\n",
      "\u001b[2m\u001b[36m(pid=2932249)\u001b[0m WARNING:root:No normalization for BCUT2D_LOGPLOW\n",
      "\u001b[2m\u001b[36m(pid=2932249)\u001b[0m WARNING:root:No normalization for BCUT2D_MRHI\n",
      "\u001b[2m\u001b[36m(pid=2932249)\u001b[0m WARNING:root:No normalization for BCUT2D_MRLOW\n"
     ]
    },
    {
     "name": "stdout",
     "output_type": "stream",
     "text": [
      "\u001b[2m\u001b[36m(train_fn pid=2932249)\u001b[0m Drug Property Prediction Mode...\n",
      "\u001b[2m\u001b[36m(train_fn pid=2932249)\u001b[0m in total: 13445 drugs\n",
      "\u001b[2m\u001b[36m(train_fn pid=2932249)\u001b[0m encoding drug...\n",
      "\u001b[2m\u001b[36m(train_fn pid=2932249)\u001b[0m unique drugs: 13445\n"
     ]
    },
    {
     "name": "stderr",
     "output_type": "stream",
     "text": [
      "[INFO 12-28 00:11:36] ax.service.ax_client: Completed trial 23 with data: {'pr_auc': (0.904718, None)}.\n"
     ]
    },
    {
     "name": "stdout",
     "output_type": "stream",
     "text": [
      "\u001b[2m\u001b[36m(train_fn pid=2932249)\u001b[0m Done.\n"
     ]
    },
    {
     "name": "stderr",
     "output_type": "stream",
     "text": [
      "[INFO 12-28 00:26:11] ax.service.ax_client: Generated new trial 25 with parameters {'lr': 0.000256, 'batch_size': 256, 'train_epochs': 20, 'mlp_hidden_dims_drug': 256, 'mlp_num_layers_drug': 3, 'drug_encoding': 'Morgan'}.\n",
      "[INFO 12-28 00:26:11] ax.service.ax_client: Completed trial 22 with data: {'pr_auc': (0.907901, None)}.\n",
      "2022-12-28 00:26:11,633\tWARNING trial_runner.py:988 -- Trial Runner checkpointing failed: Can't pickle <function TriangularLinearOperator.to_dense at 0x7f44d279b9d0>: it's not the same object as linear_operator.operators.triangular_linear_operator.TriangularLinearOperator.to_dense\n"
     ]
    },
    {
     "name": "stdout",
     "output_type": "stream",
     "text": [
      "\u001b[2m\u001b[36m(train_fn pid=2851300)\u001b[0m Drug Property Prediction Mode...\n",
      "\u001b[2m\u001b[36m(train_fn pid=2851300)\u001b[0m in total: 13445 drugs\n",
      "\u001b[2m\u001b[36m(train_fn pid=2851300)\u001b[0m encoding drug...\n",
      "\u001b[2m\u001b[36m(train_fn pid=2851300)\u001b[0m unique drugs: 13445\n"
     ]
    },
    {
     "name": "stderr",
     "output_type": "stream",
     "text": [
      "2022-12-28 00:26:12,302\tWARNING trial_runner.py:988 -- Trial Runner checkpointing failed: Can't pickle <function TriangularLinearOperator.to_dense at 0x7f44d279b9d0>: it's not the same object as linear_operator.operators.triangular_linear_operator.TriangularLinearOperator.to_dense\n"
     ]
    },
    {
     "name": "stdout",
     "output_type": "stream",
     "text": [
      "\u001b[2m\u001b[36m(train_fn pid=2851300)\u001b[0m Done.\n"
     ]
    },
    {
     "name": "stderr",
     "output_type": "stream",
     "text": [
      "[INFO 12-28 00:40:58] ax.service.ax_client: Generated new trial 26 with parameters {'lr': 0.0001, 'batch_size': 256, 'train_epochs': 20, 'mlp_hidden_dims_drug': 128, 'mlp_num_layers_drug': 4, 'drug_encoding': 'Morgan'}.\n",
      "2022-12-28 00:40:59,641\tWARNING trial_runner.py:988 -- Trial Runner checkpointing failed: Can't pickle <function TriangularLinearOperator.to_dense at 0x7f44d279b9d0>: it's not the same object as linear_operator.operators.triangular_linear_operator.TriangularLinearOperator.to_dense\n",
      "2022-12-28 00:41:10,078\tWARNING trial_runner.py:988 -- Trial Runner checkpointing failed: Can't pickle <function TriangularLinearOperator.to_dense at 0x7f44d279b9d0>: it's not the same object as linear_operator.operators.triangular_linear_operator.TriangularLinearOperator.to_dense\n",
      "\u001b[2m\u001b[36m(pid=3027494)\u001b[0m WARNING:root:No normalization for BCUT2D_MWHI\n",
      "\u001b[2m\u001b[36m(pid=3027494)\u001b[0m WARNING:root:No normalization for BCUT2D_MWLOW\n",
      "\u001b[2m\u001b[36m(pid=3027494)\u001b[0m WARNING:root:No normalization for BCUT2D_CHGHI\n",
      "\u001b[2m\u001b[36m(pid=3027494)\u001b[0m WARNING:root:No normalization for BCUT2D_CHGLO\n",
      "\u001b[2m\u001b[36m(pid=3027494)\u001b[0m WARNING:root:No normalization for BCUT2D_LOGPHI\n",
      "\u001b[2m\u001b[36m(pid=3027494)\u001b[0m WARNING:root:No normalization for BCUT2D_LOGPLOW\n",
      "\u001b[2m\u001b[36m(pid=3027494)\u001b[0m WARNING:root:No normalization for BCUT2D_MRHI\n",
      "\u001b[2m\u001b[36m(pid=3027494)\u001b[0m WARNING:root:No normalization for BCUT2D_MRLOW\n"
     ]
    },
    {
     "name": "stdout",
     "output_type": "stream",
     "text": [
      "\u001b[2m\u001b[36m(train_fn pid=3027494)\u001b[0m Drug Property Prediction Mode...\n",
      "\u001b[2m\u001b[36m(train_fn pid=3027494)\u001b[0m in total: 13445 drugs\n",
      "\u001b[2m\u001b[36m(train_fn pid=3027494)\u001b[0m encoding drug...\n",
      "\u001b[2m\u001b[36m(train_fn pid=3027494)\u001b[0m unique drugs: 13445\n"
     ]
    },
    {
     "name": "stderr",
     "output_type": "stream",
     "text": [
      "[INFO 12-28 00:42:22] ax.service.ax_client: Completed trial 24 with data: {'pr_auc': (0.906622, None)}.\n"
     ]
    },
    {
     "name": "stdout",
     "output_type": "stream",
     "text": [
      "\u001b[2m\u001b[36m(train_fn pid=3027494)\u001b[0m Done.\n"
     ]
    },
    {
     "name": "stderr",
     "output_type": "stream",
     "text": [
      "[INFO 12-28 00:56:29] ax.service.ax_client: Generated new trial 27 with parameters {'lr': 0.000208, 'batch_size': 256, 'train_epochs': 20, 'mlp_hidden_dims_drug': 256, 'mlp_num_layers_drug': 3, 'drug_encoding': 'Morgan'}.\n",
      "2022-12-28 00:56:30,092\tWARNING trial_runner.py:988 -- Trial Runner checkpointing failed: Can't pickle <function TriangularLinearOperator.to_dense at 0x7f44d279b9d0>: it's not the same object as linear_operator.operators.triangular_linear_operator.TriangularLinearOperator.to_dense\n",
      "2022-12-28 00:56:30,836\tWARNING trial_runner.py:988 -- Trial Runner checkpointing failed: Can't pickle <function TriangularLinearOperator.to_dense at 0x7f44d279b9d0>: it's not the same object as linear_operator.operators.triangular_linear_operator.TriangularLinearOperator.to_dense\n",
      "\u001b[2m\u001b[36m(pid=3074949)\u001b[0m WARNING:root:No normalization for BCUT2D_MWHI\n",
      "\u001b[2m\u001b[36m(pid=3074949)\u001b[0m WARNING:root:No normalization for BCUT2D_MWLOW\n",
      "\u001b[2m\u001b[36m(pid=3074949)\u001b[0m WARNING:root:No normalization for BCUT2D_CHGHI\n",
      "\u001b[2m\u001b[36m(pid=3074949)\u001b[0m WARNING:root:No normalization for BCUT2D_CHGLO\n",
      "\u001b[2m\u001b[36m(pid=3074949)\u001b[0m WARNING:root:No normalization for BCUT2D_LOGPHI\n",
      "\u001b[2m\u001b[36m(pid=3074949)\u001b[0m WARNING:root:No normalization for BCUT2D_LOGPLOW\n",
      "\u001b[2m\u001b[36m(pid=3074949)\u001b[0m WARNING:root:No normalization for BCUT2D_MRHI\n",
      "\u001b[2m\u001b[36m(pid=3074949)\u001b[0m WARNING:root:No normalization for BCUT2D_MRLOW\n"
     ]
    },
    {
     "name": "stdout",
     "output_type": "stream",
     "text": [
      "\u001b[2m\u001b[36m(train_fn pid=3074949)\u001b[0m Drug Property Prediction Mode...\n",
      "\u001b[2m\u001b[36m(train_fn pid=3074949)\u001b[0m in total: 13445 drugs\n",
      "\u001b[2m\u001b[36m(train_fn pid=3074949)\u001b[0m encoding drug...\n",
      "\u001b[2m\u001b[36m(train_fn pid=3074949)\u001b[0m unique drugs: 13445\n"
     ]
    },
    {
     "name": "stderr",
     "output_type": "stream",
     "text": [
      "[INFO 12-28 00:58:04] ax.service.ax_client: Completed trial 26 with data: {'pr_auc': (0.894287, None)}.\n"
     ]
    },
    {
     "name": "stdout",
     "output_type": "stream",
     "text": [
      "\u001b[2m\u001b[36m(train_fn pid=3074949)\u001b[0m Done.\n"
     ]
    },
    {
     "name": "stderr",
     "output_type": "stream",
     "text": [
      "[INFO 12-28 01:12:25] ax.service.ax_client: Generated new trial 28 with parameters {'lr': 0.000244, 'batch_size': 256, 'train_epochs': 20, 'mlp_hidden_dims_drug': 256, 'mlp_num_layers_drug': 3, 'drug_encoding': 'Morgan'}.\n",
      "[INFO 12-28 01:12:25] ax.service.ax_client: Completed trial 25 with data: {'pr_auc': (0.901647, None)}.\n",
      "2022-12-28 01:12:25,690\tWARNING trial_runner.py:988 -- Trial Runner checkpointing failed: Can't pickle <function TriangularLinearOperator.to_dense at 0x7f44d279b9d0>: it's not the same object as linear_operator.operators.triangular_linear_operator.TriangularLinearOperator.to_dense\n"
     ]
    },
    {
     "name": "stdout",
     "output_type": "stream",
     "text": [
      "\u001b[2m\u001b[36m(train_fn pid=2851300)\u001b[0m Drug Property Prediction Mode...\n",
      "\u001b[2m\u001b[36m(train_fn pid=2851300)\u001b[0m in total: 13445 drugs\n",
      "\u001b[2m\u001b[36m(train_fn pid=2851300)\u001b[0m encoding drug...\n",
      "\u001b[2m\u001b[36m(train_fn pid=2851300)\u001b[0m unique drugs: 13445\n"
     ]
    },
    {
     "name": "stderr",
     "output_type": "stream",
     "text": [
      "2022-12-28 01:12:26,248\tWARNING trial_runner.py:988 -- Trial Runner checkpointing failed: Can't pickle <function TriangularLinearOperator.to_dense at 0x7f44d279b9d0>: it's not the same object as linear_operator.operators.triangular_linear_operator.TriangularLinearOperator.to_dense\n"
     ]
    },
    {
     "name": "stdout",
     "output_type": "stream",
     "text": [
      "\u001b[2m\u001b[36m(train_fn pid=2851300)\u001b[0m Done.\n"
     ]
    },
    {
     "name": "stderr",
     "output_type": "stream",
     "text": [
      "[INFO 12-28 01:26:10] ax.service.ax_client: Generated new trial 29 with parameters {'lr': 0.000321, 'batch_size': 128, 'train_epochs': 20, 'mlp_hidden_dims_drug': 512, 'mlp_num_layers_drug': 3, 'drug_encoding': 'Morgan'}.\n",
      "2022-12-28 01:26:10,718\tWARNING trial_runner.py:988 -- Trial Runner checkpointing failed: Can't pickle <function TriangularLinearOperator.to_dense at 0x7f44d279b9d0>: it's not the same object as linear_operator.operators.triangular_linear_operator.TriangularLinearOperator.to_dense\n",
      "2022-12-28 01:26:11,300\tWARNING trial_runner.py:988 -- Trial Runner checkpointing failed: Can't pickle <function TriangularLinearOperator.to_dense at 0x7f44d279b9d0>: it's not the same object as linear_operator.operators.triangular_linear_operator.TriangularLinearOperator.to_dense\n",
      "[INFO 12-28 01:26:29] ax.service.ax_client: Completed trial 27 with data: {'pr_auc': (0.90356, None)}.\n",
      "\u001b[2m\u001b[36m(pid=3158043)\u001b[0m WARNING:root:No normalization for BCUT2D_MWHI\n",
      "\u001b[2m\u001b[36m(pid=3158043)\u001b[0m WARNING:root:No normalization for BCUT2D_MWLOW\n",
      "\u001b[2m\u001b[36m(pid=3158043)\u001b[0m WARNING:root:No normalization for BCUT2D_CHGHI\n",
      "\u001b[2m\u001b[36m(pid=3158043)\u001b[0m WARNING:root:No normalization for BCUT2D_CHGLO\n",
      "\u001b[2m\u001b[36m(pid=3158043)\u001b[0m WARNING:root:No normalization for BCUT2D_LOGPHI\n",
      "\u001b[2m\u001b[36m(pid=3158043)\u001b[0m WARNING:root:No normalization for BCUT2D_LOGPLOW\n",
      "\u001b[2m\u001b[36m(pid=3158043)\u001b[0m WARNING:root:No normalization for BCUT2D_MRHI\n",
      "\u001b[2m\u001b[36m(pid=3158043)\u001b[0m WARNING:root:No normalization for BCUT2D_MRLOW\n"
     ]
    },
    {
     "name": "stdout",
     "output_type": "stream",
     "text": [
      "\u001b[2m\u001b[36m(train_fn pid=3158043)\u001b[0m Drug Property Prediction Mode...\n",
      "\u001b[2m\u001b[36m(train_fn pid=3158043)\u001b[0m in total: 13445 drugs\n",
      "\u001b[2m\u001b[36m(train_fn pid=3158043)\u001b[0m encoding drug...\n",
      "\u001b[2m\u001b[36m(train_fn pid=3158043)\u001b[0m unique drugs: 13445\n",
      "\u001b[2m\u001b[36m(train_fn pid=3158043)\u001b[0m Done.\n"
     ]
    },
    {
     "name": "stderr",
     "output_type": "stream",
     "text": [
      "[INFO 12-28 01:49:21] ax.service.ax_client: Generated new trial 30 with parameters {'lr': 0.000256, 'batch_size': 128, 'train_epochs': 15, 'mlp_hidden_dims_drug': 512, 'mlp_num_layers_drug': 3, 'drug_encoding': 'Morgan'}.\n",
      "2022-12-28 01:49:22,004\tWARNING trial_runner.py:988 -- Trial Runner checkpointing failed: Can't pickle <function TriangularLinearOperator.to_dense at 0x7f44d279b9d0>: it's not the same object as linear_operator.operators.triangular_linear_operator.TriangularLinearOperator.to_dense\n",
      "2022-12-28 01:49:22,663\tWARNING trial_runner.py:988 -- Trial Runner checkpointing failed: Can't pickle <function TriangularLinearOperator.to_dense at 0x7f44d279b9d0>: it's not the same object as linear_operator.operators.triangular_linear_operator.TriangularLinearOperator.to_dense\n",
      "\u001b[2m\u001b[36m(pid=3214254)\u001b[0m WARNING:root:No normalization for BCUT2D_MWHI\n",
      "\u001b[2m\u001b[36m(pid=3214254)\u001b[0m WARNING:root:No normalization for BCUT2D_MWLOW\n",
      "\u001b[2m\u001b[36m(pid=3214254)\u001b[0m WARNING:root:No normalization for BCUT2D_CHGHI\n",
      "\u001b[2m\u001b[36m(pid=3214254)\u001b[0m WARNING:root:No normalization for BCUT2D_CHGLO\n",
      "\u001b[2m\u001b[36m(pid=3214254)\u001b[0m WARNING:root:No normalization for BCUT2D_LOGPHI\n",
      "\u001b[2m\u001b[36m(pid=3214254)\u001b[0m WARNING:root:No normalization for BCUT2D_LOGPLOW\n",
      "\u001b[2m\u001b[36m(pid=3214254)\u001b[0m WARNING:root:No normalization for BCUT2D_MRHI\n",
      "\u001b[2m\u001b[36m(pid=3214254)\u001b[0m WARNING:root:No normalization for BCUT2D_MRLOW\n"
     ]
    },
    {
     "name": "stdout",
     "output_type": "stream",
     "text": [
      "\u001b[2m\u001b[36m(train_fn pid=3214254)\u001b[0m Drug Property Prediction Mode...\n",
      "\u001b[2m\u001b[36m(train_fn pid=3214254)\u001b[0m in total: 13445 drugs\n",
      "\u001b[2m\u001b[36m(train_fn pid=3214254)\u001b[0m encoding drug...\n",
      "\u001b[2m\u001b[36m(train_fn pid=3214254)\u001b[0m unique drugs: 13445\n"
     ]
    },
    {
     "name": "stderr",
     "output_type": "stream",
     "text": [
      "[INFO 12-28 01:50:33] ax.service.ax_client: Completed trial 28 with data: {'pr_auc': (0.911795, None)}.\n"
     ]
    },
    {
     "name": "stdout",
     "output_type": "stream",
     "text": [
      "\u001b[2m\u001b[36m(train_fn pid=3214254)\u001b[0m Done.\n"
     ]
    },
    {
     "name": "stderr",
     "output_type": "stream",
     "text": [
      "[INFO 12-28 02:09:28] ax.service.ax_client: Generated new trial 31 with parameters {'lr': 0.000339, 'batch_size': 256, 'train_epochs': 20, 'mlp_hidden_dims_drug': 512, 'mlp_num_layers_drug': 2, 'drug_encoding': 'Morgan'}.\n",
      "2022-12-28 02:09:29,115\tWARNING trial_runner.py:988 -- Trial Runner checkpointing failed: Can't pickle <function TriangularLinearOperator.to_dense at 0x7f44d279b9d0>: it's not the same object as linear_operator.operators.triangular_linear_operator.TriangularLinearOperator.to_dense\n",
      "2022-12-28 02:09:29,667\tWARNING trial_runner.py:988 -- Trial Runner checkpointing failed: Can't pickle <function TriangularLinearOperator.to_dense at 0x7f44d279b9d0>: it's not the same object as linear_operator.operators.triangular_linear_operator.TriangularLinearOperator.to_dense\n",
      "[INFO 12-28 02:09:52] ax.service.ax_client: Completed trial 30 with data: {'pr_auc': (0.903664, None)}.\n",
      "\u001b[2m\u001b[36m(pid=3261276)\u001b[0m WARNING:root:No normalization for BCUT2D_MWHI\n",
      "\u001b[2m\u001b[36m(pid=3261276)\u001b[0m WARNING:root:No normalization for BCUT2D_MWLOW\n",
      "\u001b[2m\u001b[36m(pid=3261276)\u001b[0m WARNING:root:No normalization for BCUT2D_CHGHI\n",
      "\u001b[2m\u001b[36m(pid=3261276)\u001b[0m WARNING:root:No normalization for BCUT2D_CHGLO\n",
      "\u001b[2m\u001b[36m(pid=3261276)\u001b[0m WARNING:root:No normalization for BCUT2D_LOGPHI\n",
      "\u001b[2m\u001b[36m(pid=3261276)\u001b[0m WARNING:root:No normalization for BCUT2D_LOGPLOW\n",
      "\u001b[2m\u001b[36m(pid=3261276)\u001b[0m WARNING:root:No normalization for BCUT2D_MRHI\n",
      "\u001b[2m\u001b[36m(pid=3261276)\u001b[0m WARNING:root:No normalization for BCUT2D_MRLOW\n"
     ]
    },
    {
     "name": "stdout",
     "output_type": "stream",
     "text": [
      "\u001b[2m\u001b[36m(train_fn pid=3261276)\u001b[0m Drug Property Prediction Mode...\n",
      "\u001b[2m\u001b[36m(train_fn pid=3261276)\u001b[0m in total: 13445 drugs\n",
      "\u001b[2m\u001b[36m(train_fn pid=3261276)\u001b[0m encoding drug...\n",
      "\u001b[2m\u001b[36m(train_fn pid=3261276)\u001b[0m unique drugs: 13445\n",
      "\u001b[2m\u001b[36m(train_fn pid=3261276)\u001b[0m Done.\n"
     ]
    },
    {
     "name": "stderr",
     "output_type": "stream",
     "text": [
      "[INFO 12-28 02:37:46] ax.service.ax_client: Generated new trial 32 with parameters {'lr': 0.000387, 'batch_size': 128, 'train_epochs': 20, 'mlp_hidden_dims_drug': 256, 'mlp_num_layers_drug': 4, 'drug_encoding': 'Morgan'}.\n",
      "[INFO 12-28 02:37:46] ax.service.ax_client: Completed trial 29 with data: {'pr_auc': (0.910323, None)}.\n",
      "2022-12-28 02:37:46,605\tWARNING trial_runner.py:988 -- Trial Runner checkpointing failed: Can't pickle <function TriangularLinearOperator.to_dense at 0x7f44d279b9d0>: it's not the same object as linear_operator.operators.triangular_linear_operator.TriangularLinearOperator.to_dense\n"
     ]
    },
    {
     "name": "stdout",
     "output_type": "stream",
     "text": [
      "\u001b[2m\u001b[36m(train_fn pid=3158043)\u001b[0m Drug Property Prediction Mode...\n",
      "\u001b[2m\u001b[36m(train_fn pid=3158043)\u001b[0m in total: 13445 drugs\n",
      "\u001b[2m\u001b[36m(train_fn pid=3158043)\u001b[0m encoding drug...\n",
      "\u001b[2m\u001b[36m(train_fn pid=3158043)\u001b[0m unique drugs: 13445\n"
     ]
    },
    {
     "name": "stderr",
     "output_type": "stream",
     "text": [
      "2022-12-28 02:37:47,076\tWARNING trial_runner.py:988 -- Trial Runner checkpointing failed: Can't pickle <function TriangularLinearOperator.to_dense at 0x7f44d279b9d0>: it's not the same object as linear_operator.operators.triangular_linear_operator.TriangularLinearOperator.to_dense\n"
     ]
    },
    {
     "name": "stdout",
     "output_type": "stream",
     "text": [
      "\u001b[2m\u001b[36m(train_fn pid=3158043)\u001b[0m Done.\n"
     ]
    },
    {
     "name": "stderr",
     "output_type": "stream",
     "text": [
      "[INFO 12-28 03:00:22] ax.service.ax_client: Generated new trial 33 with parameters {'lr': 0.000329, 'batch_size': 256, 'train_epochs': 20, 'mlp_hidden_dims_drug': 512, 'mlp_num_layers_drug': 3, 'drug_encoding': 'Morgan'}.\n",
      "2022-12-28 03:00:23,150\tWARNING trial_runner.py:988 -- Trial Runner checkpointing failed: Can't pickle <function TriangularLinearOperator.to_dense at 0x7f44d279b9d0>: it's not the same object as linear_operator.operators.triangular_linear_operator.TriangularLinearOperator.to_dense\n",
      "2022-12-28 03:00:23,702\tWARNING trial_runner.py:988 -- Trial Runner checkpointing failed: Can't pickle <function TriangularLinearOperator.to_dense at 0x7f44d279b9d0>: it's not the same object as linear_operator.operators.triangular_linear_operator.TriangularLinearOperator.to_dense\n",
      "\u001b[2m\u001b[36m(pid=3542047)\u001b[0m WARNING:root:No normalization for BCUT2D_MWHI\n",
      "\u001b[2m\u001b[36m(pid=3542047)\u001b[0m WARNING:root:No normalization for BCUT2D_MWLOW\n",
      "\u001b[2m\u001b[36m(pid=3542047)\u001b[0m WARNING:root:No normalization for BCUT2D_CHGHI\n",
      "\u001b[2m\u001b[36m(pid=3542047)\u001b[0m WARNING:root:No normalization for BCUT2D_CHGLO\n",
      "\u001b[2m\u001b[36m(pid=3542047)\u001b[0m WARNING:root:No normalization for BCUT2D_LOGPHI\n",
      "\u001b[2m\u001b[36m(pid=3542047)\u001b[0m WARNING:root:No normalization for BCUT2D_LOGPLOW\n",
      "\u001b[2m\u001b[36m(pid=3542047)\u001b[0m WARNING:root:No normalization for BCUT2D_MRHI\n",
      "\u001b[2m\u001b[36m(pid=3542047)\u001b[0m WARNING:root:No normalization for BCUT2D_MRLOW\n"
     ]
    },
    {
     "name": "stdout",
     "output_type": "stream",
     "text": [
      "\u001b[2m\u001b[36m(train_fn pid=3542047)\u001b[0m Drug Property Prediction Mode...\n",
      "\u001b[2m\u001b[36m(train_fn pid=3542047)\u001b[0m in total: 13445 drugs\n",
      "\u001b[2m\u001b[36m(train_fn pid=3542047)\u001b[0m encoding drug...\n",
      "\u001b[2m\u001b[36m(train_fn pid=3542047)\u001b[0m unique drugs: 13445\n"
     ]
    },
    {
     "name": "stderr",
     "output_type": "stream",
     "text": [
      "[INFO 12-28 03:01:42] ax.service.ax_client: Completed trial 31 with data: {'pr_auc': (0.911125, None)}.\n"
     ]
    },
    {
     "name": "stdout",
     "output_type": "stream",
     "text": [
      "\u001b[2m\u001b[36m(train_fn pid=3542047)\u001b[0m Done.\n"
     ]
    },
    {
     "name": "stderr",
     "output_type": "stream",
     "text": [
      "[INFO 12-28 03:21:38] ax.service.ax_client: Generated new trial 34 with parameters {'lr': 0.000406, 'batch_size': 128, 'train_epochs': 20, 'mlp_hidden_dims_drug': 512, 'mlp_num_layers_drug': 1, 'drug_encoding': 'Morgan'}.\n",
      "2022-12-28 03:21:39,351\tWARNING trial_runner.py:988 -- Trial Runner checkpointing failed: Can't pickle <function TriangularLinearOperator.to_dense at 0x7f44d279b9d0>: it's not the same object as linear_operator.operators.triangular_linear_operator.TriangularLinearOperator.to_dense\n",
      "2022-12-28 03:21:39,964\tWARNING trial_runner.py:988 -- Trial Runner checkpointing failed: Can't pickle <function TriangularLinearOperator.to_dense at 0x7f44d279b9d0>: it's not the same object as linear_operator.operators.triangular_linear_operator.TriangularLinearOperator.to_dense\n",
      "[INFO 12-28 03:21:54] ax.service.ax_client: Completed trial 33 with data: {'pr_auc': (0.910231, None)}.\n",
      "\u001b[2m\u001b[36m(pid=3660273)\u001b[0m WARNING:root:No normalization for BCUT2D_MWHI\n",
      "\u001b[2m\u001b[36m(pid=3660273)\u001b[0m WARNING:root:No normalization for BCUT2D_MWLOW\n",
      "\u001b[2m\u001b[36m(pid=3660273)\u001b[0m WARNING:root:No normalization for BCUT2D_CHGHI\n",
      "\u001b[2m\u001b[36m(pid=3660273)\u001b[0m WARNING:root:No normalization for BCUT2D_CHGLO\n",
      "\u001b[2m\u001b[36m(pid=3660273)\u001b[0m WARNING:root:No normalization for BCUT2D_LOGPHI\n",
      "\u001b[2m\u001b[36m(pid=3660273)\u001b[0m WARNING:root:No normalization for BCUT2D_LOGPLOW\n",
      "\u001b[2m\u001b[36m(pid=3660273)\u001b[0m WARNING:root:No normalization for BCUT2D_MRHI\n",
      "\u001b[2m\u001b[36m(pid=3660273)\u001b[0m WARNING:root:No normalization for BCUT2D_MRLOW\n"
     ]
    },
    {
     "name": "stdout",
     "output_type": "stream",
     "text": [
      "\u001b[2m\u001b[36m(train_fn pid=3660273)\u001b[0m Drug Property Prediction Mode...\n",
      "\u001b[2m\u001b[36m(train_fn pid=3660273)\u001b[0m in total: 13445 drugs\n",
      "\u001b[2m\u001b[36m(train_fn pid=3660273)\u001b[0m encoding drug...\n",
      "\u001b[2m\u001b[36m(train_fn pid=3660273)\u001b[0m unique drugs: 13445\n",
      "\u001b[2m\u001b[36m(train_fn pid=3660273)\u001b[0m Done.\n"
     ]
    },
    {
     "name": "stderr",
     "output_type": "stream",
     "text": [
      "[INFO 12-28 03:54:48] ax.service.ax_client: Generated new trial 35 with parameters {'lr': 0.000324, 'batch_size': 256, 'train_epochs': 20, 'mlp_hidden_dims_drug': 512, 'mlp_num_layers_drug': 2, 'drug_encoding': 'Morgan'}.\n",
      "[INFO 12-28 03:54:48] ax.service.ax_client: Completed trial 32 with data: {'pr_auc': (0.902882, None)}.\n",
      "2022-12-28 03:54:49,705\tWARNING trial_runner.py:988 -- Trial Runner checkpointing failed: Can't pickle <function TriangularLinearOperator.to_dense at 0x7f44d279b9d0>: it's not the same object as linear_operator.operators.triangular_linear_operator.TriangularLinearOperator.to_dense\n"
     ]
    },
    {
     "name": "stdout",
     "output_type": "stream",
     "text": [
      "\u001b[2m\u001b[36m(train_fn pid=3158043)\u001b[0m Drug Property Prediction Mode...\n",
      "\u001b[2m\u001b[36m(train_fn pid=3158043)\u001b[0m in total: 13445 drugs\n",
      "\u001b[2m\u001b[36m(train_fn pid=3158043)\u001b[0m encoding drug...\n",
      "\u001b[2m\u001b[36m(train_fn pid=3158043)\u001b[0m unique drugs: 13445\n"
     ]
    },
    {
     "name": "stderr",
     "output_type": "stream",
     "text": [
      "2022-12-28 03:54:50,260\tWARNING trial_runner.py:988 -- Trial Runner checkpointing failed: Can't pickle <function TriangularLinearOperator.to_dense at 0x7f44d279b9d0>: it's not the same object as linear_operator.operators.triangular_linear_operator.TriangularLinearOperator.to_dense\n"
     ]
    },
    {
     "name": "stdout",
     "output_type": "stream",
     "text": [
      "\u001b[2m\u001b[36m(train_fn pid=3158043)\u001b[0m Done.\n"
     ]
    },
    {
     "name": "stderr",
     "output_type": "stream",
     "text": [
      "[INFO 12-28 04:29:11] ax.service.ax_client: Generated new trial 36 with parameters {'lr': 0.000323, 'batch_size': 256, 'train_epochs': 20, 'mlp_hidden_dims_drug': 512, 'mlp_num_layers_drug': 2, 'drug_encoding': 'Morgan'}.\n",
      "2022-12-28 04:29:12,139\tWARNING trial_runner.py:988 -- Trial Runner checkpointing failed: Can't pickle <function TriangularLinearOperator.to_dense at 0x7f44d279b9d0>: it's not the same object as linear_operator.operators.triangular_linear_operator.TriangularLinearOperator.to_dense\n",
      "2022-12-28 04:29:12,637\tWARNING trial_runner.py:988 -- Trial Runner checkpointing failed: Can't pickle <function TriangularLinearOperator.to_dense at 0x7f44d279b9d0>: it's not the same object as linear_operator.operators.triangular_linear_operator.TriangularLinearOperator.to_dense\n",
      "\u001b[2m\u001b[36m(pid=4033671)\u001b[0m WARNING:root:No normalization for BCUT2D_MWHI\n",
      "\u001b[2m\u001b[36m(pid=4033671)\u001b[0m WARNING:root:No normalization for BCUT2D_MWLOW\n",
      "\u001b[2m\u001b[36m(pid=4033671)\u001b[0m WARNING:root:No normalization for BCUT2D_CHGHI\n",
      "\u001b[2m\u001b[36m(pid=4033671)\u001b[0m WARNING:root:No normalization for BCUT2D_CHGLO\n",
      "\u001b[2m\u001b[36m(pid=4033671)\u001b[0m WARNING:root:No normalization for BCUT2D_LOGPHI\n",
      "\u001b[2m\u001b[36m(pid=4033671)\u001b[0m WARNING:root:No normalization for BCUT2D_LOGPLOW\n",
      "\u001b[2m\u001b[36m(pid=4033671)\u001b[0m WARNING:root:No normalization for BCUT2D_MRHI\n",
      "\u001b[2m\u001b[36m(pid=4033671)\u001b[0m WARNING:root:No normalization for BCUT2D_MRLOW\n"
     ]
    },
    {
     "name": "stdout",
     "output_type": "stream",
     "text": [
      "\u001b[2m\u001b[36m(train_fn pid=4033671)\u001b[0m Drug Property Prediction Mode...\n",
      "\u001b[2m\u001b[36m(train_fn pid=4033671)\u001b[0m in total: 13445 drugs\n",
      "\u001b[2m\u001b[36m(train_fn pid=4033671)\u001b[0m encoding drug...\n",
      "\u001b[2m\u001b[36m(train_fn pid=4033671)\u001b[0m unique drugs: 13445\n"
     ]
    },
    {
     "name": "stderr",
     "output_type": "stream",
     "text": [
      "[INFO 12-28 04:30:27] ax.service.ax_client: Completed trial 34 with data: {'pr_auc': (0.903774, None)}.\n"
     ]
    },
    {
     "name": "stdout",
     "output_type": "stream",
     "text": [
      "\u001b[2m\u001b[36m(train_fn pid=4033671)\u001b[0m Done.\n"
     ]
    },
    {
     "name": "stderr",
     "output_type": "stream",
     "text": [
      "[INFO 12-28 04:42:25] ax.service.ax_client: Generated new trial 37 with parameters {'lr': 0.000308, 'batch_size': 256, 'train_epochs': 20, 'mlp_hidden_dims_drug': 512, 'mlp_num_layers_drug': 2, 'drug_encoding': 'Morgan'}.\n",
      "2022-12-28 04:42:26,119\tWARNING trial_runner.py:988 -- Trial Runner checkpointing failed: Can't pickle <function TriangularLinearOperator.to_dense at 0x7f44d279b9d0>: it's not the same object as linear_operator.operators.triangular_linear_operator.TriangularLinearOperator.to_dense\n",
      "2022-12-28 04:42:26,709\tWARNING util.py:244 -- The `start_trial` operation took 0.502 s, which may be a performance bottleneck.\n",
      "2022-12-28 04:42:26,866\tWARNING trial_runner.py:988 -- Trial Runner checkpointing failed: Can't pickle <function TriangularLinearOperator.to_dense at 0x7f44d279b9d0>: it's not the same object as linear_operator.operators.triangular_linear_operator.TriangularLinearOperator.to_dense\n",
      "[INFO 12-28 04:42:56] ax.service.ax_client: Completed trial 36 with data: {'pr_auc': (0.906877, None)}.\n",
      "\u001b[2m\u001b[36m(pid=4105403)\u001b[0m WARNING:root:No normalization for BCUT2D_MWHI\n",
      "\u001b[2m\u001b[36m(pid=4105403)\u001b[0m WARNING:root:No normalization for BCUT2D_MWLOW\n",
      "\u001b[2m\u001b[36m(pid=4105403)\u001b[0m WARNING:root:No normalization for BCUT2D_CHGHI\n",
      "\u001b[2m\u001b[36m(pid=4105403)\u001b[0m WARNING:root:No normalization for BCUT2D_CHGLO\n",
      "\u001b[2m\u001b[36m(pid=4105403)\u001b[0m WARNING:root:No normalization for BCUT2D_LOGPHI\n",
      "\u001b[2m\u001b[36m(pid=4105403)\u001b[0m WARNING:root:No normalization for BCUT2D_LOGPLOW\n",
      "\u001b[2m\u001b[36m(pid=4105403)\u001b[0m WARNING:root:No normalization for BCUT2D_MRHI\n",
      "\u001b[2m\u001b[36m(pid=4105403)\u001b[0m WARNING:root:No normalization for BCUT2D_MRLOW\n"
     ]
    },
    {
     "name": "stdout",
     "output_type": "stream",
     "text": [
      "\u001b[2m\u001b[36m(train_fn pid=4105403)\u001b[0m Drug Property Prediction Mode...\n",
      "\u001b[2m\u001b[36m(train_fn pid=4105403)\u001b[0m in total: 13445 drugs\n",
      "\u001b[2m\u001b[36m(train_fn pid=4105403)\u001b[0m encoding drug...\n",
      "\u001b[2m\u001b[36m(train_fn pid=4105403)\u001b[0m unique drugs: 13445\n",
      "\u001b[2m\u001b[36m(train_fn pid=4105403)\u001b[0m Done.\n"
     ]
    },
    {
     "name": "stderr",
     "output_type": "stream",
     "text": [
      "[INFO 12-28 04:52:10] ax.service.ax_client: Generated new trial 38 with parameters {'lr': 0.000307, 'batch_size': 256, 'train_epochs': 20, 'mlp_hidden_dims_drug': 512, 'mlp_num_layers_drug': 3, 'drug_encoding': 'Morgan'}.\n",
      "[INFO 12-28 04:52:10] ax.service.ax_client: Completed trial 35 with data: {'pr_auc': (0.9145, None)}.\n",
      "2022-12-28 04:52:11,089\tWARNING trial_runner.py:988 -- Trial Runner checkpointing failed: Can't pickle <function TriangularLinearOperator.to_dense at 0x7f44d279b9d0>: it's not the same object as linear_operator.operators.triangular_linear_operator.TriangularLinearOperator.to_dense\n"
     ]
    },
    {
     "name": "stdout",
     "output_type": "stream",
     "text": [
      "\u001b[2m\u001b[36m(train_fn pid=3158043)\u001b[0m Drug Property Prediction Mode...\n",
      "\u001b[2m\u001b[36m(train_fn pid=3158043)\u001b[0m in total: 13445 drugs\n",
      "\u001b[2m\u001b[36m(train_fn pid=3158043)\u001b[0m encoding drug...\n",
      "\u001b[2m\u001b[36m(train_fn pid=3158043)\u001b[0m unique drugs: 13445\n"
     ]
    },
    {
     "name": "stderr",
     "output_type": "stream",
     "text": [
      "2022-12-28 04:52:11,590\tWARNING trial_runner.py:988 -- Trial Runner checkpointing failed: Can't pickle <function TriangularLinearOperator.to_dense at 0x7f44d279b9d0>: it's not the same object as linear_operator.operators.triangular_linear_operator.TriangularLinearOperator.to_dense\n"
     ]
    },
    {
     "name": "stdout",
     "output_type": "stream",
     "text": [
      "\u001b[2m\u001b[36m(train_fn pid=3158043)\u001b[0m Done.\n"
     ]
    },
    {
     "name": "stderr",
     "output_type": "stream",
     "text": [
      "[INFO 12-28 05:09:17] ax.service.ax_client: Generated new trial 39 with parameters {'lr': 0.000301, 'batch_size': 256, 'train_epochs': 20, 'mlp_hidden_dims_drug': 512, 'mlp_num_layers_drug': 2, 'drug_encoding': 'Morgan'}.\n",
      "2022-12-28 05:09:18,029\tWARNING trial_runner.py:988 -- Trial Runner checkpointing failed: Can't pickle <function TriangularLinearOperator.to_dense at 0x7f44d279b9d0>: it's not the same object as linear_operator.operators.triangular_linear_operator.TriangularLinearOperator.to_dense\n",
      "\u001b[2m\u001b[36m(pid=57210)\u001b[0m WARNING:root:No normalization for BCUT2D_MWHI\n",
      "\u001b[2m\u001b[36m(pid=57210)\u001b[0m WARNING:root:No normalization for BCUT2D_MWLOW\n",
      "\u001b[2m\u001b[36m(pid=57210)\u001b[0m WARNING:root:No normalization for BCUT2D_CHGHI\n",
      "\u001b[2m\u001b[36m(pid=57210)\u001b[0m WARNING:root:No normalization for BCUT2D_CHGLO\n",
      "\u001b[2m\u001b[36m(pid=57210)\u001b[0m WARNING:root:No normalization for BCUT2D_LOGPHI\n",
      "\u001b[2m\u001b[36m(pid=57210)\u001b[0m WARNING:root:No normalization for BCUT2D_LOGPLOW\n",
      "\u001b[2m\u001b[36m(pid=57210)\u001b[0m WARNING:root:No normalization for BCUT2D_MRHI\n",
      "\u001b[2m\u001b[36m(pid=57210)\u001b[0m WARNING:root:No normalization for BCUT2D_MRLOW\n"
     ]
    },
    {
     "name": "stdout",
     "output_type": "stream",
     "text": [
      "\u001b[2m\u001b[36m(train_fn pid=57210)\u001b[0m Drug Property Prediction Mode...\n",
      "\u001b[2m\u001b[36m(train_fn pid=57210)\u001b[0m in total: 13445 drugs\n",
      "\u001b[2m\u001b[36m(train_fn pid=57210)\u001b[0m encoding drug...\n",
      "\u001b[2m\u001b[36m(train_fn pid=57210)\u001b[0m unique drugs: 13445\n",
      "\u001b[2m\u001b[36m(train_fn pid=57210)\u001b[0m Done.\n"
     ]
    },
    {
     "name": "stderr",
     "output_type": "stream",
     "text": [
      "[INFO 12-28 05:11:01] ax.service.ax_client: Completed trial 37 with data: {'pr_auc': (0.90677, None)}.\n",
      "[INFO 12-28 05:20:18] ax.service.ax_client: Generated new trial 40 with parameters {'lr': 0.000318, 'batch_size': 256, 'train_epochs': 20, 'mlp_hidden_dims_drug': 512, 'mlp_num_layers_drug': 3, 'drug_encoding': 'Morgan'}.\n",
      "2022-12-28 05:20:19,340\tWARNING trial_runner.py:988 -- Trial Runner checkpointing failed: Can't pickle <function TriangularLinearOperator.to_dense at 0x7f44d279b9d0>: it's not the same object as linear_operator.operators.triangular_linear_operator.TriangularLinearOperator.to_dense\n",
      "\u001b[2m\u001b[36m(pid=113728)\u001b[0m WARNING:root:No normalization for BCUT2D_MWHI\n",
      "\u001b[2m\u001b[36m(pid=113728)\u001b[0m WARNING:root:No normalization for BCUT2D_MWLOW\n",
      "\u001b[2m\u001b[36m(pid=113728)\u001b[0m WARNING:root:No normalization for BCUT2D_CHGHI\n",
      "\u001b[2m\u001b[36m(pid=113728)\u001b[0m WARNING:root:No normalization for BCUT2D_CHGLO\n",
      "\u001b[2m\u001b[36m(pid=113728)\u001b[0m WARNING:root:No normalization for BCUT2D_LOGPHI\n",
      "\u001b[2m\u001b[36m(pid=113728)\u001b[0m WARNING:root:No normalization for BCUT2D_LOGPLOW\n",
      "\u001b[2m\u001b[36m(pid=113728)\u001b[0m WARNING:root:No normalization for BCUT2D_MRHI\n",
      "\u001b[2m\u001b[36m(pid=113728)\u001b[0m WARNING:root:No normalization for BCUT2D_MRLOW\n"
     ]
    },
    {
     "name": "stdout",
     "output_type": "stream",
     "text": [
      "\u001b[2m\u001b[36m(train_fn pid=113728)\u001b[0m Drug Property Prediction Mode...\n",
      "\u001b[2m\u001b[36m(train_fn pid=113728)\u001b[0m in total: 13445 drugs\n",
      "\u001b[2m\u001b[36m(train_fn pid=113728)\u001b[0m encoding drug...\n",
      "\u001b[2m\u001b[36m(train_fn pid=113728)\u001b[0m unique drugs: 13445\n",
      "\u001b[2m\u001b[36m(train_fn pid=113728)\u001b[0m Done.\n"
     ]
    },
    {
     "name": "stderr",
     "output_type": "stream",
     "text": [
      "[INFO 12-28 05:22:16] ax.service.ax_client: Completed trial 39 with data: {'pr_auc': (0.910315, None)}.\n",
      "[INFO 12-28 05:39:54] ax.service.ax_client: Generated new trial 41 with parameters {'lr': 0.000327, 'batch_size': 256, 'train_epochs': 20, 'mlp_hidden_dims_drug': 512, 'mlp_num_layers_drug': 3, 'drug_encoding': 'Morgan'}.\n",
      "2022-12-28 05:39:55,296\tWARNING trial_runner.py:988 -- Trial Runner checkpointing failed: Can't pickle <function TriangularLinearOperator.to_dense at 0x7f44d279b9d0>: it's not the same object as linear_operator.operators.triangular_linear_operator.TriangularLinearOperator.to_dense\n",
      "2022-12-28 05:39:55,932\tWARNING trial_runner.py:988 -- Trial Runner checkpointing failed: Can't pickle <function TriangularLinearOperator.to_dense at 0x7f44d279b9d0>: it's not the same object as linear_operator.operators.triangular_linear_operator.TriangularLinearOperator.to_dense\n",
      "[INFO 12-28 05:40:20] ax.service.ax_client: Completed trial 38 with data: {'pr_auc': (0.912287, None)}.\n",
      "\u001b[2m\u001b[36m(pid=222767)\u001b[0m WARNING:root:No normalization for BCUT2D_MWHI\n",
      "\u001b[2m\u001b[36m(pid=222767)\u001b[0m WARNING:root:No normalization for BCUT2D_MWLOW\n",
      "\u001b[2m\u001b[36m(pid=222767)\u001b[0m WARNING:root:No normalization for BCUT2D_CHGHI\n",
      "\u001b[2m\u001b[36m(pid=222767)\u001b[0m WARNING:root:No normalization for BCUT2D_CHGLO\n",
      "\u001b[2m\u001b[36m(pid=222767)\u001b[0m WARNING:root:No normalization for BCUT2D_LOGPHI\n",
      "\u001b[2m\u001b[36m(pid=222767)\u001b[0m WARNING:root:No normalization for BCUT2D_LOGPLOW\n",
      "\u001b[2m\u001b[36m(pid=222767)\u001b[0m WARNING:root:No normalization for BCUT2D_MRHI\n",
      "\u001b[2m\u001b[36m(pid=222767)\u001b[0m WARNING:root:No normalization for BCUT2D_MRLOW\n"
     ]
    },
    {
     "name": "stdout",
     "output_type": "stream",
     "text": [
      "\u001b[2m\u001b[36m(train_fn pid=222767)\u001b[0m Drug Property Prediction Mode...\n",
      "\u001b[2m\u001b[36m(train_fn pid=222767)\u001b[0m in total: 13445 drugs\n",
      "\u001b[2m\u001b[36m(train_fn pid=222767)\u001b[0m encoding drug...\n",
      "\u001b[2m\u001b[36m(train_fn pid=222767)\u001b[0m unique drugs: 13445\n",
      "\u001b[2m\u001b[36m(train_fn pid=222767)\u001b[0m Done.\n"
     ]
    },
    {
     "name": "stderr",
     "output_type": "stream",
     "text": [
      "[INFO 12-28 05:55:39] ax.service.ax_client: Generated new trial 42 with parameters {'lr': 0.000348, 'batch_size': 256, 'train_epochs': 20, 'mlp_hidden_dims_drug': 512, 'mlp_num_layers_drug': 3, 'drug_encoding': 'Morgan'}.\n",
      "2022-12-28 05:55:39,605\tWARNING trial_runner.py:988 -- Trial Runner checkpointing failed: Can't pickle <function TriangularLinearOperator.to_dense at 0x7f44d279b9d0>: it's not the same object as linear_operator.operators.triangular_linear_operator.TriangularLinearOperator.to_dense\n",
      "2022-12-28 05:55:40,160\tWARNING trial_runner.py:988 -- Trial Runner checkpointing failed: Can't pickle <function TriangularLinearOperator.to_dense at 0x7f44d279b9d0>: it's not the same object as linear_operator.operators.triangular_linear_operator.TriangularLinearOperator.to_dense\n",
      "[INFO 12-28 05:56:12] ax.service.ax_client: Completed trial 40 with data: {'pr_auc': (0.906443, None)}.\n",
      "\u001b[2m\u001b[36m(pid=304155)\u001b[0m WARNING:root:No normalization for BCUT2D_MWHI\n",
      "\u001b[2m\u001b[36m(pid=304155)\u001b[0m WARNING:root:No normalization for BCUT2D_MWLOW\n",
      "\u001b[2m\u001b[36m(pid=304155)\u001b[0m WARNING:root:No normalization for BCUT2D_CHGHI\n",
      "\u001b[2m\u001b[36m(pid=304155)\u001b[0m WARNING:root:No normalization for BCUT2D_CHGLO\n",
      "\u001b[2m\u001b[36m(pid=304155)\u001b[0m WARNING:root:No normalization for BCUT2D_LOGPHI\n",
      "\u001b[2m\u001b[36m(pid=304155)\u001b[0m WARNING:root:No normalization for BCUT2D_LOGPLOW\n",
      "\u001b[2m\u001b[36m(pid=304155)\u001b[0m WARNING:root:No normalization for BCUT2D_MRHI\n",
      "\u001b[2m\u001b[36m(pid=304155)\u001b[0m WARNING:root:No normalization for BCUT2D_MRLOW\n"
     ]
    },
    {
     "name": "stdout",
     "output_type": "stream",
     "text": [
      "\u001b[2m\u001b[36m(train_fn pid=304155)\u001b[0m Drug Property Prediction Mode...\n",
      "\u001b[2m\u001b[36m(train_fn pid=304155)\u001b[0m in total: 13445 drugs\n",
      "\u001b[2m\u001b[36m(train_fn pid=304155)\u001b[0m encoding drug...\n",
      "\u001b[2m\u001b[36m(train_fn pid=304155)\u001b[0m unique drugs: 13445\n",
      "\u001b[2m\u001b[36m(train_fn pid=304155)\u001b[0m Done.\n"
     ]
    },
    {
     "name": "stderr",
     "output_type": "stream",
     "text": [
      "[INFO 12-28 06:16:41] ax.service.ax_client: Generated new trial 43 with parameters {'lr': 0.00031, 'batch_size': 256, 'train_epochs': 20, 'mlp_hidden_dims_drug': 512, 'mlp_num_layers_drug': 3, 'drug_encoding': 'Morgan'}.\n",
      "2022-12-28 06:16:41,972\tWARNING trial_runner.py:988 -- Trial Runner checkpointing failed: Can't pickle <function TriangularLinearOperator.to_dense at 0x7f44d279b9d0>: it's not the same object as linear_operator.operators.triangular_linear_operator.TriangularLinearOperator.to_dense\n",
      "2022-12-28 06:16:42,527\tWARNING trial_runner.py:988 -- Trial Runner checkpointing failed: Can't pickle <function TriangularLinearOperator.to_dense at 0x7f44d279b9d0>: it's not the same object as linear_operator.operators.triangular_linear_operator.TriangularLinearOperator.to_dense\n",
      "[INFO 12-28 06:17:09] ax.service.ax_client: Completed trial 42 with data: {'pr_auc': (0.907486, None)}.\n",
      "\u001b[2m\u001b[36m(pid=414030)\u001b[0m WARNING:root:No normalization for BCUT2D_MWHI\n",
      "\u001b[2m\u001b[36m(pid=414030)\u001b[0m WARNING:root:No normalization for BCUT2D_MWLOW\n",
      "\u001b[2m\u001b[36m(pid=414030)\u001b[0m WARNING:root:No normalization for BCUT2D_CHGHI\n",
      "\u001b[2m\u001b[36m(pid=414030)\u001b[0m WARNING:root:No normalization for BCUT2D_CHGLO\n",
      "\u001b[2m\u001b[36m(pid=414030)\u001b[0m WARNING:root:No normalization for BCUT2D_LOGPHI\n",
      "\u001b[2m\u001b[36m(pid=414030)\u001b[0m WARNING:root:No normalization for BCUT2D_LOGPLOW\n",
      "\u001b[2m\u001b[36m(pid=414030)\u001b[0m WARNING:root:No normalization for BCUT2D_MRHI\n",
      "\u001b[2m\u001b[36m(pid=414030)\u001b[0m WARNING:root:No normalization for BCUT2D_MRLOW\n"
     ]
    },
    {
     "name": "stdout",
     "output_type": "stream",
     "text": [
      "\u001b[2m\u001b[36m(train_fn pid=414030)\u001b[0m Drug Property Prediction Mode...\n",
      "\u001b[2m\u001b[36m(train_fn pid=414030)\u001b[0m in total: 13445 drugs\n",
      "\u001b[2m\u001b[36m(train_fn pid=414030)\u001b[0m encoding drug...\n",
      "\u001b[2m\u001b[36m(train_fn pid=414030)\u001b[0m unique drugs: 13445\n",
      "\u001b[2m\u001b[36m(train_fn pid=414030)\u001b[0m Done.\n"
     ]
    },
    {
     "name": "stderr",
     "output_type": "stream",
     "text": [
      "[INFO 12-28 06:44:18] ax.service.ax_client: Generated new trial 44 with parameters {'lr': 0.000282, 'batch_size': 256, 'train_epochs': 20, 'mlp_hidden_dims_drug': 512, 'mlp_num_layers_drug': 2, 'drug_encoding': 'Morgan'}.\n",
      "2022-12-28 06:44:18,676\tWARNING trial_runner.py:988 -- Trial Runner checkpointing failed: Can't pickle <function TriangularLinearOperator.to_dense at 0x7f44d279b9d0>: it's not the same object as linear_operator.operators.triangular_linear_operator.TriangularLinearOperator.to_dense\n",
      "2022-12-28 06:44:19,352\tWARNING trial_runner.py:988 -- Trial Runner checkpointing failed: Can't pickle <function TriangularLinearOperator.to_dense at 0x7f44d279b9d0>: it's not the same object as linear_operator.operators.triangular_linear_operator.TriangularLinearOperator.to_dense\n",
      "[INFO 12-28 06:44:46] ax.service.ax_client: Completed trial 43 with data: {'pr_auc': (0.90831, None)}.\n",
      "\u001b[2m\u001b[36m(pid=558456)\u001b[0m WARNING:root:No normalization for BCUT2D_MWHI\n",
      "\u001b[2m\u001b[36m(pid=558456)\u001b[0m WARNING:root:No normalization for BCUT2D_MWLOW\n",
      "\u001b[2m\u001b[36m(pid=558456)\u001b[0m WARNING:root:No normalization for BCUT2D_CHGHI\n",
      "\u001b[2m\u001b[36m(pid=558456)\u001b[0m WARNING:root:No normalization for BCUT2D_CHGLO\n",
      "\u001b[2m\u001b[36m(pid=558456)\u001b[0m WARNING:root:No normalization for BCUT2D_LOGPHI\n",
      "\u001b[2m\u001b[36m(pid=558456)\u001b[0m WARNING:root:No normalization for BCUT2D_LOGPLOW\n",
      "\u001b[2m\u001b[36m(pid=558456)\u001b[0m WARNING:root:No normalization for BCUT2D_MRHI\n",
      "\u001b[2m\u001b[36m(pid=558456)\u001b[0m WARNING:root:No normalization for BCUT2D_MRLOW\n"
     ]
    },
    {
     "name": "stdout",
     "output_type": "stream",
     "text": [
      "\u001b[2m\u001b[36m(train_fn pid=558456)\u001b[0m Drug Property Prediction Mode...\n",
      "\u001b[2m\u001b[36m(train_fn pid=558456)\u001b[0m in total: 13445 drugs\n",
      "\u001b[2m\u001b[36m(train_fn pid=558456)\u001b[0m encoding drug...\n",
      "\u001b[2m\u001b[36m(train_fn pid=558456)\u001b[0m unique drugs: 13445\n",
      "\u001b[2m\u001b[36m(train_fn pid=558456)\u001b[0m Done.\n"
     ]
    },
    {
     "name": "stderr",
     "output_type": "stream",
     "text": [
      "[INFO 12-28 06:59:13] ax.service.ax_client: Generated new trial 45 with parameters {'lr': 0.00028, 'batch_size': 256, 'train_epochs': 20, 'mlp_hidden_dims_drug': 512, 'mlp_num_layers_drug': 2, 'drug_encoding': 'Morgan'}.\n",
      "2022-12-28 06:59:14,097\tWARNING trial_runner.py:988 -- Trial Runner checkpointing failed: Can't pickle <function TriangularLinearOperator.to_dense at 0x7f44d279b9d0>: it's not the same object as linear_operator.operators.triangular_linear_operator.TriangularLinearOperator.to_dense\n",
      "\u001b[2m\u001b[36m(pid=637643)\u001b[0m WARNING:root:No normalization for BCUT2D_MWHI\n",
      "\u001b[2m\u001b[36m(pid=637643)\u001b[0m WARNING:root:No normalization for BCUT2D_MWLOW\n",
      "\u001b[2m\u001b[36m(pid=637643)\u001b[0m WARNING:root:No normalization for BCUT2D_CHGHI\n",
      "\u001b[2m\u001b[36m(pid=637643)\u001b[0m WARNING:root:No normalization for BCUT2D_CHGLO\n",
      "\u001b[2m\u001b[36m(pid=637643)\u001b[0m WARNING:root:No normalization for BCUT2D_LOGPHI\n",
      "\u001b[2m\u001b[36m(pid=637643)\u001b[0m WARNING:root:No normalization for BCUT2D_LOGPLOW\n",
      "\u001b[2m\u001b[36m(pid=637643)\u001b[0m WARNING:root:No normalization for BCUT2D_MRHI\n",
      "\u001b[2m\u001b[36m(pid=637643)\u001b[0m WARNING:root:No normalization for BCUT2D_MRLOW\n"
     ]
    },
    {
     "name": "stdout",
     "output_type": "stream",
     "text": [
      "\u001b[2m\u001b[36m(train_fn pid=637643)\u001b[0m Drug Property Prediction Mode...\n",
      "\u001b[2m\u001b[36m(train_fn pid=637643)\u001b[0m in total: 13445 drugs\n",
      "\u001b[2m\u001b[36m(train_fn pid=637643)\u001b[0m encoding drug...\n",
      "\u001b[2m\u001b[36m(train_fn pid=637643)\u001b[0m unique drugs: 13445\n"
     ]
    },
    {
     "name": "stderr",
     "output_type": "stream",
     "text": [
      "[INFO 12-28 07:00:16] ax.service.ax_client: Completed trial 41 with data: {'pr_auc': (0.906708, None)}.\n"
     ]
    },
    {
     "name": "stdout",
     "output_type": "stream",
     "text": [
      "\u001b[2m\u001b[36m(train_fn pid=637643)\u001b[0m Done.\n"
     ]
    },
    {
     "name": "stderr",
     "output_type": "stream",
     "text": [
      "[INFO 12-28 07:21:32] ax.service.ax_client: Generated new trial 46 with parameters {'lr': 0.000292, 'batch_size': 256, 'train_epochs': 20, 'mlp_hidden_dims_drug': 512, 'mlp_num_layers_drug': 2, 'drug_encoding': 'Morgan'}.\n",
      "2022-12-28 07:21:33,146\tWARNING trial_runner.py:988 -- Trial Runner checkpointing failed: Can't pickle <function TriangularLinearOperator.to_dense at 0x7f44d279b9d0>: it's not the same object as linear_operator.operators.triangular_linear_operator.TriangularLinearOperator.to_dense\n",
      "2022-12-28 07:21:33,676\tWARNING trial_runner.py:988 -- Trial Runner checkpointing failed: Can't pickle <function TriangularLinearOperator.to_dense at 0x7f44d279b9d0>: it's not the same object as linear_operator.operators.triangular_linear_operator.TriangularLinearOperator.to_dense\n",
      "\u001b[2m\u001b[36m(pid=763446)\u001b[0m WARNING:root:No normalization for BCUT2D_MWHI\n",
      "\u001b[2m\u001b[36m(pid=763446)\u001b[0m WARNING:root:No normalization for BCUT2D_MWLOW\n",
      "\u001b[2m\u001b[36m(pid=763446)\u001b[0m WARNING:root:No normalization for BCUT2D_CHGHI\n",
      "\u001b[2m\u001b[36m(pid=763446)\u001b[0m WARNING:root:No normalization for BCUT2D_CHGLO\n",
      "\u001b[2m\u001b[36m(pid=763446)\u001b[0m WARNING:root:No normalization for BCUT2D_LOGPHI\n",
      "\u001b[2m\u001b[36m(pid=763446)\u001b[0m WARNING:root:No normalization for BCUT2D_LOGPLOW\n",
      "\u001b[2m\u001b[36m(pid=763446)\u001b[0m WARNING:root:No normalization for BCUT2D_MRHI\n",
      "\u001b[2m\u001b[36m(pid=763446)\u001b[0m WARNING:root:No normalization for BCUT2D_MRLOW\n"
     ]
    },
    {
     "name": "stdout",
     "output_type": "stream",
     "text": [
      "\u001b[2m\u001b[36m(train_fn pid=763446)\u001b[0m Drug Property Prediction Mode...\n",
      "\u001b[2m\u001b[36m(train_fn pid=763446)\u001b[0m in total: 13445 drugs\n",
      "\u001b[2m\u001b[36m(train_fn pid=763446)\u001b[0m encoding drug...\n",
      "\u001b[2m\u001b[36m(train_fn pid=763446)\u001b[0m unique drugs: 13445\n"
     ]
    },
    {
     "name": "stderr",
     "output_type": "stream",
     "text": [
      "[INFO 12-28 07:22:46] ax.service.ax_client: Completed trial 44 with data: {'pr_auc': (0.909497, None)}.\n"
     ]
    },
    {
     "name": "stdout",
     "output_type": "stream",
     "text": [
      "\u001b[2m\u001b[36m(train_fn pid=763446)\u001b[0m Done.\n"
     ]
    },
    {
     "name": "stderr",
     "output_type": "stream",
     "text": [
      "[INFO 12-28 07:32:29] ax.service.ax_client: Generated new trial 47 with parameters {'lr': 0.000272, 'batch_size': 256, 'train_epochs': 20, 'mlp_hidden_dims_drug': 512, 'mlp_num_layers_drug': 2, 'drug_encoding': 'Morgan'}.\n",
      "[INFO 12-28 07:32:29] ax.service.ax_client: Completed trial 45 with data: {'pr_auc': (0.905823, None)}.\n",
      "2022-12-28 07:32:30,302\tWARNING trial_runner.py:988 -- Trial Runner checkpointing failed: Can't pickle <function TriangularLinearOperator.to_dense at 0x7f44d279b9d0>: it's not the same object as linear_operator.operators.triangular_linear_operator.TriangularLinearOperator.to_dense\n"
     ]
    },
    {
     "name": "stdout",
     "output_type": "stream",
     "text": [
      "\u001b[2m\u001b[36m(train_fn pid=637643)\u001b[0m Drug Property Prediction Mode...\n",
      "\u001b[2m\u001b[36m(train_fn pid=637643)\u001b[0m in total: 13445 drugs\n",
      "\u001b[2m\u001b[36m(train_fn pid=637643)\u001b[0m encoding drug...\n",
      "\u001b[2m\u001b[36m(train_fn pid=637643)\u001b[0m unique drugs: 13445\n"
     ]
    },
    {
     "name": "stderr",
     "output_type": "stream",
     "text": [
      "2022-12-28 07:32:30,966\tWARNING util.py:244 -- The `start_trial` operation took 0.603 s, which may be a performance bottleneck.\n",
      "2022-12-28 07:32:31,128\tWARNING trial_runner.py:988 -- Trial Runner checkpointing failed: Can't pickle <function TriangularLinearOperator.to_dense at 0x7f44d279b9d0>: it's not the same object as linear_operator.operators.triangular_linear_operator.TriangularLinearOperator.to_dense\n"
     ]
    },
    {
     "name": "stdout",
     "output_type": "stream",
     "text": [
      "\u001b[2m\u001b[36m(train_fn pid=637643)\u001b[0m Done.\n"
     ]
    },
    {
     "name": "stderr",
     "output_type": "stream",
     "text": [
      "[INFO 12-28 07:48:28] ax.service.ax_client: Generated new trial 48 with parameters {'lr': 0.000287, 'batch_size': 256, 'train_epochs': 20, 'mlp_hidden_dims_drug': 512, 'mlp_num_layers_drug': 2, 'drug_encoding': 'Morgan'}.\n",
      "2022-12-28 07:48:29,060\tWARNING trial_runner.py:988 -- Trial Runner checkpointing failed: Can't pickle <function TriangularLinearOperator.to_dense at 0x7f44d279b9d0>: it's not the same object as linear_operator.operators.triangular_linear_operator.TriangularLinearOperator.to_dense\n",
      "2022-12-28 07:48:29,852\tWARNING trial_runner.py:988 -- Trial Runner checkpointing failed: Can't pickle <function TriangularLinearOperator.to_dense at 0x7f44d279b9d0>: it's not the same object as linear_operator.operators.triangular_linear_operator.TriangularLinearOperator.to_dense\n",
      "[INFO 12-28 07:48:57] ax.service.ax_client: Completed trial 46 with data: {'pr_auc': (0.90689, None)}.\n",
      "\u001b[2m\u001b[36m(pid=912639)\u001b[0m WARNING:root:No normalization for BCUT2D_MWHI\n",
      "\u001b[2m\u001b[36m(pid=912639)\u001b[0m WARNING:root:No normalization for BCUT2D_MWLOW\n",
      "\u001b[2m\u001b[36m(pid=912639)\u001b[0m WARNING:root:No normalization for BCUT2D_CHGHI\n",
      "\u001b[2m\u001b[36m(pid=912639)\u001b[0m WARNING:root:No normalization for BCUT2D_CHGLO\n",
      "\u001b[2m\u001b[36m(pid=912639)\u001b[0m WARNING:root:No normalization for BCUT2D_LOGPHI\n",
      "\u001b[2m\u001b[36m(pid=912639)\u001b[0m WARNING:root:No normalization for BCUT2D_LOGPLOW\n",
      "\u001b[2m\u001b[36m(pid=912639)\u001b[0m WARNING:root:No normalization for BCUT2D_MRHI\n",
      "\u001b[2m\u001b[36m(pid=912639)\u001b[0m WARNING:root:No normalization for BCUT2D_MRLOW\n"
     ]
    },
    {
     "name": "stdout",
     "output_type": "stream",
     "text": [
      "\u001b[2m\u001b[36m(train_fn pid=912639)\u001b[0m Drug Property Prediction Mode...\n",
      "\u001b[2m\u001b[36m(train_fn pid=912639)\u001b[0m in total: 13445 drugs\n",
      "\u001b[2m\u001b[36m(train_fn pid=912639)\u001b[0m encoding drug...\n",
      "\u001b[2m\u001b[36m(train_fn pid=912639)\u001b[0m unique drugs: 13445\n",
      "\u001b[2m\u001b[36m(train_fn pid=912639)\u001b[0m Done.\n"
     ]
    },
    {
     "name": "stderr",
     "output_type": "stream",
     "text": [
      "[INFO 12-28 08:00:54] ax.service.ax_client: Generated new trial 49 with parameters {'lr': 0.000292, 'batch_size': 256, 'train_epochs': 20, 'mlp_hidden_dims_drug': 512, 'mlp_num_layers_drug': 3, 'drug_encoding': 'Morgan'}.\n",
      "2022-12-28 08:00:55,183\tWARNING trial_runner.py:988 -- Trial Runner checkpointing failed: Can't pickle <function TriangularLinearOperator.to_dense at 0x7f44d279b9d0>: it's not the same object as linear_operator.operators.triangular_linear_operator.TriangularLinearOperator.to_dense\n",
      "2022-12-28 08:00:56,012\tWARNING trial_runner.py:988 -- Trial Runner checkpointing failed: Can't pickle <function TriangularLinearOperator.to_dense at 0x7f44d279b9d0>: it's not the same object as linear_operator.operators.triangular_linear_operator.TriangularLinearOperator.to_dense\n",
      "2022-12-28 08:01:22,548\tWARNING util.py:244 -- The `callbacks.on_trial_result` operation took 0.549 s, which may be a performance bottleneck.\n",
      "2022-12-28 08:01:22,549\tWARNING util.py:244 -- The `process_trial_result` operation took 0.564 s, which may be a performance bottleneck.\n",
      "2022-12-28 08:01:22,555\tWARNING util.py:244 -- Processing trial results took 0.570 s, which may be a performance bottleneck. Please consider reporting results less frequently to Ray Tune.\n",
      "2022-12-28 08:01:22,556\tWARNING util.py:244 -- The `process_trial_result` operation took 0.571 s, which may be a performance bottleneck.\n",
      "\u001b[2m\u001b[36m(pid=978380)\u001b[0m WARNING:root:No normalization for BCUT2D_MWHI\n",
      "\u001b[2m\u001b[36m(pid=978380)\u001b[0m WARNING:root:No normalization for BCUT2D_MWLOW\n",
      "\u001b[2m\u001b[36m(pid=978380)\u001b[0m WARNING:root:No normalization for BCUT2D_CHGHI\n",
      "\u001b[2m\u001b[36m(pid=978380)\u001b[0m WARNING:root:No normalization for BCUT2D_CHGLO\n",
      "\u001b[2m\u001b[36m(pid=978380)\u001b[0m WARNING:root:No normalization for BCUT2D_LOGPHI\n",
      "\u001b[2m\u001b[36m(pid=978380)\u001b[0m WARNING:root:No normalization for BCUT2D_LOGPLOW\n",
      "\u001b[2m\u001b[36m(pid=978380)\u001b[0m WARNING:root:No normalization for BCUT2D_MRHI\n",
      "\u001b[2m\u001b[36m(pid=978380)\u001b[0m WARNING:root:No normalization for BCUT2D_MRLOW\n"
     ]
    },
    {
     "name": "stdout",
     "output_type": "stream",
     "text": [
      "\u001b[2m\u001b[36m(train_fn pid=978380)\u001b[0m Drug Property Prediction Mode...\n",
      "\u001b[2m\u001b[36m(train_fn pid=978380)\u001b[0m in total: 13445 drugs\n",
      "\u001b[2m\u001b[36m(train_fn pid=978380)\u001b[0m encoding drug...\n",
      "\u001b[2m\u001b[36m(train_fn pid=978380)\u001b[0m unique drugs: 13445\n"
     ]
    },
    {
     "name": "stderr",
     "output_type": "stream",
     "text": [
      "[INFO 12-28 08:02:07] ax.service.ax_client: Completed trial 48 with data: {'pr_auc': (0.907113, None)}.\n"
     ]
    },
    {
     "name": "stdout",
     "output_type": "stream",
     "text": [
      "\u001b[2m\u001b[36m(train_fn pid=978380)\u001b[0m Done.\n"
     ]
    },
    {
     "name": "stderr",
     "output_type": "stream",
     "text": [
      "[INFO 12-28 08:13:16] ax.service.ax_client: Generated new trial 50 with parameters {'lr': 0.000295, 'batch_size': 256, 'train_epochs': 20, 'mlp_hidden_dims_drug': 512, 'mlp_num_layers_drug': 3, 'drug_encoding': 'Morgan'}.\n",
      "2022-12-28 08:13:17,004\tWARNING trial_runner.py:988 -- Trial Runner checkpointing failed: Can't pickle <function TriangularLinearOperator.to_dense at 0x7f44d279b9d0>: it's not the same object as linear_operator.operators.triangular_linear_operator.TriangularLinearOperator.to_dense\n",
      "2022-12-28 08:13:17,590\tWARNING trial_runner.py:988 -- Trial Runner checkpointing failed: Can't pickle <function TriangularLinearOperator.to_dense at 0x7f44d279b9d0>: it's not the same object as linear_operator.operators.triangular_linear_operator.TriangularLinearOperator.to_dense\n",
      "[INFO 12-28 08:13:41] ax.service.ax_client: Completed trial 49 with data: {'pr_auc': (0.914775, None)}.\n",
      "\u001b[2m\u001b[36m(pid=1046944)\u001b[0m WARNING:root:No normalization for BCUT2D_MWHI\n",
      "\u001b[2m\u001b[36m(pid=1046944)\u001b[0m WARNING:root:No normalization for BCUT2D_MWLOW\n",
      "\u001b[2m\u001b[36m(pid=1046944)\u001b[0m WARNING:root:No normalization for BCUT2D_CHGHI\n",
      "\u001b[2m\u001b[36m(pid=1046944)\u001b[0m WARNING:root:No normalization for BCUT2D_CHGLO\n",
      "\u001b[2m\u001b[36m(pid=1046944)\u001b[0m WARNING:root:No normalization for BCUT2D_LOGPHI\n",
      "\u001b[2m\u001b[36m(pid=1046944)\u001b[0m WARNING:root:No normalization for BCUT2D_LOGPLOW\n",
      "\u001b[2m\u001b[36m(pid=1046944)\u001b[0m WARNING:root:No normalization for BCUT2D_MRHI\n",
      "\u001b[2m\u001b[36m(pid=1046944)\u001b[0m WARNING:root:No normalization for BCUT2D_MRLOW\n"
     ]
    },
    {
     "name": "stdout",
     "output_type": "stream",
     "text": [
      "\u001b[2m\u001b[36m(train_fn pid=1046944)\u001b[0m Drug Property Prediction Mode...\n",
      "\u001b[2m\u001b[36m(train_fn pid=1046944)\u001b[0m in total: 13445 drugs\n",
      "\u001b[2m\u001b[36m(train_fn pid=1046944)\u001b[0m encoding drug...\n",
      "\u001b[2m\u001b[36m(train_fn pid=1046944)\u001b[0m unique drugs: 13445\n",
      "\u001b[2m\u001b[36m(train_fn pid=1046944)\u001b[0m Done.\n"
     ]
    },
    {
     "name": "stderr",
     "output_type": "stream",
     "text": [
      "[INFO 12-28 08:21:17] ax.service.ax_client: Generated new trial 51 with parameters {'lr': 0.000294, 'batch_size': 256, 'train_epochs': 20, 'mlp_hidden_dims_drug': 512, 'mlp_num_layers_drug': 3, 'drug_encoding': 'Morgan'}.\n",
      "2022-12-28 08:21:17,697\tWARNING trial_runner.py:988 -- Trial Runner checkpointing failed: Can't pickle <function TriangularLinearOperator.to_dense at 0x7f44d279b9d0>: it's not the same object as linear_operator.operators.triangular_linear_operator.TriangularLinearOperator.to_dense\n",
      "2022-12-28 08:21:18,253\tWARNING trial_runner.py:988 -- Trial Runner checkpointing failed: Can't pickle <function TriangularLinearOperator.to_dense at 0x7f44d279b9d0>: it's not the same object as linear_operator.operators.triangular_linear_operator.TriangularLinearOperator.to_dense\n",
      "[INFO 12-28 08:21:44] ax.service.ax_client: Completed trial 50 with data: {'pr_auc': (0.910559, None)}.\n",
      "\u001b[2m\u001b[36m(pid=1085653)\u001b[0m WARNING:root:No normalization for BCUT2D_MWHI\n",
      "\u001b[2m\u001b[36m(pid=1085653)\u001b[0m WARNING:root:No normalization for BCUT2D_MWLOW\n",
      "\u001b[2m\u001b[36m(pid=1085653)\u001b[0m WARNING:root:No normalization for BCUT2D_CHGHI\n",
      "\u001b[2m\u001b[36m(pid=1085653)\u001b[0m WARNING:root:No normalization for BCUT2D_CHGLO\n",
      "\u001b[2m\u001b[36m(pid=1085653)\u001b[0m WARNING:root:No normalization for BCUT2D_LOGPHI\n",
      "\u001b[2m\u001b[36m(pid=1085653)\u001b[0m WARNING:root:No normalization for BCUT2D_LOGPLOW\n",
      "\u001b[2m\u001b[36m(pid=1085653)\u001b[0m WARNING:root:No normalization for BCUT2D_MRHI\n",
      "\u001b[2m\u001b[36m(pid=1085653)\u001b[0m WARNING:root:No normalization for BCUT2D_MRLOW\n"
     ]
    },
    {
     "name": "stdout",
     "output_type": "stream",
     "text": [
      "\u001b[2m\u001b[36m(train_fn pid=1085653)\u001b[0m Drug Property Prediction Mode...\n",
      "\u001b[2m\u001b[36m(train_fn pid=1085653)\u001b[0m in total: 13445 drugs\n",
      "\u001b[2m\u001b[36m(train_fn pid=1085653)\u001b[0m encoding drug...\n",
      "\u001b[2m\u001b[36m(train_fn pid=1085653)\u001b[0m unique drugs: 13445\n",
      "\u001b[2m\u001b[36m(train_fn pid=1085653)\u001b[0m Done.\n"
     ]
    },
    {
     "name": "stderr",
     "output_type": "stream",
     "text": [
      "[INFO 12-28 08:28:45] ax.service.ax_client: Generated new trial 52 with parameters {'lr': 0.000295, 'batch_size': 256, 'train_epochs': 20, 'mlp_hidden_dims_drug': 512, 'mlp_num_layers_drug': 3, 'drug_encoding': 'Morgan'}.\n",
      "2022-12-28 08:28:45,776\tWARNING util.py:244 -- The `callbacks.on_trial_result` operation took 0.704 s, which may be a performance bottleneck.\n",
      "2022-12-28 08:28:45,777\tWARNING util.py:244 -- The `process_trial_result` operation took 0.705 s, which may be a performance bottleneck.\n",
      "2022-12-28 08:28:45,778\tWARNING util.py:244 -- Processing trial results took 0.706 s, which may be a performance bottleneck. Please consider reporting results less frequently to Ray Tune.\n",
      "2022-12-28 08:28:45,779\tWARNING util.py:244 -- The `process_trial_result` operation took 0.706 s, which may be a performance bottleneck.\n",
      "2022-12-28 08:28:45,863\tWARNING trial_runner.py:988 -- Trial Runner checkpointing failed: Can't pickle <function TriangularLinearOperator.to_dense at 0x7f44d279b9d0>: it's not the same object as linear_operator.operators.triangular_linear_operator.TriangularLinearOperator.to_dense\n",
      "2022-12-28 08:28:46,516\tWARNING trial_runner.py:988 -- Trial Runner checkpointing failed: Can't pickle <function TriangularLinearOperator.to_dense at 0x7f44d279b9d0>: it's not the same object as linear_operator.operators.triangular_linear_operator.TriangularLinearOperator.to_dense\n",
      "[INFO 12-28 08:29:05] ax.service.ax_client: Completed trial 51 with data: {'pr_auc': (0.910081, None)}.\n",
      "\u001b[2m\u001b[36m(pid=1125171)\u001b[0m WARNING:root:No normalization for BCUT2D_MWHI\n",
      "\u001b[2m\u001b[36m(pid=1125171)\u001b[0m WARNING:root:No normalization for BCUT2D_MWLOW\n",
      "\u001b[2m\u001b[36m(pid=1125171)\u001b[0m WARNING:root:No normalization for BCUT2D_CHGHI\n",
      "\u001b[2m\u001b[36m(pid=1125171)\u001b[0m WARNING:root:No normalization for BCUT2D_CHGLO\n",
      "\u001b[2m\u001b[36m(pid=1125171)\u001b[0m WARNING:root:No normalization for BCUT2D_LOGPHI\n",
      "\u001b[2m\u001b[36m(pid=1125171)\u001b[0m WARNING:root:No normalization for BCUT2D_LOGPLOW\n",
      "\u001b[2m\u001b[36m(pid=1125171)\u001b[0m WARNING:root:No normalization for BCUT2D_MRHI\n",
      "\u001b[2m\u001b[36m(pid=1125171)\u001b[0m WARNING:root:No normalization for BCUT2D_MRLOW\n"
     ]
    },
    {
     "name": "stdout",
     "output_type": "stream",
     "text": [
      "\u001b[2m\u001b[36m(train_fn pid=1125171)\u001b[0m Drug Property Prediction Mode...\n",
      "\u001b[2m\u001b[36m(train_fn pid=1125171)\u001b[0m in total: 13445 drugs\n",
      "\u001b[2m\u001b[36m(train_fn pid=1125171)\u001b[0m encoding drug...\n",
      "\u001b[2m\u001b[36m(train_fn pid=1125171)\u001b[0m unique drugs: 13445\n",
      "\u001b[2m\u001b[36m(train_fn pid=1125171)\u001b[0m Done.\n"
     ]
    },
    {
     "name": "stderr",
     "output_type": "stream",
     "text": [
      "[INFO 12-28 08:40:42] ax.service.ax_client: Generated new trial 53 with parameters {'lr': 0.000285, 'batch_size': 256, 'train_epochs': 20, 'mlp_hidden_dims_drug': 512, 'mlp_num_layers_drug': 3, 'drug_encoding': 'Morgan'}.\n",
      "2022-12-28 08:40:43,423\tWARNING trial_runner.py:988 -- Trial Runner checkpointing failed: Can't pickle <function TriangularLinearOperator.to_dense at 0x7f44d279b9d0>: it's not the same object as linear_operator.operators.triangular_linear_operator.TriangularLinearOperator.to_dense\n",
      "\u001b[2m\u001b[36m(pid=1189623)\u001b[0m WARNING:root:No normalization for BCUT2D_MWHI\n",
      "\u001b[2m\u001b[36m(pid=1189623)\u001b[0m WARNING:root:No normalization for BCUT2D_MWLOW\n",
      "\u001b[2m\u001b[36m(pid=1189623)\u001b[0m WARNING:root:No normalization for BCUT2D_CHGHI\n",
      "\u001b[2m\u001b[36m(pid=1189623)\u001b[0m WARNING:root:No normalization for BCUT2D_CHGLO\n",
      "\u001b[2m\u001b[36m(pid=1189623)\u001b[0m WARNING:root:No normalization for BCUT2D_LOGPHI\n",
      "\u001b[2m\u001b[36m(pid=1189623)\u001b[0m WARNING:root:No normalization for BCUT2D_LOGPLOW\n",
      "\u001b[2m\u001b[36m(pid=1189623)\u001b[0m WARNING:root:No normalization for BCUT2D_MRHI\n",
      "\u001b[2m\u001b[36m(pid=1189623)\u001b[0m WARNING:root:No normalization for BCUT2D_MRLOW\n"
     ]
    },
    {
     "name": "stdout",
     "output_type": "stream",
     "text": [
      "\u001b[2m\u001b[36m(train_fn pid=1189623)\u001b[0m Drug Property Prediction Mode...\n",
      "\u001b[2m\u001b[36m(train_fn pid=1189623)\u001b[0m in total: 13445 drugs\n",
      "\u001b[2m\u001b[36m(train_fn pid=1189623)\u001b[0m encoding drug...\n",
      "\u001b[2m\u001b[36m(train_fn pid=1189623)\u001b[0m unique drugs: 13445\n"
     ]
    },
    {
     "name": "stderr",
     "output_type": "stream",
     "text": [
      "[INFO 12-28 08:41:43] ax.service.ax_client: Completed trial 47 with data: {'pr_auc': (0.906598, None)}.\n"
     ]
    },
    {
     "name": "stdout",
     "output_type": "stream",
     "text": [
      "\u001b[2m\u001b[36m(train_fn pid=1189623)\u001b[0m Done.\n"
     ]
    },
    {
     "name": "stderr",
     "output_type": "stream",
     "text": [
      "[INFO 12-28 08:53:28] ax.service.ax_client: Generated new trial 54 with parameters {'lr': 0.000285, 'batch_size': 256, 'train_epochs': 20, 'mlp_hidden_dims_drug': 512, 'mlp_num_layers_drug': 3, 'drug_encoding': 'Morgan'}.\n",
      "2022-12-28 08:53:28,987\tWARNING trial_runner.py:988 -- Trial Runner checkpointing failed: Can't pickle <function TriangularLinearOperator.to_dense at 0x7f44d279b9d0>: it's not the same object as linear_operator.operators.triangular_linear_operator.TriangularLinearOperator.to_dense\n",
      "2022-12-28 08:53:29,594\tWARNING trial_runner.py:988 -- Trial Runner checkpointing failed: Can't pickle <function TriangularLinearOperator.to_dense at 0x7f44d279b9d0>: it's not the same object as linear_operator.operators.triangular_linear_operator.TriangularLinearOperator.to_dense\n",
      "\u001b[2m\u001b[36m(pid=1256092)\u001b[0m WARNING:root:No normalization for BCUT2D_MWHI\n",
      "\u001b[2m\u001b[36m(pid=1256092)\u001b[0m WARNING:root:No normalization for BCUT2D_MWLOW\n",
      "\u001b[2m\u001b[36m(pid=1256092)\u001b[0m WARNING:root:No normalization for BCUT2D_CHGHI\n",
      "\u001b[2m\u001b[36m(pid=1256092)\u001b[0m WARNING:root:No normalization for BCUT2D_CHGLO\n",
      "\u001b[2m\u001b[36m(pid=1256092)\u001b[0m WARNING:root:No normalization for BCUT2D_LOGPHI\n",
      "\u001b[2m\u001b[36m(pid=1256092)\u001b[0m WARNING:root:No normalization for BCUT2D_LOGPLOW\n",
      "\u001b[2m\u001b[36m(pid=1256092)\u001b[0m WARNING:root:No normalization for BCUT2D_MRHI\n",
      "\u001b[2m\u001b[36m(pid=1256092)\u001b[0m WARNING:root:No normalization for BCUT2D_MRLOW\n"
     ]
    },
    {
     "name": "stdout",
     "output_type": "stream",
     "text": [
      "\u001b[2m\u001b[36m(train_fn pid=1256092)\u001b[0m Drug Property Prediction Mode...\n",
      "\u001b[2m\u001b[36m(train_fn pid=1256092)\u001b[0m in total: 13445 drugs\n",
      "\u001b[2m\u001b[36m(train_fn pid=1256092)\u001b[0m encoding drug...\n",
      "\u001b[2m\u001b[36m(train_fn pid=1256092)\u001b[0m unique drugs: 13445\n"
     ]
    },
    {
     "name": "stderr",
     "output_type": "stream",
     "text": [
      "[INFO 12-28 08:54:42] ax.service.ax_client: Completed trial 53 with data: {'pr_auc': (0.910925, None)}.\n"
     ]
    },
    {
     "name": "stdout",
     "output_type": "stream",
     "text": [
      "\u001b[2m\u001b[36m(train_fn pid=1256092)\u001b[0m Done.\n"
     ]
    },
    {
     "name": "stderr",
     "output_type": "stream",
     "text": [
      "[INFO 12-28 09:04:37] ax.service.ax_client: Generated new trial 55 with parameters {'lr': 0.000297, 'batch_size': 256, 'train_epochs': 20, 'mlp_hidden_dims_drug': 512, 'mlp_num_layers_drug': 3, 'drug_encoding': 'Morgan'}.\n",
      "2022-12-28 09:04:37,887\tWARNING trial_runner.py:988 -- Trial Runner checkpointing failed: Can't pickle <function TriangularLinearOperator.to_dense at 0x7f44d279b9d0>: it's not the same object as linear_operator.operators.triangular_linear_operator.TriangularLinearOperator.to_dense\n",
      "\u001b[2m\u001b[36m(pid=1315840)\u001b[0m WARNING:root:No normalization for BCUT2D_MWHI\n",
      "\u001b[2m\u001b[36m(pid=1315840)\u001b[0m WARNING:root:No normalization for BCUT2D_MWLOW\n",
      "\u001b[2m\u001b[36m(pid=1315840)\u001b[0m WARNING:root:No normalization for BCUT2D_CHGHI\n",
      "\u001b[2m\u001b[36m(pid=1315840)\u001b[0m WARNING:root:No normalization for BCUT2D_CHGLO\n",
      "\u001b[2m\u001b[36m(pid=1315840)\u001b[0m WARNING:root:No normalization for BCUT2D_LOGPHI\n",
      "\u001b[2m\u001b[36m(pid=1315840)\u001b[0m WARNING:root:No normalization for BCUT2D_LOGPLOW\n",
      "\u001b[2m\u001b[36m(pid=1315840)\u001b[0m WARNING:root:No normalization for BCUT2D_MRHI\n",
      "\u001b[2m\u001b[36m(pid=1315840)\u001b[0m WARNING:root:No normalization for BCUT2D_MRLOW\n"
     ]
    },
    {
     "name": "stdout",
     "output_type": "stream",
     "text": [
      "\u001b[2m\u001b[36m(train_fn pid=1315840)\u001b[0m Drug Property Prediction Mode...\n",
      "\u001b[2m\u001b[36m(train_fn pid=1315840)\u001b[0m in total: 13445 drugs\n",
      "\u001b[2m\u001b[36m(train_fn pid=1315840)\u001b[0m encoding drug...\n",
      "\u001b[2m\u001b[36m(train_fn pid=1315840)\u001b[0m unique drugs: 13445\n",
      "\u001b[2m\u001b[36m(train_fn pid=1315840)\u001b[0m Done.\n"
     ]
    },
    {
     "name": "stderr",
     "output_type": "stream",
     "text": [
      "[INFO 12-28 09:06:06] ax.service.ax_client: Completed trial 52 with data: {'pr_auc': (0.912045, None)}.\n",
      "[INFO 12-28 09:09:23] ax.service.ax_client: Generated new trial 56 with parameters {'lr': 0.000295, 'batch_size': 256, 'train_epochs': 20, 'mlp_hidden_dims_drug': 512, 'mlp_num_layers_drug': 3, 'drug_encoding': 'Morgan'}.\n",
      "[INFO 12-28 09:09:23] ax.service.ax_client: Completed trial 54 with data: {'pr_auc': (0.911845, None)}.\n",
      "2022-12-28 09:09:23,652\tWARNING trial_runner.py:988 -- Trial Runner checkpointing failed: Can't pickle <function TriangularLinearOperator.to_dense at 0x7f44d279b9d0>: it's not the same object as linear_operator.operators.triangular_linear_operator.TriangularLinearOperator.to_dense\n"
     ]
    },
    {
     "name": "stdout",
     "output_type": "stream",
     "text": [
      "\u001b[2m\u001b[36m(train_fn pid=1256092)\u001b[0m Drug Property Prediction Mode...\n",
      "\u001b[2m\u001b[36m(train_fn pid=1256092)\u001b[0m in total: 13445 drugs\n",
      "\u001b[2m\u001b[36m(train_fn pid=1256092)\u001b[0m encoding drug...\n",
      "\u001b[2m\u001b[36m(train_fn pid=1256092)\u001b[0m unique drugs: 13445\n"
     ]
    },
    {
     "name": "stderr",
     "output_type": "stream",
     "text": [
      "2022-12-28 09:09:24,168\tWARNING trial_runner.py:988 -- Trial Runner checkpointing failed: Can't pickle <function TriangularLinearOperator.to_dense at 0x7f44d279b9d0>: it's not the same object as linear_operator.operators.triangular_linear_operator.TriangularLinearOperator.to_dense\n"
     ]
    },
    {
     "name": "stdout",
     "output_type": "stream",
     "text": [
      "\u001b[2m\u001b[36m(train_fn pid=1256092)\u001b[0m Done.\n"
     ]
    },
    {
     "name": "stderr",
     "output_type": "stream",
     "text": [
      "[INFO 12-28 09:28:04] ax.service.ax_client: Generated new trial 57 with parameters {'lr': 0.000282, 'batch_size': 256, 'train_epochs': 20, 'mlp_hidden_dims_drug': 512, 'mlp_num_layers_drug': 3, 'drug_encoding': 'Morgan'}.\n",
      "2022-12-28 09:28:05,164\tWARNING util.py:244 -- The `callbacks.on_trial_result` operation took 0.527 s, which may be a performance bottleneck.\n",
      "2022-12-28 09:28:05,165\tWARNING util.py:244 -- The `process_trial_result` operation took 0.528 s, which may be a performance bottleneck.\n",
      "2022-12-28 09:28:05,166\tWARNING util.py:244 -- Processing trial results took 0.529 s, which may be a performance bottleneck. Please consider reporting results less frequently to Ray Tune.\n",
      "2022-12-28 09:28:05,166\tWARNING util.py:244 -- The `process_trial_result` operation took 0.529 s, which may be a performance bottleneck.\n",
      "2022-12-28 09:28:05,297\tWARNING trial_runner.py:988 -- Trial Runner checkpointing failed: Can't pickle <function TriangularLinearOperator.to_dense at 0x7f44d279b9d0>: it's not the same object as linear_operator.operators.triangular_linear_operator.TriangularLinearOperator.to_dense\n",
      "2022-12-28 09:28:05,877\tWARNING trial_runner.py:988 -- Trial Runner checkpointing failed: Can't pickle <function TriangularLinearOperator.to_dense at 0x7f44d279b9d0>: it's not the same object as linear_operator.operators.triangular_linear_operator.TriangularLinearOperator.to_dense\n",
      "\u001b[2m\u001b[36m(pid=1444303)\u001b[0m WARNING:root:No normalization for BCUT2D_MWHI\n",
      "\u001b[2m\u001b[36m(pid=1444303)\u001b[0m WARNING:root:No normalization for BCUT2D_MWLOW\n",
      "\u001b[2m\u001b[36m(pid=1444303)\u001b[0m WARNING:root:No normalization for BCUT2D_CHGHI\n",
      "\u001b[2m\u001b[36m(pid=1444303)\u001b[0m WARNING:root:No normalization for BCUT2D_CHGLO\n",
      "\u001b[2m\u001b[36m(pid=1444303)\u001b[0m WARNING:root:No normalization for BCUT2D_LOGPHI\n",
      "\u001b[2m\u001b[36m(pid=1444303)\u001b[0m WARNING:root:No normalization for BCUT2D_LOGPLOW\n",
      "\u001b[2m\u001b[36m(pid=1444303)\u001b[0m WARNING:root:No normalization for BCUT2D_MRHI\n",
      "\u001b[2m\u001b[36m(pid=1444303)\u001b[0m WARNING:root:No normalization for BCUT2D_MRLOW\n"
     ]
    },
    {
     "name": "stdout",
     "output_type": "stream",
     "text": [
      "\u001b[2m\u001b[36m(train_fn pid=1444303)\u001b[0m Drug Property Prediction Mode...\n",
      "\u001b[2m\u001b[36m(train_fn pid=1444303)\u001b[0m in total: 13445 drugs\n",
      "\u001b[2m\u001b[36m(train_fn pid=1444303)\u001b[0m encoding drug...\n",
      "\u001b[2m\u001b[36m(train_fn pid=1444303)\u001b[0m unique drugs: 13445\n"
     ]
    },
    {
     "name": "stderr",
     "output_type": "stream",
     "text": [
      "[INFO 12-28 09:29:15] ax.service.ax_client: Completed trial 55 with data: {'pr_auc': (0.910097, None)}.\n"
     ]
    },
    {
     "name": "stdout",
     "output_type": "stream",
     "text": [
      "\u001b[2m\u001b[36m(train_fn pid=1444303)\u001b[0m Done.\n"
     ]
    },
    {
     "name": "stderr",
     "output_type": "stream",
     "text": [
      "[INFO 12-28 09:34:41] ax.service.ax_client: Generated new trial 58 with parameters {'lr': 0.000284, 'batch_size': 256, 'train_epochs': 20, 'mlp_hidden_dims_drug': 512, 'mlp_num_layers_drug': 3, 'drug_encoding': 'Morgan'}.\n",
      "[INFO 12-28 09:34:41] ax.service.ax_client: Completed trial 56 with data: {'pr_auc': (0.911717, None)}.\n",
      "2022-12-28 09:34:42,582\tWARNING trial_runner.py:988 -- Trial Runner checkpointing failed: Can't pickle <function TriangularLinearOperator.to_dense at 0x7f44d279b9d0>: it's not the same object as linear_operator.operators.triangular_linear_operator.TriangularLinearOperator.to_dense\n"
     ]
    },
    {
     "name": "stdout",
     "output_type": "stream",
     "text": [
      "\u001b[2m\u001b[36m(train_fn pid=1256092)\u001b[0m Drug Property Prediction Mode...\n",
      "\u001b[2m\u001b[36m(train_fn pid=1256092)\u001b[0m in total: 13445 drugs\n",
      "\u001b[2m\u001b[36m(train_fn pid=1256092)\u001b[0m encoding drug...\n",
      "\u001b[2m\u001b[36m(train_fn pid=1256092)\u001b[0m unique drugs: 13445\n"
     ]
    },
    {
     "name": "stderr",
     "output_type": "stream",
     "text": [
      "2022-12-28 09:34:43,058\tWARNING trial_runner.py:988 -- Trial Runner checkpointing failed: Can't pickle <function TriangularLinearOperator.to_dense at 0x7f44d279b9d0>: it's not the same object as linear_operator.operators.triangular_linear_operator.TriangularLinearOperator.to_dense\n"
     ]
    },
    {
     "name": "stdout",
     "output_type": "stream",
     "text": [
      "\u001b[2m\u001b[36m(train_fn pid=1256092)\u001b[0m Done.\n"
     ]
    },
    {
     "name": "stderr",
     "output_type": "stream",
     "text": [
      "[INFO 12-28 09:41:22] ax.service.ax_client: Generated new trial 59 with parameters {'lr': 0.000282, 'batch_size': 256, 'train_epochs': 20, 'mlp_hidden_dims_drug': 512, 'mlp_num_layers_drug': 3, 'drug_encoding': 'Morgan'}.\n",
      "2022-12-28 09:41:22,675\tWARNING trial_runner.py:988 -- Trial Runner checkpointing failed: Can't pickle <function TriangularLinearOperator.to_dense at 0x7f44d279b9d0>: it's not the same object as linear_operator.operators.triangular_linear_operator.TriangularLinearOperator.to_dense\n",
      "2022-12-28 09:41:23,317\tWARNING trial_runner.py:988 -- Trial Runner checkpointing failed: Can't pickle <function TriangularLinearOperator.to_dense at 0x7f44d279b9d0>: it's not the same object as linear_operator.operators.triangular_linear_operator.TriangularLinearOperator.to_dense\n",
      "[INFO 12-28 09:41:42] ax.service.ax_client: Completed trial 58 with data: {'pr_auc': (0.910778, None)}.\n",
      "\u001b[2m\u001b[36m(pid=1524649)\u001b[0m WARNING:root:No normalization for BCUT2D_MWHI\n",
      "\u001b[2m\u001b[36m(pid=1524649)\u001b[0m WARNING:root:No normalization for BCUT2D_MWLOW\n",
      "\u001b[2m\u001b[36m(pid=1524649)\u001b[0m WARNING:root:No normalization for BCUT2D_CHGHI\n",
      "\u001b[2m\u001b[36m(pid=1524649)\u001b[0m WARNING:root:No normalization for BCUT2D_CHGLO\n",
      "\u001b[2m\u001b[36m(pid=1524649)\u001b[0m WARNING:root:No normalization for BCUT2D_LOGPHI\n",
      "\u001b[2m\u001b[36m(pid=1524649)\u001b[0m WARNING:root:No normalization for BCUT2D_LOGPLOW\n",
      "\u001b[2m\u001b[36m(pid=1524649)\u001b[0m WARNING:root:No normalization for BCUT2D_MRHI\n",
      "\u001b[2m\u001b[36m(pid=1524649)\u001b[0m WARNING:root:No normalization for BCUT2D_MRLOW\n"
     ]
    },
    {
     "name": "stdout",
     "output_type": "stream",
     "text": [
      "\u001b[2m\u001b[36m(train_fn pid=1524649)\u001b[0m Drug Property Prediction Mode...\n",
      "\u001b[2m\u001b[36m(train_fn pid=1524649)\u001b[0m in total: 13445 drugs\n",
      "\u001b[2m\u001b[36m(train_fn pid=1524649)\u001b[0m encoding drug...\n",
      "\u001b[2m\u001b[36m(train_fn pid=1524649)\u001b[0m unique drugs: 13445\n",
      "\u001b[2m\u001b[36m(train_fn pid=1524649)\u001b[0m Done.\n"
     ]
    },
    {
     "name": "stderr",
     "output_type": "stream",
     "text": [
      "[INFO 12-28 10:04:41] ax.service.ax_client: Generated new trial 60 with parameters {'lr': 0.00028, 'batch_size': 256, 'train_epochs': 20, 'mlp_hidden_dims_drug': 512, 'mlp_num_layers_drug': 3, 'drug_encoding': 'Morgan'}.\n",
      "2022-12-28 10:04:41,790\tWARNING trial_runner.py:988 -- Trial Runner checkpointing failed: Can't pickle <function TriangularLinearOperator.to_dense at 0x7f44d279b9d0>: it's not the same object as linear_operator.operators.triangular_linear_operator.TriangularLinearOperator.to_dense\n",
      "2022-12-28 10:04:42,517\tWARNING trial_runner.py:988 -- Trial Runner checkpointing failed: Can't pickle <function TriangularLinearOperator.to_dense at 0x7f44d279b9d0>: it's not the same object as linear_operator.operators.triangular_linear_operator.TriangularLinearOperator.to_dense\n",
      "[INFO 12-28 10:05:05] ax.service.ax_client: Completed trial 57 with data: {'pr_auc': (0.907551, None)}.\n",
      "\u001b[2m\u001b[36m(pid=1669061)\u001b[0m WARNING:root:No normalization for BCUT2D_MWHI\n",
      "\u001b[2m\u001b[36m(pid=1669061)\u001b[0m WARNING:root:No normalization for BCUT2D_MWLOW\n",
      "\u001b[2m\u001b[36m(pid=1669061)\u001b[0m WARNING:root:No normalization for BCUT2D_CHGHI\n",
      "\u001b[2m\u001b[36m(pid=1669061)\u001b[0m WARNING:root:No normalization for BCUT2D_CHGLO\n",
      "\u001b[2m\u001b[36m(pid=1669061)\u001b[0m WARNING:root:No normalization for BCUT2D_LOGPHI\n",
      "\u001b[2m\u001b[36m(pid=1669061)\u001b[0m WARNING:root:No normalization for BCUT2D_LOGPLOW\n",
      "\u001b[2m\u001b[36m(pid=1669061)\u001b[0m WARNING:root:No normalization for BCUT2D_MRHI\n",
      "\u001b[2m\u001b[36m(pid=1669061)\u001b[0m WARNING:root:No normalization for BCUT2D_MRLOW\n"
     ]
    },
    {
     "name": "stdout",
     "output_type": "stream",
     "text": [
      "\u001b[2m\u001b[36m(train_fn pid=1669061)\u001b[0m Drug Property Prediction Mode...\n",
      "\u001b[2m\u001b[36m(train_fn pid=1669061)\u001b[0m in total: 13445 drugs\n",
      "\u001b[2m\u001b[36m(train_fn pid=1669061)\u001b[0m encoding drug...\n",
      "\u001b[2m\u001b[36m(train_fn pid=1669061)\u001b[0m unique drugs: 13445\n",
      "\u001b[2m\u001b[36m(train_fn pid=1669061)\u001b[0m Done.\n"
     ]
    },
    {
     "name": "stderr",
     "output_type": "stream",
     "text": [
      "[INFO 12-28 10:11:54] ax.service.ax_client: Generated new trial 61 with parameters {'lr': 0.000278, 'batch_size': 256, 'train_epochs': 20, 'mlp_hidden_dims_drug': 512, 'mlp_num_layers_drug': 3, 'drug_encoding': 'Morgan'}.\n",
      "2022-12-28 10:11:55,312\tWARNING trial_runner.py:988 -- Trial Runner checkpointing failed: Can't pickle <function TriangularLinearOperator.to_dense at 0x7f44d279b9d0>: it's not the same object as linear_operator.operators.triangular_linear_operator.TriangularLinearOperator.to_dense\n",
      "2022-12-28 10:11:56,086\tWARNING trial_runner.py:988 -- Trial Runner checkpointing failed: Can't pickle <function TriangularLinearOperator.to_dense at 0x7f44d279b9d0>: it's not the same object as linear_operator.operators.triangular_linear_operator.TriangularLinearOperator.to_dense\n",
      "\u001b[2m\u001b[36m(pid=1700662)\u001b[0m WARNING:root:No normalization for BCUT2D_MWHI\n",
      "\u001b[2m\u001b[36m(pid=1700662)\u001b[0m WARNING:root:No normalization for BCUT2D_MWLOW\n",
      "\u001b[2m\u001b[36m(pid=1700662)\u001b[0m WARNING:root:No normalization for BCUT2D_CHGHI\n",
      "\u001b[2m\u001b[36m(pid=1700662)\u001b[0m WARNING:root:No normalization for BCUT2D_CHGLO\n",
      "\u001b[2m\u001b[36m(pid=1700662)\u001b[0m WARNING:root:No normalization for BCUT2D_LOGPHI\n",
      "\u001b[2m\u001b[36m(pid=1700662)\u001b[0m WARNING:root:No normalization for BCUT2D_LOGPLOW\n",
      "\u001b[2m\u001b[36m(pid=1700662)\u001b[0m WARNING:root:No normalization for BCUT2D_MRHI\n",
      "\u001b[2m\u001b[36m(pid=1700662)\u001b[0m WARNING:root:No normalization for BCUT2D_MRLOW\n"
     ]
    },
    {
     "name": "stdout",
     "output_type": "stream",
     "text": [
      "\u001b[2m\u001b[36m(train_fn pid=1700662)\u001b[0m Drug Property Prediction Mode...\n",
      "\u001b[2m\u001b[36m(train_fn pid=1700662)\u001b[0m in total: 13445 drugs\n",
      "\u001b[2m\u001b[36m(train_fn pid=1700662)\u001b[0m encoding drug...\n",
      "\u001b[2m\u001b[36m(train_fn pid=1700662)\u001b[0m unique drugs: 13445\n"
     ]
    },
    {
     "name": "stderr",
     "output_type": "stream",
     "text": [
      "[INFO 12-28 10:13:56] ax.service.ax_client: Completed trial 59 with data: {'pr_auc': (0.912837, None)}.\n"
     ]
    },
    {
     "name": "stdout",
     "output_type": "stream",
     "text": [
      "\u001b[2m\u001b[36m(train_fn pid=1700662)\u001b[0m Done.\n"
     ]
    },
    {
     "name": "stderr",
     "output_type": "stream",
     "text": [
      "[INFO 12-28 10:29:03] ax.service.ax_client: Generated new trial 62 with parameters {'lr': 0.000282, 'batch_size': 256, 'train_epochs': 20, 'mlp_hidden_dims_drug': 512, 'mlp_num_layers_drug': 3, 'drug_encoding': 'Morgan'}.\n",
      "[INFO 12-28 10:29:03] ax.service.ax_client: Completed trial 60 with data: {'pr_auc': (0.91006, None)}.\n",
      "2022-12-28 10:29:04,000\tWARNING trial_runner.py:988 -- Trial Runner checkpointing failed: Can't pickle <function TriangularLinearOperator.to_dense at 0x7f44d279b9d0>: it's not the same object as linear_operator.operators.triangular_linear_operator.TriangularLinearOperator.to_dense\n"
     ]
    },
    {
     "name": "stdout",
     "output_type": "stream",
     "text": [
      "\u001b[2m\u001b[36m(train_fn pid=1669061)\u001b[0m Drug Property Prediction Mode...\n",
      "\u001b[2m\u001b[36m(train_fn pid=1669061)\u001b[0m in total: 13445 drugs\n",
      "\u001b[2m\u001b[36m(train_fn pid=1669061)\u001b[0m encoding drug...\n",
      "\u001b[2m\u001b[36m(train_fn pid=1669061)\u001b[0m unique drugs: 13445\n"
     ]
    },
    {
     "name": "stderr",
     "output_type": "stream",
     "text": [
      "2022-12-28 10:29:04,726\tWARNING trial_runner.py:988 -- Trial Runner checkpointing failed: Can't pickle <function TriangularLinearOperator.to_dense at 0x7f44d279b9d0>: it's not the same object as linear_operator.operators.triangular_linear_operator.TriangularLinearOperator.to_dense\n"
     ]
    },
    {
     "name": "stdout",
     "output_type": "stream",
     "text": [
      "\u001b[2m\u001b[36m(train_fn pid=1669061)\u001b[0m Done.\n"
     ]
    },
    {
     "name": "stderr",
     "output_type": "stream",
     "text": [
      "[INFO 12-28 10:42:21] ax.service.ax_client: Generated new trial 63 with parameters {'lr': 0.000283, 'batch_size': 256, 'train_epochs': 20, 'mlp_hidden_dims_drug': 512, 'mlp_num_layers_drug': 3, 'drug_encoding': 'Morgan'}.\n",
      "2022-12-28 10:42:21,516\tWARNING trial_runner.py:988 -- Trial Runner checkpointing failed: Can't pickle <function TriangularLinearOperator.to_dense at 0x7f44d279b9d0>: it's not the same object as linear_operator.operators.triangular_linear_operator.TriangularLinearOperator.to_dense\n",
      "2022-12-28 10:42:22,077\tWARNING trial_runner.py:988 -- Trial Runner checkpointing failed: Can't pickle <function TriangularLinearOperator.to_dense at 0x7f44d279b9d0>: it's not the same object as linear_operator.operators.triangular_linear_operator.TriangularLinearOperator.to_dense\n",
      "[INFO 12-28 10:42:55] ax.service.ax_client: Completed trial 61 with data: {'pr_auc': (0.910526, None)}.\n",
      "\u001b[2m\u001b[36m(pid=1840755)\u001b[0m WARNING:root:No normalization for BCUT2D_MWHI\n",
      "\u001b[2m\u001b[36m(pid=1840755)\u001b[0m WARNING:root:No normalization for BCUT2D_MWLOW\n",
      "\u001b[2m\u001b[36m(pid=1840755)\u001b[0m WARNING:root:No normalization for BCUT2D_CHGHI\n",
      "\u001b[2m\u001b[36m(pid=1840755)\u001b[0m WARNING:root:No normalization for BCUT2D_CHGLO\n",
      "\u001b[2m\u001b[36m(pid=1840755)\u001b[0m WARNING:root:No normalization for BCUT2D_LOGPHI\n",
      "\u001b[2m\u001b[36m(pid=1840755)\u001b[0m WARNING:root:No normalization for BCUT2D_LOGPLOW\n",
      "\u001b[2m\u001b[36m(pid=1840755)\u001b[0m WARNING:root:No normalization for BCUT2D_MRHI\n",
      "\u001b[2m\u001b[36m(pid=1840755)\u001b[0m WARNING:root:No normalization for BCUT2D_MRLOW\n"
     ]
    },
    {
     "name": "stdout",
     "output_type": "stream",
     "text": [
      "\u001b[2m\u001b[36m(train_fn pid=1840755)\u001b[0m Drug Property Prediction Mode...\n",
      "\u001b[2m\u001b[36m(train_fn pid=1840755)\u001b[0m in total: 13445 drugs\n",
      "\u001b[2m\u001b[36m(train_fn pid=1840755)\u001b[0m encoding drug...\n",
      "\u001b[2m\u001b[36m(train_fn pid=1840755)\u001b[0m unique drugs: 13445\n",
      "\u001b[2m\u001b[36m(train_fn pid=1840755)\u001b[0m Done.\n"
     ]
    },
    {
     "name": "stderr",
     "output_type": "stream",
     "text": [
      "[INFO 12-28 11:12:12] ax.service.ax_client: Generated new trial 64 with parameters {'lr': 0.00028, 'batch_size': 256, 'train_epochs': 20, 'mlp_hidden_dims_drug': 512, 'mlp_num_layers_drug': 3, 'drug_encoding': 'Morgan'}.\n",
      "2022-12-28 11:12:13,215\tWARNING trial_runner.py:988 -- Trial Runner checkpointing failed: Can't pickle <function TriangularLinearOperator.to_dense at 0x7f44d279b9d0>: it's not the same object as linear_operator.operators.triangular_linear_operator.TriangularLinearOperator.to_dense\n",
      "2022-12-28 11:12:13,827\tWARNING trial_runner.py:988 -- Trial Runner checkpointing failed: Can't pickle <function TriangularLinearOperator.to_dense at 0x7f44d279b9d0>: it's not the same object as linear_operator.operators.triangular_linear_operator.TriangularLinearOperator.to_dense\n",
      "\u001b[2m\u001b[36m(pid=1990134)\u001b[0m WARNING:root:No normalization for BCUT2D_MWHI\n",
      "\u001b[2m\u001b[36m(pid=1990134)\u001b[0m WARNING:root:No normalization for BCUT2D_MWLOW\n",
      "\u001b[2m\u001b[36m(pid=1990134)\u001b[0m WARNING:root:No normalization for BCUT2D_CHGHI\n",
      "\u001b[2m\u001b[36m(pid=1990134)\u001b[0m WARNING:root:No normalization for BCUT2D_CHGLO\n",
      "\u001b[2m\u001b[36m(pid=1990134)\u001b[0m WARNING:root:No normalization for BCUT2D_LOGPHI\n",
      "\u001b[2m\u001b[36m(pid=1990134)\u001b[0m WARNING:root:No normalization for BCUT2D_LOGPLOW\n",
      "\u001b[2m\u001b[36m(pid=1990134)\u001b[0m WARNING:root:No normalization for BCUT2D_MRHI\n",
      "\u001b[2m\u001b[36m(pid=1990134)\u001b[0m WARNING:root:No normalization for BCUT2D_MRLOW\n"
     ]
    },
    {
     "name": "stdout",
     "output_type": "stream",
     "text": [
      "\u001b[2m\u001b[36m(train_fn pid=1990134)\u001b[0m Drug Property Prediction Mode...\n",
      "\u001b[2m\u001b[36m(train_fn pid=1990134)\u001b[0m in total: 13445 drugs\n",
      "\u001b[2m\u001b[36m(train_fn pid=1990134)\u001b[0m encoding drug...\n",
      "\u001b[2m\u001b[36m(train_fn pid=1990134)\u001b[0m unique drugs: 13445\n"
     ]
    },
    {
     "name": "stderr",
     "output_type": "stream",
     "text": [
      "[INFO 12-28 11:12:55] ax.service.ax_client: Completed trial 62 with data: {'pr_auc': (0.907508, None)}.\n"
     ]
    },
    {
     "name": "stdout",
     "output_type": "stream",
     "text": [
      "\u001b[2m\u001b[36m(train_fn pid=1990134)\u001b[0m Done.\n"
     ]
    },
    {
     "name": "stderr",
     "output_type": "stream",
     "text": [
      "[INFO 12-28 11:29:23] ax.service.ax_client: Generated new trial 65 with parameters {'lr': 0.000283, 'batch_size': 256, 'train_epochs': 20, 'mlp_hidden_dims_drug': 512, 'mlp_num_layers_drug': 3, 'drug_encoding': 'Morgan'}.\n",
      "2022-12-28 11:29:24,079\tWARNING trial_runner.py:988 -- Trial Runner checkpointing failed: Can't pickle <function TriangularLinearOperator.to_dense at 0x7f44d279b9d0>: it's not the same object as linear_operator.operators.triangular_linear_operator.TriangularLinearOperator.to_dense\n",
      "2022-12-28 11:29:24,608\tWARNING trial_runner.py:988 -- Trial Runner checkpointing failed: Can't pickle <function TriangularLinearOperator.to_dense at 0x7f44d279b9d0>: it's not the same object as linear_operator.operators.triangular_linear_operator.TriangularLinearOperator.to_dense\n",
      "[INFO 12-28 11:29:49] ax.service.ax_client: Completed trial 63 with data: {'pr_auc': (0.910318, None)}.\n",
      "\u001b[2m\u001b[36m(pid=2095298)\u001b[0m WARNING:root:No normalization for BCUT2D_MWHI\n",
      "\u001b[2m\u001b[36m(pid=2095298)\u001b[0m WARNING:root:No normalization for BCUT2D_MWLOW\n",
      "\u001b[2m\u001b[36m(pid=2095298)\u001b[0m WARNING:root:No normalization for BCUT2D_CHGHI\n",
      "\u001b[2m\u001b[36m(pid=2095298)\u001b[0m WARNING:root:No normalization for BCUT2D_CHGLO\n",
      "\u001b[2m\u001b[36m(pid=2095298)\u001b[0m WARNING:root:No normalization for BCUT2D_LOGPHI\n",
      "\u001b[2m\u001b[36m(pid=2095298)\u001b[0m WARNING:root:No normalization for BCUT2D_LOGPLOW\n",
      "\u001b[2m\u001b[36m(pid=2095298)\u001b[0m WARNING:root:No normalization for BCUT2D_MRHI\n",
      "\u001b[2m\u001b[36m(pid=2095298)\u001b[0m WARNING:root:No normalization for BCUT2D_MRLOW\n"
     ]
    },
    {
     "name": "stdout",
     "output_type": "stream",
     "text": [
      "\u001b[2m\u001b[36m(train_fn pid=2095298)\u001b[0m Drug Property Prediction Mode...\n",
      "\u001b[2m\u001b[36m(train_fn pid=2095298)\u001b[0m in total: 13445 drugs\n",
      "\u001b[2m\u001b[36m(train_fn pid=2095298)\u001b[0m encoding drug...\n",
      "\u001b[2m\u001b[36m(train_fn pid=2095298)\u001b[0m unique drugs: 13445\n",
      "\u001b[2m\u001b[36m(train_fn pid=2095298)\u001b[0m Done.\n"
     ]
    },
    {
     "name": "stderr",
     "output_type": "stream",
     "text": [
      "[INFO 12-28 12:02:51] ax.service.ax_client: Generated new trial 66 with parameters {'lr': 0.000281, 'batch_size': 256, 'train_epochs': 20, 'mlp_hidden_dims_drug': 512, 'mlp_num_layers_drug': 3, 'drug_encoding': 'Morgan'}.\n",
      "[INFO 12-28 12:02:51] ax.service.ax_client: Completed trial 64 with data: {'pr_auc': (0.909772, None)}.\n",
      "2022-12-28 12:02:51,893\tWARNING trial_runner.py:988 -- Trial Runner checkpointing failed: Can't pickle <function TriangularLinearOperator.to_dense at 0x7f44d279b9d0>: it's not the same object as linear_operator.operators.triangular_linear_operator.TriangularLinearOperator.to_dense\n"
     ]
    },
    {
     "name": "stdout",
     "output_type": "stream",
     "text": [
      "\u001b[2m\u001b[36m(train_fn pid=1990134)\u001b[0m Drug Property Prediction Mode...\n",
      "\u001b[2m\u001b[36m(train_fn pid=1990134)\u001b[0m in total: 13445 drugs\n",
      "\u001b[2m\u001b[36m(train_fn pid=1990134)\u001b[0m encoding drug...\n",
      "\u001b[2m\u001b[36m(train_fn pid=1990134)\u001b[0m unique drugs: 13445\n"
     ]
    },
    {
     "name": "stderr",
     "output_type": "stream",
     "text": [
      "2022-12-28 12:02:52,470\tWARNING trial_runner.py:988 -- Trial Runner checkpointing failed: Can't pickle <function TriangularLinearOperator.to_dense at 0x7f44d279b9d0>: it's not the same object as linear_operator.operators.triangular_linear_operator.TriangularLinearOperator.to_dense\n"
     ]
    },
    {
     "name": "stdout",
     "output_type": "stream",
     "text": [
      "\u001b[2m\u001b[36m(train_fn pid=1990134)\u001b[0m Done.\n"
     ]
    },
    {
     "name": "stderr",
     "output_type": "stream",
     "text": [
      "[INFO 12-28 12:22:12] ax.service.ax_client: Generated new trial 67 with parameters {'lr': 0.000284, 'batch_size': 256, 'train_epochs': 20, 'mlp_hidden_dims_drug': 512, 'mlp_num_layers_drug': 3, 'drug_encoding': 'Morgan'}.\n",
      "2022-12-28 12:22:12,748\tWARNING trial_runner.py:988 -- Trial Runner checkpointing failed: Can't pickle <function TriangularLinearOperator.to_dense at 0x7f44d279b9d0>: it's not the same object as linear_operator.operators.triangular_linear_operator.TriangularLinearOperator.to_dense\n",
      "2022-12-28 12:22:13,257\tWARNING trial_runner.py:988 -- Trial Runner checkpointing failed: Can't pickle <function TriangularLinearOperator.to_dense at 0x7f44d279b9d0>: it's not the same object as linear_operator.operators.triangular_linear_operator.TriangularLinearOperator.to_dense\n",
      "\u001b[2m\u001b[36m(pid=2376250)\u001b[0m WARNING:root:No normalization for BCUT2D_MWHI\n",
      "\u001b[2m\u001b[36m(pid=2376250)\u001b[0m WARNING:root:No normalization for BCUT2D_MWLOW\n",
      "\u001b[2m\u001b[36m(pid=2376250)\u001b[0m WARNING:root:No normalization for BCUT2D_CHGHI\n",
      "\u001b[2m\u001b[36m(pid=2376250)\u001b[0m WARNING:root:No normalization for BCUT2D_CHGLO\n",
      "\u001b[2m\u001b[36m(pid=2376250)\u001b[0m WARNING:root:No normalization for BCUT2D_LOGPHI\n",
      "\u001b[2m\u001b[36m(pid=2376250)\u001b[0m WARNING:root:No normalization for BCUT2D_LOGPLOW\n",
      "\u001b[2m\u001b[36m(pid=2376250)\u001b[0m WARNING:root:No normalization for BCUT2D_MRHI\n",
      "\u001b[2m\u001b[36m(pid=2376250)\u001b[0m WARNING:root:No normalization for BCUT2D_MRLOW\n"
     ]
    },
    {
     "name": "stdout",
     "output_type": "stream",
     "text": [
      "\u001b[2m\u001b[36m(train_fn pid=2376250)\u001b[0m Drug Property Prediction Mode...\n",
      "\u001b[2m\u001b[36m(train_fn pid=2376250)\u001b[0m in total: 13445 drugs\n",
      "\u001b[2m\u001b[36m(train_fn pid=2376250)\u001b[0m encoding drug...\n",
      "\u001b[2m\u001b[36m(train_fn pid=2376250)\u001b[0m unique drugs: 13445\n",
      "\u001b[2m\u001b[36m(train_fn pid=2376250)\u001b[0m Done.\n"
     ]
    },
    {
     "name": "stderr",
     "output_type": "stream",
     "text": [
      "[INFO 12-28 12:23:38] ax.service.ax_client: Completed trial 65 with data: {'pr_auc': (0.909461, None)}.\n",
      "[INFO 12-28 12:46:52] ax.service.ax_client: Generated new trial 68 with parameters {'lr': 0.000286, 'batch_size': 256, 'train_epochs': 20, 'mlp_hidden_dims_drug': 512, 'mlp_num_layers_drug': 3, 'drug_encoding': 'Morgan'}.\n",
      "[INFO 12-28 12:46:52] ax.service.ax_client: Completed trial 66 with data: {'pr_auc': (0.913511, None)}.\n",
      "2022-12-28 12:46:52,701\tWARNING trial_runner.py:988 -- Trial Runner checkpointing failed: Can't pickle <function TriangularLinearOperator.to_dense at 0x7f44d279b9d0>: it's not the same object as linear_operator.operators.triangular_linear_operator.TriangularLinearOperator.to_dense\n"
     ]
    },
    {
     "name": "stdout",
     "output_type": "stream",
     "text": [
      "\u001b[2m\u001b[36m(train_fn pid=1990134)\u001b[0m Drug Property Prediction Mode...\n",
      "\u001b[2m\u001b[36m(train_fn pid=1990134)\u001b[0m in total: 13445 drugs\n",
      "\u001b[2m\u001b[36m(train_fn pid=1990134)\u001b[0m encoding drug...\n",
      "\u001b[2m\u001b[36m(train_fn pid=1990134)\u001b[0m unique drugs: 13445\n"
     ]
    },
    {
     "name": "stderr",
     "output_type": "stream",
     "text": [
      "2022-12-28 12:46:53,234\tWARNING trial_runner.py:988 -- Trial Runner checkpointing failed: Can't pickle <function TriangularLinearOperator.to_dense at 0x7f44d279b9d0>: it's not the same object as linear_operator.operators.triangular_linear_operator.TriangularLinearOperator.to_dense\n"
     ]
    },
    {
     "name": "stdout",
     "output_type": "stream",
     "text": [
      "\u001b[2m\u001b[36m(train_fn pid=1990134)\u001b[0m Done.\n"
     ]
    },
    {
     "name": "stderr",
     "output_type": "stream",
     "text": [
      "[INFO 12-28 13:12:35] ax.service.ax_client: Generated new trial 69 with parameters {'lr': 0.000278, 'batch_size': 256, 'train_epochs': 20, 'mlp_hidden_dims_drug': 512, 'mlp_num_layers_drug': 3, 'drug_encoding': 'Morgan'}.\n",
      "2022-12-28 13:12:35,755\tWARNING trial_runner.py:988 -- Trial Runner checkpointing failed: Can't pickle <function TriangularLinearOperator.to_dense at 0x7f44d279b9d0>: it's not the same object as linear_operator.operators.triangular_linear_operator.TriangularLinearOperator.to_dense\n",
      "2022-12-28 13:12:36,431\tWARNING trial_runner.py:988 -- Trial Runner checkpointing failed: Can't pickle <function TriangularLinearOperator.to_dense at 0x7f44d279b9d0>: it's not the same object as linear_operator.operators.triangular_linear_operator.TriangularLinearOperator.to_dense\n",
      "[INFO 12-28 13:13:23] ax.service.ax_client: Completed trial 68 with data: {'pr_auc': (0.90777, None)}.\n",
      "\u001b[2m\u001b[36m(pid=2641336)\u001b[0m WARNING:root:No normalization for BCUT2D_MWHI\n",
      "\u001b[2m\u001b[36m(pid=2641336)\u001b[0m WARNING:root:No normalization for BCUT2D_MWLOW\n",
      "\u001b[2m\u001b[36m(pid=2641336)\u001b[0m WARNING:root:No normalization for BCUT2D_CHGHI\n",
      "\u001b[2m\u001b[36m(pid=2641336)\u001b[0m WARNING:root:No normalization for BCUT2D_CHGLO\n",
      "\u001b[2m\u001b[36m(pid=2641336)\u001b[0m WARNING:root:No normalization for BCUT2D_LOGPHI\n",
      "\u001b[2m\u001b[36m(pid=2641336)\u001b[0m WARNING:root:No normalization for BCUT2D_LOGPLOW\n",
      "\u001b[2m\u001b[36m(pid=2641336)\u001b[0m WARNING:root:No normalization for BCUT2D_MRHI\n",
      "\u001b[2m\u001b[36m(pid=2641336)\u001b[0m WARNING:root:No normalization for BCUT2D_MRLOW\n"
     ]
    },
    {
     "name": "stdout",
     "output_type": "stream",
     "text": [
      "\u001b[2m\u001b[36m(train_fn pid=2641336)\u001b[0m Drug Property Prediction Mode...\n",
      "\u001b[2m\u001b[36m(train_fn pid=2641336)\u001b[0m in total: 13445 drugs\n",
      "\u001b[2m\u001b[36m(train_fn pid=2641336)\u001b[0m encoding drug...\n",
      "\u001b[2m\u001b[36m(train_fn pid=2641336)\u001b[0m unique drugs: 13445\n",
      "\u001b[2m\u001b[36m(train_fn pid=2641336)\u001b[0m Done.\n"
     ]
    },
    {
     "name": "stderr",
     "output_type": "stream",
     "text": [
      "[INFO 12-28 13:28:51] ax.service.ax_client: Generated new trial 70 with parameters {'lr': 0.000279, 'batch_size': 256, 'train_epochs': 20, 'mlp_hidden_dims_drug': 512, 'mlp_num_layers_drug': 3, 'drug_encoding': 'Morgan'}.\n",
      "2022-12-28 13:28:52,201\tWARNING trial_runner.py:988 -- Trial Runner checkpointing failed: Can't pickle <function TriangularLinearOperator.to_dense at 0x7f44d279b9d0>: it's not the same object as linear_operator.operators.triangular_linear_operator.TriangularLinearOperator.to_dense\n",
      "2022-12-28 13:28:52,808\tWARNING trial_runner.py:988 -- Trial Runner checkpointing failed: Can't pickle <function TriangularLinearOperator.to_dense at 0x7f44d279b9d0>: it's not the same object as linear_operator.operators.triangular_linear_operator.TriangularLinearOperator.to_dense\n",
      "2022-12-28 13:29:31,933\tWARNING util.py:244 -- The `callbacks.on_trial_result` operation took 0.511 s, which may be a performance bottleneck.\n",
      "2022-12-28 13:29:31,935\tWARNING util.py:244 -- The `process_trial_result` operation took 0.513 s, which may be a performance bottleneck.\n",
      "2022-12-28 13:29:31,936\tWARNING util.py:244 -- Processing trial results took 0.514 s, which may be a performance bottleneck. Please consider reporting results less frequently to Ray Tune.\n",
      "2022-12-28 13:29:31,936\tWARNING util.py:244 -- The `process_trial_result` operation took 0.514 s, which may be a performance bottleneck.\n",
      "\u001b[2m\u001b[36m(pid=2737978)\u001b[0m WARNING:root:No normalization for BCUT2D_MWHI\n",
      "\u001b[2m\u001b[36m(pid=2737978)\u001b[0m WARNING:root:No normalization for BCUT2D_MWLOW\n",
      "\u001b[2m\u001b[36m(pid=2737978)\u001b[0m WARNING:root:No normalization for BCUT2D_CHGHI\n",
      "\u001b[2m\u001b[36m(pid=2737978)\u001b[0m WARNING:root:No normalization for BCUT2D_CHGLO\n",
      "\u001b[2m\u001b[36m(pid=2737978)\u001b[0m WARNING:root:No normalization for BCUT2D_LOGPHI\n",
      "\u001b[2m\u001b[36m(pid=2737978)\u001b[0m WARNING:root:No normalization for BCUT2D_LOGPLOW\n",
      "\u001b[2m\u001b[36m(pid=2737978)\u001b[0m WARNING:root:No normalization for BCUT2D_MRHI\n",
      "\u001b[2m\u001b[36m(pid=2737978)\u001b[0m WARNING:root:No normalization for BCUT2D_MRLOW\n"
     ]
    },
    {
     "name": "stdout",
     "output_type": "stream",
     "text": [
      "\u001b[2m\u001b[36m(train_fn pid=2737978)\u001b[0m Drug Property Prediction Mode...\n",
      "\u001b[2m\u001b[36m(train_fn pid=2737978)\u001b[0m in total: 13445 drugs\n",
      "\u001b[2m\u001b[36m(train_fn pid=2737978)\u001b[0m encoding drug...\n",
      "\u001b[2m\u001b[36m(train_fn pid=2737978)\u001b[0m unique drugs: 13445\n",
      "\u001b[2m\u001b[36m(train_fn pid=2737978)\u001b[0m Done.\n"
     ]
    },
    {
     "name": "stderr",
     "output_type": "stream",
     "text": [
      "[INFO 12-28 13:30:23] ax.service.ax_client: Completed trial 67 with data: {'pr_auc': (0.902113, None)}.\n",
      "[INFO 12-28 13:50:02] ax.service.ax_client: Generated new trial 71 with parameters {'lr': 0.000288, 'batch_size': 256, 'train_epochs': 20, 'mlp_hidden_dims_drug': 512, 'mlp_num_layers_drug': 3, 'drug_encoding': 'Morgan'}.\n",
      "[INFO 12-28 13:50:02] ax.service.ax_client: Completed trial 69 with data: {'pr_auc': (0.912652, None)}.\n",
      "2022-12-28 13:50:03,386\tWARNING trial_runner.py:988 -- Trial Runner checkpointing failed: Can't pickle <function TriangularLinearOperator.to_dense at 0x7f44d279b9d0>: it's not the same object as linear_operator.operators.triangular_linear_operator.TriangularLinearOperator.to_dense\n"
     ]
    },
    {
     "name": "stdout",
     "output_type": "stream",
     "text": [
      "\u001b[2m\u001b[36m(train_fn pid=2641336)\u001b[0m Drug Property Prediction Mode...\n",
      "\u001b[2m\u001b[36m(train_fn pid=2641336)\u001b[0m in total: 13445 drugs\n",
      "\u001b[2m\u001b[36m(train_fn pid=2641336)\u001b[0m encoding drug...\n",
      "\u001b[2m\u001b[36m(train_fn pid=2641336)\u001b[0m unique drugs: 13445\n"
     ]
    },
    {
     "name": "stderr",
     "output_type": "stream",
     "text": [
      "2022-12-28 13:50:03,923\tWARNING trial_runner.py:988 -- Trial Runner checkpointing failed: Can't pickle <function TriangularLinearOperator.to_dense at 0x7f44d279b9d0>: it's not the same object as linear_operator.operators.triangular_linear_operator.TriangularLinearOperator.to_dense\n"
     ]
    },
    {
     "name": "stdout",
     "output_type": "stream",
     "text": [
      "\u001b[2m\u001b[36m(train_fn pid=2641336)\u001b[0m Done.\n"
     ]
    },
    {
     "name": "stderr",
     "output_type": "stream",
     "text": [
      "[INFO 12-28 14:26:05] ax.service.ax_client: Generated new trial 72 with parameters {'lr': 0.000274, 'batch_size': 256, 'train_epochs': 20, 'mlp_hidden_dims_drug': 512, 'mlp_num_layers_drug': 3, 'drug_encoding': 'Morgan'}.\n",
      "2022-12-28 14:26:06,117\tWARNING trial_runner.py:988 -- Trial Runner checkpointing failed: Can't pickle <function TriangularLinearOperator.to_dense at 0x7f44d279b9d0>: it's not the same object as linear_operator.operators.triangular_linear_operator.TriangularLinearOperator.to_dense\n",
      "2022-12-28 14:26:06,841\tWARNING trial_runner.py:988 -- Trial Runner checkpointing failed: Can't pickle <function TriangularLinearOperator.to_dense at 0x7f44d279b9d0>: it's not the same object as linear_operator.operators.triangular_linear_operator.TriangularLinearOperator.to_dense\n",
      "[INFO 12-28 14:26:31] ax.service.ax_client: Completed trial 71 with data: {'pr_auc': (0.907611, None)}.\n",
      "\u001b[2m\u001b[36m(pid=2881323)\u001b[0m WARNING:root:No normalization for BCUT2D_MWHI\n",
      "\u001b[2m\u001b[36m(pid=2881323)\u001b[0m WARNING:root:No normalization for BCUT2D_MWLOW\n",
      "\u001b[2m\u001b[36m(pid=2881323)\u001b[0m WARNING:root:No normalization for BCUT2D_CHGHI\n",
      "\u001b[2m\u001b[36m(pid=2881323)\u001b[0m WARNING:root:No normalization for BCUT2D_CHGLO\n",
      "\u001b[2m\u001b[36m(pid=2881323)\u001b[0m WARNING:root:No normalization for BCUT2D_LOGPHI\n",
      "\u001b[2m\u001b[36m(pid=2881323)\u001b[0m WARNING:root:No normalization for BCUT2D_LOGPLOW\n",
      "\u001b[2m\u001b[36m(pid=2881323)\u001b[0m WARNING:root:No normalization for BCUT2D_MRHI\n",
      "\u001b[2m\u001b[36m(pid=2881323)\u001b[0m WARNING:root:No normalization for BCUT2D_MRLOW\n"
     ]
    },
    {
     "name": "stdout",
     "output_type": "stream",
     "text": [
      "\u001b[2m\u001b[36m(train_fn pid=2881323)\u001b[0m Drug Property Prediction Mode...\n",
      "\u001b[2m\u001b[36m(train_fn pid=2881323)\u001b[0m in total: 13445 drugs\n",
      "\u001b[2m\u001b[36m(train_fn pid=2881323)\u001b[0m encoding drug...\n",
      "\u001b[2m\u001b[36m(train_fn pid=2881323)\u001b[0m unique drugs: 13445\n",
      "\u001b[2m\u001b[36m(train_fn pid=2881323)\u001b[0m Done.\n"
     ]
    },
    {
     "name": "stderr",
     "output_type": "stream",
     "text": [
      "[INFO 12-28 14:36:28] ax.service.ax_client: Generated new trial 73 with parameters {'lr': 0.000285, 'batch_size': 256, 'train_epochs': 20, 'mlp_hidden_dims_drug': 512, 'mlp_num_layers_drug': 3, 'drug_encoding': 'Morgan'}.\n",
      "2022-12-28 14:36:29,053\tWARNING trial_runner.py:988 -- Trial Runner checkpointing failed: Can't pickle <function TriangularLinearOperator.to_dense at 0x7f44d279b9d0>: it's not the same object as linear_operator.operators.triangular_linear_operator.TriangularLinearOperator.to_dense\n",
      "2022-12-28 14:36:29,594\tWARNING trial_runner.py:988 -- Trial Runner checkpointing failed: Can't pickle <function TriangularLinearOperator.to_dense at 0x7f44d279b9d0>: it's not the same object as linear_operator.operators.triangular_linear_operator.TriangularLinearOperator.to_dense\n",
      "2022-12-28 14:36:53,831\tWARNING util.py:244 -- The `callbacks.on_trial_result` operation took 0.510 s, which may be a performance bottleneck.\n",
      "2022-12-28 14:36:53,858\tWARNING util.py:244 -- The `process_trial_result` operation took 0.538 s, which may be a performance bottleneck.\n",
      "2022-12-28 14:36:53,863\tWARNING util.py:244 -- Processing trial results took 0.543 s, which may be a performance bottleneck. Please consider reporting results less frequently to Ray Tune.\n",
      "2022-12-28 14:36:53,876\tWARNING util.py:244 -- The `process_trial_result` operation took 0.556 s, which may be a performance bottleneck.\n",
      "\u001b[2m\u001b[36m(pid=2906746)\u001b[0m WARNING:root:No normalization for BCUT2D_MWHI\n",
      "\u001b[2m\u001b[36m(pid=2906746)\u001b[0m WARNING:root:No normalization for BCUT2D_MWLOW\n",
      "\u001b[2m\u001b[36m(pid=2906746)\u001b[0m WARNING:root:No normalization for BCUT2D_CHGHI\n",
      "\u001b[2m\u001b[36m(pid=2906746)\u001b[0m WARNING:root:No normalization for BCUT2D_CHGLO\n",
      "\u001b[2m\u001b[36m(pid=2906746)\u001b[0m WARNING:root:No normalization for BCUT2D_LOGPHI\n",
      "\u001b[2m\u001b[36m(pid=2906746)\u001b[0m WARNING:root:No normalization for BCUT2D_LOGPLOW\n",
      "\u001b[2m\u001b[36m(pid=2906746)\u001b[0m WARNING:root:No normalization for BCUT2D_MRHI\n",
      "\u001b[2m\u001b[36m(pid=2906746)\u001b[0m WARNING:root:No normalization for BCUT2D_MRLOW\n"
     ]
    },
    {
     "name": "stdout",
     "output_type": "stream",
     "text": [
      "\u001b[2m\u001b[36m(train_fn pid=2906746)\u001b[0m Drug Property Prediction Mode...\n",
      "\u001b[2m\u001b[36m(train_fn pid=2906746)\u001b[0m in total: 13445 drugs\n",
      "\u001b[2m\u001b[36m(train_fn pid=2906746)\u001b[0m encoding drug...\n",
      "\u001b[2m\u001b[36m(train_fn pid=2906746)\u001b[0m unique drugs: 13445\n"
     ]
    },
    {
     "name": "stderr",
     "output_type": "stream",
     "text": [
      "[INFO 12-28 14:37:32] ax.service.ax_client: Completed trial 72 with data: {'pr_auc': (0.906245, None)}.\n"
     ]
    },
    {
     "name": "stdout",
     "output_type": "stream",
     "text": [
      "\u001b[2m\u001b[36m(train_fn pid=2906746)\u001b[0m Done.\n"
     ]
    },
    {
     "name": "stderr",
     "output_type": "stream",
     "text": [
      "[INFO 12-28 15:10:29] ax.service.ax_client: Generated new trial 74 with parameters {'lr': 0.000285, 'batch_size': 256, 'train_epochs': 20, 'mlp_hidden_dims_drug': 512, 'mlp_num_layers_drug': 3, 'drug_encoding': 'Morgan'}.\n",
      "2022-12-28 15:10:30,324\tWARNING trial_runner.py:988 -- Trial Runner checkpointing failed: Can't pickle <function TriangularLinearOperator.to_dense at 0x7f44d279b9d0>: it's not the same object as linear_operator.operators.triangular_linear_operator.TriangularLinearOperator.to_dense\n",
      "2022-12-28 15:10:30,888\tWARNING util.py:244 -- The `start_trial` operation took 0.505 s, which may be a performance bottleneck.\n",
      "2022-12-28 15:10:31,040\tWARNING trial_runner.py:988 -- Trial Runner checkpointing failed: Can't pickle <function TriangularLinearOperator.to_dense at 0x7f44d279b9d0>: it's not the same object as linear_operator.operators.triangular_linear_operator.TriangularLinearOperator.to_dense\n",
      "[INFO 12-28 15:11:00] ax.service.ax_client: Completed trial 70 with data: {'pr_auc': (0.908168, None)}.\n",
      "\u001b[2m\u001b[36m(pid=2991987)\u001b[0m WARNING:root:No normalization for BCUT2D_MWHI\n",
      "\u001b[2m\u001b[36m(pid=2991987)\u001b[0m WARNING:root:No normalization for BCUT2D_MWLOW\n",
      "\u001b[2m\u001b[36m(pid=2991987)\u001b[0m WARNING:root:No normalization for BCUT2D_CHGHI\n",
      "\u001b[2m\u001b[36m(pid=2991987)\u001b[0m WARNING:root:No normalization for BCUT2D_CHGLO\n",
      "\u001b[2m\u001b[36m(pid=2991987)\u001b[0m WARNING:root:No normalization for BCUT2D_LOGPHI\n",
      "\u001b[2m\u001b[36m(pid=2991987)\u001b[0m WARNING:root:No normalization for BCUT2D_LOGPLOW\n",
      "\u001b[2m\u001b[36m(pid=2991987)\u001b[0m WARNING:root:No normalization for BCUT2D_MRHI\n",
      "\u001b[2m\u001b[36m(pid=2991987)\u001b[0m WARNING:root:No normalization for BCUT2D_MRLOW\n"
     ]
    },
    {
     "name": "stdout",
     "output_type": "stream",
     "text": [
      "\u001b[2m\u001b[36m(train_fn pid=2991987)\u001b[0m Drug Property Prediction Mode...\n",
      "\u001b[2m\u001b[36m(train_fn pid=2991987)\u001b[0m in total: 13445 drugs\n",
      "\u001b[2m\u001b[36m(train_fn pid=2991987)\u001b[0m encoding drug...\n",
      "\u001b[2m\u001b[36m(train_fn pid=2991987)\u001b[0m unique drugs: 13445\n",
      "\u001b[2m\u001b[36m(train_fn pid=2991987)\u001b[0m Done.\n"
     ]
    },
    {
     "name": "stderr",
     "output_type": "stream",
     "text": [
      "[INFO 12-28 16:10:39] ax.service.ax_client: Generated new trial 75 with parameters {'lr': 0.000283, 'batch_size': 256, 'train_epochs': 20, 'mlp_hidden_dims_drug': 512, 'mlp_num_layers_drug': 3, 'drug_encoding': 'Morgan'}.\n",
      "2022-12-28 16:10:40,343\tWARNING trial_runner.py:988 -- Trial Runner checkpointing failed: Can't pickle <function TriangularLinearOperator.to_dense at 0x7f44d279b9d0>: it's not the same object as linear_operator.operators.triangular_linear_operator.TriangularLinearOperator.to_dense\n",
      "2022-12-28 16:10:40,881\tWARNING trial_runner.py:988 -- Trial Runner checkpointing failed: Can't pickle <function TriangularLinearOperator.to_dense at 0x7f44d279b9d0>: it's not the same object as linear_operator.operators.triangular_linear_operator.TriangularLinearOperator.to_dense\n",
      "\u001b[2m\u001b[36m(pid=3143662)\u001b[0m WARNING:root:No normalization for BCUT2D_MWHI\n",
      "\u001b[2m\u001b[36m(pid=3143662)\u001b[0m WARNING:root:No normalization for BCUT2D_MWLOW\n",
      "\u001b[2m\u001b[36m(pid=3143662)\u001b[0m WARNING:root:No normalization for BCUT2D_CHGHI\n",
      "\u001b[2m\u001b[36m(pid=3143662)\u001b[0m WARNING:root:No normalization for BCUT2D_CHGLO\n",
      "\u001b[2m\u001b[36m(pid=3143662)\u001b[0m WARNING:root:No normalization for BCUT2D_LOGPHI\n",
      "\u001b[2m\u001b[36m(pid=3143662)\u001b[0m WARNING:root:No normalization for BCUT2D_LOGPLOW\n",
      "\u001b[2m\u001b[36m(pid=3143662)\u001b[0m WARNING:root:No normalization for BCUT2D_MRHI\n",
      "\u001b[2m\u001b[36m(pid=3143662)\u001b[0m WARNING:root:No normalization for BCUT2D_MRLOW\n"
     ]
    },
    {
     "name": "stdout",
     "output_type": "stream",
     "text": [
      "\u001b[2m\u001b[36m(train_fn pid=3143662)\u001b[0m Drug Property Prediction Mode...\n",
      "\u001b[2m\u001b[36m(train_fn pid=3143662)\u001b[0m in total: 13445 drugs\n",
      "\u001b[2m\u001b[36m(train_fn pid=3143662)\u001b[0m encoding drug...\n",
      "\u001b[2m\u001b[36m(train_fn pid=3143662)\u001b[0m unique drugs: 13445\n"
     ]
    },
    {
     "name": "stderr",
     "output_type": "stream",
     "text": [
      "[INFO 12-28 16:11:32] ax.service.ax_client: Completed trial 74 with data: {'pr_auc': (0.905822, None)}.\n"
     ]
    },
    {
     "name": "stdout",
     "output_type": "stream",
     "text": [
      "\u001b[2m\u001b[36m(train_fn pid=3143662)\u001b[0m Done.\n"
     ]
    },
    {
     "name": "stderr",
     "output_type": "stream",
     "text": [
      "[INFO 12-28 16:39:39] ax.service.ax_client: Generated new trial 76 with parameters {'lr': 0.000287, 'batch_size': 256, 'train_epochs': 20, 'mlp_hidden_dims_drug': 512, 'mlp_num_layers_drug': 3, 'drug_encoding': 'Morgan'}.\n",
      "[INFO 12-28 16:39:39] ax.service.ax_client: Completed trial 73 with data: {'pr_auc': (0.909084, None)}.\n",
      "2022-12-28 16:39:39,577\tWARNING trial_runner.py:988 -- Trial Runner checkpointing failed: Can't pickle <function TriangularLinearOperator.to_dense at 0x7f44d279b9d0>: it's not the same object as linear_operator.operators.triangular_linear_operator.TriangularLinearOperator.to_dense\n"
     ]
    },
    {
     "name": "stdout",
     "output_type": "stream",
     "text": [
      "\u001b[2m\u001b[36m(train_fn pid=2906746)\u001b[0m Drug Property Prediction Mode...\n",
      "\u001b[2m\u001b[36m(train_fn pid=2906746)\u001b[0m in total: 13445 drugs\n",
      "\u001b[2m\u001b[36m(train_fn pid=2906746)\u001b[0m encoding drug...\n",
      "\u001b[2m\u001b[36m(train_fn pid=2906746)\u001b[0m unique drugs: 13445\n"
     ]
    },
    {
     "name": "stderr",
     "output_type": "stream",
     "text": [
      "2022-12-28 16:39:40,136\tWARNING trial_runner.py:988 -- Trial Runner checkpointing failed: Can't pickle <function TriangularLinearOperator.to_dense at 0x7f44d279b9d0>: it's not the same object as linear_operator.operators.triangular_linear_operator.TriangularLinearOperator.to_dense\n"
     ]
    },
    {
     "name": "stdout",
     "output_type": "stream",
     "text": [
      "\u001b[2m\u001b[36m(train_fn pid=2906746)\u001b[0m Done.\n"
     ]
    },
    {
     "name": "stderr",
     "output_type": "stream",
     "text": [
      "[INFO 12-28 17:11:58] ax.service.ax_client: Generated new trial 77 with parameters {'lr': 0.000294, 'batch_size': 256, 'train_epochs': 20, 'mlp_hidden_dims_drug': 512, 'mlp_num_layers_drug': 3, 'drug_encoding': 'Morgan'}.\n",
      "2022-12-28 17:11:59,357\tWARNING trial_runner.py:988 -- Trial Runner checkpointing failed: Can't pickle <function TriangularLinearOperator.to_dense at 0x7f44d279b9d0>: it's not the same object as linear_operator.operators.triangular_linear_operator.TriangularLinearOperator.to_dense\n",
      "2022-12-28 17:12:00,040\tWARNING trial_runner.py:988 -- Trial Runner checkpointing failed: Can't pickle <function TriangularLinearOperator.to_dense at 0x7f44d279b9d0>: it's not the same object as linear_operator.operators.triangular_linear_operator.TriangularLinearOperator.to_dense\n",
      "\u001b[2m\u001b[36m(pid=3300804)\u001b[0m WARNING:root:No normalization for BCUT2D_MWHI\n",
      "\u001b[2m\u001b[36m(pid=3300804)\u001b[0m WARNING:root:No normalization for BCUT2D_MWLOW\n",
      "\u001b[2m\u001b[36m(pid=3300804)\u001b[0m WARNING:root:No normalization for BCUT2D_CHGHI\n",
      "\u001b[2m\u001b[36m(pid=3300804)\u001b[0m WARNING:root:No normalization for BCUT2D_CHGLO\n",
      "\u001b[2m\u001b[36m(pid=3300804)\u001b[0m WARNING:root:No normalization for BCUT2D_LOGPHI\n",
      "\u001b[2m\u001b[36m(pid=3300804)\u001b[0m WARNING:root:No normalization for BCUT2D_LOGPLOW\n",
      "\u001b[2m\u001b[36m(pid=3300804)\u001b[0m WARNING:root:No normalization for BCUT2D_MRHI\n",
      "\u001b[2m\u001b[36m(pid=3300804)\u001b[0m WARNING:root:No normalization for BCUT2D_MRLOW\n",
      "[INFO 12-28 17:12:48] ax.service.ax_client: Completed trial 75 with data: {'pr_auc': (0.915242, None)}.\n"
     ]
    },
    {
     "name": "stdout",
     "output_type": "stream",
     "text": [
      "\u001b[2m\u001b[36m(train_fn pid=3300804)\u001b[0m Drug Property Prediction Mode...\n",
      "\u001b[2m\u001b[36m(train_fn pid=3300804)\u001b[0m in total: 13445 drugs\n",
      "\u001b[2m\u001b[36m(train_fn pid=3300804)\u001b[0m encoding drug...\n",
      "\u001b[2m\u001b[36m(train_fn pid=3300804)\u001b[0m unique drugs: 13445\n",
      "\u001b[2m\u001b[36m(train_fn pid=3300804)\u001b[0m Done.\n"
     ]
    },
    {
     "name": "stderr",
     "output_type": "stream",
     "text": [
      "[INFO 12-28 17:42:20] ax.service.ax_client: Generated new trial 78 with parameters {'lr': 0.000285, 'batch_size': 256, 'train_epochs': 20, 'mlp_hidden_dims_drug': 512, 'mlp_num_layers_drug': 3, 'drug_encoding': 'Morgan'}.\n",
      "2022-12-28 17:42:20,588\tWARNING trial_runner.py:988 -- Trial Runner checkpointing failed: Can't pickle <function TriangularLinearOperator.to_dense at 0x7f44d279b9d0>: it's not the same object as linear_operator.operators.triangular_linear_operator.TriangularLinearOperator.to_dense\n",
      "2022-12-28 17:42:21,094\tWARNING trial_runner.py:988 -- Trial Runner checkpointing failed: Can't pickle <function TriangularLinearOperator.to_dense at 0x7f44d279b9d0>: it's not the same object as linear_operator.operators.triangular_linear_operator.TriangularLinearOperator.to_dense\n",
      "\u001b[2m\u001b[36m(pid=3379027)\u001b[0m WARNING:root:No normalization for BCUT2D_MWHI\n",
      "\u001b[2m\u001b[36m(pid=3379027)\u001b[0m WARNING:root:No normalization for BCUT2D_MWLOW\n",
      "\u001b[2m\u001b[36m(pid=3379027)\u001b[0m WARNING:root:No normalization for BCUT2D_CHGHI\n",
      "\u001b[2m\u001b[36m(pid=3379027)\u001b[0m WARNING:root:No normalization for BCUT2D_CHGLO\n",
      "\u001b[2m\u001b[36m(pid=3379027)\u001b[0m WARNING:root:No normalization for BCUT2D_LOGPHI\n",
      "\u001b[2m\u001b[36m(pid=3379027)\u001b[0m WARNING:root:No normalization for BCUT2D_LOGPLOW\n",
      "\u001b[2m\u001b[36m(pid=3379027)\u001b[0m WARNING:root:No normalization for BCUT2D_MRHI\n",
      "\u001b[2m\u001b[36m(pid=3379027)\u001b[0m WARNING:root:No normalization for BCUT2D_MRLOW\n",
      "[INFO 12-28 17:43:01] ax.service.ax_client: Completed trial 76 with data: {'pr_auc': (0.908817, None)}.\n"
     ]
    },
    {
     "name": "stdout",
     "output_type": "stream",
     "text": [
      "\u001b[2m\u001b[36m(train_fn pid=3379027)\u001b[0m Drug Property Prediction Mode...\n",
      "\u001b[2m\u001b[36m(train_fn pid=3379027)\u001b[0m in total: 13445 drugs\n",
      "\u001b[2m\u001b[36m(train_fn pid=3379027)\u001b[0m encoding drug...\n",
      "\u001b[2m\u001b[36m(train_fn pid=3379027)\u001b[0m unique drugs: 13445\n",
      "\u001b[2m\u001b[36m(train_fn pid=3379027)\u001b[0m Done.\n"
     ]
    },
    {
     "name": "stderr",
     "output_type": "stream",
     "text": [
      "[INFO 12-28 18:33:29] ax.service.ax_client: Generated new trial 79 with parameters {'lr': 0.000292, 'batch_size': 256, 'train_epochs': 20, 'mlp_hidden_dims_drug': 512, 'mlp_num_layers_drug': 3, 'drug_encoding': 'Morgan'}.\n",
      "2022-12-28 18:33:30,207\tWARNING trial_runner.py:988 -- Trial Runner checkpointing failed: Can't pickle <function TriangularLinearOperator.to_dense at 0x7f44d279b9d0>: it's not the same object as linear_operator.operators.triangular_linear_operator.TriangularLinearOperator.to_dense\n",
      "2022-12-28 18:33:30,936\tWARNING trial_runner.py:988 -- Trial Runner checkpointing failed: Can't pickle <function TriangularLinearOperator.to_dense at 0x7f44d279b9d0>: it's not the same object as linear_operator.operators.triangular_linear_operator.TriangularLinearOperator.to_dense\n",
      "\u001b[2m\u001b[36m(pid=3509586)\u001b[0m WARNING:root:No normalization for BCUT2D_MWHI\n",
      "\u001b[2m\u001b[36m(pid=3509586)\u001b[0m WARNING:root:No normalization for BCUT2D_MWLOW\n",
      "\u001b[2m\u001b[36m(pid=3509586)\u001b[0m WARNING:root:No normalization for BCUT2D_CHGHI\n",
      "\u001b[2m\u001b[36m(pid=3509586)\u001b[0m WARNING:root:No normalization for BCUT2D_CHGLO\n",
      "\u001b[2m\u001b[36m(pid=3509586)\u001b[0m WARNING:root:No normalization for BCUT2D_LOGPHI\n",
      "\u001b[2m\u001b[36m(pid=3509586)\u001b[0m WARNING:root:No normalization for BCUT2D_LOGPLOW\n",
      "\u001b[2m\u001b[36m(pid=3509586)\u001b[0m WARNING:root:No normalization for BCUT2D_MRHI\n",
      "\u001b[2m\u001b[36m(pid=3509586)\u001b[0m WARNING:root:No normalization for BCUT2D_MRLOW\n"
     ]
    },
    {
     "name": "stdout",
     "output_type": "stream",
     "text": [
      "\u001b[2m\u001b[36m(train_fn pid=3509586)\u001b[0m Drug Property Prediction Mode...\n",
      "\u001b[2m\u001b[36m(train_fn pid=3509586)\u001b[0m in total: 13445 drugs\n",
      "\u001b[2m\u001b[36m(train_fn pid=3509586)\u001b[0m encoding drug...\n",
      "\u001b[2m\u001b[36m(train_fn pid=3509586)\u001b[0m unique drugs: 13445\n",
      "\u001b[2m\u001b[36m(train_fn pid=3509586)\u001b[0m Done.\n"
     ]
    },
    {
     "name": "stderr",
     "output_type": "stream",
     "text": [
      "[INFO 12-28 18:34:49] ax.service.ax_client: Completed trial 78 with data: {'pr_auc': (0.9136, None)}.\n",
      "[INFO 12-28 19:05:00] ax.service.ax_client: Generated new trial 80 with parameters {'lr': 0.000284, 'batch_size': 256, 'train_epochs': 20, 'mlp_hidden_dims_drug': 512, 'mlp_num_layers_drug': 3, 'drug_encoding': 'Morgan'}.\n",
      "2022-12-28 19:05:01,286\tWARNING trial_runner.py:988 -- Trial Runner checkpointing failed: Can't pickle <function TriangularLinearOperator.to_dense at 0x7f44d279b9d0>: it's not the same object as linear_operator.operators.triangular_linear_operator.TriangularLinearOperator.to_dense\n",
      "2022-12-28 19:05:01,781\tWARNING trial_runner.py:988 -- Trial Runner checkpointing failed: Can't pickle <function TriangularLinearOperator.to_dense at 0x7f44d279b9d0>: it's not the same object as linear_operator.operators.triangular_linear_operator.TriangularLinearOperator.to_dense\n",
      "[INFO 12-28 19:05:27] ax.service.ax_client: Completed trial 77 with data: {'pr_auc': (0.913906, None)}.\n",
      "\u001b[2m\u001b[36m(pid=3597933)\u001b[0m WARNING:root:No normalization for BCUT2D_MWHI\n",
      "\u001b[2m\u001b[36m(pid=3597933)\u001b[0m WARNING:root:No normalization for BCUT2D_MWLOW\n",
      "\u001b[2m\u001b[36m(pid=3597933)\u001b[0m WARNING:root:No normalization for BCUT2D_CHGHI\n",
      "\u001b[2m\u001b[36m(pid=3597933)\u001b[0m WARNING:root:No normalization for BCUT2D_CHGLO\n",
      "\u001b[2m\u001b[36m(pid=3597933)\u001b[0m WARNING:root:No normalization for BCUT2D_LOGPHI\n",
      "\u001b[2m\u001b[36m(pid=3597933)\u001b[0m WARNING:root:No normalization for BCUT2D_LOGPLOW\n",
      "\u001b[2m\u001b[36m(pid=3597933)\u001b[0m WARNING:root:No normalization for BCUT2D_MRHI\n",
      "\u001b[2m\u001b[36m(pid=3597933)\u001b[0m WARNING:root:No normalization for BCUT2D_MRLOW\n"
     ]
    },
    {
     "name": "stdout",
     "output_type": "stream",
     "text": [
      "\u001b[2m\u001b[36m(train_fn pid=3597933)\u001b[0m Drug Property Prediction Mode...\n",
      "\u001b[2m\u001b[36m(train_fn pid=3597933)\u001b[0m in total: 13445 drugs\n",
      "\u001b[2m\u001b[36m(train_fn pid=3597933)\u001b[0m encoding drug...\n",
      "\u001b[2m\u001b[36m(train_fn pid=3597933)\u001b[0m unique drugs: 13445\n",
      "\u001b[2m\u001b[36m(train_fn pid=3597933)\u001b[0m Done.\n"
     ]
    },
    {
     "name": "stderr",
     "output_type": "stream",
     "text": [
      "[INFO 12-28 19:34:36] ax.service.ax_client: Generated new trial 81 with parameters {'lr': 0.000283, 'batch_size': 256, 'train_epochs': 20, 'mlp_hidden_dims_drug': 512, 'mlp_num_layers_drug': 3, 'drug_encoding': 'Morgan'}.\n",
      "2022-12-28 19:34:36,613\tWARNING trial_runner.py:988 -- Trial Runner checkpointing failed: Can't pickle <function TriangularLinearOperator.to_dense at 0x7f44d279b9d0>: it's not the same object as linear_operator.operators.triangular_linear_operator.TriangularLinearOperator.to_dense\n",
      "2022-12-28 19:34:37,144\tWARNING trial_runner.py:988 -- Trial Runner checkpointing failed: Can't pickle <function TriangularLinearOperator.to_dense at 0x7f44d279b9d0>: it's not the same object as linear_operator.operators.triangular_linear_operator.TriangularLinearOperator.to_dense\n",
      "[INFO 12-28 19:34:55] ax.service.ax_client: Completed trial 79 with data: {'pr_auc': (0.907099, None)}.\n",
      "\u001b[2m\u001b[36m(pid=3686054)\u001b[0m WARNING:root:No normalization for BCUT2D_MWHI\n",
      "\u001b[2m\u001b[36m(pid=3686054)\u001b[0m WARNING:root:No normalization for BCUT2D_MWLOW\n",
      "\u001b[2m\u001b[36m(pid=3686054)\u001b[0m WARNING:root:No normalization for BCUT2D_CHGHI\n",
      "\u001b[2m\u001b[36m(pid=3686054)\u001b[0m WARNING:root:No normalization for BCUT2D_CHGLO\n",
      "\u001b[2m\u001b[36m(pid=3686054)\u001b[0m WARNING:root:No normalization for BCUT2D_LOGPHI\n",
      "\u001b[2m\u001b[36m(pid=3686054)\u001b[0m WARNING:root:No normalization for BCUT2D_LOGPLOW\n",
      "\u001b[2m\u001b[36m(pid=3686054)\u001b[0m WARNING:root:No normalization for BCUT2D_MRHI\n",
      "\u001b[2m\u001b[36m(pid=3686054)\u001b[0m WARNING:root:No normalization for BCUT2D_MRLOW\n"
     ]
    },
    {
     "name": "stdout",
     "output_type": "stream",
     "text": [
      "\u001b[2m\u001b[36m(train_fn pid=3686054)\u001b[0m Drug Property Prediction Mode...\n",
      "\u001b[2m\u001b[36m(train_fn pid=3686054)\u001b[0m in total: 13445 drugs\n",
      "\u001b[2m\u001b[36m(train_fn pid=3686054)\u001b[0m encoding drug...\n",
      "\u001b[2m\u001b[36m(train_fn pid=3686054)\u001b[0m unique drugs: 13445\n",
      "\u001b[2m\u001b[36m(train_fn pid=3686054)\u001b[0m Done.\n"
     ]
    },
    {
     "name": "stderr",
     "output_type": "stream",
     "text": [
      "[INFO 12-28 20:10:14] ax.service.ax_client: Generated new trial 82 with parameters {'lr': 0.000289, 'batch_size': 256, 'train_epochs': 20, 'mlp_hidden_dims_drug': 512, 'mlp_num_layers_drug': 3, 'drug_encoding': 'Morgan'}.\n",
      "[INFO 12-28 20:10:14] ax.service.ax_client: Completed trial 80 with data: {'pr_auc': (0.90856, None)}.\n",
      "2022-12-28 20:10:15,103\tWARNING trial_runner.py:988 -- Trial Runner checkpointing failed: Can't pickle <function TriangularLinearOperator.to_dense at 0x7f44d279b9d0>: it's not the same object as linear_operator.operators.triangular_linear_operator.TriangularLinearOperator.to_dense\n"
     ]
    },
    {
     "name": "stdout",
     "output_type": "stream",
     "text": [
      "\u001b[2m\u001b[36m(train_fn pid=3597933)\u001b[0m Drug Property Prediction Mode...\n",
      "\u001b[2m\u001b[36m(train_fn pid=3597933)\u001b[0m in total: 13445 drugs\n",
      "\u001b[2m\u001b[36m(train_fn pid=3597933)\u001b[0m encoding drug...\n",
      "\u001b[2m\u001b[36m(train_fn pid=3597933)\u001b[0m unique drugs: 13445\n"
     ]
    },
    {
     "name": "stderr",
     "output_type": "stream",
     "text": [
      "2022-12-28 20:10:15,757\tWARNING trial_runner.py:988 -- Trial Runner checkpointing failed: Can't pickle <function TriangularLinearOperator.to_dense at 0x7f44d279b9d0>: it's not the same object as linear_operator.operators.triangular_linear_operator.TriangularLinearOperator.to_dense\n"
     ]
    },
    {
     "name": "stdout",
     "output_type": "stream",
     "text": [
      "\u001b[2m\u001b[36m(train_fn pid=3597933)\u001b[0m Done.\n"
     ]
    },
    {
     "name": "stderr",
     "output_type": "stream",
     "text": [
      "[INFO 12-28 20:48:10] ax.service.ax_client: Generated new trial 83 with parameters {'lr': 0.000286, 'batch_size': 256, 'train_epochs': 20, 'mlp_hidden_dims_drug': 512, 'mlp_num_layers_drug': 3, 'drug_encoding': 'Morgan'}.\n",
      "2022-12-28 20:48:10,510\tWARNING trial_runner.py:988 -- Trial Runner checkpointing failed: Can't pickle <function TriangularLinearOperator.to_dense at 0x7f44d279b9d0>: it's not the same object as linear_operator.operators.triangular_linear_operator.TriangularLinearOperator.to_dense\n",
      "2022-12-28 20:48:11,069\tWARNING trial_runner.py:988 -- Trial Runner checkpointing failed: Can't pickle <function TriangularLinearOperator.to_dense at 0x7f44d279b9d0>: it's not the same object as linear_operator.operators.triangular_linear_operator.TriangularLinearOperator.to_dense\n",
      "\u001b[2m\u001b[36m(pid=3884391)\u001b[0m WARNING:root:No normalization for BCUT2D_MWHI\n",
      "\u001b[2m\u001b[36m(pid=3884391)\u001b[0m WARNING:root:No normalization for BCUT2D_MWLOW\n",
      "\u001b[2m\u001b[36m(pid=3884391)\u001b[0m WARNING:root:No normalization for BCUT2D_CHGHI\n",
      "\u001b[2m\u001b[36m(pid=3884391)\u001b[0m WARNING:root:No normalization for BCUT2D_CHGLO\n",
      "\u001b[2m\u001b[36m(pid=3884391)\u001b[0m WARNING:root:No normalization for BCUT2D_LOGPHI\n",
      "\u001b[2m\u001b[36m(pid=3884391)\u001b[0m WARNING:root:No normalization for BCUT2D_LOGPLOW\n",
      "\u001b[2m\u001b[36m(pid=3884391)\u001b[0m WARNING:root:No normalization for BCUT2D_MRHI\n",
      "\u001b[2m\u001b[36m(pid=3884391)\u001b[0m WARNING:root:No normalization for BCUT2D_MRLOW\n"
     ]
    },
    {
     "name": "stdout",
     "output_type": "stream",
     "text": [
      "\u001b[2m\u001b[36m(train_fn pid=3884391)\u001b[0m Drug Property Prediction Mode...\n",
      "\u001b[2m\u001b[36m(train_fn pid=3884391)\u001b[0m in total: 13445 drugs\n",
      "\u001b[2m\u001b[36m(train_fn pid=3884391)\u001b[0m encoding drug...\n",
      "\u001b[2m\u001b[36m(train_fn pid=3884391)\u001b[0m unique drugs: 13445\n"
     ]
    },
    {
     "name": "stderr",
     "output_type": "stream",
     "text": [
      "[INFO 12-28 20:49:14] ax.service.ax_client: Completed trial 81 with data: {'pr_auc': (0.906253, None)}.\n"
     ]
    },
    {
     "name": "stdout",
     "output_type": "stream",
     "text": [
      "\u001b[2m\u001b[36m(train_fn pid=3884391)\u001b[0m Done.\n"
     ]
    },
    {
     "name": "stderr",
     "output_type": "stream",
     "text": [
      "[INFO 12-28 21:28:41] ax.service.ax_client: Generated new trial 84 with parameters {'lr': 0.000285, 'batch_size': 256, 'train_epochs': 20, 'mlp_hidden_dims_drug': 512, 'mlp_num_layers_drug': 3, 'drug_encoding': 'Morgan'}.\n",
      "[INFO 12-28 21:28:41] ax.service.ax_client: Completed trial 82 with data: {'pr_auc': (0.909927, None)}.\n",
      "2022-12-28 21:28:42,302\tWARNING trial_runner.py:988 -- Trial Runner checkpointing failed: Can't pickle <function TriangularLinearOperator.to_dense at 0x7f44d279b9d0>: it's not the same object as linear_operator.operators.triangular_linear_operator.TriangularLinearOperator.to_dense\n"
     ]
    },
    {
     "name": "stdout",
     "output_type": "stream",
     "text": [
      "\u001b[2m\u001b[36m(train_fn pid=3597933)\u001b[0m Drug Property Prediction Mode...\n",
      "\u001b[2m\u001b[36m(train_fn pid=3597933)\u001b[0m in total: 13445 drugs\n",
      "\u001b[2m\u001b[36m(train_fn pid=3597933)\u001b[0m encoding drug...\n",
      "\u001b[2m\u001b[36m(train_fn pid=3597933)\u001b[0m unique drugs: 13445\n"
     ]
    },
    {
     "name": "stderr",
     "output_type": "stream",
     "text": [
      "2022-12-28 21:28:42,778\tWARNING trial_runner.py:988 -- Trial Runner checkpointing failed: Can't pickle <function TriangularLinearOperator.to_dense at 0x7f44d279b9d0>: it's not the same object as linear_operator.operators.triangular_linear_operator.TriangularLinearOperator.to_dense\n"
     ]
    },
    {
     "name": "stdout",
     "output_type": "stream",
     "text": [
      "\u001b[2m\u001b[36m(train_fn pid=3597933)\u001b[0m Done.\n"
     ]
    },
    {
     "name": "stderr",
     "output_type": "stream",
     "text": [
      "[INFO 12-28 22:40:34] ax.service.ax_client: Generated new trial 85 with parameters {'lr': 0.000281, 'batch_size': 256, 'train_epochs': 20, 'mlp_hidden_dims_drug': 512, 'mlp_num_layers_drug': 3, 'drug_encoding': 'Morgan'}.\n",
      "2022-12-28 22:40:35,034\tWARNING trial_runner.py:988 -- Trial Runner checkpointing failed: Can't pickle <function TriangularLinearOperator.to_dense at 0x7f44d279b9d0>: it's not the same object as linear_operator.operators.triangular_linear_operator.TriangularLinearOperator.to_dense\n",
      "2022-12-28 22:40:35,597\tWARNING trial_runner.py:988 -- Trial Runner checkpointing failed: Can't pickle <function TriangularLinearOperator.to_dense at 0x7f44d279b9d0>: it's not the same object as linear_operator.operators.triangular_linear_operator.TriangularLinearOperator.to_dense\n",
      "\u001b[2m\u001b[36m(pid=4168324)\u001b[0m WARNING:root:No normalization for BCUT2D_MWHI\n",
      "\u001b[2m\u001b[36m(pid=4168324)\u001b[0m WARNING:root:No normalization for BCUT2D_MWLOW\n",
      "\u001b[2m\u001b[36m(pid=4168324)\u001b[0m WARNING:root:No normalization for BCUT2D_CHGHI\n",
      "\u001b[2m\u001b[36m(pid=4168324)\u001b[0m WARNING:root:No normalization for BCUT2D_CHGLO\n",
      "\u001b[2m\u001b[36m(pid=4168324)\u001b[0m WARNING:root:No normalization for BCUT2D_LOGPHI\n",
      "\u001b[2m\u001b[36m(pid=4168324)\u001b[0m WARNING:root:No normalization for BCUT2D_LOGPLOW\n",
      "\u001b[2m\u001b[36m(pid=4168324)\u001b[0m WARNING:root:No normalization for BCUT2D_MRHI\n",
      "\u001b[2m\u001b[36m(pid=4168324)\u001b[0m WARNING:root:No normalization for BCUT2D_MRLOW\n"
     ]
    },
    {
     "name": "stdout",
     "output_type": "stream",
     "text": [
      "\u001b[2m\u001b[36m(train_fn pid=4168324)\u001b[0m Drug Property Prediction Mode...\n",
      "\u001b[2m\u001b[36m(train_fn pid=4168324)\u001b[0m in total: 13445 drugs\n",
      "\u001b[2m\u001b[36m(train_fn pid=4168324)\u001b[0m encoding drug...\n",
      "\u001b[2m\u001b[36m(train_fn pid=4168324)\u001b[0m unique drugs: 13445\n"
     ]
    },
    {
     "name": "stderr",
     "output_type": "stream",
     "text": [
      "[INFO 12-28 22:41:28] ax.service.ax_client: Completed trial 83 with data: {'pr_auc': (0.905389, None)}.\n"
     ]
    },
    {
     "name": "stdout",
     "output_type": "stream",
     "text": [
      "\u001b[2m\u001b[36m(train_fn pid=4168324)\u001b[0m Done.\n"
     ]
    },
    {
     "name": "stderr",
     "output_type": "stream",
     "text": [
      "[INFO 12-28 23:21:10] ax.service.ax_client: Generated new trial 86 with parameters {'lr': 0.000279, 'batch_size': 256, 'train_epochs': 20, 'mlp_hidden_dims_drug': 512, 'mlp_num_layers_drug': 3, 'drug_encoding': 'Morgan'}.\n",
      "2022-12-28 23:21:11,137\tWARNING trial_runner.py:988 -- Trial Runner checkpointing failed: Can't pickle <function TriangularLinearOperator.to_dense at 0x7f44d279b9d0>: it's not the same object as linear_operator.operators.triangular_linear_operator.TriangularLinearOperator.to_dense\n",
      "2022-12-28 23:21:11,785\tWARNING trial_runner.py:988 -- Trial Runner checkpointing failed: Can't pickle <function TriangularLinearOperator.to_dense at 0x7f44d279b9d0>: it's not the same object as linear_operator.operators.triangular_linear_operator.TriangularLinearOperator.to_dense\n",
      "[INFO 12-28 23:21:40] ax.service.ax_client: Completed trial 84 with data: {'pr_auc': (0.907081, None)}.\n",
      "\u001b[2m\u001b[36m(pid=85178)\u001b[0m WARNING:root:No normalization for BCUT2D_MWHI\n",
      "\u001b[2m\u001b[36m(pid=85178)\u001b[0m WARNING:root:No normalization for BCUT2D_MWLOW\n",
      "\u001b[2m\u001b[36m(pid=85178)\u001b[0m WARNING:root:No normalization for BCUT2D_CHGHI\n",
      "\u001b[2m\u001b[36m(pid=85178)\u001b[0m WARNING:root:No normalization for BCUT2D_CHGLO\n",
      "\u001b[2m\u001b[36m(pid=85178)\u001b[0m WARNING:root:No normalization for BCUT2D_LOGPHI\n",
      "\u001b[2m\u001b[36m(pid=85178)\u001b[0m WARNING:root:No normalization for BCUT2D_LOGPLOW\n",
      "\u001b[2m\u001b[36m(pid=85178)\u001b[0m WARNING:root:No normalization for BCUT2D_MRHI\n",
      "\u001b[2m\u001b[36m(pid=85178)\u001b[0m WARNING:root:No normalization for BCUT2D_MRLOW\n"
     ]
    },
    {
     "name": "stdout",
     "output_type": "stream",
     "text": [
      "\u001b[2m\u001b[36m(train_fn pid=85178)\u001b[0m Drug Property Prediction Mode...\n",
      "\u001b[2m\u001b[36m(train_fn pid=85178)\u001b[0m in total: 13445 drugs\n",
      "\u001b[2m\u001b[36m(train_fn pid=85178)\u001b[0m encoding drug...\n",
      "\u001b[2m\u001b[36m(train_fn pid=85178)\u001b[0m unique drugs: 13445\n",
      "\u001b[2m\u001b[36m(train_fn pid=85178)\u001b[0m Done.\n"
     ]
    },
    {
     "name": "stderr",
     "output_type": "stream",
     "text": [
      "[INFO 12-28 23:46:12] ax.service.ax_client: Generated new trial 87 with parameters {'lr': 0.000288, 'batch_size': 256, 'train_epochs': 20, 'mlp_hidden_dims_drug': 512, 'mlp_num_layers_drug': 3, 'drug_encoding': 'Morgan'}.\n",
      "[INFO 12-28 23:46:12] ax.service.ax_client: Completed trial 85 with data: {'pr_auc': (0.906993, None)}.\n",
      "2022-12-28 23:46:12,619\tWARNING trial_runner.py:988 -- Trial Runner checkpointing failed: Can't pickle <function TriangularLinearOperator.to_dense at 0x7f44d279b9d0>: it's not the same object as linear_operator.operators.triangular_linear_operator.TriangularLinearOperator.to_dense\n"
     ]
    },
    {
     "name": "stdout",
     "output_type": "stream",
     "text": [
      "\u001b[2m\u001b[36m(train_fn pid=4168324)\u001b[0m Drug Property Prediction Mode...\n",
      "\u001b[2m\u001b[36m(train_fn pid=4168324)\u001b[0m in total: 13445 drugs\n",
      "\u001b[2m\u001b[36m(train_fn pid=4168324)\u001b[0m encoding drug...\n",
      "\u001b[2m\u001b[36m(train_fn pid=4168324)\u001b[0m unique drugs: 13445\n"
     ]
    },
    {
     "name": "stderr",
     "output_type": "stream",
     "text": [
      "2022-12-28 23:46:13,202\tWARNING trial_runner.py:988 -- Trial Runner checkpointing failed: Can't pickle <function TriangularLinearOperator.to_dense at 0x7f44d279b9d0>: it's not the same object as linear_operator.operators.triangular_linear_operator.TriangularLinearOperator.to_dense\n"
     ]
    },
    {
     "name": "stdout",
     "output_type": "stream",
     "text": [
      "\u001b[2m\u001b[36m(train_fn pid=4168324)\u001b[0m Done.\n"
     ]
    },
    {
     "name": "stderr",
     "output_type": "stream",
     "text": [
      "[INFO 12-29 00:24:04] ax.service.ax_client: Generated new trial 88 with parameters {'lr': 0.000299, 'batch_size': 256, 'train_epochs': 20, 'mlp_hidden_dims_drug': 512, 'mlp_num_layers_drug': 3, 'drug_encoding': 'Morgan'}.\n",
      "2022-12-29 00:24:04,630\tWARNING trial_runner.py:988 -- Trial Runner checkpointing failed: Can't pickle <function TriangularLinearOperator.to_dense at 0x7f44d279b9d0>: it's not the same object as linear_operator.operators.triangular_linear_operator.TriangularLinearOperator.to_dense\n",
      "2022-12-29 00:24:05,001\tWARNING trial_runner.py:988 -- Trial Runner checkpointing failed: Can't pickle <function TriangularLinearOperator.to_dense at 0x7f44d279b9d0>: it's not the same object as linear_operator.operators.triangular_linear_operator.TriangularLinearOperator.to_dense\n",
      "[INFO 12-29 00:24:29] ax.service.ax_client: Completed trial 86 with data: {'pr_auc': (0.908846, None)}.\n",
      "\u001b[2m\u001b[36m(pid=287844)\u001b[0m WARNING:root:No normalization for BCUT2D_MWHI\n",
      "\u001b[2m\u001b[36m(pid=287844)\u001b[0m WARNING:root:No normalization for BCUT2D_MWLOW\n",
      "\u001b[2m\u001b[36m(pid=287844)\u001b[0m WARNING:root:No normalization for BCUT2D_CHGHI\n",
      "\u001b[2m\u001b[36m(pid=287844)\u001b[0m WARNING:root:No normalization for BCUT2D_CHGLO\n",
      "\u001b[2m\u001b[36m(pid=287844)\u001b[0m WARNING:root:No normalization for BCUT2D_LOGPHI\n",
      "\u001b[2m\u001b[36m(pid=287844)\u001b[0m WARNING:root:No normalization for BCUT2D_LOGPLOW\n",
      "\u001b[2m\u001b[36m(pid=287844)\u001b[0m WARNING:root:No normalization for BCUT2D_MRHI\n",
      "\u001b[2m\u001b[36m(pid=287844)\u001b[0m WARNING:root:No normalization for BCUT2D_MRLOW\n"
     ]
    },
    {
     "name": "stdout",
     "output_type": "stream",
     "text": [
      "\u001b[2m\u001b[36m(train_fn pid=287844)\u001b[0m Drug Property Prediction Mode...\n",
      "\u001b[2m\u001b[36m(train_fn pid=287844)\u001b[0m in total: 13445 drugs\n",
      "\u001b[2m\u001b[36m(train_fn pid=287844)\u001b[0m encoding drug...\n",
      "\u001b[2m\u001b[36m(train_fn pid=287844)\u001b[0m unique drugs: 13445\n",
      "\u001b[2m\u001b[36m(train_fn pid=287844)\u001b[0m Done.\n"
     ]
    },
    {
     "name": "stderr",
     "output_type": "stream",
     "text": [
      "[INFO 12-29 00:56:31] ax.service.ax_client: Generated new trial 89 with parameters {'lr': 0.000296, 'batch_size': 256, 'train_epochs': 20, 'mlp_hidden_dims_drug': 512, 'mlp_num_layers_drug': 3, 'drug_encoding': 'Morgan'}.\n",
      "2022-12-29 00:56:32,169\tWARNING trial_runner.py:988 -- Trial Runner checkpointing failed: Can't pickle <function TriangularLinearOperator.to_dense at 0x7f44d279b9d0>: it's not the same object as linear_operator.operators.triangular_linear_operator.TriangularLinearOperator.to_dense\n",
      "2022-12-29 00:56:32,856\tWARNING trial_runner.py:988 -- Trial Runner checkpointing failed: Can't pickle <function TriangularLinearOperator.to_dense at 0x7f44d279b9d0>: it's not the same object as linear_operator.operators.triangular_linear_operator.TriangularLinearOperator.to_dense\n",
      "\u001b[2m\u001b[36m(pid=409088)\u001b[0m WARNING:root:No normalization for BCUT2D_MWHI\n",
      "\u001b[2m\u001b[36m(pid=409088)\u001b[0m WARNING:root:No normalization for BCUT2D_MWLOW\n",
      "\u001b[2m\u001b[36m(pid=409088)\u001b[0m WARNING:root:No normalization for BCUT2D_CHGHI\n",
      "\u001b[2m\u001b[36m(pid=409088)\u001b[0m WARNING:root:No normalization for BCUT2D_CHGLO\n",
      "\u001b[2m\u001b[36m(pid=409088)\u001b[0m WARNING:root:No normalization for BCUT2D_LOGPHI\n",
      "\u001b[2m\u001b[36m(pid=409088)\u001b[0m WARNING:root:No normalization for BCUT2D_LOGPLOW\n",
      "\u001b[2m\u001b[36m(pid=409088)\u001b[0m WARNING:root:No normalization for BCUT2D_MRHI\n",
      "\u001b[2m\u001b[36m(pid=409088)\u001b[0m WARNING:root:No normalization for BCUT2D_MRLOW\n"
     ]
    },
    {
     "name": "stdout",
     "output_type": "stream",
     "text": [
      "\u001b[2m\u001b[36m(train_fn pid=409088)\u001b[0m Drug Property Prediction Mode...\n",
      "\u001b[2m\u001b[36m(train_fn pid=409088)\u001b[0m in total: 13445 drugs\n",
      "\u001b[2m\u001b[36m(train_fn pid=409088)\u001b[0m encoding drug...\n",
      "\u001b[2m\u001b[36m(train_fn pid=409088)\u001b[0m unique drugs: 13445\n"
     ]
    },
    {
     "name": "stderr",
     "output_type": "stream",
     "text": [
      "[INFO 12-29 00:57:07] ax.service.ax_client: Completed trial 88 with data: {'pr_auc': (0.914627, None)}.\n"
     ]
    },
    {
     "name": "stdout",
     "output_type": "stream",
     "text": [
      "\u001b[2m\u001b[36m(train_fn pid=409088)\u001b[0m Done.\n"
     ]
    },
    {
     "name": "stderr",
     "output_type": "stream",
     "text": [
      "[INFO 12-29 01:19:09] ax.service.ax_client: Generated new trial 90 with parameters {'lr': 0.000299, 'batch_size': 256, 'train_epochs': 20, 'mlp_hidden_dims_drug': 512, 'mlp_num_layers_drug': 3, 'drug_encoding': 'Morgan'}.\n",
      "[INFO 12-29 01:19:09] ax.service.ax_client: Completed trial 87 with data: {'pr_auc': (0.912487, None)}.\n",
      "2022-12-29 01:19:10,412\tWARNING trial_runner.py:988 -- Trial Runner checkpointing failed: Can't pickle <function TriangularLinearOperator.to_dense at 0x7f44d279b9d0>: it's not the same object as linear_operator.operators.triangular_linear_operator.TriangularLinearOperator.to_dense\n"
     ]
    },
    {
     "name": "stdout",
     "output_type": "stream",
     "text": [
      "\u001b[2m\u001b[36m(train_fn pid=4168324)\u001b[0m Drug Property Prediction Mode...\n",
      "\u001b[2m\u001b[36m(train_fn pid=4168324)\u001b[0m in total: 13445 drugs\n",
      "\u001b[2m\u001b[36m(train_fn pid=4168324)\u001b[0m encoding drug...\n",
      "\u001b[2m\u001b[36m(train_fn pid=4168324)\u001b[0m unique drugs: 13445\n"
     ]
    },
    {
     "name": "stderr",
     "output_type": "stream",
     "text": [
      "2022-12-29 01:19:10,907\tWARNING trial_runner.py:988 -- Trial Runner checkpointing failed: Can't pickle <function TriangularLinearOperator.to_dense at 0x7f44d279b9d0>: it's not the same object as linear_operator.operators.triangular_linear_operator.TriangularLinearOperator.to_dense\n"
     ]
    },
    {
     "name": "stdout",
     "output_type": "stream",
     "text": [
      "\u001b[2m\u001b[36m(train_fn pid=4168324)\u001b[0m Done.\n"
     ]
    },
    {
     "name": "stderr",
     "output_type": "stream",
     "text": [
      "[INFO 12-29 01:42:55] ax.service.ax_client: Generated new trial 91 with parameters {'lr': 0.000293, 'batch_size': 256, 'train_epochs': 20, 'mlp_hidden_dims_drug': 512, 'mlp_num_layers_drug': 3, 'drug_encoding': 'Morgan'}.\n",
      "2022-12-29 01:42:56,126\tWARNING trial_runner.py:988 -- Trial Runner checkpointing failed: Can't pickle <function TriangularLinearOperator.to_dense at 0x7f44d279b9d0>: it's not the same object as linear_operator.operators.triangular_linear_operator.TriangularLinearOperator.to_dense\n",
      "2022-12-29 01:42:56,523\tWARNING trial_runner.py:988 -- Trial Runner checkpointing failed: Can't pickle <function TriangularLinearOperator.to_dense at 0x7f44d279b9d0>: it's not the same object as linear_operator.operators.triangular_linear_operator.TriangularLinearOperator.to_dense\n",
      "\u001b[2m\u001b[36m(pid=556406)\u001b[0m WARNING:root:No normalization for BCUT2D_MWHI\n",
      "\u001b[2m\u001b[36m(pid=556406)\u001b[0m WARNING:root:No normalization for BCUT2D_MWLOW\n",
      "\u001b[2m\u001b[36m(pid=556406)\u001b[0m WARNING:root:No normalization for BCUT2D_CHGHI\n",
      "\u001b[2m\u001b[36m(pid=556406)\u001b[0m WARNING:root:No normalization for BCUT2D_CHGLO\n",
      "\u001b[2m\u001b[36m(pid=556406)\u001b[0m WARNING:root:No normalization for BCUT2D_LOGPHI\n",
      "\u001b[2m\u001b[36m(pid=556406)\u001b[0m WARNING:root:No normalization for BCUT2D_LOGPLOW\n",
      "\u001b[2m\u001b[36m(pid=556406)\u001b[0m WARNING:root:No normalization for BCUT2D_MRHI\n",
      "\u001b[2m\u001b[36m(pid=556406)\u001b[0m WARNING:root:No normalization for BCUT2D_MRLOW\n"
     ]
    },
    {
     "name": "stdout",
     "output_type": "stream",
     "text": [
      "\u001b[2m\u001b[36m(train_fn pid=556406)\u001b[0m Drug Property Prediction Mode...\n",
      "\u001b[2m\u001b[36m(train_fn pid=556406)\u001b[0m in total: 13445 drugs\n",
      "\u001b[2m\u001b[36m(train_fn pid=556406)\u001b[0m encoding drug...\n",
      "\u001b[2m\u001b[36m(train_fn pid=556406)\u001b[0m unique drugs: 13445\n"
     ]
    },
    {
     "name": "stderr",
     "output_type": "stream",
     "text": [
      "[INFO 12-29 01:43:42] ax.service.ax_client: Completed trial 89 with data: {'pr_auc': (0.906441, None)}.\n"
     ]
    },
    {
     "name": "stdout",
     "output_type": "stream",
     "text": [
      "\u001b[2m\u001b[36m(train_fn pid=556406)\u001b[0m Done.\n"
     ]
    },
    {
     "name": "stderr",
     "output_type": "stream",
     "text": [
      "[INFO 12-29 02:11:29] ax.service.ax_client: Generated new trial 92 with parameters {'lr': 0.000284, 'batch_size': 256, 'train_epochs': 20, 'mlp_hidden_dims_drug': 512, 'mlp_num_layers_drug': 3, 'drug_encoding': 'Morgan'}.\n",
      "[INFO 12-29 02:11:29] ax.service.ax_client: Completed trial 90 with data: {'pr_auc': (0.902923, None)}.\n",
      "2022-12-29 02:11:30,074\tWARNING trial_runner.py:988 -- Trial Runner checkpointing failed: Can't pickle <function TriangularLinearOperator.to_dense at 0x7f44d279b9d0>: it's not the same object as linear_operator.operators.triangular_linear_operator.TriangularLinearOperator.to_dense\n"
     ]
    },
    {
     "name": "stdout",
     "output_type": "stream",
     "text": [
      "\u001b[2m\u001b[36m(train_fn pid=4168324)\u001b[0m Drug Property Prediction Mode...\n",
      "\u001b[2m\u001b[36m(train_fn pid=4168324)\u001b[0m in total: 13445 drugs\n",
      "\u001b[2m\u001b[36m(train_fn pid=4168324)\u001b[0m encoding drug...\n",
      "\u001b[2m\u001b[36m(train_fn pid=4168324)\u001b[0m unique drugs: 13445\n"
     ]
    },
    {
     "name": "stderr",
     "output_type": "stream",
     "text": [
      "2022-12-29 02:11:30,627\tWARNING trial_runner.py:988 -- Trial Runner checkpointing failed: Can't pickle <function TriangularLinearOperator.to_dense at 0x7f44d279b9d0>: it's not the same object as linear_operator.operators.triangular_linear_operator.TriangularLinearOperator.to_dense\n"
     ]
    },
    {
     "name": "stdout",
     "output_type": "stream",
     "text": [
      "\u001b[2m\u001b[36m(train_fn pid=4168324)\u001b[0m Done.\n"
     ]
    },
    {
     "name": "stderr",
     "output_type": "stream",
     "text": [
      "[INFO 12-29 02:34:08] ax.service.ax_client: Generated new trial 93 with parameters {'lr': 0.000287, 'batch_size': 256, 'train_epochs': 20, 'mlp_hidden_dims_drug': 512, 'mlp_num_layers_drug': 3, 'drug_encoding': 'Morgan'}.\n",
      "2022-12-29 02:34:08,824\tWARNING trial_runner.py:988 -- Trial Runner checkpointing failed: Can't pickle <function TriangularLinearOperator.to_dense at 0x7f44d279b9d0>: it's not the same object as linear_operator.operators.triangular_linear_operator.TriangularLinearOperator.to_dense\n",
      "2022-12-29 02:34:09,340\tWARNING trial_runner.py:988 -- Trial Runner checkpointing failed: Can't pickle <function TriangularLinearOperator.to_dense at 0x7f44d279b9d0>: it's not the same object as linear_operator.operators.triangular_linear_operator.TriangularLinearOperator.to_dense\n",
      "[INFO 12-29 02:34:28] ax.service.ax_client: Completed trial 92 with data: {'pr_auc': (0.915032, None)}.\n",
      "\u001b[2m\u001b[36m(pid=712122)\u001b[0m WARNING:root:No normalization for BCUT2D_MWHI\n",
      "\u001b[2m\u001b[36m(pid=712122)\u001b[0m WARNING:root:No normalization for BCUT2D_MWLOW\n",
      "\u001b[2m\u001b[36m(pid=712122)\u001b[0m WARNING:root:No normalization for BCUT2D_CHGHI\n",
      "\u001b[2m\u001b[36m(pid=712122)\u001b[0m WARNING:root:No normalization for BCUT2D_CHGLO\n",
      "\u001b[2m\u001b[36m(pid=712122)\u001b[0m WARNING:root:No normalization for BCUT2D_LOGPHI\n",
      "\u001b[2m\u001b[36m(pid=712122)\u001b[0m WARNING:root:No normalization for BCUT2D_LOGPLOW\n",
      "\u001b[2m\u001b[36m(pid=712122)\u001b[0m WARNING:root:No normalization for BCUT2D_MRHI\n",
      "\u001b[2m\u001b[36m(pid=712122)\u001b[0m WARNING:root:No normalization for BCUT2D_MRLOW\n"
     ]
    },
    {
     "name": "stdout",
     "output_type": "stream",
     "text": [
      "\u001b[2m\u001b[36m(train_fn pid=712122)\u001b[0m Drug Property Prediction Mode...\n",
      "\u001b[2m\u001b[36m(train_fn pid=712122)\u001b[0m in total: 13445 drugs\n",
      "\u001b[2m\u001b[36m(train_fn pid=712122)\u001b[0m encoding drug...\n",
      "\u001b[2m\u001b[36m(train_fn pid=712122)\u001b[0m unique drugs: 13445\n",
      "\u001b[2m\u001b[36m(train_fn pid=712122)\u001b[0m Done.\n"
     ]
    },
    {
     "name": "stderr",
     "output_type": "stream",
     "text": [
      "[INFO 12-29 03:07:02] ax.service.ax_client: Generated new trial 94 with parameters {'lr': 0.00028, 'batch_size': 256, 'train_epochs': 20, 'mlp_hidden_dims_drug': 512, 'mlp_num_layers_drug': 3, 'drug_encoding': 'Morgan'}.\n",
      "2022-12-29 03:07:03,072\tWARNING trial_runner.py:988 -- Trial Runner checkpointing failed: Can't pickle <function TriangularLinearOperator.to_dense at 0x7f44d279b9d0>: it's not the same object as linear_operator.operators.triangular_linear_operator.TriangularLinearOperator.to_dense\n",
      "2022-12-29 03:07:03,612\tWARNING trial_runner.py:988 -- Trial Runner checkpointing failed: Can't pickle <function TriangularLinearOperator.to_dense at 0x7f44d279b9d0>: it's not the same object as linear_operator.operators.triangular_linear_operator.TriangularLinearOperator.to_dense\n",
      "\u001b[2m\u001b[36m(pid=809934)\u001b[0m WARNING:root:No normalization for BCUT2D_MWHI\n",
      "\u001b[2m\u001b[36m(pid=809934)\u001b[0m WARNING:root:No normalization for BCUT2D_MWLOW\n",
      "\u001b[2m\u001b[36m(pid=809934)\u001b[0m WARNING:root:No normalization for BCUT2D_CHGHI\n",
      "\u001b[2m\u001b[36m(pid=809934)\u001b[0m WARNING:root:No normalization for BCUT2D_CHGLO\n",
      "\u001b[2m\u001b[36m(pid=809934)\u001b[0m WARNING:root:No normalization for BCUT2D_LOGPHI\n",
      "\u001b[2m\u001b[36m(pid=809934)\u001b[0m WARNING:root:No normalization for BCUT2D_LOGPLOW\n",
      "\u001b[2m\u001b[36m(pid=809934)\u001b[0m WARNING:root:No normalization for BCUT2D_MRHI\n",
      "\u001b[2m\u001b[36m(pid=809934)\u001b[0m WARNING:root:No normalization for BCUT2D_MRLOW\n"
     ]
    },
    {
     "name": "stdout",
     "output_type": "stream",
     "text": [
      "\u001b[2m\u001b[36m(train_fn pid=809934)\u001b[0m Drug Property Prediction Mode...\n",
      "\u001b[2m\u001b[36m(train_fn pid=809934)\u001b[0m in total: 13445 drugs\n",
      "\u001b[2m\u001b[36m(train_fn pid=809934)\u001b[0m encoding drug...\n",
      "\u001b[2m\u001b[36m(train_fn pid=809934)\u001b[0m unique drugs: 13445\n"
     ]
    },
    {
     "name": "stderr",
     "output_type": "stream",
     "text": [
      "[INFO 12-29 03:07:44] ax.service.ax_client: Completed trial 91 with data: {'pr_auc': (0.914084, None)}.\n"
     ]
    },
    {
     "name": "stdout",
     "output_type": "stream",
     "text": [
      "\u001b[2m\u001b[36m(train_fn pid=809934)\u001b[0m Done.\n"
     ]
    },
    {
     "name": "stderr",
     "output_type": "stream",
     "text": [
      "[INFO 12-29 03:28:08] ax.service.ax_client: Generated new trial 95 with parameters {'lr': 0.000283, 'batch_size': 256, 'train_epochs': 20, 'mlp_hidden_dims_drug': 512, 'mlp_num_layers_drug': 3, 'drug_encoding': 'Morgan'}.\n",
      "2022-12-29 03:28:09,184\tWARNING trial_runner.py:988 -- Trial Runner checkpointing failed: Can't pickle <function TriangularLinearOperator.to_dense at 0x7f44d279b9d0>: it's not the same object as linear_operator.operators.triangular_linear_operator.TriangularLinearOperator.to_dense\n",
      "2022-12-29 03:28:09,706\tWARNING trial_runner.py:988 -- Trial Runner checkpointing failed: Can't pickle <function TriangularLinearOperator.to_dense at 0x7f44d279b9d0>: it's not the same object as linear_operator.operators.triangular_linear_operator.TriangularLinearOperator.to_dense\n",
      "[INFO 12-29 03:28:28] ax.service.ax_client: Completed trial 94 with data: {'pr_auc': (0.913216, None)}.\n",
      "\u001b[2m\u001b[36m(pid=872203)\u001b[0m WARNING:root:No normalization for BCUT2D_MWHI\n",
      "\u001b[2m\u001b[36m(pid=872203)\u001b[0m WARNING:root:No normalization for BCUT2D_MWLOW\n",
      "\u001b[2m\u001b[36m(pid=872203)\u001b[0m WARNING:root:No normalization for BCUT2D_CHGHI\n",
      "\u001b[2m\u001b[36m(pid=872203)\u001b[0m WARNING:root:No normalization for BCUT2D_CHGLO\n",
      "\u001b[2m\u001b[36m(pid=872203)\u001b[0m WARNING:root:No normalization for BCUT2D_LOGPHI\n",
      "\u001b[2m\u001b[36m(pid=872203)\u001b[0m WARNING:root:No normalization for BCUT2D_LOGPLOW\n",
      "\u001b[2m\u001b[36m(pid=872203)\u001b[0m WARNING:root:No normalization for BCUT2D_MRHI\n",
      "\u001b[2m\u001b[36m(pid=872203)\u001b[0m WARNING:root:No normalization for BCUT2D_MRLOW\n"
     ]
    },
    {
     "name": "stdout",
     "output_type": "stream",
     "text": [
      "\u001b[2m\u001b[36m(train_fn pid=872203)\u001b[0m Drug Property Prediction Mode...\n",
      "\u001b[2m\u001b[36m(train_fn pid=872203)\u001b[0m in total: 13445 drugs\n",
      "\u001b[2m\u001b[36m(train_fn pid=872203)\u001b[0m encoding drug...\n",
      "\u001b[2m\u001b[36m(train_fn pid=872203)\u001b[0m unique drugs: 13445\n",
      "\u001b[2m\u001b[36m(train_fn pid=872203)\u001b[0m Done.\n"
     ]
    },
    {
     "name": "stderr",
     "output_type": "stream",
     "text": [
      "[INFO 12-29 03:45:20] ax.service.ax_client: Generated new trial 96 with parameters {'lr': 0.000273, 'batch_size': 256, 'train_epochs': 20, 'mlp_hidden_dims_drug': 512, 'mlp_num_layers_drug': 3, 'drug_encoding': 'Morgan'}.\n",
      "2022-12-29 03:45:20,537\tWARNING trial_runner.py:988 -- Trial Runner checkpointing failed: Can't pickle <function TriangularLinearOperator.to_dense at 0x7f44d279b9d0>: it's not the same object as linear_operator.operators.triangular_linear_operator.TriangularLinearOperator.to_dense\n",
      "2022-12-29 03:45:21,067\tWARNING trial_runner.py:988 -- Trial Runner checkpointing failed: Can't pickle <function TriangularLinearOperator.to_dense at 0x7f44d279b9d0>: it's not the same object as linear_operator.operators.triangular_linear_operator.TriangularLinearOperator.to_dense\n",
      "[INFO 12-29 03:45:38] ax.service.ax_client: Completed trial 95 with data: {'pr_auc': (0.912117, None)}.\n",
      "\u001b[2m\u001b[36m(pid=925030)\u001b[0m WARNING:root:No normalization for BCUT2D_MWHI\n",
      "\u001b[2m\u001b[36m(pid=925030)\u001b[0m WARNING:root:No normalization for BCUT2D_MWLOW\n",
      "\u001b[2m\u001b[36m(pid=925030)\u001b[0m WARNING:root:No normalization for BCUT2D_CHGHI\n",
      "\u001b[2m\u001b[36m(pid=925030)\u001b[0m WARNING:root:No normalization for BCUT2D_CHGLO\n",
      "\u001b[2m\u001b[36m(pid=925030)\u001b[0m WARNING:root:No normalization for BCUT2D_LOGPHI\n",
      "\u001b[2m\u001b[36m(pid=925030)\u001b[0m WARNING:root:No normalization for BCUT2D_LOGPLOW\n",
      "\u001b[2m\u001b[36m(pid=925030)\u001b[0m WARNING:root:No normalization for BCUT2D_MRHI\n",
      "\u001b[2m\u001b[36m(pid=925030)\u001b[0m WARNING:root:No normalization for BCUT2D_MRLOW\n"
     ]
    },
    {
     "name": "stdout",
     "output_type": "stream",
     "text": [
      "\u001b[2m\u001b[36m(train_fn pid=925030)\u001b[0m Drug Property Prediction Mode...\n",
      "\u001b[2m\u001b[36m(train_fn pid=925030)\u001b[0m in total: 13445 drugs\n",
      "\u001b[2m\u001b[36m(train_fn pid=925030)\u001b[0m encoding drug...\n",
      "\u001b[2m\u001b[36m(train_fn pid=925030)\u001b[0m unique drugs: 13445\n",
      "\u001b[2m\u001b[36m(train_fn pid=925030)\u001b[0m Done.\n"
     ]
    },
    {
     "name": "stderr",
     "output_type": "stream",
     "text": [
      "[INFO 12-29 03:56:55] ax.service.ax_client: Generated new trial 97 with parameters {'lr': 0.000271, 'batch_size': 256, 'train_epochs': 20, 'mlp_hidden_dims_drug': 512, 'mlp_num_layers_drug': 3, 'drug_encoding': 'Morgan'}.\n",
      "2022-12-29 03:56:55,666\tWARNING trial_runner.py:988 -- Trial Runner checkpointing failed: Can't pickle <function TriangularLinearOperator.to_dense at 0x7f44d279b9d0>: it's not the same object as linear_operator.operators.triangular_linear_operator.TriangularLinearOperator.to_dense\n",
      "2022-12-29 03:56:56,111\tWARNING trial_runner.py:988 -- Trial Runner checkpointing failed: Can't pickle <function TriangularLinearOperator.to_dense at 0x7f44d279b9d0>: it's not the same object as linear_operator.operators.triangular_linear_operator.TriangularLinearOperator.to_dense\n",
      "[INFO 12-29 03:57:13] ax.service.ax_client: Completed trial 96 with data: {'pr_auc': (0.904071, None)}.\n",
      "\u001b[2m\u001b[36m(pid=959587)\u001b[0m WARNING:root:No normalization for BCUT2D_MWHI\n",
      "\u001b[2m\u001b[36m(pid=959587)\u001b[0m WARNING:root:No normalization for BCUT2D_MWLOW\n",
      "\u001b[2m\u001b[36m(pid=959587)\u001b[0m WARNING:root:No normalization for BCUT2D_CHGHI\n",
      "\u001b[2m\u001b[36m(pid=959587)\u001b[0m WARNING:root:No normalization for BCUT2D_CHGLO\n",
      "\u001b[2m\u001b[36m(pid=959587)\u001b[0m WARNING:root:No normalization for BCUT2D_LOGPHI\n",
      "\u001b[2m\u001b[36m(pid=959587)\u001b[0m WARNING:root:No normalization for BCUT2D_LOGPLOW\n",
      "\u001b[2m\u001b[36m(pid=959587)\u001b[0m WARNING:root:No normalization for BCUT2D_MRHI\n",
      "\u001b[2m\u001b[36m(pid=959587)\u001b[0m WARNING:root:No normalization for BCUT2D_MRLOW\n"
     ]
    },
    {
     "name": "stdout",
     "output_type": "stream",
     "text": [
      "\u001b[2m\u001b[36m(train_fn pid=959587)\u001b[0m Drug Property Prediction Mode...\n",
      "\u001b[2m\u001b[36m(train_fn pid=959587)\u001b[0m in total: 13445 drugs\n",
      "\u001b[2m\u001b[36m(train_fn pid=959587)\u001b[0m encoding drug...\n",
      "\u001b[2m\u001b[36m(train_fn pid=959587)\u001b[0m unique drugs: 13445\n",
      "\u001b[2m\u001b[36m(train_fn pid=959587)\u001b[0m Done.\n"
     ]
    },
    {
     "name": "stderr",
     "output_type": "stream",
     "text": [
      "[INFO 12-29 04:06:06] ax.service.ax_client: Generated new trial 98 with parameters {'lr': 0.000284, 'batch_size': 256, 'train_epochs': 20, 'mlp_hidden_dims_drug': 512, 'mlp_num_layers_drug': 3, 'drug_encoding': 'Morgan'}.\n",
      "[INFO 12-29 04:06:07] ax.service.ax_client: Completed trial 93 with data: {'pr_auc': (0.904809, None)}.\n",
      "2022-12-29 04:06:07,562\tWARNING trial_runner.py:988 -- Trial Runner checkpointing failed: Can't pickle <function TriangularLinearOperator.to_dense at 0x7f44d279b9d0>: it's not the same object as linear_operator.operators.triangular_linear_operator.TriangularLinearOperator.to_dense\n"
     ]
    },
    {
     "name": "stdout",
     "output_type": "stream",
     "text": [
      "\u001b[2m\u001b[36m(train_fn pid=712122)\u001b[0m Drug Property Prediction Mode...\n",
      "\u001b[2m\u001b[36m(train_fn pid=712122)\u001b[0m in total: 13445 drugs\n",
      "\u001b[2m\u001b[36m(train_fn pid=712122)\u001b[0m encoding drug...\n",
      "\u001b[2m\u001b[36m(train_fn pid=712122)\u001b[0m unique drugs: 13445\n"
     ]
    },
    {
     "name": "stderr",
     "output_type": "stream",
     "text": [
      "2022-12-29 04:06:08,180\tWARNING trial_runner.py:988 -- Trial Runner checkpointing failed: Can't pickle <function TriangularLinearOperator.to_dense at 0x7f44d279b9d0>: it's not the same object as linear_operator.operators.triangular_linear_operator.TriangularLinearOperator.to_dense\n"
     ]
    },
    {
     "name": "stdout",
     "output_type": "stream",
     "text": [
      "\u001b[2m\u001b[36m(train_fn pid=712122)\u001b[0m Done.\n"
     ]
    },
    {
     "name": "stderr",
     "output_type": "stream",
     "text": [
      "[INFO 12-29 04:13:07] ax.service.ax_client: Generated new trial 99 with parameters {'lr': 0.000294, 'batch_size': 256, 'train_epochs': 20, 'mlp_hidden_dims_drug': 512, 'mlp_num_layers_drug': 3, 'drug_encoding': 'Morgan'}.\n",
      "2022-12-29 04:13:08,512\tWARNING trial_runner.py:988 -- Trial Runner checkpointing failed: Can't pickle <function TriangularLinearOperator.to_dense at 0x7f44d279b9d0>: it's not the same object as linear_operator.operators.triangular_linear_operator.TriangularLinearOperator.to_dense\n",
      "2022-12-29 04:13:09,138\tWARNING trial_runner.py:988 -- Trial Runner checkpointing failed: Can't pickle <function TriangularLinearOperator.to_dense at 0x7f44d279b9d0>: it's not the same object as linear_operator.operators.triangular_linear_operator.TriangularLinearOperator.to_dense\n",
      "2022-12-29 04:13:09,556\tWARNING trial_runner.py:988 -- Trial Runner checkpointing failed: Can't pickle <function TriangularLinearOperator.to_dense at 0x7f44d279b9d0>: it's not the same object as linear_operator.operators.triangular_linear_operator.TriangularLinearOperator.to_dense\n",
      "[INFO 12-29 04:13:09] ax.service.ax_client: Completed trial 98 with data: {'pr_auc': (0.91361, None)}.\n",
      "2022-12-29 04:13:10,083\tWARNING trial_runner.py:988 -- Trial Runner checkpointing failed: Can't pickle <function TriangularLinearOperator.to_dense at 0x7f44d279b9d0>: it's not the same object as linear_operator.operators.triangular_linear_operator.TriangularLinearOperator.to_dense\n",
      "[INFO 12-29 04:13:10] ax.service.ax_client: Completed trial 97 with data: {'pr_auc': (0.903492, None)}.\n",
      "2022-12-29 04:13:10,608\tWARNING trial_runner.py:988 -- Trial Runner checkpointing failed: Can't pickle <function TriangularLinearOperator.to_dense at 0x7f44d279b9d0>: it's not the same object as linear_operator.operators.triangular_linear_operator.TriangularLinearOperator.to_dense\n",
      "2022-12-29 04:13:15,816\tWARNING trial_runner.py:988 -- Trial Runner checkpointing failed: Can't pickle <function TriangularLinearOperator.to_dense at 0x7f44d279b9d0>: it's not the same object as linear_operator.operators.triangular_linear_operator.TriangularLinearOperator.to_dense\n",
      "\u001b[2m\u001b[36m(pid=1010139)\u001b[0m WARNING:root:No normalization for BCUT2D_MWHI\n",
      "\u001b[2m\u001b[36m(pid=1010139)\u001b[0m WARNING:root:No normalization for BCUT2D_MWLOW\n",
      "\u001b[2m\u001b[36m(pid=1010139)\u001b[0m WARNING:root:No normalization for BCUT2D_CHGHI\n",
      "\u001b[2m\u001b[36m(pid=1010139)\u001b[0m WARNING:root:No normalization for BCUT2D_CHGLO\n",
      "\u001b[2m\u001b[36m(pid=1010139)\u001b[0m WARNING:root:No normalization for BCUT2D_LOGPHI\n",
      "\u001b[2m\u001b[36m(pid=1010139)\u001b[0m WARNING:root:No normalization for BCUT2D_LOGPLOW\n",
      "\u001b[2m\u001b[36m(pid=1010139)\u001b[0m WARNING:root:No normalization for BCUT2D_MRHI\n",
      "\u001b[2m\u001b[36m(pid=1010139)\u001b[0m WARNING:root:No normalization for BCUT2D_MRLOW\n"
     ]
    },
    {
     "name": "stdout",
     "output_type": "stream",
     "text": [
      "\u001b[2m\u001b[36m(train_fn pid=1010139)\u001b[0m Drug Property Prediction Mode...\n",
      "\u001b[2m\u001b[36m(train_fn pid=1010139)\u001b[0m in total: 13445 drugs\n",
      "\u001b[2m\u001b[36m(train_fn pid=1010139)\u001b[0m encoding drug...\n",
      "\u001b[2m\u001b[36m(train_fn pid=1010139)\u001b[0m unique drugs: 13445\n"
     ]
    },
    {
     "name": "stderr",
     "output_type": "stream",
     "text": [
      "2022-12-29 04:13:35,211\tWARNING trial_runner.py:988 -- Trial Runner checkpointing failed: Can't pickle <function TriangularLinearOperator.to_dense at 0x7f44d279b9d0>: it's not the same object as linear_operator.operators.triangular_linear_operator.TriangularLinearOperator.to_dense\n",
      "2022-12-29 04:13:40,406\tWARNING trial_runner.py:988 -- Trial Runner checkpointing failed: Can't pickle <function TriangularLinearOperator.to_dense at 0x7f44d279b9d0>: it's not the same object as linear_operator.operators.triangular_linear_operator.TriangularLinearOperator.to_dense\n",
      "2022-12-29 04:13:45,616\tWARNING trial_runner.py:988 -- Trial Runner checkpointing failed: Can't pickle <function TriangularLinearOperator.to_dense at 0x7f44d279b9d0>: it's not the same object as linear_operator.operators.triangular_linear_operator.TriangularLinearOperator.to_dense\n",
      "2022-12-29 04:13:50,800\tWARNING trial_runner.py:988 -- Trial Runner checkpointing failed: Can't pickle <function TriangularLinearOperator.to_dense at 0x7f44d279b9d0>: it's not the same object as linear_operator.operators.triangular_linear_operator.TriangularLinearOperator.to_dense\n"
     ]
    },
    {
     "name": "stdout",
     "output_type": "stream",
     "text": [
      "\u001b[2m\u001b[36m(train_fn pid=1010139)\u001b[0m Done.\n"
     ]
    },
    {
     "name": "stderr",
     "output_type": "stream",
     "text": [
      "2022-12-29 04:13:55,951\tWARNING trial_runner.py:988 -- Trial Runner checkpointing failed: Can't pickle <function TriangularLinearOperator.to_dense at 0x7f44d279b9d0>: it's not the same object as linear_operator.operators.triangular_linear_operator.TriangularLinearOperator.to_dense\n",
      "2022-12-29 04:14:01,181\tWARNING trial_runner.py:988 -- Trial Runner checkpointing failed: Can't pickle <function TriangularLinearOperator.to_dense at 0x7f44d279b9d0>: it's not the same object as linear_operator.operators.triangular_linear_operator.TriangularLinearOperator.to_dense\n",
      "2022-12-29 04:14:06,400\tWARNING trial_runner.py:988 -- Trial Runner checkpointing failed: Can't pickle <function TriangularLinearOperator.to_dense at 0x7f44d279b9d0>: it's not the same object as linear_operator.operators.triangular_linear_operator.TriangularLinearOperator.to_dense\n",
      "2022-12-29 04:14:11,669\tWARNING trial_runner.py:988 -- Trial Runner checkpointing failed: Can't pickle <function TriangularLinearOperator.to_dense at 0x7f44d279b9d0>: it's not the same object as linear_operator.operators.triangular_linear_operator.TriangularLinearOperator.to_dense\n",
      "2022-12-29 04:14:16,866\tWARNING trial_runner.py:988 -- Trial Runner checkpointing failed: Can't pickle <function TriangularLinearOperator.to_dense at 0x7f44d279b9d0>: it's not the same object as linear_operator.operators.triangular_linear_operator.TriangularLinearOperator.to_dense\n",
      "2022-12-29 04:14:22,077\tWARNING trial_runner.py:988 -- Trial Runner checkpointing failed: Can't pickle <function TriangularLinearOperator.to_dense at 0x7f44d279b9d0>: it's not the same object as linear_operator.operators.triangular_linear_operator.TriangularLinearOperator.to_dense\n",
      "2022-12-29 04:14:27,295\tWARNING trial_runner.py:988 -- Trial Runner checkpointing failed: Can't pickle <function TriangularLinearOperator.to_dense at 0x7f44d279b9d0>: it's not the same object as linear_operator.operators.triangular_linear_operator.TriangularLinearOperator.to_dense\n",
      "2022-12-29 04:14:32,480\tWARNING trial_runner.py:988 -- Trial Runner checkpointing failed: Can't pickle <function TriangularLinearOperator.to_dense at 0x7f44d279b9d0>: it's not the same object as linear_operator.operators.triangular_linear_operator.TriangularLinearOperator.to_dense\n",
      "2022-12-29 04:14:37,766\tWARNING trial_runner.py:988 -- Trial Runner checkpointing failed: Can't pickle <function TriangularLinearOperator.to_dense at 0x7f44d279b9d0>: it's not the same object as linear_operator.operators.triangular_linear_operator.TriangularLinearOperator.to_dense\n",
      "2022-12-29 04:14:42,995\tWARNING trial_runner.py:988 -- Trial Runner checkpointing failed: Can't pickle <function TriangularLinearOperator.to_dense at 0x7f44d279b9d0>: it's not the same object as linear_operator.operators.triangular_linear_operator.TriangularLinearOperator.to_dense\n",
      "2022-12-29 04:14:48,213\tWARNING trial_runner.py:988 -- Trial Runner checkpointing failed: Can't pickle <function TriangularLinearOperator.to_dense at 0x7f44d279b9d0>: it's not the same object as linear_operator.operators.triangular_linear_operator.TriangularLinearOperator.to_dense\n",
      "2022-12-29 04:14:53,414\tWARNING trial_runner.py:988 -- Trial Runner checkpointing failed: Can't pickle <function TriangularLinearOperator.to_dense at 0x7f44d279b9d0>: it's not the same object as linear_operator.operators.triangular_linear_operator.TriangularLinearOperator.to_dense\n",
      "2022-12-29 04:14:58,609\tWARNING trial_runner.py:988 -- Trial Runner checkpointing failed: Can't pickle <function TriangularLinearOperator.to_dense at 0x7f44d279b9d0>: it's not the same object as linear_operator.operators.triangular_linear_operator.TriangularLinearOperator.to_dense\n",
      "2022-12-29 04:15:03,816\tWARNING trial_runner.py:988 -- Trial Runner checkpointing failed: Can't pickle <function TriangularLinearOperator.to_dense at 0x7f44d279b9d0>: it's not the same object as linear_operator.operators.triangular_linear_operator.TriangularLinearOperator.to_dense\n",
      "2022-12-29 04:15:09,042\tWARNING trial_runner.py:988 -- Trial Runner checkpointing failed: Can't pickle <function TriangularLinearOperator.to_dense at 0x7f44d279b9d0>: it's not the same object as linear_operator.operators.triangular_linear_operator.TriangularLinearOperator.to_dense\n",
      "2022-12-29 04:15:14,231\tWARNING trial_runner.py:988 -- Trial Runner checkpointing failed: Can't pickle <function TriangularLinearOperator.to_dense at 0x7f44d279b9d0>: it's not the same object as linear_operator.operators.triangular_linear_operator.TriangularLinearOperator.to_dense\n",
      "2022-12-29 04:15:19,386\tWARNING trial_runner.py:988 -- Trial Runner checkpointing failed: Can't pickle <function TriangularLinearOperator.to_dense at 0x7f44d279b9d0>: it's not the same object as linear_operator.operators.triangular_linear_operator.TriangularLinearOperator.to_dense\n",
      "2022-12-29 04:15:24,534\tWARNING trial_runner.py:988 -- Trial Runner checkpointing failed: Can't pickle <function TriangularLinearOperator.to_dense at 0x7f44d279b9d0>: it's not the same object as linear_operator.operators.triangular_linear_operator.TriangularLinearOperator.to_dense\n",
      "2022-12-29 04:15:29,698\tWARNING trial_runner.py:988 -- Trial Runner checkpointing failed: Can't pickle <function TriangularLinearOperator.to_dense at 0x7f44d279b9d0>: it's not the same object as linear_operator.operators.triangular_linear_operator.TriangularLinearOperator.to_dense\n",
      "2022-12-29 04:15:34,879\tWARNING trial_runner.py:988 -- Trial Runner checkpointing failed: Can't pickle <function TriangularLinearOperator.to_dense at 0x7f44d279b9d0>: it's not the same object as linear_operator.operators.triangular_linear_operator.TriangularLinearOperator.to_dense\n",
      "2022-12-29 04:15:40,105\tWARNING trial_runner.py:988 -- Trial Runner checkpointing failed: Can't pickle <function TriangularLinearOperator.to_dense at 0x7f44d279b9d0>: it's not the same object as linear_operator.operators.triangular_linear_operator.TriangularLinearOperator.to_dense\n",
      "2022-12-29 04:15:45,344\tWARNING trial_runner.py:988 -- Trial Runner checkpointing failed: Can't pickle <function TriangularLinearOperator.to_dense at 0x7f44d279b9d0>: it's not the same object as linear_operator.operators.triangular_linear_operator.TriangularLinearOperator.to_dense\n",
      "2022-12-29 04:15:50,497\tWARNING trial_runner.py:988 -- Trial Runner checkpointing failed: Can't pickle <function TriangularLinearOperator.to_dense at 0x7f44d279b9d0>: it's not the same object as linear_operator.operators.triangular_linear_operator.TriangularLinearOperator.to_dense\n",
      "2022-12-29 04:15:55,692\tWARNING trial_runner.py:988 -- Trial Runner checkpointing failed: Can't pickle <function TriangularLinearOperator.to_dense at 0x7f44d279b9d0>: it's not the same object as linear_operator.operators.triangular_linear_operator.TriangularLinearOperator.to_dense\n",
      "2022-12-29 04:16:00,963\tWARNING trial_runner.py:988 -- Trial Runner checkpointing failed: Can't pickle <function TriangularLinearOperator.to_dense at 0x7f44d279b9d0>: it's not the same object as linear_operator.operators.triangular_linear_operator.TriangularLinearOperator.to_dense\n",
      "2022-12-29 04:16:06,265\tWARNING trial_runner.py:988 -- Trial Runner checkpointing failed: Can't pickle <function TriangularLinearOperator.to_dense at 0x7f44d279b9d0>: it's not the same object as linear_operator.operators.triangular_linear_operator.TriangularLinearOperator.to_dense\n",
      "2022-12-29 04:16:11,553\tWARNING trial_runner.py:988 -- Trial Runner checkpointing failed: Can't pickle <function TriangularLinearOperator.to_dense at 0x7f44d279b9d0>: it's not the same object as linear_operator.operators.triangular_linear_operator.TriangularLinearOperator.to_dense\n",
      "2022-12-29 04:16:15,112\tWARNING trial_runner.py:988 -- Trial Runner checkpointing failed: Can't pickle <function TriangularLinearOperator.to_dense at 0x7f44d279b9d0>: it's not the same object as linear_operator.operators.triangular_linear_operator.TriangularLinearOperator.to_dense\n",
      "[INFO 12-29 04:16:15] ax.service.ax_client: Completed trial 99 with data: {'pr_auc': (0.905846, None)}.\n",
      "2022-12-29 04:16:15,667\tWARNING trial_runner.py:988 -- Trial Runner checkpointing failed: Can't pickle <function TriangularLinearOperator.to_dense at 0x7f44d279b9d0>: it's not the same object as linear_operator.operators.triangular_linear_operator.TriangularLinearOperator.to_dense\n"
     ]
    },
    {
     "name": "stderr",
     "output_type": "stream",
     "text": [
      "2022-12-29 04:16:15,768\tWARNING tune.py:734 -- Trial Runner checkpointing failed: Can't pickle <function TriangularLinearOperator.to_dense at 0x7f44d279b9d0>: it's not the same object as linear_operator.operators.triangular_linear_operator.TriangularLinearOperator.to_dense\n",
      "2022-12-29 04:16:15,945\tINFO tune.py:762 -- Total run time: 110238.00 seconds (110237.55 seconds for the tuning loop).\n"
     ]
    },
    {
     "name": "stdout",
     "output_type": "stream",
     "text": [
      "<ray.tune.result_grid.ResultGrid object at 0x7f468c456af0>\n"
     ]
    }
   ],
   "source": [
    "import pandas as pd\n",
    "from sklearn.metrics import average_precision_score\n",
    "\n",
    "# TDC package\n",
    "from tdc.single_pred import Tox\n",
    "\n",
    "# ML model pacakage\n",
    "from DeepPurpose import utils as dp_utils, CompoundPred\n",
    "\n",
    "# hyperparams package\n",
    "from ray import tune\n",
    "from ray.tune.search.ax import AxSearch\n",
    "from ray import air\n",
    "from ray.air.callbacks.mlflow import MLflowLoggerCallback\n",
    "\n",
    "def prepare_data(drug_encoding):\n",
    "    return dp_utils.data_process(\n",
    "        X_drug=X, y=y, drug_encoding=drug_encoding, random_seed=RANDOM_SEED\n",
    "    )\n",
    "\n",
    "\n",
    "def train_fn(hparams, optimal = False):\n",
    "        \n",
    "    if drug_encoding == \"Morgan\":\n",
    "        config = dp_utils.generate_config(\n",
    "            drug_encoding=hparams[\"drug_encoding\"],\n",
    "            train_epoch=int(hparams[\"train_epochs\"]),\n",
    "            LR=hparams[\"lr\"],\n",
    "            batch_size=int(hparams[\"batch_size\"]),\n",
    "            mlp_hidden_dims_drug=[int(hparams[\"mlp_hidden_dims_drug\"])] * int(hparams[\"mlp_num_layers_drug\"])\n",
    "        )\n",
    "       \n",
    "    elif drug_encoding == 'CNN':\n",
    "        filter_base_size = int(hparams[\"cnn_drug_filters_base\"])\n",
    "        kernel_base_size = int(hparams[\"cnn_drug_kernels_base\"])\n",
    "\n",
    "        config = dp_utils.generate_config(\n",
    "            drug_encoding=hparams[\"drug_encoding\"],\n",
    "            train_epoch=int(hparams[\"train_epochs\"]),\n",
    "            LR=hparams[\"lr\"],\n",
    "            batch_size=int(hparams[\"batch_size\"]),\n",
    "            cnn_drug_filters=[filter_base_size, filter_base_size*2, filter_base_size*3],\n",
    "            cnn_drug_kernels=[kernel_base_size, kernel_base_size*2, kernel_base_size*3]\n",
    "        )\n",
    "        \n",
    "    elif drug_encoding == 'DGL_GCN':\n",
    "        config = dp_utils.generate_config(\n",
    "            drug_encoding=hparams[\"drug_encoding\"],\n",
    "            train_epoch=int(hparams[\"train_epochs\"]),\n",
    "            LR=hparams[\"lr\"],\n",
    "            batch_size=int(hparams[\"batch_size\"]),\n",
    "            gnn_hid_dim_drug=int(hparams[\"gnn_hid_dim_drug\"]),\n",
    "            gnn_num_layers=int(hparams[\"gnn_num_layers\"])\n",
    "        )\n",
    "        \n",
    "    elif drug_encoding == 'DGL_NeuralFP':\n",
    "        \n",
    "        config = dp_utils.generate_config(\n",
    "            drug_encoding=hparams[\"drug_encoding\"],\n",
    "            train_epoch=int(hparams[\"train_epochs\"]),\n",
    "            LR=hparams[\"lr\"],\n",
    "            batch_size=int(hparams[\"batch_size\"]),\n",
    "            gnn_hid_dim_drug=int(hparams[\"gnn_hid_dim_drug\"]),\n",
    "            gnn_num_layers=int(hparams[\"gnn_num_layers\"]),\n",
    "            neuralfp_max_degree=int(hparams[\"neuralfp_max_degree\"]),\n",
    "            neuralfp_predictor_hid_dim=int(hparams[\"neuralfp_predictor_hid_dim\"])\n",
    "        )\n",
    "        \n",
    "    elif drug_encoding == 'DGL_AttentiveFP':\n",
    "        config = dp_utils.generate_config(\n",
    "            drug_encoding=hparams[\"drug_encoding\"],\n",
    "            train_epoch=int(hparams[\"train_epochs\"]),\n",
    "            LR=hparams[\"lr\"],\n",
    "            batch_size=int(hparams[\"batch_size\"]),\n",
    "            gnn_hid_dim_drug=int(hparams[\"gnn_hid_dim_drug\"]),\n",
    "            gnn_num_layers=int(hparams[\"gnn_num_layers\"]),\n",
    "            attentivefp_num_timesteps=int(hparams[\"attentivefp_num_timesteps\"])\n",
    "        )\n",
    "        \n",
    "    config['device'] = 'cuda:0'\n",
    "    model = CompoundPred.model_initialize(**config)\n",
    "    model.train(train, val, test, verbose = False)\n",
    "    \n",
    "    if optimal:\n",
    "        model.save_model('_'.join([drug_encoding, data_name, 'optimal']))\n",
    "        scores = model.predict(test, verbose = False)\n",
    "        return {'pr_auc': average_precision_score(test.Label.values, scores)}\n",
    "    else:\n",
    "        scores = model.predict(val, verbose = False)\n",
    "        return {'pr_auc': average_precision_score(val.Label.values, scores)}\n",
    "\n",
    "data_name = \"herg_karim\"\n",
    "drug_encoding = \"Morgan\"\n",
    "\n",
    "X, y = Tox(name=data_name).get_data(format=\"DeepPurpose\")\n",
    "train, val, test = prepare_data(drug_encoding)\n",
    "\n",
    "search_space = {\n",
    "    \"drug_encoding\": drug_encoding,\n",
    "    \"lr\": tune.loguniform(1e-4, 1e-2),\n",
    "    \"batch_size\": tune.choice([32, 64, 128, 256, 512]),\n",
    "    \"train_epochs\": tune.choice([3,5,10,15,20])\n",
    "}\n",
    "\n",
    "if drug_encoding == \"Morgan\":\n",
    "    search_space.update({\n",
    "        \"mlp_hidden_dims_drug\": tune.choice([32, 64, 128, 256, 512]),\n",
    "        \"mlp_num_layers_drug\": tune.choice([1,2,3,4,5,6])\n",
    "    })\n",
    "elif drug_encoding == 'CNN':\n",
    "    search_space.update({\n",
    "        \"cnn_drug_filters_base\": tune.choice([8, 16, 32, 64, 128]),\n",
    "        \"cnn_drug_kernels_base\": tune.choice([2, 4, 6, 8, 12])\n",
    "    })\n",
    "elif drug_encoding == 'DGL_GCN':\n",
    "    search_space.update({\n",
    "        \"gnn_hid_dim_drug\": tune.choice([8, 16, 32, 64, 128, 256, 512]),\n",
    "        \"gnn_num_layers\": tune.choice([1,2,3,4])\n",
    "    })\n",
    "elif drug_encoding == 'DGL_NeuralFP':\n",
    "    search_space.update({\n",
    "       \"gnn_hid_dim_drug\": tune.choice([8, 16, 32, 64, 128, 256, 512]),\n",
    "       \"gnn_num_layers\": tune.choice([1,2,3,4]),\n",
    "       \"neuralfp_max_degree\": tune.choice([5, 10, 20]),\n",
    "       \"neuralfp_predictor_hid_dim\": tune.choice([8, 16, 32, 64, 128, 256, 512])\n",
    "    })    \n",
    "elif drug_encoding == 'DGL_AttentiveFP':\n",
    "    search_space.update({\n",
    "       \"gnn_hid_dim_drug\": tune.choice([8, 16, 32, 64, 128, 256, 512]),\n",
    "        \"gnn_num_layers\": tune.choice([1,2,3,4]),\n",
    "        \"attentivefp_num_timesteps\": tune.choice([2,3,4,5])\n",
    "    })\n",
    "\n",
    "ax_search = AxSearch(metric=\"pr_auc\", mode=\"max\")\n",
    "\n",
    "tuner = tune.Tuner(\n",
    "    tune.with_resources(\n",
    "            tune.with_parameters(train_fn),\n",
    "            resources={\"gpu\": 1}\n",
    "        ),\n",
    "    tune_config=tune.TuneConfig(search_alg=ax_search, num_samples=100),\n",
    "    run_config=air.RunConfig(\n",
    "        name=\"mlflow\",\n",
    "        callbacks=[\n",
    "            MLflowLoggerCallback(\n",
    "                tracking_uri=\"./mlruns\",\n",
    "                experiment_name=\"test\",\n",
    "                save_artifact=True,\n",
    "            )\n",
    "        ],\n",
    "    ),\n",
    "    param_space=search_space,\n",
    ")\n",
    "\n",
    "analysis = tuner.fit()"
   ]
  },
  {
   "cell_type": "code",
   "execution_count": 2,
   "id": "c1b326af",
   "metadata": {},
   "outputs": [
    {
     "data": {
      "text/html": [
       "<div>\n",
       "<style scoped>\n",
       "    .dataframe tbody tr th:only-of-type {\n",
       "        vertical-align: middle;\n",
       "    }\n",
       "\n",
       "    .dataframe tbody tr th {\n",
       "        vertical-align: top;\n",
       "    }\n",
       "\n",
       "    .dataframe thead th {\n",
       "        text-align: right;\n",
       "    }\n",
       "</style>\n",
       "<table border=\"1\" class=\"dataframe\">\n",
       "  <thead>\n",
       "    <tr style=\"text-align: right;\">\n",
       "      <th></th>\n",
       "      <th>pr_auc</th>\n",
       "      <th>time_this_iter_s</th>\n",
       "      <th>done</th>\n",
       "      <th>timesteps_total</th>\n",
       "      <th>episodes_total</th>\n",
       "      <th>training_iteration</th>\n",
       "      <th>trial_id</th>\n",
       "      <th>experiment_id</th>\n",
       "      <th>date</th>\n",
       "      <th>timestamp</th>\n",
       "      <th>...</th>\n",
       "      <th>timesteps_since_restore</th>\n",
       "      <th>iterations_since_restore</th>\n",
       "      <th>warmup_time</th>\n",
       "      <th>config/batch_size</th>\n",
       "      <th>config/drug_encoding</th>\n",
       "      <th>config/lr</th>\n",
       "      <th>config/mlp_hidden_dims_drug</th>\n",
       "      <th>config/mlp_num_layers_drug</th>\n",
       "      <th>config/train_epochs</th>\n",
       "      <th>logdir</th>\n",
       "    </tr>\n",
       "  </thead>\n",
       "  <tbody>\n",
       "    <tr>\n",
       "      <th>0</th>\n",
       "      <td>0.774180</td>\n",
       "      <td>152.357938</td>\n",
       "      <td>False</td>\n",
       "      <td>NaN</td>\n",
       "      <td>NaN</td>\n",
       "      <td>1</td>\n",
       "      <td>0af17128</td>\n",
       "      <td>0e954833ca2c4aa9a3fa633fab55d368</td>\n",
       "      <td>2022-12-27_21-42-45</td>\n",
       "      <td>1672206165</td>\n",
       "      <td>...</td>\n",
       "      <td>0</td>\n",
       "      <td>1</td>\n",
       "      <td>0.006095</td>\n",
       "      <td>512</td>\n",
       "      <td>Morgan</td>\n",
       "      <td>0.003591</td>\n",
       "      <td>256</td>\n",
       "      <td>6</td>\n",
       "      <td>3</td>\n",
       "      <td>/afs/cs.stanford.edu/u/kexinh/ray_results/mlfl...</td>\n",
       "    </tr>\n",
       "    <tr>\n",
       "      <th>1</th>\n",
       "      <td>0.885447</td>\n",
       "      <td>159.482431</td>\n",
       "      <td>False</td>\n",
       "      <td>NaN</td>\n",
       "      <td>NaN</td>\n",
       "      <td>1</td>\n",
       "      <td>c5611cc7</td>\n",
       "      <td>39b06fc321e749efbbd71c36e83b88c9</td>\n",
       "      <td>2022-12-27_21-44-08</td>\n",
       "      <td>1672206248</td>\n",
       "      <td>...</td>\n",
       "      <td>0</td>\n",
       "      <td>1</td>\n",
       "      <td>0.018776</td>\n",
       "      <td>64</td>\n",
       "      <td>Morgan</td>\n",
       "      <td>0.001331</td>\n",
       "      <td>256</td>\n",
       "      <td>6</td>\n",
       "      <td>3</td>\n",
       "      <td>/afs/cs.stanford.edu/u/kexinh/ray_results/mlfl...</td>\n",
       "    </tr>\n",
       "    <tr>\n",
       "      <th>2</th>\n",
       "      <td>0.903953</td>\n",
       "      <td>311.915093</td>\n",
       "      <td>False</td>\n",
       "      <td>NaN</td>\n",
       "      <td>NaN</td>\n",
       "      <td>1</td>\n",
       "      <td>ddbe9a21</td>\n",
       "      <td>97d4433dcc024f9ab6fe491ba859f618</td>\n",
       "      <td>2022-12-27_21-47-52</td>\n",
       "      <td>1672206472</td>\n",
       "      <td>...</td>\n",
       "      <td>0</td>\n",
       "      <td>1</td>\n",
       "      <td>0.004144</td>\n",
       "      <td>256</td>\n",
       "      <td>Morgan</td>\n",
       "      <td>0.000785</td>\n",
       "      <td>256</td>\n",
       "      <td>3</td>\n",
       "      <td>20</td>\n",
       "      <td>/afs/cs.stanford.edu/u/kexinh/ray_results/mlfl...</td>\n",
       "    </tr>\n",
       "    <tr>\n",
       "      <th>3</th>\n",
       "      <td>0.878732</td>\n",
       "      <td>180.985882</td>\n",
       "      <td>False</td>\n",
       "      <td>NaN</td>\n",
       "      <td>NaN</td>\n",
       "      <td>1</td>\n",
       "      <td>2e9e560a</td>\n",
       "      <td>3a5ecf034f9f4cb0884d318024ea170d</td>\n",
       "      <td>2022-12-27_21-46-47</td>\n",
       "      <td>1672206407</td>\n",
       "      <td>...</td>\n",
       "      <td>0</td>\n",
       "      <td>1</td>\n",
       "      <td>0.009746</td>\n",
       "      <td>64</td>\n",
       "      <td>Morgan</td>\n",
       "      <td>0.009384</td>\n",
       "      <td>32</td>\n",
       "      <td>5</td>\n",
       "      <td>5</td>\n",
       "      <td>/afs/cs.stanford.edu/u/kexinh/ray_results/mlfl...</td>\n",
       "    </tr>\n",
       "    <tr>\n",
       "      <th>4</th>\n",
       "      <td>0.897036</td>\n",
       "      <td>218.991350</td>\n",
       "      <td>False</td>\n",
       "      <td>NaN</td>\n",
       "      <td>NaN</td>\n",
       "      <td>1</td>\n",
       "      <td>5f268803</td>\n",
       "      <td>1a7376687be2482e8e110e2bacae6bba</td>\n",
       "      <td>2022-12-27_21-48-29</td>\n",
       "      <td>1672206509</td>\n",
       "      <td>...</td>\n",
       "      <td>0</td>\n",
       "      <td>1</td>\n",
       "      <td>0.021581</td>\n",
       "      <td>32</td>\n",
       "      <td>Morgan</td>\n",
       "      <td>0.000108</td>\n",
       "      <td>128</td>\n",
       "      <td>4</td>\n",
       "      <td>5</td>\n",
       "      <td>/afs/cs.stanford.edu/u/kexinh/ray_results/mlfl...</td>\n",
       "    </tr>\n",
       "    <tr>\n",
       "      <th>...</th>\n",
       "      <td>...</td>\n",
       "      <td>...</td>\n",
       "      <td>...</td>\n",
       "      <td>...</td>\n",
       "      <td>...</td>\n",
       "      <td>...</td>\n",
       "      <td>...</td>\n",
       "      <td>...</td>\n",
       "      <td>...</td>\n",
       "      <td>...</td>\n",
       "      <td>...</td>\n",
       "      <td>...</td>\n",
       "      <td>...</td>\n",
       "      <td>...</td>\n",
       "      <td>...</td>\n",
       "      <td>...</td>\n",
       "      <td>...</td>\n",
       "      <td>...</td>\n",
       "      <td>...</td>\n",
       "      <td>...</td>\n",
       "      <td>...</td>\n",
       "    </tr>\n",
       "    <tr>\n",
       "      <th>95</th>\n",
       "      <td>0.912117</td>\n",
       "      <td>179.353838</td>\n",
       "      <td>False</td>\n",
       "      <td>NaN</td>\n",
       "      <td>NaN</td>\n",
       "      <td>1</td>\n",
       "      <td>e96bba87</td>\n",
       "      <td>0210c503c86a425ebdaf874070ee9d79</td>\n",
       "      <td>2022-12-29_03-31-37</td>\n",
       "      <td>1672313497</td>\n",
       "      <td>...</td>\n",
       "      <td>0</td>\n",
       "      <td>1</td>\n",
       "      <td>0.005414</td>\n",
       "      <td>256</td>\n",
       "      <td>Morgan</td>\n",
       "      <td>0.000283</td>\n",
       "      <td>512</td>\n",
       "      <td>3</td>\n",
       "      <td>20</td>\n",
       "      <td>/afs/cs.stanford.edu/u/kexinh/ray_results/mlfl...</td>\n",
       "    </tr>\n",
       "    <tr>\n",
       "      <th>96</th>\n",
       "      <td>0.904071</td>\n",
       "      <td>193.386474</td>\n",
       "      <td>False</td>\n",
       "      <td>NaN</td>\n",
       "      <td>NaN</td>\n",
       "      <td>1</td>\n",
       "      <td>0bc1059d</td>\n",
       "      <td>0436ddc8fe9445fcafde266f42faef20</td>\n",
       "      <td>2022-12-29_03-48-59</td>\n",
       "      <td>1672314539</td>\n",
       "      <td>...</td>\n",
       "      <td>0</td>\n",
       "      <td>1</td>\n",
       "      <td>0.003896</td>\n",
       "      <td>256</td>\n",
       "      <td>Morgan</td>\n",
       "      <td>0.000273</td>\n",
       "      <td>512</td>\n",
       "      <td>3</td>\n",
       "      <td>20</td>\n",
       "      <td>/afs/cs.stanford.edu/u/kexinh/ray_results/mlfl...</td>\n",
       "    </tr>\n",
       "    <tr>\n",
       "      <th>97</th>\n",
       "      <td>0.903492</td>\n",
       "      <td>193.948227</td>\n",
       "      <td>False</td>\n",
       "      <td>NaN</td>\n",
       "      <td>NaN</td>\n",
       "      <td>1</td>\n",
       "      <td>8071165d</td>\n",
       "      <td>34893211aae04a68847f7ea3247ac489</td>\n",
       "      <td>2022-12-29_04-00-32</td>\n",
       "      <td>1672315232</td>\n",
       "      <td>...</td>\n",
       "      <td>0</td>\n",
       "      <td>1</td>\n",
       "      <td>0.010853</td>\n",
       "      <td>256</td>\n",
       "      <td>Morgan</td>\n",
       "      <td>0.000271</td>\n",
       "      <td>512</td>\n",
       "      <td>3</td>\n",
       "      <td>20</td>\n",
       "      <td>/afs/cs.stanford.edu/u/kexinh/ray_results/mlfl...</td>\n",
       "    </tr>\n",
       "    <tr>\n",
       "      <th>98</th>\n",
       "      <td>0.913610</td>\n",
       "      <td>164.813221</td>\n",
       "      <td>False</td>\n",
       "      <td>NaN</td>\n",
       "      <td>NaN</td>\n",
       "      <td>1</td>\n",
       "      <td>c9c7d065</td>\n",
       "      <td>09ca9bc4e0104c91b9fe9bc08b2d42f4</td>\n",
       "      <td>2022-12-29_04-08-52</td>\n",
       "      <td>1672315732</td>\n",
       "      <td>...</td>\n",
       "      <td>0</td>\n",
       "      <td>1</td>\n",
       "      <td>0.004201</td>\n",
       "      <td>256</td>\n",
       "      <td>Morgan</td>\n",
       "      <td>0.000284</td>\n",
       "      <td>512</td>\n",
       "      <td>3</td>\n",
       "      <td>20</td>\n",
       "      <td>/afs/cs.stanford.edu/u/kexinh/ray_results/mlfl...</td>\n",
       "    </tr>\n",
       "    <tr>\n",
       "      <th>99</th>\n",
       "      <td>0.905846</td>\n",
       "      <td>164.596465</td>\n",
       "      <td>False</td>\n",
       "      <td>NaN</td>\n",
       "      <td>NaN</td>\n",
       "      <td>1</td>\n",
       "      <td>795429ef</td>\n",
       "      <td>0ab24e5fec8e4d75aafcebeb13cf05da</td>\n",
       "      <td>2022-12-29_04-16-14</td>\n",
       "      <td>1672316174</td>\n",
       "      <td>...</td>\n",
       "      <td>0</td>\n",
       "      <td>1</td>\n",
       "      <td>0.003588</td>\n",
       "      <td>256</td>\n",
       "      <td>Morgan</td>\n",
       "      <td>0.000294</td>\n",
       "      <td>512</td>\n",
       "      <td>3</td>\n",
       "      <td>20</td>\n",
       "      <td>/afs/cs.stanford.edu/u/kexinh/ray_results/mlfl...</td>\n",
       "    </tr>\n",
       "  </tbody>\n",
       "</table>\n",
       "<p>100 rows × 25 columns</p>\n",
       "</div>"
      ],
      "text/plain": [
       "      pr_auc  time_this_iter_s   done  timesteps_total  episodes_total  \\\n",
       "0   0.774180        152.357938  False              NaN             NaN   \n",
       "1   0.885447        159.482431  False              NaN             NaN   \n",
       "2   0.903953        311.915093  False              NaN             NaN   \n",
       "3   0.878732        180.985882  False              NaN             NaN   \n",
       "4   0.897036        218.991350  False              NaN             NaN   \n",
       "..       ...               ...    ...              ...             ...   \n",
       "95  0.912117        179.353838  False              NaN             NaN   \n",
       "96  0.904071        193.386474  False              NaN             NaN   \n",
       "97  0.903492        193.948227  False              NaN             NaN   \n",
       "98  0.913610        164.813221  False              NaN             NaN   \n",
       "99  0.905846        164.596465  False              NaN             NaN   \n",
       "\n",
       "    training_iteration  trial_id                     experiment_id  \\\n",
       "0                    1  0af17128  0e954833ca2c4aa9a3fa633fab55d368   \n",
       "1                    1  c5611cc7  39b06fc321e749efbbd71c36e83b88c9   \n",
       "2                    1  ddbe9a21  97d4433dcc024f9ab6fe491ba859f618   \n",
       "3                    1  2e9e560a  3a5ecf034f9f4cb0884d318024ea170d   \n",
       "4                    1  5f268803  1a7376687be2482e8e110e2bacae6bba   \n",
       "..                 ...       ...                               ...   \n",
       "95                   1  e96bba87  0210c503c86a425ebdaf874070ee9d79   \n",
       "96                   1  0bc1059d  0436ddc8fe9445fcafde266f42faef20   \n",
       "97                   1  8071165d  34893211aae04a68847f7ea3247ac489   \n",
       "98                   1  c9c7d065  09ca9bc4e0104c91b9fe9bc08b2d42f4   \n",
       "99                   1  795429ef  0ab24e5fec8e4d75aafcebeb13cf05da   \n",
       "\n",
       "                   date   timestamp  ...  timesteps_since_restore  \\\n",
       "0   2022-12-27_21-42-45  1672206165  ...                        0   \n",
       "1   2022-12-27_21-44-08  1672206248  ...                        0   \n",
       "2   2022-12-27_21-47-52  1672206472  ...                        0   \n",
       "3   2022-12-27_21-46-47  1672206407  ...                        0   \n",
       "4   2022-12-27_21-48-29  1672206509  ...                        0   \n",
       "..                  ...         ...  ...                      ...   \n",
       "95  2022-12-29_03-31-37  1672313497  ...                        0   \n",
       "96  2022-12-29_03-48-59  1672314539  ...                        0   \n",
       "97  2022-12-29_04-00-32  1672315232  ...                        0   \n",
       "98  2022-12-29_04-08-52  1672315732  ...                        0   \n",
       "99  2022-12-29_04-16-14  1672316174  ...                        0   \n",
       "\n",
       "    iterations_since_restore warmup_time config/batch_size  \\\n",
       "0                          1    0.006095               512   \n",
       "1                          1    0.018776                64   \n",
       "2                          1    0.004144               256   \n",
       "3                          1    0.009746                64   \n",
       "4                          1    0.021581                32   \n",
       "..                       ...         ...               ...   \n",
       "95                         1    0.005414               256   \n",
       "96                         1    0.003896               256   \n",
       "97                         1    0.010853               256   \n",
       "98                         1    0.004201               256   \n",
       "99                         1    0.003588               256   \n",
       "\n",
       "    config/drug_encoding  config/lr  config/mlp_hidden_dims_drug  \\\n",
       "0                 Morgan   0.003591                          256   \n",
       "1                 Morgan   0.001331                          256   \n",
       "2                 Morgan   0.000785                          256   \n",
       "3                 Morgan   0.009384                           32   \n",
       "4                 Morgan   0.000108                          128   \n",
       "..                   ...        ...                          ...   \n",
       "95                Morgan   0.000283                          512   \n",
       "96                Morgan   0.000273                          512   \n",
       "97                Morgan   0.000271                          512   \n",
       "98                Morgan   0.000284                          512   \n",
       "99                Morgan   0.000294                          512   \n",
       "\n",
       "    config/mlp_num_layers_drug  config/train_epochs  \\\n",
       "0                            6                    3   \n",
       "1                            6                    3   \n",
       "2                            3                   20   \n",
       "3                            5                    5   \n",
       "4                            4                    5   \n",
       "..                         ...                  ...   \n",
       "95                           3                   20   \n",
       "96                           3                   20   \n",
       "97                           3                   20   \n",
       "98                           3                   20   \n",
       "99                           3                   20   \n",
       "\n",
       "                                               logdir  \n",
       "0   /afs/cs.stanford.edu/u/kexinh/ray_results/mlfl...  \n",
       "1   /afs/cs.stanford.edu/u/kexinh/ray_results/mlfl...  \n",
       "2   /afs/cs.stanford.edu/u/kexinh/ray_results/mlfl...  \n",
       "3   /afs/cs.stanford.edu/u/kexinh/ray_results/mlfl...  \n",
       "4   /afs/cs.stanford.edu/u/kexinh/ray_results/mlfl...  \n",
       "..                                                ...  \n",
       "95  /afs/cs.stanford.edu/u/kexinh/ray_results/mlfl...  \n",
       "96  /afs/cs.stanford.edu/u/kexinh/ray_results/mlfl...  \n",
       "97  /afs/cs.stanford.edu/u/kexinh/ray_results/mlfl...  \n",
       "98  /afs/cs.stanford.edu/u/kexinh/ray_results/mlfl...  \n",
       "99  /afs/cs.stanford.edu/u/kexinh/ray_results/mlfl...  \n",
       "\n",
       "[100 rows x 25 columns]"
      ]
     },
     "execution_count": 2,
     "metadata": {},
     "output_type": "execute_result"
    }
   ],
   "source": [
    "analysis.get_dataframe()"
   ]
  },
  {
   "cell_type": "code",
   "execution_count": 11,
   "id": "97307710",
   "metadata": {},
   "outputs": [],
   "source": [
    "df = analysis.get_dataframe()\n",
    "df.to_csv('_'.join([drug_encoding, data_name, 'tune_df']) + '.csv')"
   ]
  },
  {
   "cell_type": "code",
   "execution_count": 13,
   "id": "d1fb449e",
   "metadata": {},
   "outputs": [],
   "source": [
    "optimal_hparam = dict(df.sort_values('pr_auc').iloc[-1])\n",
    "optimal_hparam = {i[7:] if i[:7] == 'config/' else i: j for i,j in optimal_hparam.items()}"
   ]
  },
  {
   "cell_type": "code",
   "execution_count": 16,
   "id": "159faf51",
   "metadata": {},
   "outputs": [
    {
     "name": "stdout",
     "output_type": "stream",
     "text": [
      "Drug Property Prediction Mode...\n",
      "in total: 13445 drugs\n",
      "encoding drug...\n",
      "unique drugs: 13445\n",
      "Done.\n"
     ]
    },
    {
     "data": {
      "text/plain": [
       "{'pr_auc': 0.9153994697022456}"
      ]
     },
     "execution_count": 16,
     "metadata": {},
     "output_type": "execute_result"
    }
   ],
   "source": [
    "train_fn(optimal_hparam, optimal = True)"
   ]
  },
  {
   "cell_type": "code",
   "execution_count": null,
   "id": "f94b4410",
   "metadata": {},
   "outputs": [],
   "source": []
  },
  {
   "cell_type": "code",
   "execution_count": 42,
   "id": "6e62c121",
   "metadata": {},
   "outputs": [],
   "source": [
    "from huggingface_hub import create_repo\n",
    "from huggingface_hub import HfApi, snapshot_download, hf_hub_download\n",
    "import os\n",
    "\n",
    "deeppurpose_repo = [\n",
    "    'hERG_Karim_Morgan'\n",
    "]\n",
    "\n",
    "\n",
    "class tdc_hf_interface:\n",
    "    def __init__(self, repo_name):\n",
    "        self.repo_id = \"tdc/\" + repo_name\n",
    "        \n",
    "    def upload(self, folder_path):\n",
    "        create_repo(repo_id=self.repo_id)\n",
    "        api = HfApi()\n",
    "        api.upload_folder(\n",
    "            folder_path=folder_path,\n",
    "            path_in_repo=\"model\",\n",
    "            repo_id=self.repo_id,\n",
    "            repo_type=\"model\"\n",
    "        )\n",
    "        \n",
    "    def file_download(self, save_path, filename):\n",
    "        model_ckpt = hf_hub_download(\n",
    "            repo_id = self.repo_id,\n",
    "            filename = filename,\n",
    "            cache_dir = save_path\n",
    "        )\n",
    "        \n",
    "    def repo_download(self, save_path):\n",
    "        snapshot_download(repo_id=self.repo_id, cache_dir= save_path)\n",
    "        \n",
    "    def load_deeppurpose(self, save_path):\n",
    "        if self.repo_id[4:] in deeppurpose_repo:\n",
    "            save_path = save_path + '/' + self.repo_id[4:]\n",
    "            if not os.path.exists(save_path):\n",
    "                os.mkdir(save_path)\n",
    "            self.file_download(save_path, \"model/model.pt\")\n",
    "            self.file_download(save_path, \"model/config.pkl\")\n",
    "            \n",
    "            save_path = save_path + '/models--tdc--' + self.repo_id[4:] + '/blobs/'\n",
    "            file_name1 = save_path + os.listdir(save_path)[0]\n",
    "            file_name2 = save_path + os.listdir(save_path)[1]\n",
    "            \n",
    "            if os.path.getsize(file_name1) > os.path.getsize(file_name2):\n",
    "                model_file, config_file = file_name1, file_name2\n",
    "            else:\n",
    "                config_file, model_file = file_name1, file_name2\n",
    "\n",
    "            os.rename(model_file, save_path + 'model.pt')\n",
    "            os.rename(config_file, save_path + 'config.pkl')            \n",
    "            \n",
    "            from DeepPurpose import CompoundPred\n",
    "            net = CompoundPred.model_pretrained(path_dir = save_path)\n",
    "            return net\n",
    "        else:\n",
    "            raise ValueError(\"This repo does not host a DeepPurpose model!\")"
   ]
  },
  {
   "cell_type": "code",
   "execution_count": 43,
   "id": "770eb654",
   "metadata": {},
   "outputs": [],
   "source": [
    "tdc_hf_herg = tdc_hf_interface(\"hERG_Karim_Morgan\")"
   ]
  },
  {
   "cell_type": "code",
   "execution_count": 3,
   "id": "12e03ffc",
   "metadata": {},
   "outputs": [],
   "source": [
    "tdc_hf_herg.upload('./Morgan_herg_karim_optimal')"
   ]
  },
  {
   "cell_type": "code",
   "execution_count": 44,
   "id": "445567b8",
   "metadata": {},
   "outputs": [
    {
     "data": {
      "application/json": {
       "ascii": false,
       "bar_format": null,
       "colour": null,
       "elapsed": 0.015953779220581055,
       "initial": 0,
       "n": 0,
       "ncols": null,
       "nrows": 40,
       "postfix": null,
       "prefix": "Downloading",
       "rate": null,
       "total": 12082997,
       "unit": "B",
       "unit_divisor": 1000,
       "unit_scale": true
      },
      "application/vnd.jupyter.widget-view+json": {
       "model_id": "89bf21280faa44988cdb2a5319b02699",
       "version_major": 2,
       "version_minor": 0
      },
      "text/plain": [
       "Downloading:   0%|          | 0.00/12.1M [00:00<?, ?B/s]"
      ]
     },
     "metadata": {},
     "output_type": "display_data"
    },
    {
     "data": {
      "application/json": {
       "ascii": false,
       "bar_format": null,
       "colour": null,
       "elapsed": 0.016866207122802734,
       "initial": 0,
       "n": 0,
       "ncols": null,
       "nrows": 40,
       "postfix": null,
       "prefix": "Downloading",
       "rate": null,
       "total": 472,
       "unit": "B",
       "unit_divisor": 1000,
       "unit_scale": true
      },
      "application/vnd.jupyter.widget-view+json": {
       "model_id": "c7ac72c3cf684008a59734e6c51f4833",
       "version_major": 2,
       "version_minor": 0
      },
      "text/plain": [
       "Downloading:   0%|          | 0.00/472 [00:00<?, ?B/s]"
      ]
     },
     "metadata": {},
     "output_type": "display_data"
    }
   ],
   "source": [
    "net = tdc_hf_herg.load_deeppurpose('./data')"
   ]
  },
  {
   "cell_type": "code",
   "execution_count": null,
   "id": "59bc603f",
   "metadata": {},
   "outputs": [],
   "source": []
  }
 ],
 "metadata": {
  "kernelspec": {
   "display_name": "Python 3 (ipykernel)",
   "language": "python",
   "name": "python3"
  },
  "language_info": {
   "codemirror_mode": {
    "name": "ipython",
    "version": 3
   },
   "file_extension": ".py",
   "mimetype": "text/x-python",
   "name": "python",
   "nbconvert_exporter": "python",
   "pygments_lexer": "ipython3",
   "version": "3.8.0"
  }
 },
 "nbformat": 4,
 "nbformat_minor": 5
}
